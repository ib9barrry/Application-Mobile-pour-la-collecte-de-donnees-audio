{
 "cells": [
  {
   "cell_type": "code",
   "execution_count": 1,
   "metadata": {},
   "outputs": [],
   "source": [
    "import librosa as l\n",
    "import math \n",
    "import json \n",
    "import os \n",
    "import numpy as np"
   ]
  },
  {
   "cell_type": "code",
   "execution_count": 2,
   "metadata": {},
   "outputs": [],
   "source": [
    "DATASET_PATH ='./data/'\n",
    "SAMPLE_RATE = 16000\n",
    "JSON_PATH = \"./nfcc_13_len=30M_dasatset_1_a_5.json\""
   ]
  },
  {
   "cell_type": "code",
   "execution_count": 3,
   "metadata": {},
   "outputs": [],
   "source": [
    "dic_lab = {\n",
    "    \"Benn\": 0,\n",
    "    \"Ñaar\": 1,\n",
    "    \"Ñett\": 2,\n",
    "    \"Ñent\": 3,\n",
    "    \"Juróom\": 4, \n",
    "}"
   ]
  },
  {
   "cell_type": "code",
   "execution_count": 4,
   "metadata": {},
   "outputs": [
    {
     "data": {
      "text/plain": [
       "['1_Benn', '2_Ñaar', '3_Ñett', '4_Ñent', '5_Juróom']"
      ]
     },
     "execution_count": 4,
     "metadata": {},
     "output_type": "execute_result"
    }
   ],
   "source": [
    "os.listdir(DATASET_PATH)"
   ]
  },
  {
   "cell_type": "code",
   "execution_count": 9,
   "metadata": {},
   "outputs": [],
   "source": [
    "def save_mfcc(dataset_path, json_path, num_mfcc=13, n_fft=2048, hop_length=512):\n",
    "    \"\"\"Extracts MFCCs from music dataset and saves them into a json file along witgh genre labels.\n",
    "        :param dataset_path (str): Path to dataset\n",
    "        :param json_path (str): Path to json file used to save MFCCs\n",
    "        :param num_mfcc (int): Number of coefficients to extract\n",
    "        :param n_fft (int): Interval we consider to apply FFT. Measured in # of samples\n",
    "        :param hop_length (int): Sliding window for FFT. Measured in # of samples\n",
    "        :param: num_segments (int): Number of segments we want to divide sample tracks into\n",
    "        :return:\n",
    "        \"\"\"\n",
    "\n",
    "    # dictionary to store mapping, labels, and MFCCs\n",
    "    data = {\n",
    "        \"mapping\": [], \n",
    "        \"labels\": [],\n",
    "        \"mfcc\": []\n",
    "    }\n",
    "\n",
    "\n",
    "    # loop through all genre sub-folder\n",
    "    for i, (dirpath, dirnames, filenames) in enumerate(os.walk(dataset_path)):\n",
    "        \n",
    "        print(i)\n",
    "        # ensure we're processing a genre sub-folder level\n",
    "        if dirpath is not dataset_path:\n",
    "          \n",
    "            # save genre label (i.e., sub-folder name) in the mapping\n",
    "            semantic_label = dirpath.split(\"/\")[-1]\n",
    "            data[\"mapping\"].append(semantic_label)\n",
    "            #print(\"\\nProcessing: {}\".format(semantic_label))\n",
    "            j = 0\n",
    "            # process all audio files in genre sub-dir\n",
    "            for f in filenames:\n",
    "                j = j + 1\n",
    "                # load audio file\n",
    "                file_path = os.path.join(dirpath, f)\n",
    "                signal, sample_rate = l.load(file_path, sr=SAMPLE_RATE)\n",
    "                print(file_path , \" ---  \", j)\n",
    "                #print(dico[str(semantic_label)])\n",
    "                signal2 = np.zeros(3000)\n",
    "                if len(signal) >= 3000:\n",
    "                    signal2 = signal[:3000]\n",
    "                else:\n",
    "                    signal2[0:len(signal)] = signal     \n",
    "                print(\"shape de signal 2:\", signal2.shape)\n",
    "        \n",
    "                # extract mfcc\n",
    "                mfcc = l.feature.mfcc(signal2 , sample_rate, n_mfcc=num_mfcc, n_fft=n_fft, hop_length=hop_length)\n",
    "                mfcc = mfcc.T\n",
    "\n",
    "                # store only mfcc feature with expected number of vectors\n",
    "\n",
    "                data[\"mfcc\"].append(mfcc.tolist())\n",
    "                data[\"labels\"].append(i-1)\n",
    "            \n",
    "    print(data[\"mapping\"])\n",
    "    print(data[\"labels\"])\n",
    "            \n",
    "\n",
    "    # save MFCCs to json file\n",
    "    with open(json_path, \"w\") as fp:\n",
    "        json.dump(data, fp, indent=4)  \n"
   ]
  },
  {
   "cell_type": "code",
   "execution_count": 11,
   "metadata": {},
   "outputs": [],
   "source": [
    "#save_mfcc(DATASET_PATH , JSON_PATH)"
   ]
  },
  {
   "cell_type": "code",
   "execution_count": null,
   "metadata": {},
   "outputs": [],
   "source": []
  },
  {
   "cell_type": "code",
   "execution_count": null,
   "metadata": {},
   "outputs": [],
   "source": []
  },
  {
   "cell_type": "code",
   "execution_count": null,
   "metadata": {},
   "outputs": [],
   "source": []
  },
  {
   "cell_type": "code",
   "execution_count": null,
   "metadata": {},
   "outputs": [],
   "source": []
  },
  {
   "cell_type": "raw",
   "metadata": {},
   "source": [
    "def save_mfcc(dataset_path, json_path, num_mfcc=50, n_fft=2048, hop_length=512):\n",
    "    \"\"\"Extracts MFCCs from music dataset and saves them into a json file along witgh genre labels.\n",
    "        :param dataset_path (str): Path to dataset\n",
    "        :param json_path (str): Path to json file used to save MFCCs\n",
    "        :param num_mfcc (int): Number of coefficients to extract\n",
    "        :param n_fft (int): Interval we consider to apply FFT. Measured in # of samples\n",
    "        :param hop_length (int): Sliding window for FFT. Measured in # of samples\n",
    "        :param: num_segments (int): Number of segments we want to divide sample tracks into\n",
    "        :return:\n",
    "    \"\"\"\n",
    "\n",
    "    # dictionary to store mapping, labels, and MFCCs\n",
    "    data = {\n",
    "        \"info\": \"le fichier a un sr de ? et nummfcc a ? longueur du fichier est de ?\",\n",
    "        \"mapping\": [],\n",
    "        \"labels\": [],\n",
    "        \"mfcc\": []\n",
    "    }\n",
    "    \n",
    "    # loop through all genre sub-folder\n",
    "    for i, (dirpath, dirnames, filenames) in enumerate(os.walk(dataset_path)):\n",
    "            \n",
    "        # ensure we're processing a genre sub-folder level\n",
    "        if dirpath is not dataset_path:\n",
    "\n",
    "            # save genre label (i.e., sub-folder name) in the mapping\n",
    "            semantic_label = dirpath.split(\"/\")[-1]\n",
    "            data[\"mapping\"].append(semantic_label)\n",
    "            print(\"\\nProcessing: {}\".format(semantic_label))\n",
    "    \n",
    "            # process all audio files in genre sub-dir\n",
    "            j = 0 \n",
    "            for f in filenames:\n",
    "\t\t# load audio file\n",
    "                file_path = os.path.join(dirpath, f)\n",
    "                signal, sr = librosa.load(file_path, sr=SAMPLE_RATE)\n",
    "                # process all segments of audio file\n",
    "                signal2 = np.zeros(70000)\n",
    "                if len(signal) > 70000:\n",
    "                    signal2 = signal[:70000]\n",
    "                else:\n",
    "                    signal2[0:len(signal)] = signal     \n",
    "                print(\"shape de signal 2:\", signal2.shape)\n",
    "                # extract mfcc\n",
    "                mfcc = librosa.feature.mfcc(signal2 , sr , n_mfcc=num_mfcc, n_fft=n_fft , hop_length=hop_length)\n",
    "                # store only mfcc feature with expected number of vectors\n",
    "                data[\"mfcc\"].append(mfcc.tolist())\n",
    "                data[\"labels\"].append(i-1)\n",
    "                print(\" {} --- len {} \\n\".format(j,len(signal)))\n",
    "                j=j+1 \n",
    "                    \n",
    "    # save MFCCs to json file\n",
    "    with open(json_path, \"w\") as fp:\n",
    "        print(\"\\n writting to json file .......\")\n",
    "        json.dump(data, fp, indent=4)\n",
    "        print(\"\\n END ==== writting to json file .......\")"
   ]
  },
  {
   "cell_type": "code",
   "execution_count": null,
   "metadata": {},
   "outputs": [],
   "source": []
  },
  {
   "cell_type": "code",
   "execution_count": null,
   "metadata": {},
   "outputs": [],
   "source": []
  },
  {
   "cell_type": "code",
   "execution_count": null,
   "metadata": {},
   "outputs": [],
   "source": []
  },
  {
   "cell_type": "code",
   "execution_count": null,
   "metadata": {},
   "outputs": [],
   "source": []
  },
  {
   "cell_type": "code",
   "execution_count": null,
   "metadata": {},
   "outputs": [],
   "source": []
  },
  {
   "cell_type": "code",
   "execution_count": null,
   "metadata": {},
   "outputs": [],
   "source": []
  },
  {
   "cell_type": "code",
   "execution_count": null,
   "metadata": {},
   "outputs": [],
   "source": []
  },
  {
   "cell_type": "code",
   "execution_count": null,
   "metadata": {},
   "outputs": [],
   "source": []
  },
  {
   "cell_type": "code",
   "execution_count": null,
   "metadata": {},
   "outputs": [],
   "source": []
  },
  {
   "cell_type": "code",
   "execution_count": null,
   "metadata": {},
   "outputs": [],
   "source": []
  },
  {
   "cell_type": "code",
   "execution_count": null,
   "metadata": {},
   "outputs": [],
   "source": []
  },
  {
   "cell_type": "raw",
   "metadata": {},
   "source": [
    "def save_mfcc_autre(dataset_path, json_path, num_mfcc=20):\n",
    "\n",
    "    # dictionaire ou sera stoquer mapping, labels, et mfcc\n",
    "    data = {\n",
    "        \"mapping\": [],\n",
    "        \"labels\": [],\n",
    "        \"mfcc\": []\n",
    "    }\n",
    "    \n",
    "    # boucles pour parcourir tous les dossier ( benn a fukk)\n",
    "    for i, (dirpath, dirnames, filenames) in enumerate(os.walk(dataset_path)):\n",
    "        if dirpath is not dataset_path:\n",
    "            # save genre label (i.e., sub-folder name) in the mapping\n",
    "            semantic_label = dirpath.split(\"/\")[-1]\n",
    "            data[\"mapping\"].append(semantic_label)\n",
    "            print(\"\\nProcessing: {}\".format(semantic_label))\n",
    "    \n",
    "            # process all audio files in genre sub-dir\n",
    "            j = 0 \n",
    "            for f in filenames:\n",
    "\t\t# load audio file\n",
    "                file_path = os.path.join(dirpath, f)\n",
    "                signal, sr = librosa.load(file_path, sr=SAMPLE_RATE)\n",
    "                # process all segments of audio file\n",
    "                signal2 = np.zeros(50000)\n",
    "                if len(signal) >= 50000:\n",
    "                    signal2 = signal[:50000]\n",
    "                else:\n",
    "                    signal2[0:len(signal)] = signal     \n",
    "                print(\"shape de signal 2:\", signal2.shape)\n",
    "                # extract mfcc\n",
    "                mfcc = librosa.feature.mfcc(signal2 , sr , n_mfcc=num_mfcc, n_fft=n_fft , hop_length=hop_length)\n",
    "                # store only mfcc feature with expected number of vectors\n",
    "                data[\"mfcc\"].append(mfcc.tolist())\n",
    "                data[\"labels\"].append(i-1)\n",
    "                print(\" {} --- len {} \\n\".format(j,len(signal)))\n",
    "                j=j+1 \n",
    "                if j == 100:\n",
    "                    break\n",
    "                \n",
    "    # save MFCCs to json file\n",
    "    with open(json_path, \"w\") as fp:\n",
    "        json.dump(data, fp, indent=4)"
   ]
  },
  {
   "cell_type": "raw",
   "metadata": {},
   "source": [
    "save_mfcc_autre(DATASET_PATH , \"./minidataset.json\")"
   ]
  },
  {
   "cell_type": "code",
   "execution_count": 8,
   "metadata": {},
   "outputs": [],
   "source": [
    "dirpath = \"/home/ibrahimabarry01/Desktop/memoire_test_1/data/2_gnari/\"\n",
    "f = \"958_clean.wav\"\n",
    "SAMPLE_RATE = 22050\n",
    "num_mfcc = 20"
   ]
  },
  {
   "cell_type": "code",
   "execution_count": 20,
   "metadata": {},
   "outputs": [
    {
     "name": "stdout",
     "output_type": "stream",
     "text": [
      "bien ...\n"
     ]
    },
    {
     "data": {
      "image/png": "[encoded data removed]",
      "text/plain": [
       "<Figure size 432x288 with 1 Axes>"
      ]
     },
     "metadata": {
      "needs_background": "light"
     },
     "output_type": "display_data"
    }
   ],
   "source": [
    "# data est un dictionnaire ou nous allons stoquer nos donnees (input et target) \n",
    "# apres nous convertirons data en fichier json   \n",
    "data = {\n",
    "    'mfcc': [],\n",
    "    'labels': [],\n",
    "}\n",
    "# dirpath est le chemin vers le fichier audio ex: ./benn/ , ./gnar/ etc ...\n",
    "# f est le nom du fichier audio : 10001.wav , 10002.wav etc ...\n",
    "# librosa.load() est une fonction qui permet de charger en memoire de l'audio\n",
    "# librosa.load() prend en parametre deux elements qui sont le chemin file_path et \n",
    "# SAMPLE_RATE ou fréquence d'échantillonnage dans notre cas le frequence est de 22050\n",
    "file_path = os.path.join(dirpath, f)\n",
    "signal, sr = librosa.load(file_path, sr=SAMPLE_RATE)\n",
    "# extraction de caractéristique mfcc\n",
    "# librosa.feature.mfcc permet extraire le mfcc d'un fichier audio\n",
    "# il prend comme argument le nom de mfcc (n_mfcc) qui n'est rien d'autre que le nombre \n",
    "# de coeficient a extraire. \n",
    "mfcc = librosa.feature.mfcc(signal , sr , n_mfcc=num_mfcc) \n",
    "# ensuite on sauvegarde mfcc dans data et comme c'est le cas de gnar target = 1 \n",
    "# si c'etait benn target = 0\n",
    "data[\"mfcc\"].append(mfcc.tolist())\n",
    "data[\"labels\"].append(1)\n",
    "plt.title(\"target : 1  gnar\")\n",
    "plt.imshow(mfcc)\n",
    "# on sauvegarde data dans fichier_json\n",
    "with open(\"fichier_json\", \"w\") as fp:\n",
    "        json.dump(data, fp, indent=4)\n",
    "        print(\"bien ...\")"
   ]
  },
  {
   "cell_type": "code",
   "execution_count": null,
   "metadata": {},
   "outputs": [],
   "source": []
  }
 ],
 "metadata": {
  "kernelspec": {
   "display_name": "Python 3",
   "language": "python",
   "name": "python3"
  },
  "language_info": {
   "codemirror_mode": {
    "name": "ipython",
    "version": 3
   },
   "file_extension": ".py",
   "mimetype": "text/x-python",
   "name": "python",
   "nbconvert_exporter": "python",
   "pygments_lexer": "ipython3",
   "version": "3.8.3"
  }
 },
 "nbformat": 4,
 "nbformat_minor": 4
}
