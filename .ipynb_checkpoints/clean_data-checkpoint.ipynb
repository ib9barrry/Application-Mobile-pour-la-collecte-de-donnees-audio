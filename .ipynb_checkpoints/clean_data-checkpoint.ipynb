{
 "cells": [
  {
   "cell_type": "code",
   "execution_count": 1,
   "metadata": {},
   "outputs": [],
   "source": [
    "import librosa as l \n",
    "import numpy as np \n",
    "import matplotlib.pyplot as plt \n",
    "import IPython.display as ipd \n",
    "import pandas as pd\n",
    "from glob import glob\n",
    "import os\n",
    "from scipy.io.wavfile import write"
   ]
  },
  {
   "cell_type": "code",
   "execution_count": null,
   "metadata": {},
   "outputs": [],
   "source": []
  },
  {
   "cell_type": "code",
   "execution_count": 4,
   "metadata": {},
   "outputs": [],
   "source": [
    "data_dir = os.listdir(\"./WOLOF_FOR_MEMORY/\")"
   ]
  },
  {
   "cell_type": "code",
   "execution_count": 3,
   "metadata": {},
   "outputs": [
    {
     "data": {
      "text/plain": [
       "['./CLEAN_WOLOF_FOR_MEMORY/8_Juróom-Ñett',\n",
       " './CLEAN_WOLOF_FOR_MEMORY/4_Ñent',\n",
       " './CLEAN_WOLOF_FOR_MEMORY/10_Fukk',\n",
       " './CLEAN_WOLOF_FOR_MEMORY/6_Juróom-Benn',\n",
       " './CLEAN_WOLOF_FOR_MEMORY/3_Ñett',\n",
       " './CLEAN_WOLOF_FOR_MEMORY/7_Juróom-Ñaar',\n",
       " './CLEAN_WOLOF_FOR_MEMORY/1_Benn',\n",
       " './CLEAN_WOLOF_FOR_MEMORY/9_Juróom-Ñent',\n",
       " './CLEAN_WOLOF_FOR_MEMORY/2_Ñaar',\n",
       " './CLEAN_WOLOF_FOR_MEMORY/5_Juróom']"
      ]
     },
     "execution_count": 3,
     "metadata": {},
     "output_type": "execute_result"
    }
   ],
   "source": [
    "data_dir_target = glob(\"./CLEAN_WOLOF_FOR_MEMORY/*\")\n",
    "data_dir_target"
   ]
  },
  {
   "cell_type": "raw",
   "metadata": {},
   "source": [
    "j=0\n",
    "for d in data_dir:\n",
    "    i = 0\n",
    "    fs = glob(\"./data_m4a/\"+d+\"/*\")\n",
    "    for f in fs:\n",
    "        i = i+1\n",
    "        y , sr = l.load(f , sr=22050)\n",
    "\n",
    "        y_abs = pd.Series(y).apply(np.abs)\n",
    "        y_mean = y_abs.rolling(window=int(sr/20),\n",
    "                       min_periods=1,\n",
    "                       center=True).max()\n",
    "\n",
    "        maxe = y_mean[np.argmax(y_mean)]\n",
    "\n",
    "        y2 = y[ y_mean > maxe/14]\n",
    "        if len(y2)>=35000:\n",
    "            print(\"superieur : 35000 re_clean \")\n",
    "            plt.figure()\n",
    "            plt.plot(y2)\n",
    "            plt.show()\n",
    "            y2 = y[ y_mean > maxe/10]\n",
    "            print(\" apres re_clean : \")\n",
    "            plt.figure()\n",
    "            plt.plot(y2)\n",
    "            plt.show()\n",
    "\n",
    "            if len(y2) >= 35000:\n",
    "                y2 = y[ y_mean > maxe/12]\n",
    "                print(\" apres re_re_clean : \")\n",
    "                plt.figure()\n",
    "                plt.plot(y2)\n",
    "                plt.show()\n",
    "            if len(y2) >= 35000:\n",
    "                '''\n",
    "                print(\" y mean sr/20 : \")\n",
    "                plt.plot(y_mean)\n",
    "                plt.show()\n",
    "                y_mean = y_abs.rolling(window=int(sr/3),\n",
    "                       min_periods=1,\n",
    "                       center=True).max()\n",
    "                print(\" y mean sr/2 : \")\n",
    "                plt.plot(y_mean)\n",
    "                plt.show()\n",
    "\n",
    "                maxe = y_mean[np.argmax(y_mean)]\n",
    "                y2 = y[ y_mean > maxe/6]\n",
    "                if len(y2) >= 35000:\n",
    "                    y2 = y[ y_mean > maxe/3]\n",
    "                    print(\" y2 apres nettoyer .\")\n",
    "                    plt.plot(y2) \n",
    "                    plt.show()\n",
    "                '''\n",
    "                y2 = y[ y_mean > maxe/10]\n",
    "                print(\" apres re_re_clean : \")\n",
    "                plt.figure()\n",
    "                plt.plot(y2)\n",
    "                plt.show()\n",
    "                \n",
    "        if len(y2) <= 35000:\n",
    "            write(\"./data_clean/\"+d+ \"/\"+str(np.random.randint(0,99999999))+\".m4a\", sr , y2)\n",
    "            print(\" i est : {} \\n\".format(i))\n",
    "    print(\" j est : {} \\n\".format(j))\n",
    "    j = j+1\n",
    "    #print(\"apres\")\n",
    "    #plt.figure()\n",
    "    #plt.plot(y2)\n",
    "    #plt.show()\n",
    "    #print(\"\\n len y2: \",len(y))\n",
    "\n",
    "    #d = int(input(\"\\n saisir debut : \\n\"))\n",
    "    #fin = int(input(\"\\n saisir fin : \\n\"))\n",
    "    #y = y[d:fin]\n",
    "    #print(\"\\n i: {}  nouvelle longueur de y est : {} \\n\".format(i,len(y)) )"
   ]
  },
  {
   "cell_type": "markdown",
   "metadata": {},
   "source": [
    "# Max len va etre mis a 59 mile"
   ]
  },
  {
   "cell_type": "code",
   "execution_count": 25,
   "metadata": {
    "scrolled": true
   },
   "outputs": [
    {
     "name": "stdout",
     "output_type": "stream",
     "text": [
      " CHIFFRE : :  8_Juróom-Ñett\n"
     ]
    },
    {
     "name": "stderr",
     "output_type": "stream",
     "text": [
      "/home/ibrahimabarry01/anaconda3/lib/python3.8/site-packages/librosa/core/audio.py:162: UserWarning: PySoundFile failed. Trying audioread instead.\n",
      "  warnings.warn(\"PySoundFile failed. Trying audioread instead.\")\n"
     ]
    },
    {
     "name": "stdout",
     "output_type": "stream",
     "text": [
      "1 - name : ./WOLOF_FOR_MEMORY/8_Juróom-Ñett/AUDIO-2021-05-22-20-51-38.m4a  36544\n"
     ]
    },
    {
     "name": "stderr",
     "output_type": "stream",
     "text": [
      "/home/ibrahimabarry01/anaconda3/lib/python3.8/site-packages/librosa/core/audio.py:162: UserWarning: PySoundFile failed. Trying audioread instead.\n",
      "  warnings.warn(\"PySoundFile failed. Trying audioread instead.\")\n"
     ]
    },
    {
     "name": "stdout",
     "output_type": "stream",
     "text": [
      "2 - name : ./WOLOF_FOR_MEMORY/8_Juróom-Ñett/AUDIO-2021-05-22-19-26-23.m4a  18473\n"
     ]
    },
    {
     "name": "stderr",
     "output_type": "stream",
     "text": [
      "/home/ibrahimabarry01/anaconda3/lib/python3.8/site-packages/librosa/core/audio.py:162: UserWarning: PySoundFile failed. Trying audioread instead.\n",
      "  warnings.warn(\"PySoundFile failed. Trying audioread instead.\")\n"
     ]
    },
    {
     "name": "stdout",
     "output_type": "stream",
     "text": [
      "3 - name : ./WOLOF_FOR_MEMORY/8_Juróom-Ñett/AUDIO-2021-05-22-18-04-08.m4a  17277\n"
     ]
    },
    {
     "name": "stderr",
     "output_type": "stream",
     "text": [
      "/home/ibrahimabarry01/anaconda3/lib/python3.8/site-packages/librosa/core/audio.py:162: UserWarning: PySoundFile failed. Trying audioread instead.\n",
      "  warnings.warn(\"PySoundFile failed. Trying audioread instead.\")\n"
     ]
    },
    {
     "name": "stdout",
     "output_type": "stream",
     "text": [
      "4 - name : ./WOLOF_FOR_MEMORY/8_Juróom-Ñett/AUDIO-2021-05-22-20-04-41.m4a  25975\n"
     ]
    },
    {
     "name": "stderr",
     "output_type": "stream",
     "text": [
      "/home/ibrahimabarry01/anaconda3/lib/python3.8/site-packages/librosa/core/audio.py:162: UserWarning: PySoundFile failed. Trying audioread instead.\n",
      "  warnings.warn(\"PySoundFile failed. Trying audioread instead.\")\n"
     ]
    },
    {
     "name": "stdout",
     "output_type": "stream",
     "text": [
      "5 - name : ./WOLOF_FOR_MEMORY/8_Juróom-Ñett/AUDIO-2021-05-22-14-04-40.m4a  30709\n"
     ]
    },
    {
     "name": "stderr",
     "output_type": "stream",
     "text": [
      "/home/ibrahimabarry01/anaconda3/lib/python3.8/site-packages/librosa/core/audio.py:162: UserWarning: PySoundFile failed. Trying audioread instead.\n",
      "  warnings.warn(\"PySoundFile failed. Trying audioread instead.\")\n"
     ]
    },
    {
     "name": "stdout",
     "output_type": "stream",
     "text": [
      "6 - name : ./WOLOF_FOR_MEMORY/8_Juróom-Ñett/AUDIO-2021-05-22-13-27-46.m4a  33959\n"
     ]
    },
    {
     "name": "stderr",
     "output_type": "stream",
     "text": [
      "/home/ibrahimabarry01/anaconda3/lib/python3.8/site-packages/librosa/core/audio.py:162: UserWarning: PySoundFile failed. Trying audioread instead.\n",
      "  warnings.warn(\"PySoundFile failed. Trying audioread instead.\")\n"
     ]
    },
    {
     "name": "stdout",
     "output_type": "stream",
     "text": [
      "7 - name : ./WOLOF_FOR_MEMORY/8_Juróom-Ñett/AUDIO-2021-05-16-20-17-05.m4a  19499\n"
     ]
    },
    {
     "name": "stderr",
     "output_type": "stream",
     "text": [
      "/home/ibrahimabarry01/anaconda3/lib/python3.8/site-packages/librosa/core/audio.py:162: UserWarning: PySoundFile failed. Trying audioread instead.\n",
      "  warnings.warn(\"PySoundFile failed. Trying audioread instead.\")\n"
     ]
    },
    {
     "name": "stdout",
     "output_type": "stream",
     "text": [
      "8 - name : ./WOLOF_FOR_MEMORY/8_Juróom-Ñett/AUDIO-2021-05-16-20-28-08.m4a  18610\n"
     ]
    },
    {
     "name": "stderr",
     "output_type": "stream",
     "text": [
      "/home/ibrahimabarry01/anaconda3/lib/python3.8/site-packages/librosa/core/audio.py:162: UserWarning: PySoundFile failed. Trying audioread instead.\n",
      "  warnings.warn(\"PySoundFile failed. Trying audioread instead.\")\n"
     ]
    },
    {
     "name": "stdout",
     "output_type": "stream",
     "text": [
      "9 - name : ./WOLOF_FOR_MEMORY/8_Juróom-Ñett/AUDIO-2021-05-16-23-21-22.m4a  18583\n"
     ]
    },
    {
     "name": "stderr",
     "output_type": "stream",
     "text": [
      "/home/ibrahimabarry01/anaconda3/lib/python3.8/site-packages/librosa/core/audio.py:162: UserWarning: PySoundFile failed. Trying audioread instead.\n",
      "  warnings.warn(\"PySoundFile failed. Trying audioread instead.\")\n"
     ]
    },
    {
     "name": "stdout",
     "output_type": "stream",
     "text": [
      "10 - name : ./WOLOF_FOR_MEMORY/8_Juróom-Ñett/AUDIO-2021-05-16-23-52-15.m4a  13543\n"
     ]
    },
    {
     "name": "stderr",
     "output_type": "stream",
     "text": [
      "/home/ibrahimabarry01/anaconda3/lib/python3.8/site-packages/librosa/core/audio.py:162: UserWarning: PySoundFile failed. Trying audioread instead.\n",
      "  warnings.warn(\"PySoundFile failed. Trying audioread instead.\")\n"
     ]
    },
    {
     "name": "stdout",
     "output_type": "stream",
     "text": [
      "11 - name : ./WOLOF_FOR_MEMORY/8_Juróom-Ñett/AUDIO-2021-05-17-00-06-55.m4a  16167\n"
     ]
    },
    {
     "name": "stderr",
     "output_type": "stream",
     "text": [
      "/home/ibrahimabarry01/anaconda3/lib/python3.8/site-packages/librosa/core/audio.py:162: UserWarning: PySoundFile failed. Trying audioread instead.\n",
      "  warnings.warn(\"PySoundFile failed. Trying audioread instead.\")\n"
     ]
    },
    {
     "name": "stdout",
     "output_type": "stream",
     "text": [
      "12 - name : ./WOLOF_FOR_MEMORY/8_Juróom-Ñett/AUDIO-2021-05-11-15-22-17.m4a  33723\n"
     ]
    },
    {
     "name": "stderr",
     "output_type": "stream",
     "text": [
      "/home/ibrahimabarry01/anaconda3/lib/python3.8/site-packages/librosa/core/audio.py:162: UserWarning: PySoundFile failed. Trying audioread instead.\n",
      "  warnings.warn(\"PySoundFile failed. Trying audioread instead.\")\n"
     ]
    },
    {
     "name": "stdout",
     "output_type": "stream",
     "text": [
      "13 - name : ./WOLOF_FOR_MEMORY/8_Juróom-Ñett/AUDIO-2021-05-18-14-34-41.m4a  20603\n"
     ]
    },
    {
     "name": "stderr",
     "output_type": "stream",
     "text": [
      "/home/ibrahimabarry01/anaconda3/lib/python3.8/site-packages/librosa/core/audio.py:162: UserWarning: PySoundFile failed. Trying audioread instead.\n",
      "  warnings.warn(\"PySoundFile failed. Trying audioread instead.\")\n"
     ]
    },
    {
     "name": "stdout",
     "output_type": "stream",
     "text": [
      "14 - name : ./WOLOF_FOR_MEMORY/8_Juróom-Ñett/AUDIO-2021-05-18-19-55-12.m4a  24430\n"
     ]
    },
    {
     "name": "stderr",
     "output_type": "stream",
     "text": [
      "/home/ibrahimabarry01/anaconda3/lib/python3.8/site-packages/librosa/core/audio.py:162: UserWarning: PySoundFile failed. Trying audioread instead.\n",
      "  warnings.warn(\"PySoundFile failed. Trying audioread instead.\")\n"
     ]
    },
    {
     "name": "stdout",
     "output_type": "stream",
     "text": [
      "15 - name : ./WOLOF_FOR_MEMORY/8_Juróom-Ñett/AUDIO-2021-05-18-21-52-49.m4a  19193\n"
     ]
    },
    {
     "name": "stderr",
     "output_type": "stream",
     "text": [
      "/home/ibrahimabarry01/anaconda3/lib/python3.8/site-packages/librosa/core/audio.py:162: UserWarning: PySoundFile failed. Trying audioread instead.\n",
      "  warnings.warn(\"PySoundFile failed. Trying audioread instead.\")\n"
     ]
    },
    {
     "name": "stdout",
     "output_type": "stream",
     "text": [
      "16 - name : ./WOLOF_FOR_MEMORY/8_Juróom-Ñett/AUDIO-2021-05-18-20-59-14_1.m4a  21513\n"
     ]
    },
    {
     "name": "stderr",
     "output_type": "stream",
     "text": [
      "/home/ibrahimabarry01/anaconda3/lib/python3.8/site-packages/librosa/core/audio.py:162: UserWarning: PySoundFile failed. Trying audioread instead.\n",
      "  warnings.warn(\"PySoundFile failed. Trying audioread instead.\")\n"
     ]
    },
    {
     "name": "stdout",
     "output_type": "stream",
     "text": [
      "17 - name : ./WOLOF_FOR_MEMORY/8_Juróom-Ñett/AUDIO-2021-05-19-21-40-15.m4a  16407\n"
     ]
    },
    {
     "name": "stderr",
     "output_type": "stream",
     "text": [
      "/home/ibrahimabarry01/anaconda3/lib/python3.8/site-packages/librosa/core/audio.py:162: UserWarning: PySoundFile failed. Trying audioread instead.\n",
      "  warnings.warn(\"PySoundFile failed. Trying audioread instead.\")\n"
     ]
    },
    {
     "name": "stdout",
     "output_type": "stream",
     "text": [
      "18 - name : ./WOLOF_FOR_MEMORY/8_Juróom-Ñett/AUDIO-2021-05-19-22-01-19.m4a  21146\n"
     ]
    },
    {
     "name": "stderr",
     "output_type": "stream",
     "text": [
      "/home/ibrahimabarry01/anaconda3/lib/python3.8/site-packages/librosa/core/audio.py:162: UserWarning: PySoundFile failed. Trying audioread instead.\n",
      "  warnings.warn(\"PySoundFile failed. Trying audioread instead.\")\n"
     ]
    },
    {
     "name": "stdout",
     "output_type": "stream",
     "text": [
      "19 - name : ./WOLOF_FOR_MEMORY/8_Juróom-Ñett/AUDIO-2021-05-20-17-49-25.m4a  10533\n"
     ]
    },
    {
     "name": "stderr",
     "output_type": "stream",
     "text": [
      "/home/ibrahimabarry01/anaconda3/lib/python3.8/site-packages/librosa/core/audio.py:162: UserWarning: PySoundFile failed. Trying audioread instead.\n",
      "  warnings.warn(\"PySoundFile failed. Trying audioread instead.\")\n"
     ]
    },
    {
     "name": "stdout",
     "output_type": "stream",
     "text": [
      "20 - name : ./WOLOF_FOR_MEMORY/8_Juróom-Ñett/AUDIO-2021-05-20-17-59-12.m4a  22436\n"
     ]
    },
    {
     "name": "stderr",
     "output_type": "stream",
     "text": [
      "/home/ibrahimabarry01/anaconda3/lib/python3.8/site-packages/librosa/core/audio.py:162: UserWarning: PySoundFile failed. Trying audioread instead.\n",
      "  warnings.warn(\"PySoundFile failed. Trying audioread instead.\")\n"
     ]
    },
    {
     "name": "stdout",
     "output_type": "stream",
     "text": [
      "21 - name : ./WOLOF_FOR_MEMORY/8_Juróom-Ñett/AUDIO-2021-05-16-23-16-43.m4a  17347\n"
     ]
    },
    {
     "name": "stderr",
     "output_type": "stream",
     "text": [
      "/home/ibrahimabarry01/anaconda3/lib/python3.8/site-packages/librosa/core/audio.py:162: UserWarning: PySoundFile failed. Trying audioread instead.\n",
      "  warnings.warn(\"PySoundFile failed. Trying audioread instead.\")\n"
     ]
    },
    {
     "name": "stdout",
     "output_type": "stream",
     "text": [
      "22 - name : ./WOLOF_FOR_MEMORY/8_Juróom-Ñett/AUDIO-2021-05-20-21-03-16_1.m4a  16100\n"
     ]
    },
    {
     "name": "stderr",
     "output_type": "stream",
     "text": [
      "/home/ibrahimabarry01/anaconda3/lib/python3.8/site-packages/librosa/core/audio.py:162: UserWarning: PySoundFile failed. Trying audioread instead.\n",
      "  warnings.warn(\"PySoundFile failed. Trying audioread instead.\")\n"
     ]
    },
    {
     "name": "stdout",
     "output_type": "stream",
     "text": [
      "23 - name : ./WOLOF_FOR_MEMORY/8_Juróom-Ñett/AUDIO-2021-05-21-00-25-59.m4a  22375\n"
     ]
    },
    {
     "name": "stderr",
     "output_type": "stream",
     "text": [
      "/home/ibrahimabarry01/anaconda3/lib/python3.8/site-packages/librosa/core/audio.py:162: UserWarning: PySoundFile failed. Trying audioread instead.\n",
      "  warnings.warn(\"PySoundFile failed. Trying audioread instead.\")\n"
     ]
    },
    {
     "name": "stdout",
     "output_type": "stream",
     "text": [
      "24 - name : ./WOLOF_FOR_MEMORY/8_Juróom-Ñett/AUDIO-2021-05-21-00-12-53.m4a  23037\n"
     ]
    },
    {
     "name": "stderr",
     "output_type": "stream",
     "text": [
      "/home/ibrahimabarry01/anaconda3/lib/python3.8/site-packages/librosa/core/audio.py:162: UserWarning: PySoundFile failed. Trying audioread instead.\n",
      "  warnings.warn(\"PySoundFile failed. Trying audioread instead.\")\n"
     ]
    },
    {
     "name": "stdout",
     "output_type": "stream",
     "text": [
      "25 - name : ./WOLOF_FOR_MEMORY/8_Juróom-Ñett/AUDIO-2021-05-21-00-47-46.m4a  20412\n"
     ]
    },
    {
     "name": "stderr",
     "output_type": "stream",
     "text": [
      "/home/ibrahimabarry01/anaconda3/lib/python3.8/site-packages/librosa/core/audio.py:162: UserWarning: PySoundFile failed. Trying audioread instead.\n",
      "  warnings.warn(\"PySoundFile failed. Trying audioread instead.\")\n"
     ]
    },
    {
     "name": "stdout",
     "output_type": "stream",
     "text": [
      "26 - name : ./WOLOF_FOR_MEMORY/8_Juróom-Ñett/AUDIO-2021-05-20-23-57-16.m4a  26831\n"
     ]
    },
    {
     "name": "stderr",
     "output_type": "stream",
     "text": [
      "/home/ibrahimabarry01/anaconda3/lib/python3.8/site-packages/librosa/core/audio.py:162: UserWarning: PySoundFile failed. Trying audioread instead.\n",
      "  warnings.warn(\"PySoundFile failed. Trying audioread instead.\")\n"
     ]
    },
    {
     "name": "stdout",
     "output_type": "stream",
     "text": [
      "27 - name : ./WOLOF_FOR_MEMORY/8_Juróom-Ñett/AUDIO-2021-05-20-19-51-54.m4a  19063\n"
     ]
    },
    {
     "name": "stderr",
     "output_type": "stream",
     "text": [
      "/home/ibrahimabarry01/anaconda3/lib/python3.8/site-packages/librosa/core/audio.py:162: UserWarning: PySoundFile failed. Trying audioread instead.\n",
      "  warnings.warn(\"PySoundFile failed. Trying audioread instead.\")\n"
     ]
    },
    {
     "name": "stdout",
     "output_type": "stream",
     "text": [
      "28 - name : ./WOLOF_FOR_MEMORY/8_Juróom-Ñett/AUDIO-2021-05-21-01-03-18.m4a  20096\n"
     ]
    },
    {
     "name": "stderr",
     "output_type": "stream",
     "text": [
      "/home/ibrahimabarry01/anaconda3/lib/python3.8/site-packages/librosa/core/audio.py:162: UserWarning: PySoundFile failed. Trying audioread instead.\n",
      "  warnings.warn(\"PySoundFile failed. Trying audioread instead.\")\n"
     ]
    },
    {
     "name": "stdout",
     "output_type": "stream",
     "text": [
      "29 - name : ./WOLOF_FOR_MEMORY/8_Juróom-Ñett/AUDIO-2021-05-20-21-28-23.m4a  28117\n"
     ]
    },
    {
     "name": "stderr",
     "output_type": "stream",
     "text": [
      "/home/ibrahimabarry01/anaconda3/lib/python3.8/site-packages/librosa/core/audio.py:162: UserWarning: PySoundFile failed. Trying audioread instead.\n",
      "  warnings.warn(\"PySoundFile failed. Trying audioread instead.\")\n"
     ]
    },
    {
     "name": "stdout",
     "output_type": "stream",
     "text": [
      "30 - name : ./WOLOF_FOR_MEMORY/8_Juróom-Ñett/AUDIO-2021-05-21-19-33-28.m4a  28117\n"
     ]
    },
    {
     "name": "stderr",
     "output_type": "stream",
     "text": [
      "/home/ibrahimabarry01/anaconda3/lib/python3.8/site-packages/librosa/core/audio.py:162: UserWarning: PySoundFile failed. Trying audioread instead.\n",
      "  warnings.warn(\"PySoundFile failed. Trying audioread instead.\")\n"
     ]
    },
    {
     "name": "stdout",
     "output_type": "stream",
     "text": [
      "31 - name : ./WOLOF_FOR_MEMORY/8_Juróom-Ñett/AUDIO-2021-05-21-21-38-54.m4a  18656\n"
     ]
    },
    {
     "name": "stderr",
     "output_type": "stream",
     "text": [
      "/home/ibrahimabarry01/anaconda3/lib/python3.8/site-packages/librosa/core/audio.py:162: UserWarning: PySoundFile failed. Trying audioread instead.\n",
      "  warnings.warn(\"PySoundFile failed. Trying audioread instead.\")\n"
     ]
    },
    {
     "name": "stdout",
     "output_type": "stream",
     "text": [
      "32 - name : ./WOLOF_FOR_MEMORY/8_Juróom-Ñett/AUDIO-2021-05-20-17-39-49.m4a  32999\n"
     ]
    },
    {
     "name": "stderr",
     "output_type": "stream",
     "text": [
      "/home/ibrahimabarry01/anaconda3/lib/python3.8/site-packages/librosa/core/audio.py:162: UserWarning: PySoundFile failed. Trying audioread instead.\n",
      "  warnings.warn(\"PySoundFile failed. Trying audioread instead.\")\n"
     ]
    },
    {
     "name": "stdout",
     "output_type": "stream",
     "text": [
      "33 - name : ./WOLOF_FOR_MEMORY/8_Juróom-Ñett/AUDIO-2021-05-16-23-32-09.m4a  19047\n"
     ]
    },
    {
     "name": "stderr",
     "output_type": "stream",
     "text": [
      "/home/ibrahimabarry01/anaconda3/lib/python3.8/site-packages/librosa/core/audio.py:162: UserWarning: PySoundFile failed. Trying audioread instead.\n",
      "  warnings.warn(\"PySoundFile failed. Trying audioread instead.\")\n"
     ]
    },
    {
     "name": "stdout",
     "output_type": "stream",
     "text": [
      "34 - name : ./WOLOF_FOR_MEMORY/8_Juróom-Ñett/AUDIO-2021-05-22-10-47-25.m4a  18430\n",
      " CHIFFRE : :  4_Ñent\n"
     ]
    },
    {
     "name": "stderr",
     "output_type": "stream",
     "text": [
      "/home/ibrahimabarry01/anaconda3/lib/python3.8/site-packages/librosa/core/audio.py:162: UserWarning: PySoundFile failed. Trying audioread instead.\n",
      "  warnings.warn(\"PySoundFile failed. Trying audioread instead.\")\n"
     ]
    },
    {
     "name": "stdout",
     "output_type": "stream",
     "text": [
      "35 - name : ./WOLOF_FOR_MEMORY/4_Ñent/AUDIO-2021-05-22-20-50-41.m4a  51715\n"
     ]
    },
    {
     "name": "stderr",
     "output_type": "stream",
     "text": [
      "/home/ibrahimabarry01/anaconda3/lib/python3.8/site-packages/librosa/core/audio.py:162: UserWarning: PySoundFile failed. Trying audioread instead.\n",
      "  warnings.warn(\"PySoundFile failed. Trying audioread instead.\")\n"
     ]
    },
    {
     "name": "stdout",
     "output_type": "stream",
     "text": [
      "36 - name : ./WOLOF_FOR_MEMORY/4_Ñent/AUDIO-2021-05-22-19-26-09.m4a  16246\n"
     ]
    },
    {
     "name": "stderr",
     "output_type": "stream",
     "text": [
      "/home/ibrahimabarry01/anaconda3/lib/python3.8/site-packages/librosa/core/audio.py:162: UserWarning: PySoundFile failed. Trying audioread instead.\n",
      "  warnings.warn(\"PySoundFile failed. Trying audioread instead.\")\n"
     ]
    },
    {
     "name": "stdout",
     "output_type": "stream",
     "text": [
      "37 - name : ./WOLOF_FOR_MEMORY/4_Ñent/AUDIO-2021-05-22-18-03-51.m4a  11097\n"
     ]
    },
    {
     "name": "stderr",
     "output_type": "stream",
     "text": [
      "/home/ibrahimabarry01/anaconda3/lib/python3.8/site-packages/librosa/core/audio.py:162: UserWarning: PySoundFile failed. Trying audioread instead.\n",
      "  warnings.warn(\"PySoundFile failed. Trying audioread instead.\")\n"
     ]
    },
    {
     "name": "stdout",
     "output_type": "stream",
     "text": [
      "38 - name : ./WOLOF_FOR_MEMORY/4_Ñent/AUDIO-2021-05-22-20-04-16.m4a  22129\n"
     ]
    },
    {
     "name": "stderr",
     "output_type": "stream",
     "text": [
      "/home/ibrahimabarry01/anaconda3/lib/python3.8/site-packages/librosa/core/audio.py:162: UserWarning: PySoundFile failed. Trying audioread instead.\n",
      "  warnings.warn(\"PySoundFile failed. Trying audioread instead.\")\n"
     ]
    },
    {
     "name": "stdout",
     "output_type": "stream",
     "text": [
      "39 - name : ./WOLOF_FOR_MEMORY/4_Ñent/AUDIO-2021-05-22-14-04-18.m4a  24744\n"
     ]
    },
    {
     "name": "stderr",
     "output_type": "stream",
     "text": [
      "/home/ibrahimabarry01/anaconda3/lib/python3.8/site-packages/librosa/core/audio.py:162: UserWarning: PySoundFile failed. Trying audioread instead.\n",
      "  warnings.warn(\"PySoundFile failed. Trying audioread instead.\")\n"
     ]
    },
    {
     "name": "stdout",
     "output_type": "stream",
     "text": [
      "40 - name : ./WOLOF_FOR_MEMORY/4_Ñent/AUDIO-2021-05-22-13-27-13.m4a  36830\n"
     ]
    },
    {
     "name": "stderr",
     "output_type": "stream",
     "text": [
      "/home/ibrahimabarry01/anaconda3/lib/python3.8/site-packages/librosa/core/audio.py:162: UserWarning: PySoundFile failed. Trying audioread instead.\n",
      "  warnings.warn(\"PySoundFile failed. Trying audioread instead.\")\n"
     ]
    },
    {
     "name": "stdout",
     "output_type": "stream",
     "text": [
      "41 - name : ./WOLOF_FOR_MEMORY/4_Ñent/AUDIO-2021-05-16-20-16-08.m4a  13219\n"
     ]
    },
    {
     "name": "stderr",
     "output_type": "stream",
     "text": [
      "/home/ibrahimabarry01/anaconda3/lib/python3.8/site-packages/librosa/core/audio.py:162: UserWarning: PySoundFile failed. Trying audioread instead.\n",
      "  warnings.warn(\"PySoundFile failed. Trying audioread instead.\")\n"
     ]
    },
    {
     "name": "stdout",
     "output_type": "stream",
     "text": [
      "42 - name : ./WOLOF_FOR_MEMORY/4_Ñent/AUDIO-2021-05-16-20-26-37.m4a  12703\n"
     ]
    },
    {
     "name": "stderr",
     "output_type": "stream",
     "text": [
      "/home/ibrahimabarry01/anaconda3/lib/python3.8/site-packages/librosa/core/audio.py:162: UserWarning: PySoundFile failed. Trying audioread instead.\n",
      "  warnings.warn(\"PySoundFile failed. Trying audioread instead.\")\n"
     ]
    },
    {
     "name": "stdout",
     "output_type": "stream",
     "text": [
      "43 - name : ./WOLOF_FOR_MEMORY/4_Ñent/AUDIO-2021-05-16-23-21-00.m4a  13677\n"
     ]
    },
    {
     "name": "stderr",
     "output_type": "stream",
     "text": [
      "/home/ibrahimabarry01/anaconda3/lib/python3.8/site-packages/librosa/core/audio.py:162: UserWarning: PySoundFile failed. Trying audioread instead.\n",
      "  warnings.warn(\"PySoundFile failed. Trying audioread instead.\")\n"
     ]
    },
    {
     "name": "stdout",
     "output_type": "stream",
     "text": [
      "44 - name : ./WOLOF_FOR_MEMORY/4_Ñent/AUDIO-2021-05-16-23-50-18.m4a  10041\n"
     ]
    },
    {
     "name": "stderr",
     "output_type": "stream",
     "text": [
      "/home/ibrahimabarry01/anaconda3/lib/python3.8/site-packages/librosa/core/audio.py:162: UserWarning: PySoundFile failed. Trying audioread instead.\n",
      "  warnings.warn(\"PySoundFile failed. Trying audioread instead.\")\n"
     ]
    },
    {
     "name": "stdout",
     "output_type": "stream",
     "text": [
      "45 - name : ./WOLOF_FOR_MEMORY/4_Ñent/AUDIO-2021-05-17-00-06-36.m4a  15797\n"
     ]
    },
    {
     "name": "stderr",
     "output_type": "stream",
     "text": [
      "/home/ibrahimabarry01/anaconda3/lib/python3.8/site-packages/librosa/core/audio.py:162: UserWarning: PySoundFile failed. Trying audioread instead.\n",
      "  warnings.warn(\"PySoundFile failed. Trying audioread instead.\")\n"
     ]
    },
    {
     "name": "stdout",
     "output_type": "stream",
     "text": [
      "46 - name : ./WOLOF_FOR_MEMORY/4_Ñent/AUDIO-2021-05-11-15-20-34.m4a  39794\n"
     ]
    },
    {
     "name": "stderr",
     "output_type": "stream",
     "text": [
      "/home/ibrahimabarry01/anaconda3/lib/python3.8/site-packages/librosa/core/audio.py:162: UserWarning: PySoundFile failed. Trying audioread instead.\n",
      "  warnings.warn(\"PySoundFile failed. Trying audioread instead.\")\n"
     ]
    },
    {
     "name": "stdout",
     "output_type": "stream",
     "text": [
      "47 - name : ./WOLOF_FOR_MEMORY/4_Ñent/AUDIO-2021-05-18-01-10-22.m4a  10406\n"
     ]
    },
    {
     "name": "stderr",
     "output_type": "stream",
     "text": [
      "/home/ibrahimabarry01/anaconda3/lib/python3.8/site-packages/librosa/core/audio.py:162: UserWarning: PySoundFile failed. Trying audioread instead.\n",
      "  warnings.warn(\"PySoundFile failed. Trying audioread instead.\")\n"
     ]
    },
    {
     "name": "stdout",
     "output_type": "stream",
     "text": [
      "48 - name : ./WOLOF_FOR_MEMORY/4_Ñent/AUDIO-2021-05-18-14-34-19.m4a  15533\n"
     ]
    },
    {
     "name": "stderr",
     "output_type": "stream",
     "text": [
      "/home/ibrahimabarry01/anaconda3/lib/python3.8/site-packages/librosa/core/audio.py:162: UserWarning: PySoundFile failed. Trying audioread instead.\n",
      "  warnings.warn(\"PySoundFile failed. Trying audioread instead.\")\n"
     ]
    },
    {
     "name": "stdout",
     "output_type": "stream",
     "text": [
      "49 - name : ./WOLOF_FOR_MEMORY/4_Ñent/AUDIO-2021-05-18-20-40-26.m4a  16848\n"
     ]
    },
    {
     "name": "stderr",
     "output_type": "stream",
     "text": [
      "/home/ibrahimabarry01/anaconda3/lib/python3.8/site-packages/librosa/core/audio.py:162: UserWarning: PySoundFile failed. Trying audioread instead.\n",
      "  warnings.warn(\"PySoundFile failed. Trying audioread instead.\")\n"
     ]
    },
    {
     "name": "stdout",
     "output_type": "stream",
     "text": [
      "50 - name : ./WOLOF_FOR_MEMORY/4_Ñent/AUDIO-2021-05-18-21-52-29.m4a  17383\n"
     ]
    },
    {
     "name": "stderr",
     "output_type": "stream",
     "text": [
      "/home/ibrahimabarry01/anaconda3/lib/python3.8/site-packages/librosa/core/audio.py:162: UserWarning: PySoundFile failed. Trying audioread instead.\n",
      "  warnings.warn(\"PySoundFile failed. Trying audioread instead.\")\n"
     ]
    },
    {
     "name": "stdout",
     "output_type": "stream",
     "text": [
      "51 - name : ./WOLOF_FOR_MEMORY/4_Ñent/AUDIO-2021-05-18-20-59-13.m4a  16659\n"
     ]
    },
    {
     "name": "stderr",
     "output_type": "stream",
     "text": [
      "/home/ibrahimabarry01/anaconda3/lib/python3.8/site-packages/librosa/core/audio.py:162: UserWarning: PySoundFile failed. Trying audioread instead.\n",
      "  warnings.warn(\"PySoundFile failed. Trying audioread instead.\")\n"
     ]
    },
    {
     "name": "stdout",
     "output_type": "stream",
     "text": [
      "52 - name : ./WOLOF_FOR_MEMORY/4_Ñent/AUDIO-2021-05-19-21-39-34.m4a  13053\n"
     ]
    },
    {
     "name": "stderr",
     "output_type": "stream",
     "text": [
      "/home/ibrahimabarry01/anaconda3/lib/python3.8/site-packages/librosa/core/audio.py:162: UserWarning: PySoundFile failed. Trying audioread instead.\n",
      "  warnings.warn(\"PySoundFile failed. Trying audioread instead.\")\n"
     ]
    },
    {
     "name": "stdout",
     "output_type": "stream",
     "text": [
      "53 - name : ./WOLOF_FOR_MEMORY/4_Ñent/AUDIO-2021-05-19-22-00-38.m4a  13914\n"
     ]
    },
    {
     "name": "stderr",
     "output_type": "stream",
     "text": [
      "/home/ibrahimabarry01/anaconda3/lib/python3.8/site-packages/librosa/core/audio.py:162: UserWarning: PySoundFile failed. Trying audioread instead.\n",
      "  warnings.warn(\"PySoundFile failed. Trying audioread instead.\")\n"
     ]
    },
    {
     "name": "stdout",
     "output_type": "stream",
     "text": [
      "54 - name : ./WOLOF_FOR_MEMORY/4_Ñent/AUDIO-2021-05-20-17-49-00.m4a  9384\n"
     ]
    },
    {
     "name": "stderr",
     "output_type": "stream",
     "text": [
      "/home/ibrahimabarry01/anaconda3/lib/python3.8/site-packages/librosa/core/audio.py:162: UserWarning: PySoundFile failed. Trying audioread instead.\n",
      "  warnings.warn(\"PySoundFile failed. Trying audioread instead.\")\n"
     ]
    },
    {
     "name": "stdout",
     "output_type": "stream",
     "text": [
      "55 - name : ./WOLOF_FOR_MEMORY/4_Ñent/AUDIO-2021-05-16-23-16-29.m4a  13918\n"
     ]
    },
    {
     "name": "stderr",
     "output_type": "stream",
     "text": [
      "/home/ibrahimabarry01/anaconda3/lib/python3.8/site-packages/librosa/core/audio.py:162: UserWarning: PySoundFile failed. Trying audioread instead.\n",
      "  warnings.warn(\"PySoundFile failed. Trying audioread instead.\")\n"
     ]
    },
    {
     "name": "stdout",
     "output_type": "stream",
     "text": [
      "56 - name : ./WOLOF_FOR_MEMORY/4_Ñent/AUDIO-2021-05-20-21-03-14_1.m4a  10478\n"
     ]
    },
    {
     "name": "stderr",
     "output_type": "stream",
     "text": [
      "/home/ibrahimabarry01/anaconda3/lib/python3.8/site-packages/librosa/core/audio.py:162: UserWarning: PySoundFile failed. Trying audioread instead.\n",
      "  warnings.warn(\"PySoundFile failed. Trying audioread instead.\")\n"
     ]
    },
    {
     "name": "stdout",
     "output_type": "stream",
     "text": [
      "57 - name : ./WOLOF_FOR_MEMORY/4_Ñent/AUDIO-2021-05-21-00-25-08.m4a  16999\n"
     ]
    },
    {
     "name": "stderr",
     "output_type": "stream",
     "text": [
      "/home/ibrahimabarry01/anaconda3/lib/python3.8/site-packages/librosa/core/audio.py:162: UserWarning: PySoundFile failed. Trying audioread instead.\n",
      "  warnings.warn(\"PySoundFile failed. Trying audioread instead.\")\n"
     ]
    },
    {
     "name": "stdout",
     "output_type": "stream",
     "text": [
      "58 - name : ./WOLOF_FOR_MEMORY/4_Ñent/AUDIO-2021-05-21-00-12-34.m4a  15669\n"
     ]
    },
    {
     "name": "stderr",
     "output_type": "stream",
     "text": [
      "/home/ibrahimabarry01/anaconda3/lib/python3.8/site-packages/librosa/core/audio.py:162: UserWarning: PySoundFile failed. Trying audioread instead.\n",
      "  warnings.warn(\"PySoundFile failed. Trying audioread instead.\")\n"
     ]
    },
    {
     "name": "stdout",
     "output_type": "stream",
     "text": [
      "59 - name : ./WOLOF_FOR_MEMORY/4_Ñent/AUDIO-2021-05-20-23-56-32.m4a  19199\n"
     ]
    },
    {
     "name": "stderr",
     "output_type": "stream",
     "text": [
      "/home/ibrahimabarry01/anaconda3/lib/python3.8/site-packages/librosa/core/audio.py:162: UserWarning: PySoundFile failed. Trying audioread instead.\n",
      "  warnings.warn(\"PySoundFile failed. Trying audioread instead.\")\n"
     ]
    },
    {
     "name": "stdout",
     "output_type": "stream",
     "text": [
      "60 - name : ./WOLOF_FOR_MEMORY/4_Ñent/AUDIO-2021-05-20-19-51-31.m4a  12168\n"
     ]
    },
    {
     "name": "stderr",
     "output_type": "stream",
     "text": [
      "/home/ibrahimabarry01/anaconda3/lib/python3.8/site-packages/librosa/core/audio.py:162: UserWarning: PySoundFile failed. Trying audioread instead.\n",
      "  warnings.warn(\"PySoundFile failed. Trying audioread instead.\")\n"
     ]
    },
    {
     "name": "stdout",
     "output_type": "stream",
     "text": [
      "61 - name : ./WOLOF_FOR_MEMORY/4_Ñent/AUDIO-2021-05-21-01-02-18.m4a  13535\n"
     ]
    },
    {
     "name": "stderr",
     "output_type": "stream",
     "text": [
      "/home/ibrahimabarry01/anaconda3/lib/python3.8/site-packages/librosa/core/audio.py:162: UserWarning: PySoundFile failed. Trying audioread instead.\n",
      "  warnings.warn(\"PySoundFile failed. Trying audioread instead.\")\n"
     ]
    },
    {
     "name": "stdout",
     "output_type": "stream",
     "text": [
      "62 - name : ./WOLOF_FOR_MEMORY/4_Ñent/AUDIO-2021-05-20-21-27-51.m4a  14678\n"
     ]
    },
    {
     "name": "stderr",
     "output_type": "stream",
     "text": [
      "/home/ibrahimabarry01/anaconda3/lib/python3.8/site-packages/librosa/core/audio.py:162: UserWarning: PySoundFile failed. Trying audioread instead.\n",
      "  warnings.warn(\"PySoundFile failed. Trying audioread instead.\")\n"
     ]
    },
    {
     "name": "stdout",
     "output_type": "stream",
     "text": [
      "63 - name : ./WOLOF_FOR_MEMORY/4_Ñent/AUDIO-2021-05-21-19-33-31_1.m4a  56899\n"
     ]
    },
    {
     "name": "stderr",
     "output_type": "stream",
     "text": [
      "/home/ibrahimabarry01/anaconda3/lib/python3.8/site-packages/librosa/core/audio.py:162: UserWarning: PySoundFile failed. Trying audioread instead.\n",
      "  warnings.warn(\"PySoundFile failed. Trying audioread instead.\")\n"
     ]
    },
    {
     "name": "stdout",
     "output_type": "stream",
     "text": [
      "64 - name : ./WOLOF_FOR_MEMORY/4_Ñent/AUDIO-2021-05-21-21-37-43.m4a  11838\n"
     ]
    },
    {
     "name": "stderr",
     "output_type": "stream",
     "text": [
      "/home/ibrahimabarry01/anaconda3/lib/python3.8/site-packages/librosa/core/audio.py:162: UserWarning: PySoundFile failed. Trying audioread instead.\n",
      "  warnings.warn(\"PySoundFile failed. Trying audioread instead.\")\n"
     ]
    },
    {
     "name": "stdout",
     "output_type": "stream",
     "text": [
      "65 - name : ./WOLOF_FOR_MEMORY/4_Ñent/AUDIO-2021-05-20-17-35-49.m4a  14485\n"
     ]
    },
    {
     "name": "stderr",
     "output_type": "stream",
     "text": [
      "/home/ibrahimabarry01/anaconda3/lib/python3.8/site-packages/librosa/core/audio.py:162: UserWarning: PySoundFile failed. Trying audioread instead.\n",
      "  warnings.warn(\"PySoundFile failed. Trying audioread instead.\")\n"
     ]
    },
    {
     "name": "stdout",
     "output_type": "stream",
     "text": [
      "66 - name : ./WOLOF_FOR_MEMORY/4_Ñent/AUDIO-2021-05-16-23-31-21.m4a  14972\n"
     ]
    },
    {
     "name": "stderr",
     "output_type": "stream",
     "text": [
      "/home/ibrahimabarry01/anaconda3/lib/python3.8/site-packages/librosa/core/audio.py:162: UserWarning: PySoundFile failed. Trying audioread instead.\n",
      "  warnings.warn(\"PySoundFile failed. Trying audioread instead.\")\n"
     ]
    },
    {
     "name": "stdout",
     "output_type": "stream",
     "text": [
      "67 - name : ./WOLOF_FOR_MEMORY/4_Ñent/AUDIO-2021-05-22-10-47-10.m4a  14467\n",
      " CHIFFRE : :  10_Fukk\n"
     ]
    },
    {
     "name": "stderr",
     "output_type": "stream",
     "text": [
      "/home/ibrahimabarry01/anaconda3/lib/python3.8/site-packages/librosa/core/audio.py:162: UserWarning: PySoundFile failed. Trying audioread instead.\n",
      "  warnings.warn(\"PySoundFile failed. Trying audioread instead.\")\n"
     ]
    },
    {
     "name": "stdout",
     "output_type": "stream",
     "text": [
      "68 - name : ./WOLOF_FOR_MEMORY/10_Fukk/AUDIO-2021-05-22-20-52-02.m4a  47011\n"
     ]
    },
    {
     "name": "stderr",
     "output_type": "stream",
     "text": [
      "/home/ibrahimabarry01/anaconda3/lib/python3.8/site-packages/librosa/core/audio.py:162: UserWarning: PySoundFile failed. Trying audioread instead.\n",
      "  warnings.warn(\"PySoundFile failed. Trying audioread instead.\")\n"
     ]
    },
    {
     "name": "stdout",
     "output_type": "stream",
     "text": [
      "69 - name : ./WOLOF_FOR_MEMORY/10_Fukk/AUDIO-2021-05-22-19-26-31.m4a  8404\n"
     ]
    },
    {
     "name": "stderr",
     "output_type": "stream",
     "text": [
      "/home/ibrahimabarry01/anaconda3/lib/python3.8/site-packages/librosa/core/audio.py:162: UserWarning: PySoundFile failed. Trying audioread instead.\n",
      "  warnings.warn(\"PySoundFile failed. Trying audioread instead.\")\n"
     ]
    },
    {
     "name": "stdout",
     "output_type": "stream",
     "text": [
      "70 - name : ./WOLOF_FOR_MEMORY/10_Fukk/AUDIO-2021-05-22-18-04-15.m4a  6731\n"
     ]
    },
    {
     "name": "stderr",
     "output_type": "stream",
     "text": [
      "/home/ibrahimabarry01/anaconda3/lib/python3.8/site-packages/librosa/core/audio.py:162: UserWarning: PySoundFile failed. Trying audioread instead.\n",
      "  warnings.warn(\"PySoundFile failed. Trying audioread instead.\")\n"
     ]
    },
    {
     "name": "stdout",
     "output_type": "stream",
     "text": [
      "71 - name : ./WOLOF_FOR_MEMORY/10_Fukk/AUDIO-2021-05-22-20-04-47.m4a  8239\n"
     ]
    },
    {
     "name": "stderr",
     "output_type": "stream",
     "text": [
      "/home/ibrahimabarry01/anaconda3/lib/python3.8/site-packages/librosa/core/audio.py:162: UserWarning: PySoundFile failed. Trying audioread instead.\n",
      "  warnings.warn(\"PySoundFile failed. Trying audioread instead.\")\n"
     ]
    },
    {
     "name": "stdout",
     "output_type": "stream",
     "text": [
      "72 - name : ./WOLOF_FOR_MEMORY/10_Fukk/AUDIO-2021-05-22-14-04-50.m4a  16460\n"
     ]
    },
    {
     "name": "stderr",
     "output_type": "stream",
     "text": [
      "/home/ibrahimabarry01/anaconda3/lib/python3.8/site-packages/librosa/core/audio.py:162: UserWarning: PySoundFile failed. Trying audioread instead.\n",
      "  warnings.warn(\"PySoundFile failed. Trying audioread instead.\")\n"
     ]
    },
    {
     "name": "stdout",
     "output_type": "stream",
     "text": [
      "73 - name : ./WOLOF_FOR_MEMORY/10_Fukk/AUDIO-2021-05-22-13-28-07.m4a  29327\n"
     ]
    },
    {
     "name": "stderr",
     "output_type": "stream",
     "text": [
      "/home/ibrahimabarry01/anaconda3/lib/python3.8/site-packages/librosa/core/audio.py:162: UserWarning: PySoundFile failed. Trying audioread instead.\n",
      "  warnings.warn(\"PySoundFile failed. Trying audioread instead.\")\n"
     ]
    },
    {
     "name": "stdout",
     "output_type": "stream",
     "text": [
      "74 - name : ./WOLOF_FOR_MEMORY/10_Fukk/AUDIO-2021-05-16-20-17-24.m4a  7420\n"
     ]
    },
    {
     "name": "stderr",
     "output_type": "stream",
     "text": [
      "/home/ibrahimabarry01/anaconda3/lib/python3.8/site-packages/librosa/core/audio.py:162: UserWarning: PySoundFile failed. Trying audioread instead.\n",
      "  warnings.warn(\"PySoundFile failed. Trying audioread instead.\")\n"
     ]
    },
    {
     "name": "stdout",
     "output_type": "stream",
     "text": [
      "75 - name : ./WOLOF_FOR_MEMORY/10_Fukk/AUDIO-2021-05-16-20-28-42.m4a  9734\n"
     ]
    },
    {
     "name": "stderr",
     "output_type": "stream",
     "text": [
      "/home/ibrahimabarry01/anaconda3/lib/python3.8/site-packages/librosa/core/audio.py:162: UserWarning: PySoundFile failed. Trying audioread instead.\n",
      "  warnings.warn(\"PySoundFile failed. Trying audioread instead.\")\n"
     ]
    },
    {
     "name": "stdout",
     "output_type": "stream",
     "text": [
      "76 - name : ./WOLOF_FOR_MEMORY/10_Fukk/AUDIO-2021-05-16-23-21-33.m4a  12371\n"
     ]
    },
    {
     "name": "stderr",
     "output_type": "stream",
     "text": [
      "/home/ibrahimabarry01/anaconda3/lib/python3.8/site-packages/librosa/core/audio.py:162: UserWarning: PySoundFile failed. Trying audioread instead.\n",
      "  warnings.warn(\"PySoundFile failed. Trying audioread instead.\")\n"
     ]
    },
    {
     "name": "stdout",
     "output_type": "stream",
     "text": [
      "77 - name : ./WOLOF_FOR_MEMORY/10_Fukk/AUDIO-2021-05-16-23-52-36.m4a  7749\n"
     ]
    },
    {
     "name": "stderr",
     "output_type": "stream",
     "text": [
      "/home/ibrahimabarry01/anaconda3/lib/python3.8/site-packages/librosa/core/audio.py:162: UserWarning: PySoundFile failed. Trying audioread instead.\n",
      "  warnings.warn(\"PySoundFile failed. Trying audioread instead.\")\n"
     ]
    },
    {
     "name": "stdout",
     "output_type": "stream",
     "text": [
      "78 - name : ./WOLOF_FOR_MEMORY/10_Fukk/AUDIO-2021-05-17-00-07-02.m4a  11935\n"
     ]
    },
    {
     "name": "stderr",
     "output_type": "stream",
     "text": [
      "/home/ibrahimabarry01/anaconda3/lib/python3.8/site-packages/librosa/core/audio.py:162: UserWarning: PySoundFile failed. Trying audioread instead.\n",
      "  warnings.warn(\"PySoundFile failed. Trying audioread instead.\")\n"
     ]
    },
    {
     "name": "stdout",
     "output_type": "stream",
     "text": [
      "79 - name : ./WOLOF_FOR_MEMORY/10_Fukk/AUDIO-2021-05-18-01-10-24.m4a  9454\n"
     ]
    },
    {
     "name": "stderr",
     "output_type": "stream",
     "text": [
      "/home/ibrahimabarry01/anaconda3/lib/python3.8/site-packages/librosa/core/audio.py:162: UserWarning: PySoundFile failed. Trying audioread instead.\n",
      "  warnings.warn(\"PySoundFile failed. Trying audioread instead.\")\n"
     ]
    },
    {
     "name": "stdout",
     "output_type": "stream",
     "text": [
      "80 - name : ./WOLOF_FOR_MEMORY/10_Fukk/AUDIO-2021-05-18-14-34-48.m4a  8134\n"
     ]
    },
    {
     "name": "stderr",
     "output_type": "stream",
     "text": [
      "/home/ibrahimabarry01/anaconda3/lib/python3.8/site-packages/librosa/core/audio.py:162: UserWarning: PySoundFile failed. Trying audioread instead.\n",
      "  warnings.warn(\"PySoundFile failed. Trying audioread instead.\")\n"
     ]
    },
    {
     "name": "stdout",
     "output_type": "stream",
     "text": [
      "81 - name : ./WOLOF_FOR_MEMORY/10_Fukk/AUDIO-2021-05-18-19-55-57.m4a  7374\n"
     ]
    },
    {
     "name": "stderr",
     "output_type": "stream",
     "text": [
      "/home/ibrahimabarry01/anaconda3/lib/python3.8/site-packages/librosa/core/audio.py:162: UserWarning: PySoundFile failed. Trying audioread instead.\n",
      "  warnings.warn(\"PySoundFile failed. Trying audioread instead.\")\n"
     ]
    },
    {
     "name": "stdout",
     "output_type": "stream",
     "text": [
      "82 - name : ./WOLOF_FOR_MEMORY/10_Fukk/AUDIO-2021-05-18-21-52-58.m4a  19459\n"
     ]
    },
    {
     "name": "stderr",
     "output_type": "stream",
     "text": [
      "/home/ibrahimabarry01/anaconda3/lib/python3.8/site-packages/librosa/core/audio.py:162: UserWarning: PySoundFile failed. Trying audioread instead.\n",
      "  warnings.warn(\"PySoundFile failed. Trying audioread instead.\")\n"
     ]
    },
    {
     "name": "stdout",
     "output_type": "stream",
     "text": [
      "83 - name : ./WOLOF_FOR_MEMORY/10_Fukk/AUDIO-2021-05-18-20-59-14_3.m4a  6177\n"
     ]
    },
    {
     "name": "stderr",
     "output_type": "stream",
     "text": [
      "/home/ibrahimabarry01/anaconda3/lib/python3.8/site-packages/librosa/core/audio.py:162: UserWarning: PySoundFile failed. Trying audioread instead.\n",
      "  warnings.warn(\"PySoundFile failed. Trying audioread instead.\")\n"
     ]
    },
    {
     "name": "stdout",
     "output_type": "stream",
     "text": [
      "84 - name : ./WOLOF_FOR_MEMORY/10_Fukk/AUDIO-2021-05-19-21-40-45.m4a  16413\n"
     ]
    },
    {
     "name": "stderr",
     "output_type": "stream",
     "text": [
      "/home/ibrahimabarry01/anaconda3/lib/python3.8/site-packages/librosa/core/audio.py:162: UserWarning: PySoundFile failed. Trying audioread instead.\n",
      "  warnings.warn(\"PySoundFile failed. Trying audioread instead.\")\n"
     ]
    },
    {
     "name": "stdout",
     "output_type": "stream",
     "text": [
      "85 - name : ./WOLOF_FOR_MEMORY/10_Fukk/AUDIO-2021-05-19-22-01-42.m4a  17807\n"
     ]
    },
    {
     "name": "stderr",
     "output_type": "stream",
     "text": [
      "/home/ibrahimabarry01/anaconda3/lib/python3.8/site-packages/librosa/core/audio.py:162: UserWarning: PySoundFile failed. Trying audioread instead.\n",
      "  warnings.warn(\"PySoundFile failed. Trying audioread instead.\")\n"
     ]
    },
    {
     "name": "stdout",
     "output_type": "stream",
     "text": [
      "86 - name : ./WOLOF_FOR_MEMORY/10_Fukk/AUDIO-2021-05-20-17-49-37.m4a  4712\n"
     ]
    },
    {
     "name": "stderr",
     "output_type": "stream",
     "text": [
      "/home/ibrahimabarry01/anaconda3/lib/python3.8/site-packages/librosa/core/audio.py:162: UserWarning: PySoundFile failed. Trying audioread instead.\n",
      "  warnings.warn(\"PySoundFile failed. Trying audioread instead.\")\n"
     ]
    },
    {
     "name": "stdout",
     "output_type": "stream",
     "text": [
      "87 - name : ./WOLOF_FOR_MEMORY/10_Fukk/AUDIO-2021-05-20-18-01-11.m4a  17591\n"
     ]
    },
    {
     "name": "stderr",
     "output_type": "stream",
     "text": [
      "/home/ibrahimabarry01/anaconda3/lib/python3.8/site-packages/librosa/core/audio.py:162: UserWarning: PySoundFile failed. Trying audioread instead.\n",
      "  warnings.warn(\"PySoundFile failed. Trying audioread instead.\")\n"
     ]
    },
    {
     "name": "stdout",
     "output_type": "stream",
     "text": [
      "88 - name : ./WOLOF_FOR_MEMORY/10_Fukk/AUDIO-2021-05-16-23-16-50.m4a  14553\n"
     ]
    },
    {
     "name": "stderr",
     "output_type": "stream",
     "text": [
      "/home/ibrahimabarry01/anaconda3/lib/python3.8/site-packages/librosa/core/audio.py:162: UserWarning: PySoundFile failed. Trying audioread instead.\n",
      "  warnings.warn(\"PySoundFile failed. Trying audioread instead.\")\n"
     ]
    },
    {
     "name": "stdout",
     "output_type": "stream",
     "text": [
      "89 - name : ./WOLOF_FOR_MEMORY/10_Fukk/AUDIO-2021-05-20-16-13-28.m4a  8024\n"
     ]
    },
    {
     "name": "stderr",
     "output_type": "stream",
     "text": [
      "/home/ibrahimabarry01/anaconda3/lib/python3.8/site-packages/librosa/core/audio.py:162: UserWarning: PySoundFile failed. Trying audioread instead.\n",
      "  warnings.warn(\"PySoundFile failed. Trying audioread instead.\")\n"
     ]
    },
    {
     "name": "stdout",
     "output_type": "stream",
     "text": [
      "90 - name : ./WOLOF_FOR_MEMORY/10_Fukk/AUDIO-2021-05-20-21-03-31.m4a  8781\n"
     ]
    },
    {
     "name": "stderr",
     "output_type": "stream",
     "text": [
      "/home/ibrahimabarry01/anaconda3/lib/python3.8/site-packages/librosa/core/audio.py:162: UserWarning: PySoundFile failed. Trying audioread instead.\n",
      "  warnings.warn(\"PySoundFile failed. Trying audioread instead.\")\n"
     ]
    },
    {
     "name": "stdout",
     "output_type": "stream",
     "text": [
      "91 - name : ./WOLOF_FOR_MEMORY/10_Fukk/AUDIO-2021-05-21-00-26-19.m4a  8438\n"
     ]
    },
    {
     "name": "stderr",
     "output_type": "stream",
     "text": [
      "/home/ibrahimabarry01/anaconda3/lib/python3.8/site-packages/librosa/core/audio.py:162: UserWarning: PySoundFile failed. Trying audioread instead.\n",
      "  warnings.warn(\"PySoundFile failed. Trying audioread instead.\")\n"
     ]
    },
    {
     "name": "stdout",
     "output_type": "stream",
     "text": [
      "92 - name : ./WOLOF_FOR_MEMORY/10_Fukk/AUDIO-2021-05-21-00-13-25.m4a  7413\n"
     ]
    },
    {
     "name": "stderr",
     "output_type": "stream",
     "text": [
      "/home/ibrahimabarry01/anaconda3/lib/python3.8/site-packages/librosa/core/audio.py:162: UserWarning: PySoundFile failed. Trying audioread instead.\n",
      "  warnings.warn(\"PySoundFile failed. Trying audioread instead.\")\n"
     ]
    },
    {
     "name": "stdout",
     "output_type": "stream",
     "text": [
      "93 - name : ./WOLOF_FOR_MEMORY/10_Fukk/AUDIO-2021-05-21-00-51-31.m4a  10007\n"
     ]
    },
    {
     "name": "stderr",
     "output_type": "stream",
     "text": [
      "/home/ibrahimabarry01/anaconda3/lib/python3.8/site-packages/librosa/core/audio.py:162: UserWarning: PySoundFile failed. Trying audioread instead.\n",
      "  warnings.warn(\"PySoundFile failed. Trying audioread instead.\")\n"
     ]
    },
    {
     "name": "stdout",
     "output_type": "stream",
     "text": [
      "94 - name : ./WOLOF_FOR_MEMORY/10_Fukk/AUDIO-2021-05-20-23-58-14.m4a  13351\n"
     ]
    },
    {
     "name": "stderr",
     "output_type": "stream",
     "text": [
      "/home/ibrahimabarry01/anaconda3/lib/python3.8/site-packages/librosa/core/audio.py:162: UserWarning: PySoundFile failed. Trying audioread instead.\n",
      "  warnings.warn(\"PySoundFile failed. Trying audioread instead.\")\n"
     ]
    },
    {
     "name": "stdout",
     "output_type": "stream",
     "text": [
      "95 - name : ./WOLOF_FOR_MEMORY/10_Fukk/AUDIO-2021-05-20-19-52-31.m4a  11087\n"
     ]
    },
    {
     "name": "stderr",
     "output_type": "stream",
     "text": [
      "/home/ibrahimabarry01/anaconda3/lib/python3.8/site-packages/librosa/core/audio.py:162: UserWarning: PySoundFile failed. Trying audioread instead.\n",
      "  warnings.warn(\"PySoundFile failed. Trying audioread instead.\")\n"
     ]
    },
    {
     "name": "stdout",
     "output_type": "stream",
     "text": [
      "96 - name : ./WOLOF_FOR_MEMORY/10_Fukk/AUDIO-2021-05-21-01-03-29.m4a  10169\n"
     ]
    },
    {
     "name": "stderr",
     "output_type": "stream",
     "text": [
      "/home/ibrahimabarry01/anaconda3/lib/python3.8/site-packages/librosa/core/audio.py:162: UserWarning: PySoundFile failed. Trying audioread instead.\n",
      "  warnings.warn(\"PySoundFile failed. Trying audioread instead.\")\n"
     ]
    },
    {
     "name": "stdout",
     "output_type": "stream",
     "text": [
      "97 - name : ./WOLOF_FOR_MEMORY/10_Fukk/AUDIO-2021-05-20-21-28-34.m4a  9675\n"
     ]
    },
    {
     "name": "stderr",
     "output_type": "stream",
     "text": [
      "/home/ibrahimabarry01/anaconda3/lib/python3.8/site-packages/librosa/core/audio.py:162: UserWarning: PySoundFile failed. Trying audioread instead.\n",
      "  warnings.warn(\"PySoundFile failed. Trying audioread instead.\")\n"
     ]
    },
    {
     "name": "stdout",
     "output_type": "stream",
     "text": [
      "98 - name : ./WOLOF_FOR_MEMORY/10_Fukk/AUDIO-2021-05-21-19-33-34_1.m4a  26681\n"
     ]
    },
    {
     "name": "stderr",
     "output_type": "stream",
     "text": [
      "/home/ibrahimabarry01/anaconda3/lib/python3.8/site-packages/librosa/core/audio.py:162: UserWarning: PySoundFile failed. Trying audioread instead.\n",
      "  warnings.warn(\"PySoundFile failed. Trying audioread instead.\")\n"
     ]
    },
    {
     "name": "stdout",
     "output_type": "stream",
     "text": [
      "99 - name : ./WOLOF_FOR_MEMORY/10_Fukk/AUDIO-2021-05-21-21-39-28.m4a  13570\n"
     ]
    },
    {
     "name": "stderr",
     "output_type": "stream",
     "text": [
      "/home/ibrahimabarry01/anaconda3/lib/python3.8/site-packages/librosa/core/audio.py:162: UserWarning: PySoundFile failed. Trying audioread instead.\n",
      "  warnings.warn(\"PySoundFile failed. Trying audioread instead.\")\n"
     ]
    },
    {
     "name": "stdout",
     "output_type": "stream",
     "text": [
      "100 - name : ./WOLOF_FOR_MEMORY/10_Fukk/AUDIO-2021-05-20-17-40-45.m4a  40639\n"
     ]
    },
    {
     "name": "stderr",
     "output_type": "stream",
     "text": [
      "/home/ibrahimabarry01/anaconda3/lib/python3.8/site-packages/librosa/core/audio.py:162: UserWarning: PySoundFile failed. Trying audioread instead.\n",
      "  warnings.warn(\"PySoundFile failed. Trying audioread instead.\")\n"
     ]
    },
    {
     "name": "stdout",
     "output_type": "stream",
     "text": [
      "101 - name : ./WOLOF_FOR_MEMORY/10_Fukk/AUDIO-2021-05-16-23-32-29.m4a  13622\n"
     ]
    },
    {
     "name": "stderr",
     "output_type": "stream",
     "text": [
      "/home/ibrahimabarry01/anaconda3/lib/python3.8/site-packages/librosa/core/audio.py:162: UserWarning: PySoundFile failed. Trying audioread instead.\n",
      "  warnings.warn(\"PySoundFile failed. Trying audioread instead.\")\n"
     ]
    },
    {
     "name": "stdout",
     "output_type": "stream",
     "text": [
      "102 - name : ./WOLOF_FOR_MEMORY/10_Fukk/AUDIO-2021-05-22-10-47-35.m4a  9327\n",
      " CHIFFRE : :  6_Juróom-Benn\n"
     ]
    },
    {
     "name": "stderr",
     "output_type": "stream",
     "text": [
      "/home/ibrahimabarry01/anaconda3/lib/python3.8/site-packages/librosa/core/audio.py:162: UserWarning: PySoundFile failed. Trying audioread instead.\n",
      "  warnings.warn(\"PySoundFile failed. Trying audioread instead.\")\n"
     ]
    },
    {
     "name": "stdout",
     "output_type": "stream",
     "text": [
      "103 - name : ./WOLOF_FOR_MEMORY/6_Juróom-Benn/AUDIO-2021-05-22-20-51-04.m4a  53417\n"
     ]
    },
    {
     "name": "stderr",
     "output_type": "stream",
     "text": [
      "/home/ibrahimabarry01/anaconda3/lib/python3.8/site-packages/librosa/core/audio.py:162: UserWarning: PySoundFile failed. Trying audioread instead.\n",
      "  warnings.warn(\"PySoundFile failed. Trying audioread instead.\")\n"
     ]
    },
    {
     "name": "stdout",
     "output_type": "stream",
     "text": [
      "104 - name : ./WOLOF_FOR_MEMORY/6_Juróom-Benn/AUDIO-2021-05-22-19-26-16.m4a  20762\n"
     ]
    },
    {
     "name": "stderr",
     "output_type": "stream",
     "text": [
      "/home/ibrahimabarry01/anaconda3/lib/python3.8/site-packages/librosa/core/audio.py:162: UserWarning: PySoundFile failed. Trying audioread instead.\n",
      "  warnings.warn(\"PySoundFile failed. Trying audioread instead.\")\n"
     ]
    },
    {
     "name": "stdout",
     "output_type": "stream",
     "text": [
      "105 - name : ./WOLOF_FOR_MEMORY/6_Juróom-Benn/AUDIO-2021-05-22-18-04-00.m4a  16788\n"
     ]
    },
    {
     "name": "stderr",
     "output_type": "stream",
     "text": [
      "/home/ibrahimabarry01/anaconda3/lib/python3.8/site-packages/librosa/core/audio.py:162: UserWarning: PySoundFile failed. Trying audioread instead.\n",
      "  warnings.warn(\"PySoundFile failed. Trying audioread instead.\")\n"
     ]
    },
    {
     "name": "stdout",
     "output_type": "stream",
     "text": [
      "106 - name : ./WOLOF_FOR_MEMORY/6_Juróom-Benn/AUDIO-2021-05-22-20-04-25.m4a  24707\n"
     ]
    },
    {
     "name": "stderr",
     "output_type": "stream",
     "text": [
      "/home/ibrahimabarry01/anaconda3/lib/python3.8/site-packages/librosa/core/audio.py:162: UserWarning: PySoundFile failed. Trying audioread instead.\n",
      "  warnings.warn(\"PySoundFile failed. Trying audioread instead.\")\n"
     ]
    },
    {
     "name": "stdout",
     "output_type": "stream",
     "text": [
      "107 - name : ./WOLOF_FOR_MEMORY/6_Juróom-Benn/AUDIO-2021-05-22-14-04-30.m4a  37164\n"
     ]
    },
    {
     "name": "stderr",
     "output_type": "stream",
     "text": [
      "/home/ibrahimabarry01/anaconda3/lib/python3.8/site-packages/librosa/core/audio.py:162: UserWarning: PySoundFile failed. Trying audioread instead.\n",
      "  warnings.warn(\"PySoundFile failed. Trying audioread instead.\")\n"
     ]
    },
    {
     "name": "stdout",
     "output_type": "stream",
     "text": [
      "108 - name : ./WOLOF_FOR_MEMORY/6_Juróom-Benn/AUDIO-2021-05-22-13-27-31.m4a  36323\n"
     ]
    },
    {
     "name": "stderr",
     "output_type": "stream",
     "text": [
      "/home/ibrahimabarry01/anaconda3/lib/python3.8/site-packages/librosa/core/audio.py:162: UserWarning: PySoundFile failed. Trying audioread instead.\n",
      "  warnings.warn(\"PySoundFile failed. Trying audioread instead.\")\n"
     ]
    },
    {
     "name": "stdout",
     "output_type": "stream",
     "text": [
      "109 - name : ./WOLOF_FOR_MEMORY/6_Juróom-Benn/AUDIO-2021-05-16-20-16-57.m4a  22412\n"
     ]
    },
    {
     "name": "stderr",
     "output_type": "stream",
     "text": [
      "/home/ibrahimabarry01/anaconda3/lib/python3.8/site-packages/librosa/core/audio.py:162: UserWarning: PySoundFile failed. Trying audioread instead.\n",
      "  warnings.warn(\"PySoundFile failed. Trying audioread instead.\")\n"
     ]
    },
    {
     "name": "stdout",
     "output_type": "stream",
     "text": [
      "110 - name : ./WOLOF_FOR_MEMORY/6_Juróom-Benn/AUDIO-2021-05-16-20-27-52.m4a  22625\n"
     ]
    },
    {
     "name": "stderr",
     "output_type": "stream",
     "text": [
      "/home/ibrahimabarry01/anaconda3/lib/python3.8/site-packages/librosa/core/audio.py:162: UserWarning: PySoundFile failed. Trying audioread instead.\n",
      "  warnings.warn(\"PySoundFile failed. Trying audioread instead.\")\n"
     ]
    },
    {
     "name": "stdout",
     "output_type": "stream",
     "text": [
      "111 - name : ./WOLOF_FOR_MEMORY/6_Juróom-Benn/AUDIO-2021-05-16-23-21-11.m4a  16383\n"
     ]
    },
    {
     "name": "stderr",
     "output_type": "stream",
     "text": [
      "/home/ibrahimabarry01/anaconda3/lib/python3.8/site-packages/librosa/core/audio.py:162: UserWarning: PySoundFile failed. Trying audioread instead.\n",
      "  warnings.warn(\"PySoundFile failed. Trying audioread instead.\")\n"
     ]
    },
    {
     "name": "stdout",
     "output_type": "stream",
     "text": [
      "112 - name : ./WOLOF_FOR_MEMORY/6_Juróom-Benn/AUDIO-2021-05-16-23-51-36.m4a  17069\n"
     ]
    },
    {
     "name": "stderr",
     "output_type": "stream",
     "text": [
      "/home/ibrahimabarry01/anaconda3/lib/python3.8/site-packages/librosa/core/audio.py:162: UserWarning: PySoundFile failed. Trying audioread instead.\n",
      "  warnings.warn(\"PySoundFile failed. Trying audioread instead.\")\n"
     ]
    },
    {
     "name": "stdout",
     "output_type": "stream",
     "text": [
      "113 - name : ./WOLOF_FOR_MEMORY/6_Juróom-Benn/AUDIO-2021-05-17-00-06-47.m4a  20308\n"
     ]
    },
    {
     "name": "stderr",
     "output_type": "stream",
     "text": [
      "/home/ibrahimabarry01/anaconda3/lib/python3.8/site-packages/librosa/core/audio.py:162: UserWarning: PySoundFile failed. Trying audioread instead.\n",
      "  warnings.warn(\"PySoundFile failed. Trying audioread instead.\")\n"
     ]
    },
    {
     "name": "stdout",
     "output_type": "stream",
     "text": [
      "114 - name : ./WOLOF_FOR_MEMORY/6_Juróom-Benn/AUDIO-2021-05-11-15-21-30.m4a  20343\n"
     ]
    },
    {
     "name": "stderr",
     "output_type": "stream",
     "text": [
      "/home/ibrahimabarry01/anaconda3/lib/python3.8/site-packages/librosa/core/audio.py:162: UserWarning: PySoundFile failed. Trying audioread instead.\n",
      "  warnings.warn(\"PySoundFile failed. Trying audioread instead.\")\n"
     ]
    },
    {
     "name": "stdout",
     "output_type": "stream",
     "text": [
      "115 - name : ./WOLOF_FOR_MEMORY/6_Juróom-Benn/AUDIO-2021-05-18-01-10-18.m4a  19824\n"
     ]
    },
    {
     "name": "stderr",
     "output_type": "stream",
     "text": [
      "/home/ibrahimabarry01/anaconda3/lib/python3.8/site-packages/librosa/core/audio.py:162: UserWarning: PySoundFile failed. Trying audioread instead.\n",
      "  warnings.warn(\"PySoundFile failed. Trying audioread instead.\")\n"
     ]
    },
    {
     "name": "stdout",
     "output_type": "stream",
     "text": [
      "116 - name : ./WOLOF_FOR_MEMORY/6_Juróom-Benn/AUDIO-2021-05-18-14-34-33.m4a  22842\n"
     ]
    },
    {
     "name": "stderr",
     "output_type": "stream",
     "text": [
      "/home/ibrahimabarry01/anaconda3/lib/python3.8/site-packages/librosa/core/audio.py:162: UserWarning: PySoundFile failed. Trying audioread instead.\n",
      "  warnings.warn(\"PySoundFile failed. Trying audioread instead.\")\n"
     ]
    },
    {
     "name": "stdout",
     "output_type": "stream",
     "text": [
      "117 - name : ./WOLOF_FOR_MEMORY/6_Juróom-Benn/AUDIO-2021-05-18-19-54-57.m4a  20060\n"
     ]
    },
    {
     "name": "stderr",
     "output_type": "stream",
     "text": [
      "/home/ibrahimabarry01/anaconda3/lib/python3.8/site-packages/librosa/core/audio.py:162: UserWarning: PySoundFile failed. Trying audioread instead.\n",
      "  warnings.warn(\"PySoundFile failed. Trying audioread instead.\")\n"
     ]
    },
    {
     "name": "stdout",
     "output_type": "stream",
     "text": [
      "118 - name : ./WOLOF_FOR_MEMORY/6_Juróom-Benn/AUDIO-2021-05-18-21-52-38.m4a  18259\n"
     ]
    },
    {
     "name": "stderr",
     "output_type": "stream",
     "text": [
      "/home/ibrahimabarry01/anaconda3/lib/python3.8/site-packages/librosa/core/audio.py:162: UserWarning: PySoundFile failed. Trying audioread instead.\n",
      "  warnings.warn(\"PySoundFile failed. Trying audioread instead.\")\n"
     ]
    },
    {
     "name": "stdout",
     "output_type": "stream",
     "text": [
      "119 - name : ./WOLOF_FOR_MEMORY/6_Juróom-Benn/AUDIO-2021-05-18-20-59-13_2.m4a  23158\n"
     ]
    },
    {
     "name": "stderr",
     "output_type": "stream",
     "text": [
      "/home/ibrahimabarry01/anaconda3/lib/python3.8/site-packages/librosa/core/audio.py:162: UserWarning: PySoundFile failed. Trying audioread instead.\n",
      "  warnings.warn(\"PySoundFile failed. Trying audioread instead.\")\n"
     ]
    },
    {
     "name": "stdout",
     "output_type": "stream",
     "text": [
      "120 - name : ./WOLOF_FOR_MEMORY/6_Juróom-Benn/AUDIO-2021-05-19-21-39-55.m4a  17237\n"
     ]
    },
    {
     "name": "stderr",
     "output_type": "stream",
     "text": [
      "/home/ibrahimabarry01/anaconda3/lib/python3.8/site-packages/librosa/core/audio.py:162: UserWarning: PySoundFile failed. Trying audioread instead.\n",
      "  warnings.warn(\"PySoundFile failed. Trying audioread instead.\")\n"
     ]
    },
    {
     "name": "stdout",
     "output_type": "stream",
     "text": [
      "121 - name : ./WOLOF_FOR_MEMORY/6_Juróom-Benn/AUDIO-2021-05-19-22-01-00.m4a  19280\n"
     ]
    },
    {
     "name": "stderr",
     "output_type": "stream",
     "text": [
      "/home/ibrahimabarry01/anaconda3/lib/python3.8/site-packages/librosa/core/audio.py:162: UserWarning: PySoundFile failed. Trying audioread instead.\n",
      "  warnings.warn(\"PySoundFile failed. Trying audioread instead.\")\n"
     ]
    },
    {
     "name": "stdout",
     "output_type": "stream",
     "text": [
      "122 - name : ./WOLOF_FOR_MEMORY/6_Juróom-Benn/AUDIO-2021-05-20-17-49-11.m4a  15341\n"
     ]
    },
    {
     "name": "stderr",
     "output_type": "stream",
     "text": [
      "/home/ibrahimabarry01/anaconda3/lib/python3.8/site-packages/librosa/core/audio.py:162: UserWarning: PySoundFile failed. Trying audioread instead.\n",
      "  warnings.warn(\"PySoundFile failed. Trying audioread instead.\")\n"
     ]
    },
    {
     "name": "stdout",
     "output_type": "stream",
     "text": [
      "123 - name : ./WOLOF_FOR_MEMORY/6_Juróom-Benn/AUDIO-2021-05-20-17-58-39.m4a  22317\n"
     ]
    },
    {
     "name": "stderr",
     "output_type": "stream",
     "text": [
      "/home/ibrahimabarry01/anaconda3/lib/python3.8/site-packages/librosa/core/audio.py:162: UserWarning: PySoundFile failed. Trying audioread instead.\n",
      "  warnings.warn(\"PySoundFile failed. Trying audioread instead.\")\n"
     ]
    },
    {
     "name": "stdout",
     "output_type": "stream",
     "text": [
      "124 - name : ./WOLOF_FOR_MEMORY/6_Juróom-Benn/AUDIO-2021-05-16-23-16-36.m4a  12951\n"
     ]
    },
    {
     "name": "stderr",
     "output_type": "stream",
     "text": [
      "/home/ibrahimabarry01/anaconda3/lib/python3.8/site-packages/librosa/core/audio.py:162: UserWarning: PySoundFile failed. Trying audioread instead.\n",
      "  warnings.warn(\"PySoundFile failed. Trying audioread instead.\")\n"
     ]
    },
    {
     "name": "stdout",
     "output_type": "stream",
     "text": [
      "125 - name : ./WOLOF_FOR_MEMORY/6_Juróom-Benn/AUDIO-2021-05-20-21-03-15_1.m4a  15825\n"
     ]
    },
    {
     "name": "stderr",
     "output_type": "stream",
     "text": [
      "/home/ibrahimabarry01/anaconda3/lib/python3.8/site-packages/librosa/core/audio.py:162: UserWarning: PySoundFile failed. Trying audioread instead.\n",
      "  warnings.warn(\"PySoundFile failed. Trying audioread instead.\")\n"
     ]
    },
    {
     "name": "stdout",
     "output_type": "stream",
     "text": [
      "126 - name : ./WOLOF_FOR_MEMORY/6_Juróom-Benn/AUDIO-2021-05-21-00-25-33.m4a  20982\n"
     ]
    },
    {
     "name": "stderr",
     "output_type": "stream",
     "text": [
      "/home/ibrahimabarry01/anaconda3/lib/python3.8/site-packages/librosa/core/audio.py:162: UserWarning: PySoundFile failed. Trying audioread instead.\n",
      "  warnings.warn(\"PySoundFile failed. Trying audioread instead.\")\n"
     ]
    },
    {
     "name": "stdout",
     "output_type": "stream",
     "text": [
      "127 - name : ./WOLOF_FOR_MEMORY/6_Juróom-Benn/AUDIO-2021-05-21-00-12-45.m4a  24769\n"
     ]
    },
    {
     "name": "stderr",
     "output_type": "stream",
     "text": [
      "/home/ibrahimabarry01/anaconda3/lib/python3.8/site-packages/librosa/core/audio.py:162: UserWarning: PySoundFile failed. Trying audioread instead.\n",
      "  warnings.warn(\"PySoundFile failed. Trying audioread instead.\")\n"
     ]
    },
    {
     "name": "stdout",
     "output_type": "stream",
     "text": [
      "128 - name : ./WOLOF_FOR_MEMORY/6_Juróom-Benn/AUDIO-2021-05-21-00-46-37.m4a  20348\n"
     ]
    },
    {
     "name": "stderr",
     "output_type": "stream",
     "text": [
      "/home/ibrahimabarry01/anaconda3/lib/python3.8/site-packages/librosa/core/audio.py:162: UserWarning: PySoundFile failed. Trying audioread instead.\n",
      "  warnings.warn(\"PySoundFile failed. Trying audioread instead.\")\n"
     ]
    },
    {
     "name": "stdout",
     "output_type": "stream",
     "text": [
      "129 - name : ./WOLOF_FOR_MEMORY/6_Juróom-Benn/AUDIO-2021-05-20-23-56-51.m4a  28128\n"
     ]
    },
    {
     "name": "stderr",
     "output_type": "stream",
     "text": [
      "/home/ibrahimabarry01/anaconda3/lib/python3.8/site-packages/librosa/core/audio.py:162: UserWarning: PySoundFile failed. Trying audioread instead.\n",
      "  warnings.warn(\"PySoundFile failed. Trying audioread instead.\")\n"
     ]
    },
    {
     "name": "stdout",
     "output_type": "stream",
     "text": [
      "130 - name : ./WOLOF_FOR_MEMORY/6_Juróom-Benn/AUDIO-2021-05-20-19-51-39.m4a  14208\n"
     ]
    },
    {
     "name": "stderr",
     "output_type": "stream",
     "text": [
      "/home/ibrahimabarry01/anaconda3/lib/python3.8/site-packages/librosa/core/audio.py:162: UserWarning: PySoundFile failed. Trying audioread instead.\n",
      "  warnings.warn(\"PySoundFile failed. Trying audioread instead.\")\n"
     ]
    },
    {
     "name": "stdout",
     "output_type": "stream",
     "text": [
      "131 - name : ./WOLOF_FOR_MEMORY/6_Juróom-Benn/AUDIO-2021-05-21-01-03-06.m4a  20509\n"
     ]
    },
    {
     "name": "stderr",
     "output_type": "stream",
     "text": [
      "/home/ibrahimabarry01/anaconda3/lib/python3.8/site-packages/librosa/core/audio.py:162: UserWarning: PySoundFile failed. Trying audioread instead.\n",
      "  warnings.warn(\"PySoundFile failed. Trying audioread instead.\")\n"
     ]
    },
    {
     "name": "stdout",
     "output_type": "stream",
     "text": [
      "132 - name : ./WOLOF_FOR_MEMORY/6_Juróom-Benn/AUDIO-2021-05-20-21-28-11.m4a  17692\n"
     ]
    },
    {
     "name": "stderr",
     "output_type": "stream",
     "text": [
      "/home/ibrahimabarry01/anaconda3/lib/python3.8/site-packages/librosa/core/audio.py:162: UserWarning: PySoundFile failed. Trying audioread instead.\n",
      "  warnings.warn(\"PySoundFile failed. Trying audioread instead.\")\n"
     ]
    },
    {
     "name": "stdout",
     "output_type": "stream",
     "text": [
      "133 - name : ./WOLOF_FOR_MEMORY/6_Juróom-Benn/AUDIO-2021-05-21-19-33-30.m4a  51804\n"
     ]
    },
    {
     "name": "stderr",
     "output_type": "stream",
     "text": [
      "/home/ibrahimabarry01/anaconda3/lib/python3.8/site-packages/librosa/core/audio.py:162: UserWarning: PySoundFile failed. Trying audioread instead.\n",
      "  warnings.warn(\"PySoundFile failed. Trying audioread instead.\")\n"
     ]
    },
    {
     "name": "stdout",
     "output_type": "stream",
     "text": [
      "134 - name : ./WOLOF_FOR_MEMORY/6_Juróom-Benn/AUDIO-2021-05-21-21-38-27.m4a  16261\n"
     ]
    },
    {
     "name": "stderr",
     "output_type": "stream",
     "text": [
      "/home/ibrahimabarry01/anaconda3/lib/python3.8/site-packages/librosa/core/audio.py:162: UserWarning: PySoundFile failed. Trying audioread instead.\n",
      "  warnings.warn(\"PySoundFile failed. Trying audioread instead.\")\n"
     ]
    },
    {
     "name": "stdout",
     "output_type": "stream",
     "text": [
      "135 - name : ./WOLOF_FOR_MEMORY/6_Juróom-Benn/AUDIO-2021-05-20-17-37-37.m4a  29329\n"
     ]
    },
    {
     "name": "stderr",
     "output_type": "stream",
     "text": [
      "/home/ibrahimabarry01/anaconda3/lib/python3.8/site-packages/librosa/core/audio.py:162: UserWarning: PySoundFile failed. Trying audioread instead.\n",
      "  warnings.warn(\"PySoundFile failed. Trying audioread instead.\")\n"
     ]
    },
    {
     "name": "stdout",
     "output_type": "stream",
     "text": [
      "136 - name : ./WOLOF_FOR_MEMORY/6_Juróom-Benn/AUDIO-2021-05-16-23-31-50.m4a  23427\n"
     ]
    },
    {
     "name": "stderr",
     "output_type": "stream",
     "text": [
      "/home/ibrahimabarry01/anaconda3/lib/python3.8/site-packages/librosa/core/audio.py:162: UserWarning: PySoundFile failed. Trying audioread instead.\n",
      "  warnings.warn(\"PySoundFile failed. Trying audioread instead.\")\n"
     ]
    },
    {
     "name": "stdout",
     "output_type": "stream",
     "text": [
      "137 - name : ./WOLOF_FOR_MEMORY/6_Juróom-Benn/AUDIO-2021-05-22-10-47-16.m4a  14951\n",
      " CHIFFRE : :  3_Ñett\n"
     ]
    },
    {
     "name": "stderr",
     "output_type": "stream",
     "text": [
      "/home/ibrahimabarry01/anaconda3/lib/python3.8/site-packages/librosa/core/audio.py:162: UserWarning: PySoundFile failed. Trying audioread instead.\n",
      "  warnings.warn(\"PySoundFile failed. Trying audioread instead.\")\n"
     ]
    },
    {
     "name": "stdout",
     "output_type": "stream",
     "text": [
      "138 - name : ./WOLOF_FOR_MEMORY/3_Ñett/AUDIO-2021-05-22-20-50-32.m4a  43551\n"
     ]
    },
    {
     "name": "stderr",
     "output_type": "stream",
     "text": [
      "/home/ibrahimabarry01/anaconda3/lib/python3.8/site-packages/librosa/core/audio.py:162: UserWarning: PySoundFile failed. Trying audioread instead.\n",
      "  warnings.warn(\"PySoundFile failed. Trying audioread instead.\")\n"
     ]
    },
    {
     "name": "stdout",
     "output_type": "stream",
     "text": [
      "139 - name : ./WOLOF_FOR_MEMORY/3_Ñett/AUDIO-2021-05-22-19-26-05.m4a  12707\n"
     ]
    },
    {
     "name": "stderr",
     "output_type": "stream",
     "text": [
      "/home/ibrahimabarry01/anaconda3/lib/python3.8/site-packages/librosa/core/audio.py:162: UserWarning: PySoundFile failed. Trying audioread instead.\n",
      "  warnings.warn(\"PySoundFile failed. Trying audioread instead.\")\n"
     ]
    },
    {
     "name": "stdout",
     "output_type": "stream",
     "text": [
      "140 - name : ./WOLOF_FOR_MEMORY/3_Ñett/AUDIO-2021-05-22-18-03-47.m4a  9606\n"
     ]
    },
    {
     "name": "stderr",
     "output_type": "stream",
     "text": [
      "/home/ibrahimabarry01/anaconda3/lib/python3.8/site-packages/librosa/core/audio.py:162: UserWarning: PySoundFile failed. Trying audioread instead.\n",
      "  warnings.warn(\"PySoundFile failed. Trying audioread instead.\")\n"
     ]
    },
    {
     "name": "stdout",
     "output_type": "stream",
     "text": [
      "141 - name : ./WOLOF_FOR_MEMORY/3_Ñett/AUDIO-2021-05-22-14-04-13.m4a  19194\n"
     ]
    },
    {
     "name": "stderr",
     "output_type": "stream",
     "text": [
      "/home/ibrahimabarry01/anaconda3/lib/python3.8/site-packages/librosa/core/audio.py:162: UserWarning: PySoundFile failed. Trying audioread instead.\n",
      "  warnings.warn(\"PySoundFile failed. Trying audioread instead.\")\n"
     ]
    },
    {
     "name": "stdout",
     "output_type": "stream",
     "text": [
      "142 - name : ./WOLOF_FOR_MEMORY/3_Ñett/AUDIO-2021-05-22-13-27-05.m4a  37618\n"
     ]
    },
    {
     "name": "stderr",
     "output_type": "stream",
     "text": [
      "/home/ibrahimabarry01/anaconda3/lib/python3.8/site-packages/librosa/core/audio.py:162: UserWarning: PySoundFile failed. Trying audioread instead.\n",
      "  warnings.warn(\"PySoundFile failed. Trying audioread instead.\")\n"
     ]
    },
    {
     "name": "stdout",
     "output_type": "stream",
     "text": [
      "143 - name : ./WOLOF_FOR_MEMORY/3_Ñett/AUDIO-2021-05-16-20-16-04.m4a  16616\n"
     ]
    },
    {
     "name": "stderr",
     "output_type": "stream",
     "text": [
      "/home/ibrahimabarry01/anaconda3/lib/python3.8/site-packages/librosa/core/audio.py:162: UserWarning: PySoundFile failed. Trying audioread instead.\n",
      "  warnings.warn(\"PySoundFile failed. Trying audioread instead.\")\n"
     ]
    },
    {
     "name": "stdout",
     "output_type": "stream",
     "text": [
      "144 - name : ./WOLOF_FOR_MEMORY/3_Ñett/AUDIO-2021-05-16-20-26-29.m4a  12054\n"
     ]
    },
    {
     "name": "stderr",
     "output_type": "stream",
     "text": [
      "/home/ibrahimabarry01/anaconda3/lib/python3.8/site-packages/librosa/core/audio.py:162: UserWarning: PySoundFile failed. Trying audioread instead.\n",
      "  warnings.warn(\"PySoundFile failed. Trying audioread instead.\")\n"
     ]
    },
    {
     "name": "stdout",
     "output_type": "stream",
     "text": [
      "145 - name : ./WOLOF_FOR_MEMORY/3_Ñett/AUDIO-2021-05-16-23-20-55.m4a  8828\n"
     ]
    },
    {
     "name": "stderr",
     "output_type": "stream",
     "text": [
      "/home/ibrahimabarry01/anaconda3/lib/python3.8/site-packages/librosa/core/audio.py:162: UserWarning: PySoundFile failed. Trying audioread instead.\n",
      "  warnings.warn(\"PySoundFile failed. Trying audioread instead.\")\n"
     ]
    },
    {
     "name": "stdout",
     "output_type": "stream",
     "text": [
      "146 - name : ./WOLOF_FOR_MEMORY/3_Ñett/AUDIO-2021-05-16-23-49-56.m4a  11344\n"
     ]
    },
    {
     "name": "stderr",
     "output_type": "stream",
     "text": [
      "/home/ibrahimabarry01/anaconda3/lib/python3.8/site-packages/librosa/core/audio.py:162: UserWarning: PySoundFile failed. Trying audioread instead.\n",
      "  warnings.warn(\"PySoundFile failed. Trying audioread instead.\")\n"
     ]
    },
    {
     "name": "stdout",
     "output_type": "stream",
     "text": [
      "147 - name : ./WOLOF_FOR_MEMORY/3_Ñett/AUDIO-2021-05-17-00-06-29.m4a  8494\n"
     ]
    },
    {
     "name": "stderr",
     "output_type": "stream",
     "text": [
      "/home/ibrahimabarry01/anaconda3/lib/python3.8/site-packages/librosa/core/audio.py:162: UserWarning: PySoundFile failed. Trying audioread instead.\n",
      "  warnings.warn(\"PySoundFile failed. Trying audioread instead.\")\n"
     ]
    },
    {
     "name": "stdout",
     "output_type": "stream",
     "text": [
      "148 - name : ./WOLOF_FOR_MEMORY/3_Ñett/AUDIO-2021-05-11-15-20-21.m4a  18679\n"
     ]
    },
    {
     "name": "stderr",
     "output_type": "stream",
     "text": [
      "/home/ibrahimabarry01/anaconda3/lib/python3.8/site-packages/librosa/core/audio.py:162: UserWarning: PySoundFile failed. Trying audioread instead.\n",
      "  warnings.warn(\"PySoundFile failed. Trying audioread instead.\")\n"
     ]
    },
    {
     "name": "stdout",
     "output_type": "stream",
     "text": [
      "149 - name : ./WOLOF_FOR_MEMORY/3_Ñett/AUDIO-2021-05-18-01-10-25.m4a  13751\n"
     ]
    },
    {
     "name": "stderr",
     "output_type": "stream",
     "text": [
      "/home/ibrahimabarry01/anaconda3/lib/python3.8/site-packages/librosa/core/audio.py:162: UserWarning: PySoundFile failed. Trying audioread instead.\n",
      "  warnings.warn(\"PySoundFile failed. Trying audioread instead.\")\n"
     ]
    },
    {
     "name": "stdout",
     "output_type": "stream",
     "text": [
      "150 - name : ./WOLOF_FOR_MEMORY/3_Ñett/AUDIO-2021-05-18-14-34-16.m4a  8832\n"
     ]
    },
    {
     "name": "stderr",
     "output_type": "stream",
     "text": [
      "/home/ibrahimabarry01/anaconda3/lib/python3.8/site-packages/librosa/core/audio.py:162: UserWarning: PySoundFile failed. Trying audioread instead.\n",
      "  warnings.warn(\"PySoundFile failed. Trying audioread instead.\")\n"
     ]
    },
    {
     "name": "stdout",
     "output_type": "stream",
     "text": [
      "151 - name : ./WOLOF_FOR_MEMORY/3_Ñett/AUDIO-2021-05-18-20-39-55.m4a  14435\n"
     ]
    },
    {
     "name": "stderr",
     "output_type": "stream",
     "text": [
      "/home/ibrahimabarry01/anaconda3/lib/python3.8/site-packages/librosa/core/audio.py:162: UserWarning: PySoundFile failed. Trying audioread instead.\n",
      "  warnings.warn(\"PySoundFile failed. Trying audioread instead.\")\n"
     ]
    },
    {
     "name": "stdout",
     "output_type": "stream",
     "text": [
      "152 - name : ./WOLOF_FOR_MEMORY/3_Ñett/AUDIO-2021-05-18-21-52-24.m4a  13595\n"
     ]
    },
    {
     "name": "stderr",
     "output_type": "stream",
     "text": [
      "/home/ibrahimabarry01/anaconda3/lib/python3.8/site-packages/librosa/core/audio.py:162: UserWarning: PySoundFile failed. Trying audioread instead.\n",
      "  warnings.warn(\"PySoundFile failed. Trying audioread instead.\")\n"
     ]
    },
    {
     "name": "stdout",
     "output_type": "stream",
     "text": [
      "153 - name : ./WOLOF_FOR_MEMORY/3_Ñett/AUDIO-2021-05-18-20-59-12.m4a  12051\n"
     ]
    },
    {
     "name": "stderr",
     "output_type": "stream",
     "text": [
      "/home/ibrahimabarry01/anaconda3/lib/python3.8/site-packages/librosa/core/audio.py:162: UserWarning: PySoundFile failed. Trying audioread instead.\n",
      "  warnings.warn(\"PySoundFile failed. Trying audioread instead.\")\n"
     ]
    },
    {
     "name": "stdout",
     "output_type": "stream",
     "text": [
      "154 - name : ./WOLOF_FOR_MEMORY/3_Ñett/AUDIO-2021-05-19-21-39-13.m4a  10363\n"
     ]
    },
    {
     "name": "stderr",
     "output_type": "stream",
     "text": [
      "/home/ibrahimabarry01/anaconda3/lib/python3.8/site-packages/librosa/core/audio.py:162: UserWarning: PySoundFile failed. Trying audioread instead.\n",
      "  warnings.warn(\"PySoundFile failed. Trying audioread instead.\")\n"
     ]
    },
    {
     "name": "stdout",
     "output_type": "stream",
     "text": [
      "155 - name : ./WOLOF_FOR_MEMORY/3_Ñett/AUDIO-2021-05-19-22-00-28.m4a  9315\n"
     ]
    },
    {
     "name": "stderr",
     "output_type": "stream",
     "text": [
      "/home/ibrahimabarry01/anaconda3/lib/python3.8/site-packages/librosa/core/audio.py:162: UserWarning: PySoundFile failed. Trying audioread instead.\n",
      "  warnings.warn(\"PySoundFile failed. Trying audioread instead.\")\n"
     ]
    },
    {
     "name": "stdout",
     "output_type": "stream",
     "text": [
      "156 - name : ./WOLOF_FOR_MEMORY/3_Ñett/AUDIO-2021-05-20-17-48-54.m4a  9491\n"
     ]
    },
    {
     "name": "stderr",
     "output_type": "stream",
     "text": [
      "/home/ibrahimabarry01/anaconda3/lib/python3.8/site-packages/librosa/core/audio.py:162: UserWarning: PySoundFile failed. Trying audioread instead.\n",
      "  warnings.warn(\"PySoundFile failed. Trying audioread instead.\")\n"
     ]
    },
    {
     "name": "stdout",
     "output_type": "stream",
     "text": [
      "157 - name : ./WOLOF_FOR_MEMORY/3_Ñett/AUDIO-2021-05-20-16-12-56.m4a  14617\n"
     ]
    },
    {
     "name": "stderr",
     "output_type": "stream",
     "text": [
      "/home/ibrahimabarry01/anaconda3/lib/python3.8/site-packages/librosa/core/audio.py:162: UserWarning: PySoundFile failed. Trying audioread instead.\n",
      "  warnings.warn(\"PySoundFile failed. Trying audioread instead.\")\n"
     ]
    },
    {
     "name": "stdout",
     "output_type": "stream",
     "text": [
      "158 - name : ./WOLOF_FOR_MEMORY/3_Ñett/AUDIO-2021-05-20-21-03-14.m4a  31884\n"
     ]
    },
    {
     "name": "stderr",
     "output_type": "stream",
     "text": [
      "/home/ibrahimabarry01/anaconda3/lib/python3.8/site-packages/librosa/core/audio.py:162: UserWarning: PySoundFile failed. Trying audioread instead.\n",
      "  warnings.warn(\"PySoundFile failed. Trying audioread instead.\")\n"
     ]
    },
    {
     "name": "stdout",
     "output_type": "stream",
     "text": [
      "159 - name : ./WOLOF_FOR_MEMORY/3_Ñett/AUDIO-2021-05-21-00-24-45.m4a  12872\n"
     ]
    },
    {
     "name": "stderr",
     "output_type": "stream",
     "text": [
      "/home/ibrahimabarry01/anaconda3/lib/python3.8/site-packages/librosa/core/audio.py:162: UserWarning: PySoundFile failed. Trying audioread instead.\n",
      "  warnings.warn(\"PySoundFile failed. Trying audioread instead.\")\n"
     ]
    },
    {
     "name": "stdout",
     "output_type": "stream",
     "text": [
      "160 - name : ./WOLOF_FOR_MEMORY/3_Ñett/AUDIO-2021-05-21-00-12-32.m4a  12288\n"
     ]
    },
    {
     "name": "stderr",
     "output_type": "stream",
     "text": [
      "/home/ibrahimabarry01/anaconda3/lib/python3.8/site-packages/librosa/core/audio.py:162: UserWarning: PySoundFile failed. Trying audioread instead.\n",
      "  warnings.warn(\"PySoundFile failed. Trying audioread instead.\")\n"
     ]
    },
    {
     "name": "stdout",
     "output_type": "stream",
     "text": [
      "161 - name : ./WOLOF_FOR_MEMORY/3_Ñett/AUDIO-2021-05-21-00-44-40.m4a  11906\n"
     ]
    },
    {
     "name": "stderr",
     "output_type": "stream",
     "text": [
      "/home/ibrahimabarry01/anaconda3/lib/python3.8/site-packages/librosa/core/audio.py:162: UserWarning: PySoundFile failed. Trying audioread instead.\n",
      "  warnings.warn(\"PySoundFile failed. Trying audioread instead.\")\n"
     ]
    },
    {
     "name": "stdout",
     "output_type": "stream",
     "text": [
      "162 - name : ./WOLOF_FOR_MEMORY/3_Ñett/AUDIO-2021-05-20-23-56-22.m4a  13963\n"
     ]
    },
    {
     "name": "stderr",
     "output_type": "stream",
     "text": [
      "/home/ibrahimabarry01/anaconda3/lib/python3.8/site-packages/librosa/core/audio.py:162: UserWarning: PySoundFile failed. Trying audioread instead.\n",
      "  warnings.warn(\"PySoundFile failed. Trying audioread instead.\")\n"
     ]
    },
    {
     "name": "stdout",
     "output_type": "stream",
     "text": [
      "163 - name : ./WOLOF_FOR_MEMORY/3_Ñett/AUDIO-2021-05-20-19-50-41.m4a  9549\n"
     ]
    },
    {
     "name": "stderr",
     "output_type": "stream",
     "text": [
      "/home/ibrahimabarry01/anaconda3/lib/python3.8/site-packages/librosa/core/audio.py:162: UserWarning: PySoundFile failed. Trying audioread instead.\n",
      "  warnings.warn(\"PySoundFile failed. Trying audioread instead.\")\n"
     ]
    },
    {
     "name": "stdout",
     "output_type": "stream",
     "text": [
      "164 - name : ./WOLOF_FOR_MEMORY/3_Ñett/AUDIO-2021-05-21-01-02-02.m4a  12512\n"
     ]
    },
    {
     "name": "stderr",
     "output_type": "stream",
     "text": [
      "/home/ibrahimabarry01/anaconda3/lib/python3.8/site-packages/librosa/core/audio.py:162: UserWarning: PySoundFile failed. Trying audioread instead.\n",
      "  warnings.warn(\"PySoundFile failed. Trying audioread instead.\")\n"
     ]
    },
    {
     "name": "stdout",
     "output_type": "stream",
     "text": [
      "165 - name : ./WOLOF_FOR_MEMORY/3_Ñett/AUDIO-2021-05-20-21-27-47.m4a  15127\n"
     ]
    },
    {
     "name": "stderr",
     "output_type": "stream",
     "text": [
      "/home/ibrahimabarry01/anaconda3/lib/python3.8/site-packages/librosa/core/audio.py:162: UserWarning: PySoundFile failed. Trying audioread instead.\n",
      "  warnings.warn(\"PySoundFile failed. Trying audioread instead.\")\n"
     ]
    },
    {
     "name": "stdout",
     "output_type": "stream",
     "text": [
      "166 - name : ./WOLOF_FOR_MEMORY/3_Ñett/AUDIO-2021-05-21-19-33-32_1.m4a  28943\n"
     ]
    },
    {
     "name": "stderr",
     "output_type": "stream",
     "text": [
      "/home/ibrahimabarry01/anaconda3/lib/python3.8/site-packages/librosa/core/audio.py:162: UserWarning: PySoundFile failed. Trying audioread instead.\n",
      "  warnings.warn(\"PySoundFile failed. Trying audioread instead.\")\n"
     ]
    },
    {
     "name": "stdout",
     "output_type": "stream",
     "text": [
      "167 - name : ./WOLOF_FOR_MEMORY/3_Ñett/AUDIO-2021-05-21-21-37-28.m4a  8730\n"
     ]
    },
    {
     "name": "stderr",
     "output_type": "stream",
     "text": [
      "/home/ibrahimabarry01/anaconda3/lib/python3.8/site-packages/librosa/core/audio.py:162: UserWarning: PySoundFile failed. Trying audioread instead.\n",
      "  warnings.warn(\"PySoundFile failed. Trying audioread instead.\")\n"
     ]
    },
    {
     "name": "stdout",
     "output_type": "stream",
     "text": [
      "168 - name : ./WOLOF_FOR_MEMORY/3_Ñett/AUDIO-2021-05-20-17-35-34.m4a  19561\n"
     ]
    },
    {
     "name": "stderr",
     "output_type": "stream",
     "text": [
      "/home/ibrahimabarry01/anaconda3/lib/python3.8/site-packages/librosa/core/audio.py:162: UserWarning: PySoundFile failed. Trying audioread instead.\n",
      "  warnings.warn(\"PySoundFile failed. Trying audioread instead.\")\n"
     ]
    },
    {
     "name": "stdout",
     "output_type": "stream",
     "text": [
      "169 - name : ./WOLOF_FOR_MEMORY/3_Ñett/AUDIO-2021-05-16-23-30-58.m4a  12283\n"
     ]
    },
    {
     "name": "stderr",
     "output_type": "stream",
     "text": [
      "/home/ibrahimabarry01/anaconda3/lib/python3.8/site-packages/librosa/core/audio.py:162: UserWarning: PySoundFile failed. Trying audioread instead.\n",
      "  warnings.warn(\"PySoundFile failed. Trying audioread instead.\")\n"
     ]
    },
    {
     "name": "stdout",
     "output_type": "stream",
     "text": [
      "170 - name : ./WOLOF_FOR_MEMORY/3_Ñett/AUDIO-2021-05-22-10-45-58.m4a  16953\n",
      " CHIFFRE : :  7_Juróom-Ñaar\n"
     ]
    },
    {
     "name": "stderr",
     "output_type": "stream",
     "text": [
      "/home/ibrahimabarry01/anaconda3/lib/python3.8/site-packages/librosa/core/audio.py:162: UserWarning: PySoundFile failed. Trying audioread instead.\n",
      "  warnings.warn(\"PySoundFile failed. Trying audioread instead.\")\n"
     ]
    },
    {
     "name": "stdout",
     "output_type": "stream",
     "text": [
      "171 - name : ./WOLOF_FOR_MEMORY/7_Juróom-Ñaar/AUDIO-2021-05-22-20-51-18.m4a  45129\n"
     ]
    },
    {
     "name": "stderr",
     "output_type": "stream",
     "text": [
      "/home/ibrahimabarry01/anaconda3/lib/python3.8/site-packages/librosa/core/audio.py:162: UserWarning: PySoundFile failed. Trying audioread instead.\n",
      "  warnings.warn(\"PySoundFile failed. Trying audioread instead.\")\n"
     ]
    },
    {
     "name": "stdout",
     "output_type": "stream",
     "text": [
      "172 - name : ./WOLOF_FOR_MEMORY/7_Juróom-Ñaar/AUDIO-2021-05-22-19-26-20.m4a  22511\n"
     ]
    },
    {
     "name": "stderr",
     "output_type": "stream",
     "text": [
      "/home/ibrahimabarry01/anaconda3/lib/python3.8/site-packages/librosa/core/audio.py:162: UserWarning: PySoundFile failed. Trying audioread instead.\n",
      "  warnings.warn(\"PySoundFile failed. Trying audioread instead.\")\n"
     ]
    },
    {
     "name": "stdout",
     "output_type": "stream",
     "text": [
      "173 - name : ./WOLOF_FOR_MEMORY/7_Juróom-Ñaar/AUDIO-2021-05-22-18-04-04.m4a  16017\n"
     ]
    },
    {
     "name": "stderr",
     "output_type": "stream",
     "text": [
      "/home/ibrahimabarry01/anaconda3/lib/python3.8/site-packages/librosa/core/audio.py:162: UserWarning: PySoundFile failed. Trying audioread instead.\n",
      "  warnings.warn(\"PySoundFile failed. Trying audioread instead.\")\n"
     ]
    },
    {
     "name": "stdout",
     "output_type": "stream",
     "text": [
      "174 - name : ./WOLOF_FOR_MEMORY/7_Juróom-Ñaar/AUDIO-2021-05-22-20-04-29.m4a  21136\n"
     ]
    },
    {
     "name": "stderr",
     "output_type": "stream",
     "text": [
      "/home/ibrahimabarry01/anaconda3/lib/python3.8/site-packages/librosa/core/audio.py:162: UserWarning: PySoundFile failed. Trying audioread instead.\n",
      "  warnings.warn(\"PySoundFile failed. Trying audioread instead.\")\n"
     ]
    },
    {
     "name": "stdout",
     "output_type": "stream",
     "text": [
      "175 - name : ./WOLOF_FOR_MEMORY/7_Juróom-Ñaar/AUDIO-2021-05-22-14-04-35.m4a  26417\n"
     ]
    },
    {
     "name": "stderr",
     "output_type": "stream",
     "text": [
      "/home/ibrahimabarry01/anaconda3/lib/python3.8/site-packages/librosa/core/audio.py:162: UserWarning: PySoundFile failed. Trying audioread instead.\n",
      "  warnings.warn(\"PySoundFile failed. Trying audioread instead.\")\n"
     ]
    },
    {
     "name": "stdout",
     "output_type": "stream",
     "text": [
      "176 - name : ./WOLOF_FOR_MEMORY/7_Juróom-Ñaar/AUDIO-2021-05-22-13-27-38.m4a  40538\n"
     ]
    },
    {
     "name": "stderr",
     "output_type": "stream",
     "text": [
      "/home/ibrahimabarry01/anaconda3/lib/python3.8/site-packages/librosa/core/audio.py:162: UserWarning: PySoundFile failed. Trying audioread instead.\n",
      "  warnings.warn(\"PySoundFile failed. Trying audioread instead.\")\n"
     ]
    },
    {
     "name": "stdout",
     "output_type": "stream",
     "text": [
      "177 - name : ./WOLOF_FOR_MEMORY/7_Juróom-Ñaar/AUDIO-2021-05-16-20-17-01.m4a  19160\n"
     ]
    },
    {
     "name": "stderr",
     "output_type": "stream",
     "text": [
      "/home/ibrahimabarry01/anaconda3/lib/python3.8/site-packages/librosa/core/audio.py:162: UserWarning: PySoundFile failed. Trying audioread instead.\n",
      "  warnings.warn(\"PySoundFile failed. Trying audioread instead.\")\n"
     ]
    },
    {
     "name": "stdout",
     "output_type": "stream",
     "text": [
      "178 - name : ./WOLOF_FOR_MEMORY/7_Juróom-Ñaar/AUDIO-2021-05-16-20-27-59.m4a  21518\n"
     ]
    },
    {
     "name": "stderr",
     "output_type": "stream",
     "text": [
      "/home/ibrahimabarry01/anaconda3/lib/python3.8/site-packages/librosa/core/audio.py:162: UserWarning: PySoundFile failed. Trying audioread instead.\n",
      "  warnings.warn(\"PySoundFile failed. Trying audioread instead.\")\n"
     ]
    },
    {
     "name": "stdout",
     "output_type": "stream",
     "text": [
      "179 - name : ./WOLOF_FOR_MEMORY/7_Juróom-Ñaar/AUDIO-2021-05-16-23-21-16.m4a  18983\n"
     ]
    },
    {
     "name": "stderr",
     "output_type": "stream",
     "text": [
      "/home/ibrahimabarry01/anaconda3/lib/python3.8/site-packages/librosa/core/audio.py:162: UserWarning: PySoundFile failed. Trying audioread instead.\n",
      "  warnings.warn(\"PySoundFile failed. Trying audioread instead.\")\n"
     ]
    },
    {
     "name": "stdout",
     "output_type": "stream",
     "text": [
      "180 - name : ./WOLOF_FOR_MEMORY/7_Juróom-Ñaar/AUDIO-2021-05-16-23-51-41.m4a  22262\n"
     ]
    },
    {
     "name": "stderr",
     "output_type": "stream",
     "text": [
      "/home/ibrahimabarry01/anaconda3/lib/python3.8/site-packages/librosa/core/audio.py:162: UserWarning: PySoundFile failed. Trying audioread instead.\n",
      "  warnings.warn(\"PySoundFile failed. Trying audioread instead.\")\n"
     ]
    },
    {
     "name": "stdout",
     "output_type": "stream",
     "text": [
      "181 - name : ./WOLOF_FOR_MEMORY/7_Juróom-Ñaar/AUDIO-2021-05-17-00-06-51.m4a  20731\n"
     ]
    },
    {
     "name": "stderr",
     "output_type": "stream",
     "text": [
      "/home/ibrahimabarry01/anaconda3/lib/python3.8/site-packages/librosa/core/audio.py:162: UserWarning: PySoundFile failed. Trying audioread instead.\n",
      "  warnings.warn(\"PySoundFile failed. Trying audioread instead.\")\n"
     ]
    },
    {
     "name": "stdout",
     "output_type": "stream",
     "text": [
      "182 - name : ./WOLOF_FOR_MEMORY/7_Juróom-Ñaar/AUDIO-2021-05-11-15-22-06.m4a  26005\n"
     ]
    },
    {
     "name": "stderr",
     "output_type": "stream",
     "text": [
      "/home/ibrahimabarry01/anaconda3/lib/python3.8/site-packages/librosa/core/audio.py:162: UserWarning: PySoundFile failed. Trying audioread instead.\n",
      "  warnings.warn(\"PySoundFile failed. Trying audioread instead.\")\n"
     ]
    },
    {
     "name": "stdout",
     "output_type": "stream",
     "text": [
      "183 - name : ./WOLOF_FOR_MEMORY/7_Juróom-Ñaar/AUDIO-2021-05-18-01-10-23.m4a  21687\n"
     ]
    },
    {
     "name": "stderr",
     "output_type": "stream",
     "text": [
      "/home/ibrahimabarry01/anaconda3/lib/python3.8/site-packages/librosa/core/audio.py:162: UserWarning: PySoundFile failed. Trying audioread instead.\n",
      "  warnings.warn(\"PySoundFile failed. Trying audioread instead.\")\n"
     ]
    },
    {
     "name": "stdout",
     "output_type": "stream",
     "text": [
      "184 - name : ./WOLOF_FOR_MEMORY/7_Juróom-Ñaar/AUDIO-2021-05-18-14-34-37.m4a  26044\n"
     ]
    },
    {
     "name": "stderr",
     "output_type": "stream",
     "text": [
      "/home/ibrahimabarry01/anaconda3/lib/python3.8/site-packages/librosa/core/audio.py:162: UserWarning: PySoundFile failed. Trying audioread instead.\n",
      "  warnings.warn(\"PySoundFile failed. Trying audioread instead.\")\n"
     ]
    },
    {
     "name": "stdout",
     "output_type": "stream",
     "text": [
      "185 - name : ./WOLOF_FOR_MEMORY/7_Juróom-Ñaar/AUDIO-2021-05-18-19-55-06.m4a  26394\n"
     ]
    },
    {
     "name": "stderr",
     "output_type": "stream",
     "text": [
      "/home/ibrahimabarry01/anaconda3/lib/python3.8/site-packages/librosa/core/audio.py:162: UserWarning: PySoundFile failed. Trying audioread instead.\n",
      "  warnings.warn(\"PySoundFile failed. Trying audioread instead.\")\n"
     ]
    },
    {
     "name": "stdout",
     "output_type": "stream",
     "text": [
      "186 - name : ./WOLOF_FOR_MEMORY/7_Juróom-Ñaar/AUDIO-2021-05-18-21-52-45.m4a  25737\n"
     ]
    },
    {
     "name": "stderr",
     "output_type": "stream",
     "text": [
      "/home/ibrahimabarry01/anaconda3/lib/python3.8/site-packages/librosa/core/audio.py:162: UserWarning: PySoundFile failed. Trying audioread instead.\n",
      "  warnings.warn(\"PySoundFile failed. Trying audioread instead.\")\n"
     ]
    },
    {
     "name": "stdout",
     "output_type": "stream",
     "text": [
      "187 - name : ./WOLOF_FOR_MEMORY/7_Juróom-Ñaar/AUDIO-2021-05-18-20-59-14.m4a  24179\n"
     ]
    },
    {
     "name": "stderr",
     "output_type": "stream",
     "text": [
      "/home/ibrahimabarry01/anaconda3/lib/python3.8/site-packages/librosa/core/audio.py:162: UserWarning: PySoundFile failed. Trying audioread instead.\n",
      "  warnings.warn(\"PySoundFile failed. Trying audioread instead.\")\n"
     ]
    },
    {
     "name": "stdout",
     "output_type": "stream",
     "text": [
      "188 - name : ./WOLOF_FOR_MEMORY/7_Juróom-Ñaar/AUDIO-2021-05-19-21-40-06.m4a  15711\n"
     ]
    },
    {
     "name": "stderr",
     "output_type": "stream",
     "text": [
      "/home/ibrahimabarry01/anaconda3/lib/python3.8/site-packages/librosa/core/audio.py:162: UserWarning: PySoundFile failed. Trying audioread instead.\n",
      "  warnings.warn(\"PySoundFile failed. Trying audioread instead.\")\n"
     ]
    },
    {
     "name": "stdout",
     "output_type": "stream",
     "text": [
      "189 - name : ./WOLOF_FOR_MEMORY/7_Juróom-Ñaar/AUDIO-2021-05-19-22-01-09.m4a  24712\n"
     ]
    },
    {
     "name": "stderr",
     "output_type": "stream",
     "text": [
      "/home/ibrahimabarry01/anaconda3/lib/python3.8/site-packages/librosa/core/audio.py:162: UserWarning: PySoundFile failed. Trying audioread instead.\n",
      "  warnings.warn(\"PySoundFile failed. Trying audioread instead.\")\n"
     ]
    },
    {
     "name": "stdout",
     "output_type": "stream",
     "text": [
      "190 - name : ./WOLOF_FOR_MEMORY/7_Juróom-Ñaar/AUDIO-2021-05-20-17-49-20.m4a  14047\n"
     ]
    },
    {
     "name": "stderr",
     "output_type": "stream",
     "text": [
      "/home/ibrahimabarry01/anaconda3/lib/python3.8/site-packages/librosa/core/audio.py:162: UserWarning: PySoundFile failed. Trying audioread instead.\n",
      "  warnings.warn(\"PySoundFile failed. Trying audioread instead.\")\n"
     ]
    },
    {
     "name": "stdout",
     "output_type": "stream",
     "text": [
      "191 - name : ./WOLOF_FOR_MEMORY/7_Juróom-Ñaar/AUDIO-2021-05-20-17-58-51.m4a  22788\n"
     ]
    },
    {
     "name": "stderr",
     "output_type": "stream",
     "text": [
      "/home/ibrahimabarry01/anaconda3/lib/python3.8/site-packages/librosa/core/audio.py:162: UserWarning: PySoundFile failed. Trying audioread instead.\n",
      "  warnings.warn(\"PySoundFile failed. Trying audioread instead.\")\n"
     ]
    },
    {
     "name": "stdout",
     "output_type": "stream",
     "text": [
      "192 - name : ./WOLOF_FOR_MEMORY/7_Juróom-Ñaar/AUDIO-2021-05-16-23-16-40.m4a  18709\n"
     ]
    },
    {
     "name": "stderr",
     "output_type": "stream",
     "text": [
      "/home/ibrahimabarry01/anaconda3/lib/python3.8/site-packages/librosa/core/audio.py:162: UserWarning: PySoundFile failed. Trying audioread instead.\n",
      "  warnings.warn(\"PySoundFile failed. Trying audioread instead.\")\n"
     ]
    },
    {
     "name": "stdout",
     "output_type": "stream",
     "text": [
      "193 - name : ./WOLOF_FOR_MEMORY/7_Juróom-Ñaar/AUDIO-2021-05-20-21-03-16.m4a  18669\n"
     ]
    },
    {
     "name": "stderr",
     "output_type": "stream",
     "text": [
      "/home/ibrahimabarry01/anaconda3/lib/python3.8/site-packages/librosa/core/audio.py:162: UserWarning: PySoundFile failed. Trying audioread instead.\n",
      "  warnings.warn(\"PySoundFile failed. Trying audioread instead.\")\n"
     ]
    },
    {
     "name": "stdout",
     "output_type": "stream",
     "text": [
      "194 - name : ./WOLOF_FOR_MEMORY/7_Juróom-Ñaar/AUDIO-2021-05-21-00-25-46.m4a  22347\n"
     ]
    },
    {
     "name": "stderr",
     "output_type": "stream",
     "text": [
      "/home/ibrahimabarry01/anaconda3/lib/python3.8/site-packages/librosa/core/audio.py:162: UserWarning: PySoundFile failed. Trying audioread instead.\n",
      "  warnings.warn(\"PySoundFile failed. Trying audioread instead.\")\n"
     ]
    },
    {
     "name": "stdout",
     "output_type": "stream",
     "text": [
      "195 - name : ./WOLOF_FOR_MEMORY/7_Juróom-Ñaar/AUDIO-2021-05-21-00-12-47.m4a  22978\n"
     ]
    },
    {
     "name": "stderr",
     "output_type": "stream",
     "text": [
      "/home/ibrahimabarry01/anaconda3/lib/python3.8/site-packages/librosa/core/audio.py:162: UserWarning: PySoundFile failed. Trying audioread instead.\n",
      "  warnings.warn(\"PySoundFile failed. Trying audioread instead.\")\n"
     ]
    },
    {
     "name": "stdout",
     "output_type": "stream",
     "text": [
      "196 - name : ./WOLOF_FOR_MEMORY/7_Juróom-Ñaar/AUDIO-2021-05-21-00-47-23.m4a  24100\n"
     ]
    },
    {
     "name": "stderr",
     "output_type": "stream",
     "text": [
      "/home/ibrahimabarry01/anaconda3/lib/python3.8/site-packages/librosa/core/audio.py:162: UserWarning: PySoundFile failed. Trying audioread instead.\n",
      "  warnings.warn(\"PySoundFile failed. Trying audioread instead.\")\n"
     ]
    },
    {
     "name": "stdout",
     "output_type": "stream",
     "text": [
      "197 - name : ./WOLOF_FOR_MEMORY/7_Juróom-Ñaar/AUDIO-2021-05-20-23-57-04.m4a  25511\n"
     ]
    },
    {
     "name": "stderr",
     "output_type": "stream",
     "text": [
      "/home/ibrahimabarry01/anaconda3/lib/python3.8/site-packages/librosa/core/audio.py:162: UserWarning: PySoundFile failed. Trying audioread instead.\n",
      "  warnings.warn(\"PySoundFile failed. Trying audioread instead.\")\n"
     ]
    },
    {
     "name": "stdout",
     "output_type": "stream",
     "text": [
      "198 - name : ./WOLOF_FOR_MEMORY/7_Juróom-Ñaar/AUDIO-2021-05-20-19-51-51.m4a  18034\n"
     ]
    },
    {
     "name": "stderr",
     "output_type": "stream",
     "text": [
      "/home/ibrahimabarry01/anaconda3/lib/python3.8/site-packages/librosa/core/audio.py:162: UserWarning: PySoundFile failed. Trying audioread instead.\n",
      "  warnings.warn(\"PySoundFile failed. Trying audioread instead.\")\n"
     ]
    },
    {
     "name": "stdout",
     "output_type": "stream",
     "text": [
      "199 - name : ./WOLOF_FOR_MEMORY/7_Juróom-Ñaar/AUDIO-2021-05-21-01-03-12.m4a  25354\n"
     ]
    },
    {
     "name": "stderr",
     "output_type": "stream",
     "text": [
      "/home/ibrahimabarry01/anaconda3/lib/python3.8/site-packages/librosa/core/audio.py:162: UserWarning: PySoundFile failed. Trying audioread instead.\n",
      "  warnings.warn(\"PySoundFile failed. Trying audioread instead.\")\n"
     ]
    },
    {
     "name": "stdout",
     "output_type": "stream",
     "text": [
      "200 - name : ./WOLOF_FOR_MEMORY/7_Juróom-Ñaar/AUDIO-2021-05-20-21-28-16.m4a  18389\n"
     ]
    },
    {
     "name": "stderr",
     "output_type": "stream",
     "text": [
      "/home/ibrahimabarry01/anaconda3/lib/python3.8/site-packages/librosa/core/audio.py:162: UserWarning: PySoundFile failed. Trying audioread instead.\n",
      "  warnings.warn(\"PySoundFile failed. Trying audioread instead.\")\n"
     ]
    },
    {
     "name": "stdout",
     "output_type": "stream",
     "text": [
      "201 - name : ./WOLOF_FOR_MEMORY/7_Juróom-Ñaar/AUDIO-2021-05-21-19-33-34.m4a  36377\n"
     ]
    },
    {
     "name": "stderr",
     "output_type": "stream",
     "text": [
      "/home/ibrahimabarry01/anaconda3/lib/python3.8/site-packages/librosa/core/audio.py:162: UserWarning: PySoundFile failed. Trying audioread instead.\n",
      "  warnings.warn(\"PySoundFile failed. Trying audioread instead.\")\n"
     ]
    },
    {
     "name": "stdout",
     "output_type": "stream",
     "text": [
      "202 - name : ./WOLOF_FOR_MEMORY/7_Juróom-Ñaar/AUDIO-2021-05-21-21-38-36.m4a  15438\n"
     ]
    },
    {
     "name": "stderr",
     "output_type": "stream",
     "text": [
      "/home/ibrahimabarry01/anaconda3/lib/python3.8/site-packages/librosa/core/audio.py:162: UserWarning: PySoundFile failed. Trying audioread instead.\n",
      "  warnings.warn(\"PySoundFile failed. Trying audioread instead.\")\n"
     ]
    },
    {
     "name": "stdout",
     "output_type": "stream",
     "text": [
      "203 - name : ./WOLOF_FOR_MEMORY/7_Juróom-Ñaar/AUDIO-2021-05-20-17-39-35.m4a  39089\n"
     ]
    },
    {
     "name": "stderr",
     "output_type": "stream",
     "text": [
      "/home/ibrahimabarry01/anaconda3/lib/python3.8/site-packages/librosa/core/audio.py:162: UserWarning: PySoundFile failed. Trying audioread instead.\n",
      "  warnings.warn(\"PySoundFile failed. Trying audioread instead.\")\n"
     ]
    },
    {
     "name": "stdout",
     "output_type": "stream",
     "text": [
      "204 - name : ./WOLOF_FOR_MEMORY/7_Juróom-Ñaar/AUDIO-2021-05-16-23-32-00.m4a  21697\n"
     ]
    },
    {
     "name": "stderr",
     "output_type": "stream",
     "text": [
      "/home/ibrahimabarry01/anaconda3/lib/python3.8/site-packages/librosa/core/audio.py:162: UserWarning: PySoundFile failed. Trying audioread instead.\n",
      "  warnings.warn(\"PySoundFile failed. Trying audioread instead.\")\n"
     ]
    },
    {
     "name": "stdout",
     "output_type": "stream",
     "text": [
      "205 - name : ./WOLOF_FOR_MEMORY/7_Juróom-Ñaar/AUDIO-2021-05-22-10-47-21.m4a  17243\n",
      " CHIFFRE : :  1_Benn\n"
     ]
    },
    {
     "name": "stderr",
     "output_type": "stream",
     "text": [
      "/home/ibrahimabarry01/anaconda3/lib/python3.8/site-packages/librosa/core/audio.py:162: UserWarning: PySoundFile failed. Trying audioread instead.\n",
      "  warnings.warn(\"PySoundFile failed. Trying audioread instead.\")\n"
     ]
    },
    {
     "name": "stdout",
     "output_type": "stream",
     "text": [
      "206 - name : ./WOLOF_FOR_MEMORY/1_Benn/AUDIO-2021-05-22-20-50-07.m4a  65839\n",
      "mis a 59 m\n"
     ]
    },
    {
     "name": "stderr",
     "output_type": "stream",
     "text": [
      "/home/ibrahimabarry01/anaconda3/lib/python3.8/site-packages/librosa/core/audio.py:162: UserWarning: PySoundFile failed. Trying audioread instead.\n",
      "  warnings.warn(\"PySoundFile failed. Trying audioread instead.\")\n"
     ]
    },
    {
     "name": "stdout",
     "output_type": "stream",
     "text": [
      "207 - name : ./WOLOF_FOR_MEMORY/1_Benn/AUDIO-2021-05-22-19-25-54.m4a  12082\n"
     ]
    },
    {
     "name": "stderr",
     "output_type": "stream",
     "text": [
      "/home/ibrahimabarry01/anaconda3/lib/python3.8/site-packages/librosa/core/audio.py:162: UserWarning: PySoundFile failed. Trying audioread instead.\n",
      "  warnings.warn(\"PySoundFile failed. Trying audioread instead.\")\n"
     ]
    },
    {
     "name": "stdout",
     "output_type": "stream",
     "text": [
      "208 - name : ./WOLOF_FOR_MEMORY/1_Benn/AUDIO-2021-05-22-18-03-41.m4a  11251\n"
     ]
    },
    {
     "name": "stderr",
     "output_type": "stream",
     "text": [
      "/home/ibrahimabarry01/anaconda3/lib/python3.8/site-packages/librosa/core/audio.py:162: UserWarning: PySoundFile failed. Trying audioread instead.\n",
      "  warnings.warn(\"PySoundFile failed. Trying audioread instead.\")\n"
     ]
    },
    {
     "name": "stdout",
     "output_type": "stream",
     "text": [
      "209 - name : ./WOLOF_FOR_MEMORY/1_Benn/AUDIO-2021-05-22-20-03-59.m4a  11707\n"
     ]
    },
    {
     "name": "stderr",
     "output_type": "stream",
     "text": [
      "/home/ibrahimabarry01/anaconda3/lib/python3.8/site-packages/librosa/core/audio.py:162: UserWarning: PySoundFile failed. Trying audioread instead.\n",
      "  warnings.warn(\"PySoundFile failed. Trying audioread instead.\")\n"
     ]
    },
    {
     "name": "stdout",
     "output_type": "stream",
     "text": [
      "210 - name : ./WOLOF_FOR_MEMORY/1_Benn/AUDIO-2021-05-22-14-04-04.m4a  21309\n"
     ]
    },
    {
     "name": "stderr",
     "output_type": "stream",
     "text": [
      "/home/ibrahimabarry01/anaconda3/lib/python3.8/site-packages/librosa/core/audio.py:162: UserWarning: PySoundFile failed. Trying audioread instead.\n",
      "  warnings.warn(\"PySoundFile failed. Trying audioread instead.\")\n"
     ]
    },
    {
     "name": "stdout",
     "output_type": "stream",
     "text": [
      "211 - name : ./WOLOF_FOR_MEMORY/1_Benn/AUDIO-2021-05-22-13-26-54.m4a  43091\n"
     ]
    },
    {
     "name": "stderr",
     "output_type": "stream",
     "text": [
      "/home/ibrahimabarry01/anaconda3/lib/python3.8/site-packages/librosa/core/audio.py:162: UserWarning: PySoundFile failed. Trying audioread instead.\n",
      "  warnings.warn(\"PySoundFile failed. Trying audioread instead.\")\n"
     ]
    },
    {
     "name": "stdout",
     "output_type": "stream",
     "text": [
      "212 - name : ./WOLOF_FOR_MEMORY/1_Benn/AUDIO-2021-05-16-20-15-49.m4a  11599\n"
     ]
    },
    {
     "name": "stderr",
     "output_type": "stream",
     "text": [
      "/home/ibrahimabarry01/anaconda3/lib/python3.8/site-packages/librosa/core/audio.py:162: UserWarning: PySoundFile failed. Trying audioread instead.\n",
      "  warnings.warn(\"PySoundFile failed. Trying audioread instead.\")\n"
     ]
    },
    {
     "name": "stdout",
     "output_type": "stream",
     "text": [
      "213 - name : ./WOLOF_FOR_MEMORY/1_Benn/AUDIO-2021-05-16-20-26-10.m4a  20194\n"
     ]
    },
    {
     "name": "stderr",
     "output_type": "stream",
     "text": [
      "/home/ibrahimabarry01/anaconda3/lib/python3.8/site-packages/librosa/core/audio.py:162: UserWarning: PySoundFile failed. Trying audioread instead.\n",
      "  warnings.warn(\"PySoundFile failed. Trying audioread instead.\")\n"
     ]
    },
    {
     "name": "stdout",
     "output_type": "stream",
     "text": [
      "214 - name : ./WOLOF_FOR_MEMORY/1_Benn/AUDIO-2021-05-16-23-20-45.m4a  11185\n"
     ]
    },
    {
     "name": "stderr",
     "output_type": "stream",
     "text": [
      "/home/ibrahimabarry01/anaconda3/lib/python3.8/site-packages/librosa/core/audio.py:162: UserWarning: PySoundFile failed. Trying audioread instead.\n",
      "  warnings.warn(\"PySoundFile failed. Trying audioread instead.\")\n"
     ]
    },
    {
     "name": "stdout",
     "output_type": "stream",
     "text": [
      "215 - name : ./WOLOF_FOR_MEMORY/1_Benn/AUDIO-2021-05-16-23-49-23.m4a  8683\n"
     ]
    },
    {
     "name": "stderr",
     "output_type": "stream",
     "text": [
      "/home/ibrahimabarry01/anaconda3/lib/python3.8/site-packages/librosa/core/audio.py:162: UserWarning: PySoundFile failed. Trying audioread instead.\n",
      "  warnings.warn(\"PySoundFile failed. Trying audioread instead.\")\n"
     ]
    },
    {
     "name": "stdout",
     "output_type": "stream",
     "text": [
      "216 - name : ./WOLOF_FOR_MEMORY/1_Benn/AUDIO-2021-05-17-00-06-12.m4a  11595\n"
     ]
    },
    {
     "name": "stderr",
     "output_type": "stream",
     "text": [
      "/home/ibrahimabarry01/anaconda3/lib/python3.8/site-packages/librosa/core/audio.py:162: UserWarning: PySoundFile failed. Trying audioread instead.\n",
      "  warnings.warn(\"PySoundFile failed. Trying audioread instead.\")\n"
     ]
    },
    {
     "name": "stdout",
     "output_type": "stream",
     "text": [
      "217 - name : ./WOLOF_FOR_MEMORY/1_Benn/AUDIO-2021-05-11-15-19-53.m4a  11934\n"
     ]
    },
    {
     "name": "stderr",
     "output_type": "stream",
     "text": [
      "/home/ibrahimabarry01/anaconda3/lib/python3.8/site-packages/librosa/core/audio.py:162: UserWarning: PySoundFile failed. Trying audioread instead.\n",
      "  warnings.warn(\"PySoundFile failed. Trying audioread instead.\")\n"
     ]
    },
    {
     "name": "stdout",
     "output_type": "stream",
     "text": [
      "218 - name : ./WOLOF_FOR_MEMORY/1_Benn/AUDIO-2021-05-18-01-10-21.m4a  15197\n"
     ]
    },
    {
     "name": "stderr",
     "output_type": "stream",
     "text": [
      "/home/ibrahimabarry01/anaconda3/lib/python3.8/site-packages/librosa/core/audio.py:162: UserWarning: PySoundFile failed. Trying audioread instead.\n",
      "  warnings.warn(\"PySoundFile failed. Trying audioread instead.\")\n"
     ]
    },
    {
     "name": "stdout",
     "output_type": "stream",
     "text": [
      "219 - name : ./WOLOF_FOR_MEMORY/1_Benn/AUDIO-2021-05-18-14-34-11.m4a  14038\n"
     ]
    },
    {
     "name": "stderr",
     "output_type": "stream",
     "text": [
      "/home/ibrahimabarry01/anaconda3/lib/python3.8/site-packages/librosa/core/audio.py:162: UserWarning: PySoundFile failed. Trying audioread instead.\n",
      "  warnings.warn(\"PySoundFile failed. Trying audioread instead.\")\n"
     ]
    },
    {
     "name": "stdout",
     "output_type": "stream",
     "text": [
      "220 - name : ./WOLOF_FOR_MEMORY/1_Benn/AUDIO-2021-05-18-19-53-04.m4a  10994\n"
     ]
    },
    {
     "name": "stderr",
     "output_type": "stream",
     "text": [
      "/home/ibrahimabarry01/anaconda3/lib/python3.8/site-packages/librosa/core/audio.py:162: UserWarning: PySoundFile failed. Trying audioread instead.\n",
      "  warnings.warn(\"PySoundFile failed. Trying audioread instead.\")\n"
     ]
    },
    {
     "name": "stdout",
     "output_type": "stream",
     "text": [
      "221 - name : ./WOLOF_FOR_MEMORY/1_Benn/AUDIO-2021-05-18-21-52-09.m4a  14352\n"
     ]
    },
    {
     "name": "stderr",
     "output_type": "stream",
     "text": [
      "/home/ibrahimabarry01/anaconda3/lib/python3.8/site-packages/librosa/core/audio.py:162: UserWarning: PySoundFile failed. Trying audioread instead.\n",
      "  warnings.warn(\"PySoundFile failed. Trying audioread instead.\")\n"
     ]
    },
    {
     "name": "stdout",
     "output_type": "stream",
     "text": [
      "222 - name : ./WOLOF_FOR_MEMORY/1_Benn/AUDIO-2021-05-18-21-01-21.m4a  14775\n"
     ]
    },
    {
     "name": "stderr",
     "output_type": "stream",
     "text": [
      "/home/ibrahimabarry01/anaconda3/lib/python3.8/site-packages/librosa/core/audio.py:162: UserWarning: PySoundFile failed. Trying audioread instead.\n",
      "  warnings.warn(\"PySoundFile failed. Trying audioread instead.\")\n"
     ]
    },
    {
     "name": "stdout",
     "output_type": "stream",
     "text": [
      "223 - name : ./WOLOF_FOR_MEMORY/1_Benn/AUDIO-2021-05-19-21-38-57.m4a  13269\n"
     ]
    },
    {
     "name": "stderr",
     "output_type": "stream",
     "text": [
      "/home/ibrahimabarry01/anaconda3/lib/python3.8/site-packages/librosa/core/audio.py:162: UserWarning: PySoundFile failed. Trying audioread instead.\n",
      "  warnings.warn(\"PySoundFile failed. Trying audioread instead.\")\n"
     ]
    },
    {
     "name": "stdout",
     "output_type": "stream",
     "text": [
      "224 - name : ./WOLOF_FOR_MEMORY/1_Benn/AUDIO-2021-05-19-22-00-07.m4a  10254\n"
     ]
    },
    {
     "name": "stderr",
     "output_type": "stream",
     "text": [
      "/home/ibrahimabarry01/anaconda3/lib/python3.8/site-packages/librosa/core/audio.py:162: UserWarning: PySoundFile failed. Trying audioread instead.\n",
      "  warnings.warn(\"PySoundFile failed. Trying audioread instead.\")\n"
     ]
    },
    {
     "name": "stdout",
     "output_type": "stream",
     "text": [
      "225 - name : ./WOLOF_FOR_MEMORY/1_Benn/AUDIO-2021-05-20-17-48-37.m4a  10349\n"
     ]
    },
    {
     "name": "stderr",
     "output_type": "stream",
     "text": [
      "/home/ibrahimabarry01/anaconda3/lib/python3.8/site-packages/librosa/core/audio.py:162: UserWarning: PySoundFile failed. Trying audioread instead.\n",
      "  warnings.warn(\"PySoundFile failed. Trying audioread instead.\")\n"
     ]
    },
    {
     "name": "stdout",
     "output_type": "stream",
     "text": [
      "226 - name : ./WOLOF_FOR_MEMORY/1_Benn/AUDIO-2021-05-16-23-16-19.m4a  8441\n"
     ]
    },
    {
     "name": "stderr",
     "output_type": "stream",
     "text": [
      "/home/ibrahimabarry01/anaconda3/lib/python3.8/site-packages/librosa/core/audio.py:162: UserWarning: PySoundFile failed. Trying audioread instead.\n",
      "  warnings.warn(\"PySoundFile failed. Trying audioread instead.\")\n"
     ]
    },
    {
     "name": "stdout",
     "output_type": "stream",
     "text": [
      "227 - name : ./WOLOF_FOR_MEMORY/1_Benn/AUDIO-2021-05-20-16-12-53.m4a  26742\n"
     ]
    },
    {
     "name": "stderr",
     "output_type": "stream",
     "text": [
      "/home/ibrahimabarry01/anaconda3/lib/python3.8/site-packages/librosa/core/audio.py:162: UserWarning: PySoundFile failed. Trying audioread instead.\n",
      "  warnings.warn(\"PySoundFile failed. Trying audioread instead.\")\n"
     ]
    },
    {
     "name": "stdout",
     "output_type": "stream",
     "text": [
      "228 - name : ./WOLOF_FOR_MEMORY/1_Benn/AUDIO-2021-05-20-21-03-12.m4a  19037\n"
     ]
    },
    {
     "name": "stderr",
     "output_type": "stream",
     "text": [
      "/home/ibrahimabarry01/anaconda3/lib/python3.8/site-packages/librosa/core/audio.py:162: UserWarning: PySoundFile failed. Trying audioread instead.\n",
      "  warnings.warn(\"PySoundFile failed. Trying audioread instead.\")\n"
     ]
    },
    {
     "name": "stdout",
     "output_type": "stream",
     "text": [
      "229 - name : ./WOLOF_FOR_MEMORY/1_Benn/AUDIO-2021-05-21-00-23-16.m4a  9548\n"
     ]
    },
    {
     "name": "stderr",
     "output_type": "stream",
     "text": [
      "/home/ibrahimabarry01/anaconda3/lib/python3.8/site-packages/librosa/core/audio.py:162: UserWarning: PySoundFile failed. Trying audioread instead.\n",
      "  warnings.warn(\"PySoundFile failed. Trying audioread instead.\")\n"
     ]
    },
    {
     "name": "stdout",
     "output_type": "stream",
     "text": [
      "230 - name : ./WOLOF_FOR_MEMORY/1_Benn/AUDIO-2021-05-21-00-12-27.m4a  16441\n"
     ]
    },
    {
     "name": "stderr",
     "output_type": "stream",
     "text": [
      "/home/ibrahimabarry01/anaconda3/lib/python3.8/site-packages/librosa/core/audio.py:162: UserWarning: PySoundFile failed. Trying audioread instead.\n",
      "  warnings.warn(\"PySoundFile failed. Trying audioread instead.\")\n"
     ]
    },
    {
     "name": "stdout",
     "output_type": "stream",
     "text": [
      "231 - name : ./WOLOF_FOR_MEMORY/1_Benn/AUDIO-2021-05-21-00-43-57.m4a  14189\n"
     ]
    },
    {
     "name": "stderr",
     "output_type": "stream",
     "text": [
      "/home/ibrahimabarry01/anaconda3/lib/python3.8/site-packages/librosa/core/audio.py:162: UserWarning: PySoundFile failed. Trying audioread instead.\n",
      "  warnings.warn(\"PySoundFile failed. Trying audioread instead.\")\n"
     ]
    },
    {
     "name": "stdout",
     "output_type": "stream",
     "text": [
      "232 - name : ./WOLOF_FOR_MEMORY/1_Benn/AUDIO-2021-05-20-23-55-28.m4a  20241\n"
     ]
    },
    {
     "name": "stderr",
     "output_type": "stream",
     "text": [
      "/home/ibrahimabarry01/anaconda3/lib/python3.8/site-packages/librosa/core/audio.py:162: UserWarning: PySoundFile failed. Trying audioread instead.\n",
      "  warnings.warn(\"PySoundFile failed. Trying audioread instead.\")\n"
     ]
    },
    {
     "name": "stdout",
     "output_type": "stream",
     "text": [
      "233 - name : ./WOLOF_FOR_MEMORY/1_Benn/AUDIO-2021-05-20-19-50-13.m4a  11027\n"
     ]
    },
    {
     "name": "stderr",
     "output_type": "stream",
     "text": [
      "/home/ibrahimabarry01/anaconda3/lib/python3.8/site-packages/librosa/core/audio.py:162: UserWarning: PySoundFile failed. Trying audioread instead.\n",
      "  warnings.warn(\"PySoundFile failed. Trying audioread instead.\")\n"
     ]
    },
    {
     "name": "stdout",
     "output_type": "stream",
     "text": [
      "234 - name : ./WOLOF_FOR_MEMORY/1_Benn/AUDIO-2021-05-21-01-01-41.m4a  9804\n"
     ]
    },
    {
     "name": "stderr",
     "output_type": "stream",
     "text": [
      "/home/ibrahimabarry01/anaconda3/lib/python3.8/site-packages/librosa/core/audio.py:162: UserWarning: PySoundFile failed. Trying audioread instead.\n",
      "  warnings.warn(\"PySoundFile failed. Trying audioread instead.\")\n"
     ]
    },
    {
     "name": "stdout",
     "output_type": "stream",
     "text": [
      "235 - name : ./WOLOF_FOR_MEMORY/1_Benn/AUDIO-2021-05-20-21-27-36.m4a  13877\n"
     ]
    },
    {
     "name": "stderr",
     "output_type": "stream",
     "text": [
      "/home/ibrahimabarry01/anaconda3/lib/python3.8/site-packages/librosa/core/audio.py:162: UserWarning: PySoundFile failed. Trying audioread instead.\n",
      "  warnings.warn(\"PySoundFile failed. Trying audioread instead.\")\n"
     ]
    },
    {
     "name": "stdout",
     "output_type": "stream",
     "text": [
      "236 - name : ./WOLOF_FOR_MEMORY/1_Benn/AUDIO-2021-05-21-19-33-29.m4a  55981\n"
     ]
    },
    {
     "name": "stderr",
     "output_type": "stream",
     "text": [
      "/home/ibrahimabarry01/anaconda3/lib/python3.8/site-packages/librosa/core/audio.py:162: UserWarning: PySoundFile failed. Trying audioread instead.\n",
      "  warnings.warn(\"PySoundFile failed. Trying audioread instead.\")\n"
     ]
    },
    {
     "name": "stdout",
     "output_type": "stream",
     "text": [
      "237 - name : ./WOLOF_FOR_MEMORY/1_Benn/AUDIO-2021-05-21-21-36-49.m4a  23010\n"
     ]
    },
    {
     "name": "stderr",
     "output_type": "stream",
     "text": [
      "/home/ibrahimabarry01/anaconda3/lib/python3.8/site-packages/librosa/core/audio.py:162: UserWarning: PySoundFile failed. Trying audioread instead.\n",
      "  warnings.warn(\"PySoundFile failed. Trying audioread instead.\")\n"
     ]
    },
    {
     "name": "stdout",
     "output_type": "stream",
     "text": [
      "238 - name : ./WOLOF_FOR_MEMORY/1_Benn/AUDIO-2021-05-20-17-34-09.m4a  16856\n"
     ]
    },
    {
     "name": "stderr",
     "output_type": "stream",
     "text": [
      "/home/ibrahimabarry01/anaconda3/lib/python3.8/site-packages/librosa/core/audio.py:162: UserWarning: PySoundFile failed. Trying audioread instead.\n",
      "  warnings.warn(\"PySoundFile failed. Trying audioread instead.\")\n"
     ]
    },
    {
     "name": "stdout",
     "output_type": "stream",
     "text": [
      "239 - name : ./WOLOF_FOR_MEMORY/1_Benn/AUDIO-2021-05-16-23-30-37.m4a  11265\n"
     ]
    },
    {
     "name": "stderr",
     "output_type": "stream",
     "text": [
      "/home/ibrahimabarry01/anaconda3/lib/python3.8/site-packages/librosa/core/audio.py:162: UserWarning: PySoundFile failed. Trying audioread instead.\n",
      "  warnings.warn(\"PySoundFile failed. Trying audioread instead.\")\n"
     ]
    },
    {
     "name": "stdout",
     "output_type": "stream",
     "text": [
      "240 - name : ./WOLOF_FOR_MEMORY/1_Benn/AUDIO-2021-05-22-10-45-37.m4a  13291\n",
      " CHIFFRE : :  9_Juróom-Ñent\n"
     ]
    },
    {
     "name": "stderr",
     "output_type": "stream",
     "text": [
      "/home/ibrahimabarry01/anaconda3/lib/python3.8/site-packages/librosa/core/audio.py:162: UserWarning: PySoundFile failed. Trying audioread instead.\n",
      "  warnings.warn(\"PySoundFile failed. Trying audioread instead.\")\n"
     ]
    },
    {
     "name": "stdout",
     "output_type": "stream",
     "text": [
      "241 - name : ./WOLOF_FOR_MEMORY/9_Juróom-Ñent/AUDIO-2021-05-22-20-51-46.m4a  41673\n"
     ]
    },
    {
     "name": "stderr",
     "output_type": "stream",
     "text": [
      "/home/ibrahimabarry01/anaconda3/lib/python3.8/site-packages/librosa/core/audio.py:162: UserWarning: PySoundFile failed. Trying audioread instead.\n",
      "  warnings.warn(\"PySoundFile failed. Trying audioread instead.\")\n"
     ]
    },
    {
     "name": "stdout",
     "output_type": "stream",
     "text": [
      "242 - name : ./WOLOF_FOR_MEMORY/9_Juróom-Ñent/AUDIO-2021-05-22-19-26-27.m4a  23113\n"
     ]
    },
    {
     "name": "stderr",
     "output_type": "stream",
     "text": [
      "/home/ibrahimabarry01/anaconda3/lib/python3.8/site-packages/librosa/core/audio.py:162: UserWarning: PySoundFile failed. Trying audioread instead.\n",
      "  warnings.warn(\"PySoundFile failed. Trying audioread instead.\")\n"
     ]
    },
    {
     "name": "stdout",
     "output_type": "stream",
     "text": [
      "243 - name : ./WOLOF_FOR_MEMORY/9_Juróom-Ñent/AUDIO-2021-05-22-18-04-11.m4a  18671\n"
     ]
    },
    {
     "name": "stderr",
     "output_type": "stream",
     "text": [
      "/home/ibrahimabarry01/anaconda3/lib/python3.8/site-packages/librosa/core/audio.py:162: UserWarning: PySoundFile failed. Trying audioread instead.\n",
      "  warnings.warn(\"PySoundFile failed. Trying audioread instead.\")\n"
     ]
    },
    {
     "name": "stdout",
     "output_type": "stream",
     "text": [
      "244 - name : ./WOLOF_FOR_MEMORY/9_Juróom-Ñent/AUDIO-2021-05-22-20-04-34.m4a  31605\n"
     ]
    },
    {
     "name": "stderr",
     "output_type": "stream",
     "text": [
      "/home/ibrahimabarry01/anaconda3/lib/python3.8/site-packages/librosa/core/audio.py:162: UserWarning: PySoundFile failed. Trying audioread instead.\n",
      "  warnings.warn(\"PySoundFile failed. Trying audioread instead.\")\n"
     ]
    },
    {
     "name": "stdout",
     "output_type": "stream",
     "text": [
      "245 - name : ./WOLOF_FOR_MEMORY/9_Juróom-Ñent/AUDIO-2021-05-22-14-04-43.m4a  31360\n"
     ]
    },
    {
     "name": "stderr",
     "output_type": "stream",
     "text": [
      "/home/ibrahimabarry01/anaconda3/lib/python3.8/site-packages/librosa/core/audio.py:162: UserWarning: PySoundFile failed. Trying audioread instead.\n",
      "  warnings.warn(\"PySoundFile failed. Trying audioread instead.\")\n"
     ]
    },
    {
     "name": "stdout",
     "output_type": "stream",
     "text": [
      "246 - name : ./WOLOF_FOR_MEMORY/9_Juróom-Ñent/AUDIO-2021-05-22-13-27-54.m4a  38657\n"
     ]
    },
    {
     "name": "stderr",
     "output_type": "stream",
     "text": [
      "/home/ibrahimabarry01/anaconda3/lib/python3.8/site-packages/librosa/core/audio.py:162: UserWarning: PySoundFile failed. Trying audioread instead.\n",
      "  warnings.warn(\"PySoundFile failed. Trying audioread instead.\")\n"
     ]
    },
    {
     "name": "stdout",
     "output_type": "stream",
     "text": [
      "247 - name : ./WOLOF_FOR_MEMORY/9_Juróom-Ñent/AUDIO-2021-05-16-20-17-09.m4a  20223\n"
     ]
    },
    {
     "name": "stderr",
     "output_type": "stream",
     "text": [
      "/home/ibrahimabarry01/anaconda3/lib/python3.8/site-packages/librosa/core/audio.py:162: UserWarning: PySoundFile failed. Trying audioread instead.\n",
      "  warnings.warn(\"PySoundFile failed. Trying audioread instead.\")\n"
     ]
    },
    {
     "name": "stdout",
     "output_type": "stream",
     "text": [
      "248 - name : ./WOLOF_FOR_MEMORY/9_Juróom-Ñent/AUDIO-2021-05-16-20-28-27.m4a  19056\n"
     ]
    },
    {
     "name": "stderr",
     "output_type": "stream",
     "text": [
      "/home/ibrahimabarry01/anaconda3/lib/python3.8/site-packages/librosa/core/audio.py:162: UserWarning: PySoundFile failed. Trying audioread instead.\n",
      "  warnings.warn(\"PySoundFile failed. Trying audioread instead.\")\n"
     ]
    },
    {
     "name": "stdout",
     "output_type": "stream",
     "text": [
      "249 - name : ./WOLOF_FOR_MEMORY/9_Juróom-Ñent/AUDIO-2021-05-16-23-21-26.m4a  19882\n"
     ]
    },
    {
     "name": "stderr",
     "output_type": "stream",
     "text": [
      "/home/ibrahimabarry01/anaconda3/lib/python3.8/site-packages/librosa/core/audio.py:162: UserWarning: PySoundFile failed. Trying audioread instead.\n",
      "  warnings.warn(\"PySoundFile failed. Trying audioread instead.\")\n"
     ]
    },
    {
     "name": "stdout",
     "output_type": "stream",
     "text": [
      "250 - name : ./WOLOF_FOR_MEMORY/9_Juróom-Ñent/AUDIO-2021-05-16-23-52-19.m4a  19182\n"
     ]
    },
    {
     "name": "stderr",
     "output_type": "stream",
     "text": [
      "/home/ibrahimabarry01/anaconda3/lib/python3.8/site-packages/librosa/core/audio.py:162: UserWarning: PySoundFile failed. Trying audioread instead.\n",
      "  warnings.warn(\"PySoundFile failed. Trying audioread instead.\")\n"
     ]
    },
    {
     "name": "stdout",
     "output_type": "stream",
     "text": [
      "251 - name : ./WOLOF_FOR_MEMORY/9_Juróom-Ñent/AUDIO-2021-05-17-00-06-58.m4a  22655\n"
     ]
    },
    {
     "name": "stderr",
     "output_type": "stream",
     "text": [
      "/home/ibrahimabarry01/anaconda3/lib/python3.8/site-packages/librosa/core/audio.py:162: UserWarning: PySoundFile failed. Trying audioread instead.\n",
      "  warnings.warn(\"PySoundFile failed. Trying audioread instead.\")\n"
     ]
    },
    {
     "name": "stdout",
     "output_type": "stream",
     "text": [
      "252 - name : ./WOLOF_FOR_MEMORY/9_Juróom-Ñent/AUDIO-2021-05-11-15-22-25.m4a  24457\n"
     ]
    },
    {
     "name": "stderr",
     "output_type": "stream",
     "text": [
      "/home/ibrahimabarry01/anaconda3/lib/python3.8/site-packages/librosa/core/audio.py:162: UserWarning: PySoundFile failed. Trying audioread instead.\n",
      "  warnings.warn(\"PySoundFile failed. Trying audioread instead.\")\n"
     ]
    },
    {
     "name": "stdout",
     "output_type": "stream",
     "text": [
      "253 - name : ./WOLOF_FOR_MEMORY/9_Juróom-Ñent/AUDIO-2021-05-18-14-34-44.m4a  17999\n"
     ]
    },
    {
     "name": "stderr",
     "output_type": "stream",
     "text": [
      "/home/ibrahimabarry01/anaconda3/lib/python3.8/site-packages/librosa/core/audio.py:162: UserWarning: PySoundFile failed. Trying audioread instead.\n",
      "  warnings.warn(\"PySoundFile failed. Trying audioread instead.\")\n"
     ]
    },
    {
     "name": "stdout",
     "output_type": "stream",
     "text": [
      "254 - name : ./WOLOF_FOR_MEMORY/9_Juróom-Ñent/AUDIO-2021-05-18-19-55-18.m4a  23493\n"
     ]
    },
    {
     "name": "stderr",
     "output_type": "stream",
     "text": [
      "/home/ibrahimabarry01/anaconda3/lib/python3.8/site-packages/librosa/core/audio.py:162: UserWarning: PySoundFile failed. Trying audioread instead.\n",
      "  warnings.warn(\"PySoundFile failed. Trying audioread instead.\")\n"
     ]
    },
    {
     "name": "stdout",
     "output_type": "stream",
     "text": [
      "255 - name : ./WOLOF_FOR_MEMORY/9_Juróom-Ñent/AUDIO-2021-05-18-20-59-14_2.m4a  21862\n"
     ]
    },
    {
     "name": "stderr",
     "output_type": "stream",
     "text": [
      "/home/ibrahimabarry01/anaconda3/lib/python3.8/site-packages/librosa/core/audio.py:162: UserWarning: PySoundFile failed. Trying audioread instead.\n",
      "  warnings.warn(\"PySoundFile failed. Trying audioread instead.\")\n"
     ]
    },
    {
     "name": "stdout",
     "output_type": "stream",
     "text": [
      "256 - name : ./WOLOF_FOR_MEMORY/9_Juróom-Ñent/AUDIO-2021-05-19-21-40-30.m4a  19902\n"
     ]
    },
    {
     "name": "stderr",
     "output_type": "stream",
     "text": [
      "/home/ibrahimabarry01/anaconda3/lib/python3.8/site-packages/librosa/core/audio.py:162: UserWarning: PySoundFile failed. Trying audioread instead.\n",
      "  warnings.warn(\"PySoundFile failed. Trying audioread instead.\")\n"
     ]
    },
    {
     "name": "stdout",
     "output_type": "stream",
     "text": [
      "257 - name : ./WOLOF_FOR_MEMORY/9_Juróom-Ñent/AUDIO-2021-05-19-22-01-30.m4a  19767\n"
     ]
    },
    {
     "name": "stderr",
     "output_type": "stream",
     "text": [
      "/home/ibrahimabarry01/anaconda3/lib/python3.8/site-packages/librosa/core/audio.py:162: UserWarning: PySoundFile failed. Trying audioread instead.\n",
      "  warnings.warn(\"PySoundFile failed. Trying audioread instead.\")\n"
     ]
    },
    {
     "name": "stdout",
     "output_type": "stream",
     "text": [
      "258 - name : ./WOLOF_FOR_MEMORY/9_Juróom-Ñent/AUDIO-2021-05-20-17-49-31.m4a  13559\n"
     ]
    },
    {
     "name": "stderr",
     "output_type": "stream",
     "text": [
      "/home/ibrahimabarry01/anaconda3/lib/python3.8/site-packages/librosa/core/audio.py:162: UserWarning: PySoundFile failed. Trying audioread instead.\n",
      "  warnings.warn(\"PySoundFile failed. Trying audioread instead.\")\n"
     ]
    },
    {
     "name": "stdout",
     "output_type": "stream",
     "text": [
      "259 - name : ./WOLOF_FOR_MEMORY/9_Juróom-Ñent/AUDIO-2021-05-20-17-59-30.m4a  20314\n"
     ]
    },
    {
     "name": "stderr",
     "output_type": "stream",
     "text": [
      "/home/ibrahimabarry01/anaconda3/lib/python3.8/site-packages/librosa/core/audio.py:162: UserWarning: PySoundFile failed. Trying audioread instead.\n",
      "  warnings.warn(\"PySoundFile failed. Trying audioread instead.\")\n"
     ]
    },
    {
     "name": "stdout",
     "output_type": "stream",
     "text": [
      "260 - name : ./WOLOF_FOR_MEMORY/9_Juróom-Ñent/AUDIO-2021-05-16-23-16-47.m4a  28928\n"
     ]
    },
    {
     "name": "stderr",
     "output_type": "stream",
     "text": [
      "/home/ibrahimabarry01/anaconda3/lib/python3.8/site-packages/librosa/core/audio.py:162: UserWarning: PySoundFile failed. Trying audioread instead.\n",
      "  warnings.warn(\"PySoundFile failed. Trying audioread instead.\")\n"
     ]
    },
    {
     "name": "stdout",
     "output_type": "stream",
     "text": [
      "261 - name : ./WOLOF_FOR_MEMORY/9_Juróom-Ñent/AUDIO-2021-05-20-21-03-21.m4a  21361\n"
     ]
    },
    {
     "name": "stderr",
     "output_type": "stream",
     "text": [
      "/home/ibrahimabarry01/anaconda3/lib/python3.8/site-packages/librosa/core/audio.py:162: UserWarning: PySoundFile failed. Trying audioread instead.\n",
      "  warnings.warn(\"PySoundFile failed. Trying audioread instead.\")\n"
     ]
    },
    {
     "name": "stdout",
     "output_type": "stream",
     "text": [
      "262 - name : ./WOLOF_FOR_MEMORY/9_Juróom-Ñent/AUDIO-2021-05-21-00-26-10.m4a  24035\n"
     ]
    },
    {
     "name": "stderr",
     "output_type": "stream",
     "text": [
      "/home/ibrahimabarry01/anaconda3/lib/python3.8/site-packages/librosa/core/audio.py:162: UserWarning: PySoundFile failed. Trying audioread instead.\n",
      "  warnings.warn(\"PySoundFile failed. Trying audioread instead.\")\n"
     ]
    },
    {
     "name": "stdout",
     "output_type": "stream",
     "text": [
      "263 - name : ./WOLOF_FOR_MEMORY/9_Juróom-Ñent/AUDIO-2021-05-21-00-12-54.m4a  27887\n"
     ]
    },
    {
     "name": "stderr",
     "output_type": "stream",
     "text": [
      "/home/ibrahimabarry01/anaconda3/lib/python3.8/site-packages/librosa/core/audio.py:162: UserWarning: PySoundFile failed. Trying audioread instead.\n",
      "  warnings.warn(\"PySoundFile failed. Trying audioread instead.\")\n"
     ]
    },
    {
     "name": "stdout",
     "output_type": "stream",
     "text": [
      "264 - name : ./WOLOF_FOR_MEMORY/9_Juróom-Ñent/AUDIO-2021-05-20-23-57-49.m4a  34595\n"
     ]
    },
    {
     "name": "stderr",
     "output_type": "stream",
     "text": [
      "/home/ibrahimabarry01/anaconda3/lib/python3.8/site-packages/librosa/core/audio.py:162: UserWarning: PySoundFile failed. Trying audioread instead.\n",
      "  warnings.warn(\"PySoundFile failed. Trying audioread instead.\")\n"
     ]
    },
    {
     "name": "stdout",
     "output_type": "stream",
     "text": [
      "265 - name : ./WOLOF_FOR_MEMORY/9_Juróom-Ñent/AUDIO-2021-05-20-19-52-25.m4a  30194\n"
     ]
    },
    {
     "name": "stderr",
     "output_type": "stream",
     "text": [
      "/home/ibrahimabarry01/anaconda3/lib/python3.8/site-packages/librosa/core/audio.py:162: UserWarning: PySoundFile failed. Trying audioread instead.\n",
      "  warnings.warn(\"PySoundFile failed. Trying audioread instead.\")\n"
     ]
    },
    {
     "name": "stdout",
     "output_type": "stream",
     "text": [
      "266 - name : ./WOLOF_FOR_MEMORY/9_Juróom-Ñent/AUDIO-2021-05-21-01-03-24.m4a  18909\n"
     ]
    },
    {
     "name": "stderr",
     "output_type": "stream",
     "text": [
      "/home/ibrahimabarry01/anaconda3/lib/python3.8/site-packages/librosa/core/audio.py:162: UserWarning: PySoundFile failed. Trying audioread instead.\n",
      "  warnings.warn(\"PySoundFile failed. Trying audioread instead.\")\n"
     ]
    },
    {
     "name": "stdout",
     "output_type": "stream",
     "text": [
      "267 - name : ./WOLOF_FOR_MEMORY/9_Juróom-Ñent/AUDIO-2021-05-20-21-28-27.m4a  19642\n"
     ]
    },
    {
     "name": "stderr",
     "output_type": "stream",
     "text": [
      "/home/ibrahimabarry01/anaconda3/lib/python3.8/site-packages/librosa/core/audio.py:162: UserWarning: PySoundFile failed. Trying audioread instead.\n",
      "  warnings.warn(\"PySoundFile failed. Trying audioread instead.\")\n"
     ]
    },
    {
     "name": "stdout",
     "output_type": "stream",
     "text": [
      "268 - name : ./WOLOF_FOR_MEMORY/9_Juróom-Ñent/AUDIO-2021-05-21-19-33-32.m4a  24161\n"
     ]
    },
    {
     "name": "stderr",
     "output_type": "stream",
     "text": [
      "/home/ibrahimabarry01/anaconda3/lib/python3.8/site-packages/librosa/core/audio.py:162: UserWarning: PySoundFile failed. Trying audioread instead.\n",
      "  warnings.warn(\"PySoundFile failed. Trying audioread instead.\")\n"
     ]
    },
    {
     "name": "stdout",
     "output_type": "stream",
     "text": [
      "269 - name : ./WOLOF_FOR_MEMORY/9_Juróom-Ñent/AUDIO-2021-05-21-21-39-05.m4a  18049\n"
     ]
    },
    {
     "name": "stderr",
     "output_type": "stream",
     "text": [
      "/home/ibrahimabarry01/anaconda3/lib/python3.8/site-packages/librosa/core/audio.py:162: UserWarning: PySoundFile failed. Trying audioread instead.\n",
      "  warnings.warn(\"PySoundFile failed. Trying audioread instead.\")\n"
     ]
    },
    {
     "name": "stdout",
     "output_type": "stream",
     "text": [
      "270 - name : ./WOLOF_FOR_MEMORY/9_Juróom-Ñent/AUDIO-2021-05-20-17-40-05.m4a  45293\n"
     ]
    },
    {
     "name": "stderr",
     "output_type": "stream",
     "text": [
      "/home/ibrahimabarry01/anaconda3/lib/python3.8/site-packages/librosa/core/audio.py:162: UserWarning: PySoundFile failed. Trying audioread instead.\n",
      "  warnings.warn(\"PySoundFile failed. Trying audioread instead.\")\n"
     ]
    },
    {
     "name": "stdout",
     "output_type": "stream",
     "text": [
      "271 - name : ./WOLOF_FOR_MEMORY/9_Juróom-Ñent/AUDIO-2021-05-16-23-32-20.m4a  24043\n"
     ]
    },
    {
     "name": "stderr",
     "output_type": "stream",
     "text": [
      "/home/ibrahimabarry01/anaconda3/lib/python3.8/site-packages/librosa/core/audio.py:162: UserWarning: PySoundFile failed. Trying audioread instead.\n",
      "  warnings.warn(\"PySoundFile failed. Trying audioread instead.\")\n"
     ]
    },
    {
     "name": "stdout",
     "output_type": "stream",
     "text": [
      "272 - name : ./WOLOF_FOR_MEMORY/9_Juróom-Ñent/AUDIO-2021-05-22-10-47-29.m4a  24789\n",
      " CHIFFRE : :  2_Ñaar\n"
     ]
    },
    {
     "name": "stderr",
     "output_type": "stream",
     "text": [
      "/home/ibrahimabarry01/anaconda3/lib/python3.8/site-packages/librosa/core/audio.py:162: UserWarning: PySoundFile failed. Trying audioread instead.\n",
      "  warnings.warn(\"PySoundFile failed. Trying audioread instead.\")\n"
     ]
    },
    {
     "name": "stdout",
     "output_type": "stream",
     "text": [
      "273 - name : ./WOLOF_FOR_MEMORY/2_Ñaar/AUDIO-2021-05-22-20-50-19.m4a  39853\n"
     ]
    },
    {
     "name": "stderr",
     "output_type": "stream",
     "text": [
      "/home/ibrahimabarry01/anaconda3/lib/python3.8/site-packages/librosa/core/audio.py:162: UserWarning: PySoundFile failed. Trying audioread instead.\n",
      "  warnings.warn(\"PySoundFile failed. Trying audioread instead.\")\n"
     ]
    },
    {
     "name": "stdout",
     "output_type": "stream",
     "text": [
      "274 - name : ./WOLOF_FOR_MEMORY/2_Ñaar/AUDIO-2021-05-22-19-26-00.m4a  14495\n"
     ]
    },
    {
     "name": "stderr",
     "output_type": "stream",
     "text": [
      "/home/ibrahimabarry01/anaconda3/lib/python3.8/site-packages/librosa/core/audio.py:162: UserWarning: PySoundFile failed. Trying audioread instead.\n",
      "  warnings.warn(\"PySoundFile failed. Trying audioread instead.\")\n"
     ]
    },
    {
     "name": "stdout",
     "output_type": "stream",
     "text": [
      "275 - name : ./WOLOF_FOR_MEMORY/2_Ñaar/AUDIO-2021-05-22-18-03-43.m4a  12431\n"
     ]
    },
    {
     "name": "stderr",
     "output_type": "stream",
     "text": [
      "/home/ibrahimabarry01/anaconda3/lib/python3.8/site-packages/librosa/core/audio.py:162: UserWarning: PySoundFile failed. Trying audioread instead.\n",
      "  warnings.warn(\"PySoundFile failed. Trying audioread instead.\")\n"
     ]
    },
    {
     "name": "stdout",
     "output_type": "stream",
     "text": [
      "276 - name : ./WOLOF_FOR_MEMORY/2_Ñaar/AUDIO-2021-05-22-20-04-07.m4a  11786\n"
     ]
    },
    {
     "name": "stderr",
     "output_type": "stream",
     "text": [
      "/home/ibrahimabarry01/anaconda3/lib/python3.8/site-packages/librosa/core/audio.py:162: UserWarning: PySoundFile failed. Trying audioread instead.\n",
      "  warnings.warn(\"PySoundFile failed. Trying audioread instead.\")\n"
     ]
    },
    {
     "name": "stdout",
     "output_type": "stream",
     "text": [
      "277 - name : ./WOLOF_FOR_MEMORY/2_Ñaar/AUDIO-2021-05-22-14-04-09.m4a  18959\n"
     ]
    },
    {
     "name": "stderr",
     "output_type": "stream",
     "text": [
      "/home/ibrahimabarry01/anaconda3/lib/python3.8/site-packages/librosa/core/audio.py:162: UserWarning: PySoundFile failed. Trying audioread instead.\n",
      "  warnings.warn(\"PySoundFile failed. Trying audioread instead.\")\n"
     ]
    },
    {
     "name": "stdout",
     "output_type": "stream",
     "text": [
      "278 - name : ./WOLOF_FOR_MEMORY/2_Ñaar/AUDIO-2021-05-22-13-26-58.m4a  39621\n"
     ]
    },
    {
     "name": "stderr",
     "output_type": "stream",
     "text": [
      "/home/ibrahimabarry01/anaconda3/lib/python3.8/site-packages/librosa/core/audio.py:162: UserWarning: PySoundFile failed. Trying audioread instead.\n",
      "  warnings.warn(\"PySoundFile failed. Trying audioread instead.\")\n"
     ]
    },
    {
     "name": "stdout",
     "output_type": "stream",
     "text": [
      "279 - name : ./WOLOF_FOR_MEMORY/2_Ñaar/AUDIO-2021-05-16-20-15-53.m4a  16088\n"
     ]
    },
    {
     "name": "stderr",
     "output_type": "stream",
     "text": [
      "/home/ibrahimabarry01/anaconda3/lib/python3.8/site-packages/librosa/core/audio.py:162: UserWarning: PySoundFile failed. Trying audioread instead.\n",
      "  warnings.warn(\"PySoundFile failed. Trying audioread instead.\")\n"
     ]
    },
    {
     "name": "stdout",
     "output_type": "stream",
     "text": [
      "280 - name : ./WOLOF_FOR_MEMORY/2_Ñaar/AUDIO-2021-05-16-20-26-16.m4a  12094\n"
     ]
    },
    {
     "name": "stderr",
     "output_type": "stream",
     "text": [
      "/home/ibrahimabarry01/anaconda3/lib/python3.8/site-packages/librosa/core/audio.py:162: UserWarning: PySoundFile failed. Trying audioread instead.\n",
      "  warnings.warn(\"PySoundFile failed. Trying audioread instead.\")\n"
     ]
    },
    {
     "name": "stdout",
     "output_type": "stream",
     "text": [
      "281 - name : ./WOLOF_FOR_MEMORY/2_Ñaar/AUDIO-2021-05-16-23-20-50.m4a  11902\n"
     ]
    },
    {
     "name": "stderr",
     "output_type": "stream",
     "text": [
      "/home/ibrahimabarry01/anaconda3/lib/python3.8/site-packages/librosa/core/audio.py:162: UserWarning: PySoundFile failed. Trying audioread instead.\n",
      "  warnings.warn(\"PySoundFile failed. Trying audioread instead.\")\n"
     ]
    },
    {
     "name": "stdout",
     "output_type": "stream",
     "text": [
      "282 - name : ./WOLOF_FOR_MEMORY/2_Ñaar/AUDIO-2021-05-16-23-49-47.m4a  13442\n"
     ]
    },
    {
     "name": "stderr",
     "output_type": "stream",
     "text": [
      "/home/ibrahimabarry01/anaconda3/lib/python3.8/site-packages/librosa/core/audio.py:162: UserWarning: PySoundFile failed. Trying audioread instead.\n",
      "  warnings.warn(\"PySoundFile failed. Trying audioread instead.\")\n"
     ]
    },
    {
     "name": "stdout",
     "output_type": "stream",
     "text": [
      "283 - name : ./WOLOF_FOR_MEMORY/2_Ñaar/AUDIO-2021-05-17-00-06-17.m4a  16885\n"
     ]
    },
    {
     "name": "stderr",
     "output_type": "stream",
     "text": [
      "/home/ibrahimabarry01/anaconda3/lib/python3.8/site-packages/librosa/core/audio.py:162: UserWarning: PySoundFile failed. Trying audioread instead.\n",
      "  warnings.warn(\"PySoundFile failed. Trying audioread instead.\")\n"
     ]
    },
    {
     "name": "stdout",
     "output_type": "stream",
     "text": [
      "284 - name : ./WOLOF_FOR_MEMORY/2_Ñaar/AUDIO-2021-05-11-15-20-00.m4a  12900\n"
     ]
    },
    {
     "name": "stderr",
     "output_type": "stream",
     "text": [
      "/home/ibrahimabarry01/anaconda3/lib/python3.8/site-packages/librosa/core/audio.py:162: UserWarning: PySoundFile failed. Trying audioread instead.\n",
      "  warnings.warn(\"PySoundFile failed. Trying audioread instead.\")\n"
     ]
    },
    {
     "name": "stdout",
     "output_type": "stream",
     "text": [
      "285 - name : ./WOLOF_FOR_MEMORY/2_Ñaar/AUDIO-2021-05-18-01-10-17.m4a  15869\n"
     ]
    },
    {
     "name": "stderr",
     "output_type": "stream",
     "text": [
      "/home/ibrahimabarry01/anaconda3/lib/python3.8/site-packages/librosa/core/audio.py:162: UserWarning: PySoundFile failed. Trying audioread instead.\n",
      "  warnings.warn(\"PySoundFile failed. Trying audioread instead.\")\n"
     ]
    },
    {
     "name": "stdout",
     "output_type": "stream",
     "text": [
      "286 - name : ./WOLOF_FOR_MEMORY/2_Ñaar/AUDIO-2021-05-18-14-34-13.m4a  11272\n"
     ]
    },
    {
     "name": "stderr",
     "output_type": "stream",
     "text": [
      "/home/ibrahimabarry01/anaconda3/lib/python3.8/site-packages/librosa/core/audio.py:162: UserWarning: PySoundFile failed. Trying audioread instead.\n",
      "  warnings.warn(\"PySoundFile failed. Trying audioread instead.\")\n"
     ]
    },
    {
     "name": "stdout",
     "output_type": "stream",
     "text": [
      "287 - name : ./WOLOF_FOR_MEMORY/2_Ñaar/AUDIO-2021-05-18-19-53-22.m4a  13970\n"
     ]
    },
    {
     "name": "stderr",
     "output_type": "stream",
     "text": [
      "/home/ibrahimabarry01/anaconda3/lib/python3.8/site-packages/librosa/core/audio.py:162: UserWarning: PySoundFile failed. Trying audioread instead.\n",
      "  warnings.warn(\"PySoundFile failed. Trying audioread instead.\")\n"
     ]
    },
    {
     "name": "stdout",
     "output_type": "stream",
     "text": [
      "288 - name : ./WOLOF_FOR_MEMORY/2_Ñaar/AUDIO-2021-05-18-21-52-19.m4a  25098\n"
     ]
    },
    {
     "name": "stderr",
     "output_type": "stream",
     "text": [
      "/home/ibrahimabarry01/anaconda3/lib/python3.8/site-packages/librosa/core/audio.py:162: UserWarning: PySoundFile failed. Trying audioread instead.\n",
      "  warnings.warn(\"PySoundFile failed. Trying audioread instead.\")\n"
     ]
    },
    {
     "name": "stdout",
     "output_type": "stream",
     "text": [
      "289 - name : ./WOLOF_FOR_MEMORY/2_Ñaar/AUDIO-2021-05-19-21-39-03.m4a  11271\n"
     ]
    },
    {
     "name": "stderr",
     "output_type": "stream",
     "text": [
      "/home/ibrahimabarry01/anaconda3/lib/python3.8/site-packages/librosa/core/audio.py:162: UserWarning: PySoundFile failed. Trying audioread instead.\n",
      "  warnings.warn(\"PySoundFile failed. Trying audioread instead.\")\n"
     ]
    },
    {
     "name": "stdout",
     "output_type": "stream",
     "text": [
      "290 - name : ./WOLOF_FOR_MEMORY/2_Ñaar/AUDIO-2021-05-19-22-00-16.m4a  10743\n"
     ]
    },
    {
     "name": "stderr",
     "output_type": "stream",
     "text": [
      "/home/ibrahimabarry01/anaconda3/lib/python3.8/site-packages/librosa/core/audio.py:162: UserWarning: PySoundFile failed. Trying audioread instead.\n",
      "  warnings.warn(\"PySoundFile failed. Trying audioread instead.\")\n"
     ]
    },
    {
     "name": "stdout",
     "output_type": "stream",
     "text": [
      "291 - name : ./WOLOF_FOR_MEMORY/2_Ñaar/AUDIO-2021-05-20-17-48-48.m4a  10800\n"
     ]
    },
    {
     "name": "stderr",
     "output_type": "stream",
     "text": [
      "/home/ibrahimabarry01/anaconda3/lib/python3.8/site-packages/librosa/core/audio.py:162: UserWarning: PySoundFile failed. Trying audioread instead.\n",
      "  warnings.warn(\"PySoundFile failed. Trying audioread instead.\")\n"
     ]
    },
    {
     "name": "stdout",
     "output_type": "stream",
     "text": [
      "292 - name : ./WOLOF_FOR_MEMORY/2_Ñaar/AUDIO-2021-05-16-23-16-22.m4a  11800\n"
     ]
    },
    {
     "name": "stderr",
     "output_type": "stream",
     "text": [
      "/home/ibrahimabarry01/anaconda3/lib/python3.8/site-packages/librosa/core/audio.py:162: UserWarning: PySoundFile failed. Trying audioread instead.\n",
      "  warnings.warn(\"PySoundFile failed. Trying audioread instead.\")\n"
     ]
    },
    {
     "name": "stdout",
     "output_type": "stream",
     "text": [
      "293 - name : ./WOLOF_FOR_MEMORY/2_Ñaar/AUDIO-2021-05-20-16-12-53_1.m4a  23786\n"
     ]
    },
    {
     "name": "stderr",
     "output_type": "stream",
     "text": [
      "/home/ibrahimabarry01/anaconda3/lib/python3.8/site-packages/librosa/core/audio.py:162: UserWarning: PySoundFile failed. Trying audioread instead.\n",
      "  warnings.warn(\"PySoundFile failed. Trying audioread instead.\")\n"
     ]
    },
    {
     "name": "stdout",
     "output_type": "stream",
     "text": [
      "294 - name : ./WOLOF_FOR_MEMORY/2_Ñaar/AUDIO-2021-05-20-21-03-13.m4a  17878\n"
     ]
    },
    {
     "name": "stderr",
     "output_type": "stream",
     "text": [
      "/home/ibrahimabarry01/anaconda3/lib/python3.8/site-packages/librosa/core/audio.py:162: UserWarning: PySoundFile failed. Trying audioread instead.\n",
      "  warnings.warn(\"PySoundFile failed. Trying audioread instead.\")\n"
     ]
    },
    {
     "name": "stdout",
     "output_type": "stream",
     "text": [
      "295 - name : ./WOLOF_FOR_MEMORY/2_Ñaar/AUDIO-2021-05-21-00-24-03.m4a  15828\n"
     ]
    },
    {
     "name": "stderr",
     "output_type": "stream",
     "text": [
      "/home/ibrahimabarry01/anaconda3/lib/python3.8/site-packages/librosa/core/audio.py:162: UserWarning: PySoundFile failed. Trying audioread instead.\n",
      "  warnings.warn(\"PySoundFile failed. Trying audioread instead.\")\n"
     ]
    },
    {
     "name": "stdout",
     "output_type": "stream",
     "text": [
      "296 - name : ./WOLOF_FOR_MEMORY/2_Ñaar/AUDIO-2021-05-21-00-12-29.m4a  20416\n"
     ]
    },
    {
     "name": "stderr",
     "output_type": "stream",
     "text": [
      "/home/ibrahimabarry01/anaconda3/lib/python3.8/site-packages/librosa/core/audio.py:162: UserWarning: PySoundFile failed. Trying audioread instead.\n",
      "  warnings.warn(\"PySoundFile failed. Trying audioread instead.\")\n"
     ]
    },
    {
     "name": "stdout",
     "output_type": "stream",
     "text": [
      "297 - name : ./WOLOF_FOR_MEMORY/2_Ñaar/AUDIO-2021-05-21-00-44-27.m4a  18937\n"
     ]
    },
    {
     "name": "stderr",
     "output_type": "stream",
     "text": [
      "/home/ibrahimabarry01/anaconda3/lib/python3.8/site-packages/librosa/core/audio.py:162: UserWarning: PySoundFile failed. Trying audioread instead.\n",
      "  warnings.warn(\"PySoundFile failed. Trying audioread instead.\")\n"
     ]
    },
    {
     "name": "stdout",
     "output_type": "stream",
     "text": [
      "298 - name : ./WOLOF_FOR_MEMORY/2_Ñaar/AUDIO-2021-05-20-23-55-55.m4a  25647\n"
     ]
    },
    {
     "name": "stderr",
     "output_type": "stream",
     "text": [
      "/home/ibrahimabarry01/anaconda3/lib/python3.8/site-packages/librosa/core/audio.py:162: UserWarning: PySoundFile failed. Trying audioread instead.\n",
      "  warnings.warn(\"PySoundFile failed. Trying audioread instead.\")\n"
     ]
    },
    {
     "name": "stdout",
     "output_type": "stream",
     "text": [
      "299 - name : ./WOLOF_FOR_MEMORY/2_Ñaar/AUDIO-2021-05-20-19-50-35.m4a  15202\n"
     ]
    },
    {
     "name": "stderr",
     "output_type": "stream",
     "text": [
      "/home/ibrahimabarry01/anaconda3/lib/python3.8/site-packages/librosa/core/audio.py:162: UserWarning: PySoundFile failed. Trying audioread instead.\n",
      "  warnings.warn(\"PySoundFile failed. Trying audioread instead.\")\n"
     ]
    },
    {
     "name": "stdout",
     "output_type": "stream",
     "text": [
      "300 - name : ./WOLOF_FOR_MEMORY/2_Ñaar/AUDIO-2021-05-21-01-01-52.m4a  11660\n"
     ]
    },
    {
     "name": "stderr",
     "output_type": "stream",
     "text": [
      "/home/ibrahimabarry01/anaconda3/lib/python3.8/site-packages/librosa/core/audio.py:162: UserWarning: PySoundFile failed. Trying audioread instead.\n",
      "  warnings.warn(\"PySoundFile failed. Trying audioread instead.\")\n"
     ]
    },
    {
     "name": "stdout",
     "output_type": "stream",
     "text": [
      "301 - name : ./WOLOF_FOR_MEMORY/2_Ñaar/AUDIO-2021-05-20-21-27-42.m4a  16796\n"
     ]
    },
    {
     "name": "stderr",
     "output_type": "stream",
     "text": [
      "/home/ibrahimabarry01/anaconda3/lib/python3.8/site-packages/librosa/core/audio.py:162: UserWarning: PySoundFile failed. Trying audioread instead.\n",
      "  warnings.warn(\"PySoundFile failed. Trying audioread instead.\")\n"
     ]
    },
    {
     "name": "stdout",
     "output_type": "stream",
     "text": [
      "302 - name : ./WOLOF_FOR_MEMORY/2_Ñaar/AUDIO-2021-05-21-19-33-31.m4a  44375\n"
     ]
    },
    {
     "name": "stderr",
     "output_type": "stream",
     "text": [
      "/home/ibrahimabarry01/anaconda3/lib/python3.8/site-packages/librosa/core/audio.py:162: UserWarning: PySoundFile failed. Trying audioread instead.\n",
      "  warnings.warn(\"PySoundFile failed. Trying audioread instead.\")\n"
     ]
    },
    {
     "name": "stdout",
     "output_type": "stream",
     "text": [
      "303 - name : ./WOLOF_FOR_MEMORY/2_Ñaar/AUDIO-2021-05-21-21-37-11.m4a  11704\n"
     ]
    },
    {
     "name": "stderr",
     "output_type": "stream",
     "text": [
      "/home/ibrahimabarry01/anaconda3/lib/python3.8/site-packages/librosa/core/audio.py:162: UserWarning: PySoundFile failed. Trying audioread instead.\n",
      "  warnings.warn(\"PySoundFile failed. Trying audioread instead.\")\n"
     ]
    },
    {
     "name": "stdout",
     "output_type": "stream",
     "text": [
      "304 - name : ./WOLOF_FOR_MEMORY/2_Ñaar/AUDIO-2021-05-20-17-34-10.m4a  21187\n"
     ]
    },
    {
     "name": "stderr",
     "output_type": "stream",
     "text": [
      "/home/ibrahimabarry01/anaconda3/lib/python3.8/site-packages/librosa/core/audio.py:162: UserWarning: PySoundFile failed. Trying audioread instead.\n",
      "  warnings.warn(\"PySoundFile failed. Trying audioread instead.\")\n"
     ]
    },
    {
     "name": "stdout",
     "output_type": "stream",
     "text": [
      "305 - name : ./WOLOF_FOR_MEMORY/2_Ñaar/AUDIO-2021-05-16-23-30-45.m4a  15657\n"
     ]
    },
    {
     "name": "stderr",
     "output_type": "stream",
     "text": [
      "/home/ibrahimabarry01/anaconda3/lib/python3.8/site-packages/librosa/core/audio.py:162: UserWarning: PySoundFile failed. Trying audioread instead.\n",
      "  warnings.warn(\"PySoundFile failed. Trying audioread instead.\")\n"
     ]
    },
    {
     "name": "stdout",
     "output_type": "stream",
     "text": [
      "306 - name : ./WOLOF_FOR_MEMORY/2_Ñaar/AUDIO-2021-05-22-10-45-46.m4a  15891\n",
      " CHIFFRE : :  5_Juróom\n"
     ]
    },
    {
     "name": "stderr",
     "output_type": "stream",
     "text": [
      "/home/ibrahimabarry01/anaconda3/lib/python3.8/site-packages/librosa/core/audio.py:162: UserWarning: PySoundFile failed. Trying audioread instead.\n",
      "  warnings.warn(\"PySoundFile failed. Trying audioread instead.\")\n"
     ]
    },
    {
     "name": "stdout",
     "output_type": "stream",
     "text": [
      "307 - name : ./WOLOF_FOR_MEMORY/5_Juróom/AUDIO-2021-05-22-19-26-13.m4a  15869\n"
     ]
    },
    {
     "name": "stderr",
     "output_type": "stream",
     "text": [
      "/home/ibrahimabarry01/anaconda3/lib/python3.8/site-packages/librosa/core/audio.py:162: UserWarning: PySoundFile failed. Trying audioread instead.\n",
      "  warnings.warn(\"PySoundFile failed. Trying audioread instead.\")\n"
     ]
    },
    {
     "name": "stdout",
     "output_type": "stream",
     "text": [
      "308 - name : ./WOLOF_FOR_MEMORY/5_Juróom/AUDIO-2021-05-22-18-03-56.m4a  10163\n"
     ]
    },
    {
     "name": "stderr",
     "output_type": "stream",
     "text": [
      "/home/ibrahimabarry01/anaconda3/lib/python3.8/site-packages/librosa/core/audio.py:162: UserWarning: PySoundFile failed. Trying audioread instead.\n",
      "  warnings.warn(\"PySoundFile failed. Trying audioread instead.\")\n"
     ]
    },
    {
     "name": "stdout",
     "output_type": "stream",
     "text": [
      "309 - name : ./WOLOF_FOR_MEMORY/5_Juróom/AUDIO-2021-05-22-20-04-21.m4a  19182\n"
     ]
    },
    {
     "name": "stderr",
     "output_type": "stream",
     "text": [
      "/home/ibrahimabarry01/anaconda3/lib/python3.8/site-packages/librosa/core/audio.py:162: UserWarning: PySoundFile failed. Trying audioread instead.\n",
      "  warnings.warn(\"PySoundFile failed. Trying audioread instead.\")\n"
     ]
    },
    {
     "name": "stdout",
     "output_type": "stream",
     "text": [
      "310 - name : ./WOLOF_FOR_MEMORY/5_Juróom/AUDIO-2021-05-22-14-04-22.m4a  20868\n"
     ]
    },
    {
     "name": "stderr",
     "output_type": "stream",
     "text": [
      "/home/ibrahimabarry01/anaconda3/lib/python3.8/site-packages/librosa/core/audio.py:162: UserWarning: PySoundFile failed. Trying audioread instead.\n",
      "  warnings.warn(\"PySoundFile failed. Trying audioread instead.\")\n"
     ]
    },
    {
     "name": "stdout",
     "output_type": "stream",
     "text": [
      "311 - name : ./WOLOF_FOR_MEMORY/5_Juróom/AUDIO-2021-05-22-13-27-21.m4a  41846\n"
     ]
    },
    {
     "name": "stderr",
     "output_type": "stream",
     "text": [
      "/home/ibrahimabarry01/anaconda3/lib/python3.8/site-packages/librosa/core/audio.py:162: UserWarning: PySoundFile failed. Trying audioread instead.\n",
      "  warnings.warn(\"PySoundFile failed. Trying audioread instead.\")\n"
     ]
    },
    {
     "name": "stdout",
     "output_type": "stream",
     "text": [
      "312 - name : ./WOLOF_FOR_MEMORY/5_Juróom/AUDIO-2021-05-16-20-16-45.m4a  14314\n"
     ]
    },
    {
     "name": "stderr",
     "output_type": "stream",
     "text": [
      "/home/ibrahimabarry01/anaconda3/lib/python3.8/site-packages/librosa/core/audio.py:162: UserWarning: PySoundFile failed. Trying audioread instead.\n",
      "  warnings.warn(\"PySoundFile failed. Trying audioread instead.\")\n"
     ]
    },
    {
     "name": "stdout",
     "output_type": "stream",
     "text": [
      "313 - name : ./WOLOF_FOR_MEMORY/5_Juróom/AUDIO-2021-05-16-20-26-46.m4a  14289\n"
     ]
    },
    {
     "name": "stderr",
     "output_type": "stream",
     "text": [
      "/home/ibrahimabarry01/anaconda3/lib/python3.8/site-packages/librosa/core/audio.py:162: UserWarning: PySoundFile failed. Trying audioread instead.\n",
      "  warnings.warn(\"PySoundFile failed. Trying audioread instead.\")\n"
     ]
    },
    {
     "name": "stdout",
     "output_type": "stream",
     "text": [
      "314 - name : ./WOLOF_FOR_MEMORY/5_Juróom/AUDIO-2021-05-16-23-21-07.m4a  12632\n"
     ]
    },
    {
     "name": "stderr",
     "output_type": "stream",
     "text": [
      "/home/ibrahimabarry01/anaconda3/lib/python3.8/site-packages/librosa/core/audio.py:162: UserWarning: PySoundFile failed. Trying audioread instead.\n",
      "  warnings.warn(\"PySoundFile failed. Trying audioread instead.\")\n"
     ]
    },
    {
     "name": "stdout",
     "output_type": "stream",
     "text": [
      "315 - name : ./WOLOF_FOR_MEMORY/5_Juróom/AUDIO-2021-05-16-23-50-30.m4a  13306\n"
     ]
    },
    {
     "name": "stderr",
     "output_type": "stream",
     "text": [
      "/home/ibrahimabarry01/anaconda3/lib/python3.8/site-packages/librosa/core/audio.py:162: UserWarning: PySoundFile failed. Trying audioread instead.\n",
      "  warnings.warn(\"PySoundFile failed. Trying audioread instead.\")\n"
     ]
    },
    {
     "name": "stdout",
     "output_type": "stream",
     "text": [
      "316 - name : ./WOLOF_FOR_MEMORY/5_Juróom/AUDIO-2021-05-17-00-06-42.m4a  13913\n"
     ]
    },
    {
     "name": "stderr",
     "output_type": "stream",
     "text": [
      "/home/ibrahimabarry01/anaconda3/lib/python3.8/site-packages/librosa/core/audio.py:162: UserWarning: PySoundFile failed. Trying audioread instead.\n",
      "  warnings.warn(\"PySoundFile failed. Trying audioread instead.\")\n"
     ]
    },
    {
     "name": "stdout",
     "output_type": "stream",
     "text": [
      "317 - name : ./WOLOF_FOR_MEMORY/5_Juróom/AUDIO-2021-05-11-15-21-23.m4a  19857\n"
     ]
    },
    {
     "name": "stderr",
     "output_type": "stream",
     "text": [
      "/home/ibrahimabarry01/anaconda3/lib/python3.8/site-packages/librosa/core/audio.py:162: UserWarning: PySoundFile failed. Trying audioread instead.\n",
      "  warnings.warn(\"PySoundFile failed. Trying audioread instead.\")\n"
     ]
    },
    {
     "name": "stdout",
     "output_type": "stream",
     "text": [
      "318 - name : ./WOLOF_FOR_MEMORY/5_Juróom/AUDIO-2021-05-18-01-10-23_1.m4a  13221\n"
     ]
    },
    {
     "name": "stderr",
     "output_type": "stream",
     "text": [
      "/home/ibrahimabarry01/anaconda3/lib/python3.8/site-packages/librosa/core/audio.py:162: UserWarning: PySoundFile failed. Trying audioread instead.\n",
      "  warnings.warn(\"PySoundFile failed. Trying audioread instead.\")\n"
     ]
    },
    {
     "name": "stdout",
     "output_type": "stream",
     "text": [
      "319 - name : ./WOLOF_FOR_MEMORY/5_Juróom/AUDIO-2021-05-18-14-34-30.m4a  14957\n"
     ]
    },
    {
     "name": "stderr",
     "output_type": "stream",
     "text": [
      "/home/ibrahimabarry01/anaconda3/lib/python3.8/site-packages/librosa/core/audio.py:162: UserWarning: PySoundFile failed. Trying audioread instead.\n",
      "  warnings.warn(\"PySoundFile failed. Trying audioread instead.\")\n"
     ]
    },
    {
     "name": "stdout",
     "output_type": "stream",
     "text": [
      "320 - name : ./WOLOF_FOR_MEMORY/5_Juróom/AUDIO-2021-05-18-19-54-42.m4a  13804\n"
     ]
    },
    {
     "name": "stderr",
     "output_type": "stream",
     "text": [
      "/home/ibrahimabarry01/anaconda3/lib/python3.8/site-packages/librosa/core/audio.py:162: UserWarning: PySoundFile failed. Trying audioread instead.\n",
      "  warnings.warn(\"PySoundFile failed. Trying audioread instead.\")\n"
     ]
    },
    {
     "name": "stdout",
     "output_type": "stream",
     "text": [
      "321 - name : ./WOLOF_FOR_MEMORY/5_Juróom/AUDIO-2021-05-18-21-52-34.m4a  24438\n"
     ]
    },
    {
     "name": "stderr",
     "output_type": "stream",
     "text": [
      "/home/ibrahimabarry01/anaconda3/lib/python3.8/site-packages/librosa/core/audio.py:162: UserWarning: PySoundFile failed. Trying audioread instead.\n",
      "  warnings.warn(\"PySoundFile failed. Trying audioread instead.\")\n"
     ]
    },
    {
     "name": "stdout",
     "output_type": "stream",
     "text": [
      "322 - name : ./WOLOF_FOR_MEMORY/5_Juróom/AUDIO-2021-05-18-20-59-13_1.m4a  14787\n"
     ]
    },
    {
     "name": "stderr",
     "output_type": "stream",
     "text": [
      "/home/ibrahimabarry01/anaconda3/lib/python3.8/site-packages/librosa/core/audio.py:162: UserWarning: PySoundFile failed. Trying audioread instead.\n",
      "  warnings.warn(\"PySoundFile failed. Trying audioread instead.\")\n"
     ]
    },
    {
     "name": "stdout",
     "output_type": "stream",
     "text": [
      "323 - name : ./WOLOF_FOR_MEMORY/5_Juróom/AUDIO-2021-05-19-21-39-45.m4a  16894\n"
     ]
    },
    {
     "name": "stderr",
     "output_type": "stream",
     "text": [
      "/home/ibrahimabarry01/anaconda3/lib/python3.8/site-packages/librosa/core/audio.py:162: UserWarning: PySoundFile failed. Trying audioread instead.\n",
      "  warnings.warn(\"PySoundFile failed. Trying audioread instead.\")\n"
     ]
    },
    {
     "name": "stdout",
     "output_type": "stream",
     "text": [
      "324 - name : ./WOLOF_FOR_MEMORY/5_Juróom/AUDIO-2021-05-19-22-00-50.m4a  13550\n"
     ]
    },
    {
     "name": "stderr",
     "output_type": "stream",
     "text": [
      "/home/ibrahimabarry01/anaconda3/lib/python3.8/site-packages/librosa/core/audio.py:162: UserWarning: PySoundFile failed. Trying audioread instead.\n",
      "  warnings.warn(\"PySoundFile failed. Trying audioread instead.\")\n"
     ]
    },
    {
     "name": "stdout",
     "output_type": "stream",
     "text": [
      "325 - name : ./WOLOF_FOR_MEMORY/5_Juróom/AUDIO-2021-05-20-17-49-05.m4a  8571\n"
     ]
    },
    {
     "name": "stderr",
     "output_type": "stream",
     "text": [
      "/home/ibrahimabarry01/anaconda3/lib/python3.8/site-packages/librosa/core/audio.py:162: UserWarning: PySoundFile failed. Trying audioread instead.\n",
      "  warnings.warn(\"PySoundFile failed. Trying audioread instead.\")\n"
     ]
    },
    {
     "name": "stdout",
     "output_type": "stream",
     "text": [
      "326 - name : ./WOLOF_FOR_MEMORY/5_Juróom/AUDIO-2021-05-16-23-16-32.m4a  16534\n"
     ]
    },
    {
     "name": "stderr",
     "output_type": "stream",
     "text": [
      "/home/ibrahimabarry01/anaconda3/lib/python3.8/site-packages/librosa/core/audio.py:162: UserWarning: PySoundFile failed. Trying audioread instead.\n",
      "  warnings.warn(\"PySoundFile failed. Trying audioread instead.\")\n"
     ]
    },
    {
     "name": "stdout",
     "output_type": "stream",
     "text": [
      "327 - name : ./WOLOF_FOR_MEMORY/5_Juróom/AUDIO-2021-05-20-21-03-15.m4a  8843\n"
     ]
    },
    {
     "name": "stderr",
     "output_type": "stream",
     "text": [
      "/home/ibrahimabarry01/anaconda3/lib/python3.8/site-packages/librosa/core/audio.py:162: UserWarning: PySoundFile failed. Trying audioread instead.\n",
      "  warnings.warn(\"PySoundFile failed. Trying audioread instead.\")\n"
     ]
    },
    {
     "name": "stdout",
     "output_type": "stream",
     "text": [
      "328 - name : ./WOLOF_FOR_MEMORY/5_Juróom/AUDIO-2021-05-21-00-25-22.m4a  14430\n"
     ]
    },
    {
     "name": "stderr",
     "output_type": "stream",
     "text": [
      "/home/ibrahimabarry01/anaconda3/lib/python3.8/site-packages/librosa/core/audio.py:162: UserWarning: PySoundFile failed. Trying audioread instead.\n",
      "  warnings.warn(\"PySoundFile failed. Trying audioread instead.\")\n"
     ]
    },
    {
     "name": "stdout",
     "output_type": "stream",
     "text": [
      "329 - name : ./WOLOF_FOR_MEMORY/5_Juróom/AUDIO-2021-05-21-00-12-38.m4a  16356\n"
     ]
    },
    {
     "name": "stderr",
     "output_type": "stream",
     "text": [
      "/home/ibrahimabarry01/anaconda3/lib/python3.8/site-packages/librosa/core/audio.py:162: UserWarning: PySoundFile failed. Trying audioread instead.\n",
      "  warnings.warn(\"PySoundFile failed. Trying audioread instead.\")\n"
     ]
    },
    {
     "name": "stdout",
     "output_type": "stream",
     "text": [
      "330 - name : ./WOLOF_FOR_MEMORY/5_Juróom/AUDIO-2021-05-21-00-46-20.m4a  12817\n"
     ]
    },
    {
     "name": "stderr",
     "output_type": "stream",
     "text": [
      "/home/ibrahimabarry01/anaconda3/lib/python3.8/site-packages/librosa/core/audio.py:162: UserWarning: PySoundFile failed. Trying audioread instead.\n",
      "  warnings.warn(\"PySoundFile failed. Trying audioread instead.\")\n"
     ]
    },
    {
     "name": "stdout",
     "output_type": "stream",
     "text": [
      "331 - name : ./WOLOF_FOR_MEMORY/5_Juróom/AUDIO-2021-05-20-23-56-41.m4a  19075\n"
     ]
    },
    {
     "name": "stderr",
     "output_type": "stream",
     "text": [
      "/home/ibrahimabarry01/anaconda3/lib/python3.8/site-packages/librosa/core/audio.py:162: UserWarning: PySoundFile failed. Trying audioread instead.\n",
      "  warnings.warn(\"PySoundFile failed. Trying audioread instead.\")\n"
     ]
    },
    {
     "name": "stdout",
     "output_type": "stream",
     "text": [
      "332 - name : ./WOLOF_FOR_MEMORY/5_Juróom/AUDIO-2021-05-20-19-51-36.m4a  14306\n"
     ]
    },
    {
     "name": "stderr",
     "output_type": "stream",
     "text": [
      "/home/ibrahimabarry01/anaconda3/lib/python3.8/site-packages/librosa/core/audio.py:162: UserWarning: PySoundFile failed. Trying audioread instead.\n",
      "  warnings.warn(\"PySoundFile failed. Trying audioread instead.\")\n"
     ]
    },
    {
     "name": "stdout",
     "output_type": "stream",
     "text": [
      "333 - name : ./WOLOF_FOR_MEMORY/5_Juróom/AUDIO-2021-05-21-01-02-32.m4a  13961\n"
     ]
    },
    {
     "name": "stderr",
     "output_type": "stream",
     "text": [
      "/home/ibrahimabarry01/anaconda3/lib/python3.8/site-packages/librosa/core/audio.py:162: UserWarning: PySoundFile failed. Trying audioread instead.\n",
      "  warnings.warn(\"PySoundFile failed. Trying audioread instead.\")\n"
     ]
    },
    {
     "name": "stdout",
     "output_type": "stream",
     "text": [
      "334 - name : ./WOLOF_FOR_MEMORY/5_Juróom/AUDIO-2021-05-20-21-28-02.m4a  12646\n"
     ]
    },
    {
     "name": "stderr",
     "output_type": "stream",
     "text": [
      "/home/ibrahimabarry01/anaconda3/lib/python3.8/site-packages/librosa/core/audio.py:162: UserWarning: PySoundFile failed. Trying audioread instead.\n",
      "  warnings.warn(\"PySoundFile failed. Trying audioread instead.\")\n"
     ]
    },
    {
     "name": "stdout",
     "output_type": "stream",
     "text": [
      "335 - name : ./WOLOF_FOR_MEMORY/5_Juróom/AUDIO-2021-05-21-19-33-33.m4a  15417\n"
     ]
    },
    {
     "name": "stderr",
     "output_type": "stream",
     "text": [
      "/home/ibrahimabarry01/anaconda3/lib/python3.8/site-packages/librosa/core/audio.py:162: UserWarning: PySoundFile failed. Trying audioread instead.\n",
      "  warnings.warn(\"PySoundFile failed. Trying audioread instead.\")\n"
     ]
    },
    {
     "name": "stdout",
     "output_type": "stream",
     "text": [
      "336 - name : ./WOLOF_FOR_MEMORY/5_Juróom/AUDIO-2021-05-21-21-38-17.m4a  12547\n"
     ]
    },
    {
     "name": "stderr",
     "output_type": "stream",
     "text": [
      "/home/ibrahimabarry01/anaconda3/lib/python3.8/site-packages/librosa/core/audio.py:162: UserWarning: PySoundFile failed. Trying audioread instead.\n",
      "  warnings.warn(\"PySoundFile failed. Trying audioread instead.\")\n"
     ]
    },
    {
     "name": "stdout",
     "output_type": "stream",
     "text": [
      "337 - name : ./WOLOF_FOR_MEMORY/5_Juróom/AUDIO-2021-05-20-17-37-12.m4a  22404\n"
     ]
    },
    {
     "name": "stderr",
     "output_type": "stream",
     "text": [
      "/home/ibrahimabarry01/anaconda3/lib/python3.8/site-packages/librosa/core/audio.py:162: UserWarning: PySoundFile failed. Trying audioread instead.\n",
      "  warnings.warn(\"PySoundFile failed. Trying audioread instead.\")\n"
     ]
    },
    {
     "name": "stdout",
     "output_type": "stream",
     "text": [
      "338 - name : ./WOLOF_FOR_MEMORY/5_Juróom/AUDIO-2021-05-16-23-31-38.m4a  13316\n"
     ]
    },
    {
     "name": "stderr",
     "output_type": "stream",
     "text": [
      "/home/ibrahimabarry01/anaconda3/lib/python3.8/site-packages/librosa/core/audio.py:162: UserWarning: PySoundFile failed. Trying audioread instead.\n",
      "  warnings.warn(\"PySoundFile failed. Trying audioread instead.\")\n"
     ]
    },
    {
     "name": "stdout",
     "output_type": "stream",
     "text": [
      "339 - name : ./WOLOF_FOR_MEMORY/5_Juróom/AUDIO-2021-05-22-10-47-14.m4a  13794\n"
     ]
    }
   ],
   "source": [
    "i = 0\n",
    "for d in data_dir:\n",
    "    print(\" CHIFFRE : : \",d)\n",
    "    fs = glob(\"./WOLOF_FOR_MEMORY/\"+d+\"/*\")\n",
    "    for f in fs:\n",
    "        i = i+1\n",
    "        y , sr = l.load(f , sr=22050)\n",
    "        y_abs = pd.Series(y).apply(np.abs)\n",
    "        y_mean = y_abs.rolling(window=int(sr/20),\n",
    "                       min_periods=1,\n",
    "                       center=True).max()\n",
    "\n",
    "        maxe = y_mean[np.argmax(y_mean)]\n",
    "        y2 = y[ y_mean > maxe/15]\n",
    "        print(str(i)+\" - name : \"+str(f) +\"  \" +str(len(y2)))\n",
    "        #plt.figure(figsize=(10,5))\n",
    "        #plt.title(str(i)+\" - name : \"+str(f) +\"  \" +str(len(y2)))\n",
    "        #plt.plot(y2)\n",
    "        #plt.show()\n",
    "        if len(y2) > 59000:\n",
    "            print(\"mis a 59 m\")\n",
    "            y2 = y2[:59000] \n",
    "        \n",
    "        write(\"./CLEAN_WOLOF_FOR_MEMORY/\"+d+\"/clean_\"+str(np.random.randint(0,99999999))+\".m4a\", sr , y2)"
   ]
  },
  {
   "cell_type": "code",
   "execution_count": 14,
   "metadata": {},
   "outputs": [
    {
     "data": {
      "text/plain": [
       "[<matplotlib.lines.Line2D at 0x7f0608b16790>]"
      ]
     },
     "execution_count": 14,
     "metadata": {},
     "output_type": "execute_result"
    },
    {
     "data": {
      "image/png": "[encoded data removed]",
      "text/plain": [
       "<Figure size 432x288 with 1 Axes>"
      ]
     },
     "metadata": {
      "needs_background": "light"
     },
     "output_type": "display_data"
    }
   ],
   "source": [
    "plt.plot(ll)"
   ]
  },
  {
   "cell_type": "code",
   "execution_count": 18,
   "metadata": {},
   "outputs": [
    {
     "data": {
      "text/plain": [
       "[<matplotlib.lines.Line2D at 0x7f0608d8f0d0>]"
      ]
     },
     "execution_count": 18,
     "metadata": {},
     "output_type": "execute_result"
    },
    {
     "data": {
      "image/png": "[encoded data removed]",
      "text/plain": [
       "<Figure size 432x288 with 1 Axes>"
      ]
     },
     "metadata": {
      "needs_background": "light"
     },
     "output_type": "display_data"
    }
   ],
   "source": [
    "plt.plot(ll)"
   ]
  },
  {
   "cell_type": "raw",
   "metadata": {},
   "source": [
    "for d in glob(\"./CLEAN_WOLOF_FOR_MEMORY/*\"):\n",
    "    print(d)\n",
    "    for f in glob(d+\"/*\"):\n",
    "        print(f[:-4]+\"l\"+\".m4a\")"
   ]
  },
  {
   "cell_type": "raw",
   "metadata": {},
   "source": [
    "i = 0\n",
    "for d in glob(\"./CLEAN_WOLOF_FOR_MEMORY/*\"):\n",
    "    print(d)\n",
    "    for f in glob(d+\"/*\"):\n",
    "        i = i+1\n",
    "        factor = 0.7 # ralentit\n",
    "        wav, sr = l.load(f,sr=22050)\n",
    "        print(\"filesprocess: \", f,\"  ---\",i)\n",
    "        wav_time_stch = l.effects.time_stretch(wav,factor)\n",
    "        write(f[:-4]+\"len\"+\".m4a\", sr, wav_time_stch)\n",
    "        \n",
    "        print(i)\n",
    "        factor =  1.8 # rapide\n",
    "        wav_time_stch2 = l.effects.time_stretch(wav,factor)\n",
    "        write(f[:-4]+\"rap\"+\".m4a\", sr, wav_time_stch2)\n"
   ]
  },
  {
   "cell_type": "code",
   "execution_count": 2,
   "metadata": {},
   "outputs": [
    {
     "name": "stdout",
     "output_type": "stream",
     "text": [
      "./CLEAN_WOLOF_FOR_MEMORY/8_Juróom-Ñett\n",
      "1\n",
      "filesprocess:  ./CLEAN_WOLOF_FOR_MEMORY/8_Juróom-Ñett/pas_clean_28505053.m4a  --  2\n",
      "3\n",
      "filesprocess:  ./CLEAN_WOLOF_FOR_MEMORY/8_Juróom-Ñett/pas_clean_36751555.m4a  --  4\n",
      "5\n",
      "filesprocess:  ./CLEAN_WOLOF_FOR_MEMORY/8_Juróom-Ñett/pas_clean_23143011.m4a  --  6\n",
      "7\n",
      "filesprocess:  ./CLEAN_WOLOF_FOR_MEMORY/8_Juróom-Ñett/pas_clean_54980570.m4a  --  8\n",
      "9\n",
      "filesprocess:  ./CLEAN_WOLOF_FOR_MEMORY/8_Juróom-Ñett/pas_clean_2193767.m4a  --  10\n",
      "11\n",
      "filesprocess:  ./CLEAN_WOLOF_FOR_MEMORY/8_Juróom-Ñett/pas_clean_43089884.m4a  --  12\n",
      "13\n",
      "filesprocess:  ./CLEAN_WOLOF_FOR_MEMORY/8_Juróom-Ñett/pas_clean_86523071.m4a  --  14\n",
      "15\n",
      "filesprocess:  ./CLEAN_WOLOF_FOR_MEMORY/8_Juróom-Ñett/pas_clean_74467881.m4a  --  16\n",
      "17\n",
      "filesprocess:  ./CLEAN_WOLOF_FOR_MEMORY/8_Juróom-Ñett/pas_clean_21906083.m4a  --  18\n",
      "19\n",
      "filesprocess:  ./CLEAN_WOLOF_FOR_MEMORY/8_Juróom-Ñett/pas_clean_1314175.m4a  --  20\n",
      "21\n",
      "filesprocess:  ./CLEAN_WOLOF_FOR_MEMORY/8_Juróom-Ñett/pas_clean_95131057.m4a  --  22\n",
      "23\n",
      "filesprocess:  ./CLEAN_WOLOF_FOR_MEMORY/8_Juróom-Ñett/pas_clean_80452445.m4a  --  24\n",
      "25\n",
      "filesprocess:  ./CLEAN_WOLOF_FOR_MEMORY/8_Juróom-Ñett/pas_clean_51193800.m4a  --  26\n",
      "27\n",
      "filesprocess:  ./CLEAN_WOLOF_FOR_MEMORY/8_Juróom-Ñett/pas_clean_21057461.m4a  --  28\n",
      "29\n",
      "filesprocess:  ./CLEAN_WOLOF_FOR_MEMORY/8_Juróom-Ñett/pas_clean_74865402.m4a  --  30\n",
      "31\n",
      "filesprocess:  ./CLEAN_WOLOF_FOR_MEMORY/8_Juróom-Ñett/pas_clean_77526077.m4a  --  32\n",
      "33\n",
      "filesprocess:  ./CLEAN_WOLOF_FOR_MEMORY/8_Juróom-Ñett/pas_clean_25801297.m4a  --  34\n",
      "35\n",
      "filesprocess:  ./CLEAN_WOLOF_FOR_MEMORY/8_Juróom-Ñett/pas_clean_62346111.m4a  --  36\n",
      "37\n",
      "filesprocess:  ./CLEAN_WOLOF_FOR_MEMORY/8_Juróom-Ñett/pas_clean_89315781.m4a  --  38\n",
      "39\n",
      "filesprocess:  ./CLEAN_WOLOF_FOR_MEMORY/8_Juróom-Ñett/pas_clean_688745.m4a  --  40\n",
      "41\n",
      "filesprocess:  ./CLEAN_WOLOF_FOR_MEMORY/8_Juróom-Ñett/pas_clean_61110072.m4a  --  42\n",
      "43\n",
      "filesprocess:  ./CLEAN_WOLOF_FOR_MEMORY/8_Juróom-Ñett/pas_clean_48926996.m4a  --  44\n",
      "45\n",
      "filesprocess:  ./CLEAN_WOLOF_FOR_MEMORY/8_Juróom-Ñett/pas_clean_24021529.m4a  --  46\n",
      "47\n",
      "filesprocess:  ./CLEAN_WOLOF_FOR_MEMORY/8_Juróom-Ñett/pas_clean_94575049.m4a  --  48\n",
      "49\n",
      "filesprocess:  ./CLEAN_WOLOF_FOR_MEMORY/8_Juróom-Ñett/pas_clean_25624872.m4a  --  50\n",
      "51\n",
      "filesprocess:  ./CLEAN_WOLOF_FOR_MEMORY/8_Juróom-Ñett/pas_clean_87440116.m4a  --  52\n",
      "53\n",
      "filesprocess:  ./CLEAN_WOLOF_FOR_MEMORY/8_Juróom-Ñett/pas_clean_68342304.m4a  --  54\n",
      "55\n",
      "filesprocess:  ./CLEAN_WOLOF_FOR_MEMORY/8_Juróom-Ñett/pas_clean_61442849.m4a  --  56\n",
      "57\n",
      "filesprocess:  ./CLEAN_WOLOF_FOR_MEMORY/8_Juróom-Ñett/pas_clean_19530866.m4a  --  58\n",
      "59\n",
      "filesprocess:  ./CLEAN_WOLOF_FOR_MEMORY/8_Juróom-Ñett/pas_clean_80839140.m4a  --  60\n",
      "61\n",
      "filesprocess:  ./CLEAN_WOLOF_FOR_MEMORY/8_Juróom-Ñett/pas_clean_57327759.m4a  --  62\n",
      "63\n",
      "filesprocess:  ./CLEAN_WOLOF_FOR_MEMORY/8_Juróom-Ñett/pas_clean_60776408.m4a  --  64\n",
      "65\n",
      "filesprocess:  ./CLEAN_WOLOF_FOR_MEMORY/8_Juróom-Ñett/pas_clean_30890037.m4a  --  66\n",
      "67\n",
      "filesprocess:  ./CLEAN_WOLOF_FOR_MEMORY/8_Juróom-Ñett/pas_clean_28941923.m4a  --  68\n",
      "69\n"
     ]
    },
    {
     "name": "stderr",
     "output_type": "stream",
     "text": [
      "/home/ibrahimabarry01/anaconda3/lib/python3.8/site-packages/librosa/core/audio.py:162: UserWarning: PySoundFile failed. Trying audioread instead.\n",
      "  warnings.warn(\"PySoundFile failed. Trying audioread instead.\")\n"
     ]
    },
    {
     "name": "stdout",
     "output_type": "stream",
     "text": [
      "filesprocess:  ./CLEAN_WOLOF_FOR_MEMORY/8_Juróom-Ñett/AUDIO-2021-05-25-07-42-22.m4a  --  70\n",
      "71\n"
     ]
    },
    {
     "name": "stderr",
     "output_type": "stream",
     "text": [
      "/home/ibrahimabarry01/anaconda3/lib/python3.8/site-packages/librosa/core/audio.py:162: UserWarning: PySoundFile failed. Trying audioread instead.\n",
      "  warnings.warn(\"PySoundFile failed. Trying audioread instead.\")\n"
     ]
    },
    {
     "name": "stdout",
     "output_type": "stream",
     "text": [
      "filesprocess:  ./CLEAN_WOLOF_FOR_MEMORY/8_Juróom-Ñett/AUDIO-2021-05-25-06-52-43.m4a  --  72\n",
      "73\n"
     ]
    },
    {
     "name": "stderr",
     "output_type": "stream",
     "text": [
      "/home/ibrahimabarry01/anaconda3/lib/python3.8/site-packages/librosa/core/audio.py:162: UserWarning: PySoundFile failed. Trying audioread instead.\n",
      "  warnings.warn(\"PySoundFile failed. Trying audioread instead.\")\n"
     ]
    },
    {
     "name": "stdout",
     "output_type": "stream",
     "text": [
      "filesprocess:  ./CLEAN_WOLOF_FOR_MEMORY/8_Juróom-Ñett/AUDIO-2021-05-25-06-57-49.m4a  --  74\n",
      "75\n"
     ]
    },
    {
     "name": "stderr",
     "output_type": "stream",
     "text": [
      "/home/ibrahimabarry01/anaconda3/lib/python3.8/site-packages/librosa/core/audio.py:162: UserWarning: PySoundFile failed. Trying audioread instead.\n",
      "  warnings.warn(\"PySoundFile failed. Trying audioread instead.\")\n"
     ]
    },
    {
     "name": "stdout",
     "output_type": "stream",
     "text": [
      "filesprocess:  ./CLEAN_WOLOF_FOR_MEMORY/8_Juróom-Ñett/AUDIO-2021-05-25-06-57-56.m4a  --  76\n",
      "77\n"
     ]
    },
    {
     "name": "stderr",
     "output_type": "stream",
     "text": [
      "/home/ibrahimabarry01/anaconda3/lib/python3.8/site-packages/librosa/core/audio.py:162: UserWarning: PySoundFile failed. Trying audioread instead.\n",
      "  warnings.warn(\"PySoundFile failed. Trying audioread instead.\")\n"
     ]
    },
    {
     "name": "stdout",
     "output_type": "stream",
     "text": [
      "filesprocess:  ./CLEAN_WOLOF_FOR_MEMORY/8_Juróom-Ñett/AUDIO-2021-05-25-06-58-02.m4a  --  78\n",
      "79\n",
      "filesprocess:  ./CLEAN_WOLOF_FOR_MEMORY/8_Juróom-Ñett/pas_clean_23143011 (copie).m4a  --  80\n",
      "81\n"
     ]
    },
    {
     "name": "stderr",
     "output_type": "stream",
     "text": [
      "/home/ibrahimabarry01/anaconda3/lib/python3.8/site-packages/librosa/core/audio.py:162: UserWarning: PySoundFile failed. Trying audioread instead.\n",
      "  warnings.warn(\"PySoundFile failed. Trying audioread instead.\")\n"
     ]
    },
    {
     "name": "stdout",
     "output_type": "stream",
     "text": [
      "filesprocess:  ./CLEAN_WOLOF_FOR_MEMORY/8_Juróom-Ñett/AUDIO-2021-05-25-14-55-45.m4a  --  82\n",
      "./CLEAN_WOLOF_FOR_MEMORY/4_Ñent\n",
      "83\n",
      "filesprocess:  ./CLEAN_WOLOF_FOR_MEMORY/4_Ñent/pas_clean_20505470.m4a  --  84\n",
      "85\n",
      "filesprocess:  ./CLEAN_WOLOF_FOR_MEMORY/4_Ñent/pas_clean_59154469.m4a  --  86\n",
      "87\n",
      "filesprocess:  ./CLEAN_WOLOF_FOR_MEMORY/4_Ñent/pas_clean_74862804.m4a  --  88\n",
      "89\n",
      "filesprocess:  ./CLEAN_WOLOF_FOR_MEMORY/4_Ñent/pas_clean_5760600.m4a  --  90\n",
      "91\n",
      "filesprocess:  ./CLEAN_WOLOF_FOR_MEMORY/4_Ñent/pas_clean_78810402.m4a  --  92\n",
      "93\n",
      "filesprocess:  ./CLEAN_WOLOF_FOR_MEMORY/4_Ñent/pas_clean_35542980.m4a  --  94\n",
      "95\n",
      "filesprocess:  ./CLEAN_WOLOF_FOR_MEMORY/4_Ñent/pas_clean_80540941.m4a  --  96\n",
      "97\n",
      "filesprocess:  ./CLEAN_WOLOF_FOR_MEMORY/4_Ñent/pas_clean_76895287.m4a  --  98\n",
      "99\n",
      "filesprocess:  ./CLEAN_WOLOF_FOR_MEMORY/4_Ñent/pas_clean_89404123.m4a  --  100\n",
      "101\n",
      "filesprocess:  ./CLEAN_WOLOF_FOR_MEMORY/4_Ñent/pas_clean_65583244.m4a  --  102\n",
      "103\n",
      "filesprocess:  ./CLEAN_WOLOF_FOR_MEMORY/4_Ñent/pas_clean_66169269.m4a  --  104\n",
      "105\n",
      "filesprocess:  ./CLEAN_WOLOF_FOR_MEMORY/4_Ñent/pas_clean_45921698.m4a  --  106\n",
      "107\n",
      "filesprocess:  ./CLEAN_WOLOF_FOR_MEMORY/4_Ñent/pas_clean_4560725.m4a  --  108\n",
      "109\n",
      "filesprocess:  ./CLEAN_WOLOF_FOR_MEMORY/4_Ñent/pas_clean_40418882.m4a  --  110\n",
      "111\n",
      "filesprocess:  ./CLEAN_WOLOF_FOR_MEMORY/4_Ñent/pas_clean_70069687.m4a  --  112\n",
      "113\n",
      "filesprocess:  ./CLEAN_WOLOF_FOR_MEMORY/4_Ñent/pas_clean_7587218.m4a  --  114\n",
      "115\n",
      "filesprocess:  ./CLEAN_WOLOF_FOR_MEMORY/4_Ñent/pas_clean_90740071.m4a  --  116\n",
      "117\n",
      "filesprocess:  ./CLEAN_WOLOF_FOR_MEMORY/4_Ñent/pas_clean_22232271.m4a  --  118\n",
      "119\n",
      "filesprocess:  ./CLEAN_WOLOF_FOR_MEMORY/4_Ñent/pas_clean_49467296.m4a  --  120\n",
      "121\n",
      "filesprocess:  ./CLEAN_WOLOF_FOR_MEMORY/4_Ñent/pas_clean_60056960.m4a  --  122\n",
      "123\n",
      "filesprocess:  ./CLEAN_WOLOF_FOR_MEMORY/4_Ñent/pas_clean_29344145.m4a  --  124\n",
      "125\n",
      "filesprocess:  ./CLEAN_WOLOF_FOR_MEMORY/4_Ñent/pas_clean_95185318.m4a  --  126\n",
      "127\n",
      "filesprocess:  ./CLEAN_WOLOF_FOR_MEMORY/4_Ñent/pas_clean_39214490.m4a  --  128\n",
      "129\n",
      "filesprocess:  ./CLEAN_WOLOF_FOR_MEMORY/4_Ñent/pas_clean_61430953.m4a  --  130\n",
      "131\n",
      "filesprocess:  ./CLEAN_WOLOF_FOR_MEMORY/4_Ñent/pas_clean_22443517.m4a  --  132\n",
      "133\n",
      "filesprocess:  ./CLEAN_WOLOF_FOR_MEMORY/4_Ñent/pas_clean_70001907.m4a  --  134\n",
      "135\n",
      "filesprocess:  ./CLEAN_WOLOF_FOR_MEMORY/4_Ñent/pas_clean_81746746.m4a  --  136\n",
      "137\n",
      "filesprocess:  ./CLEAN_WOLOF_FOR_MEMORY/4_Ñent/pas_clean_62630127.m4a  --  138\n",
      "139\n",
      "filesprocess:  ./CLEAN_WOLOF_FOR_MEMORY/4_Ñent/pas_clean_15864680.m4a  --  140\n",
      "141\n",
      "filesprocess:  ./CLEAN_WOLOF_FOR_MEMORY/4_Ñent/pas_clean_22097334.m4a  --  142\n",
      "143\n",
      "filesprocess:  ./CLEAN_WOLOF_FOR_MEMORY/4_Ñent/pas_clean_55104089.m4a  --  144\n",
      "145\n",
      "filesprocess:  ./CLEAN_WOLOF_FOR_MEMORY/4_Ñent/pas_clean_32460870.m4a  --  146\n",
      "147\n"
     ]
    },
    {
     "name": "stderr",
     "output_type": "stream",
     "text": [
      "/home/ibrahimabarry01/anaconda3/lib/python3.8/site-packages/librosa/core/audio.py:162: UserWarning: PySoundFile failed. Trying audioread instead.\n",
      "  warnings.warn(\"PySoundFile failed. Trying audioread instead.\")\n"
     ]
    },
    {
     "name": "stdout",
     "output_type": "stream",
     "text": [
      "filesprocess:  ./CLEAN_WOLOF_FOR_MEMORY/4_Ñent/AUDIO-2021-05-25-07-41-54.m4a  --  148\n",
      "149\n"
     ]
    },
    {
     "name": "stderr",
     "output_type": "stream",
     "text": [
      "/home/ibrahimabarry01/anaconda3/lib/python3.8/site-packages/librosa/core/audio.py:162: UserWarning: PySoundFile failed. Trying audioread instead.\n",
      "  warnings.warn(\"PySoundFile failed. Trying audioread instead.\")\n"
     ]
    },
    {
     "name": "stdout",
     "output_type": "stream",
     "text": [
      "filesprocess:  ./CLEAN_WOLOF_FOR_MEMORY/4_Ñent/AUDIO-2021-05-25-06-52-15.m4a  --  150\n",
      "151\n"
     ]
    },
    {
     "name": "stderr",
     "output_type": "stream",
     "text": [
      "/home/ibrahimabarry01/anaconda3/lib/python3.8/site-packages/librosa/core/audio.py:162: UserWarning: PySoundFile failed. Trying audioread instead.\n",
      "  warnings.warn(\"PySoundFile failed. Trying audioread instead.\")\n"
     ]
    },
    {
     "name": "stdout",
     "output_type": "stream",
     "text": [
      "filesprocess:  ./CLEAN_WOLOF_FOR_MEMORY/4_Ñent/AUDIO-2021-05-25-06-55-13.m4a  --  152\n",
      "153\n"
     ]
    },
    {
     "name": "stderr",
     "output_type": "stream",
     "text": [
      "/home/ibrahimabarry01/anaconda3/lib/python3.8/site-packages/librosa/core/audio.py:162: UserWarning: PySoundFile failed. Trying audioread instead.\n",
      "  warnings.warn(\"PySoundFile failed. Trying audioread instead.\")\n"
     ]
    },
    {
     "name": "stdout",
     "output_type": "stream",
     "text": [
      "filesprocess:  ./CLEAN_WOLOF_FOR_MEMORY/4_Ñent/AUDIO-2021-05-25-06-55-19.m4a  --  154\n",
      "155\n"
     ]
    },
    {
     "name": "stderr",
     "output_type": "stream",
     "text": [
      "/home/ibrahimabarry01/anaconda3/lib/python3.8/site-packages/librosa/core/audio.py:162: UserWarning: PySoundFile failed. Trying audioread instead.\n",
      "  warnings.warn(\"PySoundFile failed. Trying audioread instead.\")\n"
     ]
    },
    {
     "name": "stdout",
     "output_type": "stream",
     "text": [
      "filesprocess:  ./CLEAN_WOLOF_FOR_MEMORY/4_Ñent/AUDIO-2021-05-25-06-55-25.m4a  --  156\n",
      "157\n",
      "filesprocess:  ./CLEAN_WOLOF_FOR_MEMORY/4_Ñent/pas_clean_74862804 (copie).m4a  --  158\n",
      "159\n",
      "filesprocess:  ./CLEAN_WOLOF_FOR_MEMORY/4_Ñent/pas_clean_60056960 (copie).m4a  --  160\n",
      "161\n",
      "filesprocess:  ./CLEAN_WOLOF_FOR_MEMORY/4_Ñent/pas_clean_29344145 (copie).m4a  --  162\n",
      "163\n"
     ]
    },
    {
     "name": "stderr",
     "output_type": "stream",
     "text": [
      "/home/ibrahimabarry01/anaconda3/lib/python3.8/site-packages/librosa/core/audio.py:162: UserWarning: PySoundFile failed. Trying audioread instead.\n",
      "  warnings.warn(\"PySoundFile failed. Trying audioread instead.\")\n"
     ]
    },
    {
     "name": "stdout",
     "output_type": "stream",
     "text": [
      "filesprocess:  ./CLEAN_WOLOF_FOR_MEMORY/4_Ñent/AUDIO-2021-05-25-14-55-08.m4a  --  164\n",
      "./CLEAN_WOLOF_FOR_MEMORY/10_Fukk\n",
      "165\n",
      "filesprocess:  ./CLEAN_WOLOF_FOR_MEMORY/10_Fukk/pas_clean_91687470.m4a  --  166\n",
      "167\n",
      "filesprocess:  ./CLEAN_WOLOF_FOR_MEMORY/10_Fukk/pas_clean_93674612.m4a  --  168\n",
      "169\n",
      "filesprocess:  ./CLEAN_WOLOF_FOR_MEMORY/10_Fukk/pas_clean_57661312.m4a  --  170\n",
      "171\n",
      "filesprocess:  ./CLEAN_WOLOF_FOR_MEMORY/10_Fukk/pas_clean_16762113.m4a  --  172\n",
      "173\n",
      "filesprocess:  ./CLEAN_WOLOF_FOR_MEMORY/10_Fukk/pas_clean_19546791.m4a  --  174\n",
      "175\n",
      "filesprocess:  ./CLEAN_WOLOF_FOR_MEMORY/10_Fukk/pas_clean_88614617.m4a  --  176\n",
      "177\n",
      "filesprocess:  ./CLEAN_WOLOF_FOR_MEMORY/10_Fukk/pas_clean_43486736.m4a  --  178\n",
      "179\n",
      "filesprocess:  ./CLEAN_WOLOF_FOR_MEMORY/10_Fukk/pas_clean_61564454.m4a  --  180\n",
      "181\n",
      "filesprocess:  ./CLEAN_WOLOF_FOR_MEMORY/10_Fukk/pas_clean_5801014.m4a  --  182\n",
      "183\n",
      "filesprocess:  ./CLEAN_WOLOF_FOR_MEMORY/10_Fukk/pas_clean_44686695.m4a  --  184\n",
      "185\n",
      "filesprocess:  ./CLEAN_WOLOF_FOR_MEMORY/10_Fukk/pas_clean_92608527.m4a  --  186\n",
      "187\n",
      "filesprocess:  ./CLEAN_WOLOF_FOR_MEMORY/10_Fukk/pas_clean_66408725.m4a  --  188\n",
      "189\n",
      "filesprocess:  ./CLEAN_WOLOF_FOR_MEMORY/10_Fukk/pas_clean_97232939.m4a  --  190\n",
      "191\n",
      "filesprocess:  ./CLEAN_WOLOF_FOR_MEMORY/10_Fukk/pas_clean_48017999.m4a  --  192\n",
      "193\n",
      "filesprocess:  ./CLEAN_WOLOF_FOR_MEMORY/10_Fukk/pas_clean_79597071.m4a  --  194\n",
      "195\n",
      "filesprocess:  ./CLEAN_WOLOF_FOR_MEMORY/10_Fukk/pas_clean_18420607.m4a  --  196\n",
      "197\n",
      "filesprocess:  ./CLEAN_WOLOF_FOR_MEMORY/10_Fukk/pas_clean_79465840.m4a  --  198\n",
      "199\n",
      "filesprocess:  ./CLEAN_WOLOF_FOR_MEMORY/10_Fukk/pas_clean_88918376.m4a  --  200\n",
      "201\n",
      "filesprocess:  ./CLEAN_WOLOF_FOR_MEMORY/10_Fukk/pas_clean_13876322.m4a  --  202\n",
      "203\n",
      "filesprocess:  ./CLEAN_WOLOF_FOR_MEMORY/10_Fukk/pas_clean_45935535.m4a  --  204\n",
      "205\n",
      "filesprocess:  ./CLEAN_WOLOF_FOR_MEMORY/10_Fukk/pas_clean_41708839.m4a  --  206\n",
      "207\n",
      "filesprocess:  ./CLEAN_WOLOF_FOR_MEMORY/10_Fukk/pas_clean_45300394.m4a  --  208\n",
      "209\n",
      "filesprocess:  ./CLEAN_WOLOF_FOR_MEMORY/10_Fukk/pas_clean_48474011.m4a  --  210\n",
      "211\n",
      "filesprocess:  ./CLEAN_WOLOF_FOR_MEMORY/10_Fukk/pas_clean_27947701.m4a  --  212\n",
      "213\n",
      "filesprocess:  ./CLEAN_WOLOF_FOR_MEMORY/10_Fukk/pas_clean_27001466.m4a  --  214\n",
      "215\n",
      "filesprocess:  ./CLEAN_WOLOF_FOR_MEMORY/10_Fukk/pas_clean_8773652.m4a  --  216\n",
      "217\n",
      "filesprocess:  ./CLEAN_WOLOF_FOR_MEMORY/10_Fukk/pas_clean_41813963.m4a  --  218\n",
      "219\n",
      "filesprocess:  ./CLEAN_WOLOF_FOR_MEMORY/10_Fukk/pas_clean_47871436.m4a  --  220\n",
      "221\n",
      "filesprocess:  ./CLEAN_WOLOF_FOR_MEMORY/10_Fukk/pas_clean_88894930.m4a  --  222\n",
      "223\n",
      "filesprocess:  ./CLEAN_WOLOF_FOR_MEMORY/10_Fukk/pas_clean_77481390.m4a  --  224\n",
      "225\n",
      "filesprocess:  ./CLEAN_WOLOF_FOR_MEMORY/10_Fukk/pas_clean_90736367.m4a  --  226\n",
      "227\n",
      "filesprocess:  ./CLEAN_WOLOF_FOR_MEMORY/10_Fukk/pas_clean_13612963.m4a  --  228\n",
      "229\n",
      "filesprocess:  ./CLEAN_WOLOF_FOR_MEMORY/10_Fukk/pas_clean_76659436.m4a  --  230\n",
      "231\n",
      "filesprocess:  ./CLEAN_WOLOF_FOR_MEMORY/10_Fukk/pas_clean_21631609.m4a  --  232\n",
      "233\n",
      "filesprocess:  ./CLEAN_WOLOF_FOR_MEMORY/10_Fukk/pas_clean_17803234.m4a  --  234\n",
      "235\n"
     ]
    },
    {
     "name": "stderr",
     "output_type": "stream",
     "text": [
      "/home/ibrahimabarry01/anaconda3/lib/python3.8/site-packages/librosa/core/audio.py:162: UserWarning: PySoundFile failed. Trying audioread instead.\n",
      "  warnings.warn(\"PySoundFile failed. Trying audioread instead.\")\n"
     ]
    },
    {
     "name": "stdout",
     "output_type": "stream",
     "text": [
      "filesprocess:  ./CLEAN_WOLOF_FOR_MEMORY/10_Fukk/AUDIO-2021-05-25-07-42-31.m4a  --  236\n",
      "237\n"
     ]
    },
    {
     "name": "stderr",
     "output_type": "stream",
     "text": [
      "/home/ibrahimabarry01/anaconda3/lib/python3.8/site-packages/librosa/core/audio.py:162: UserWarning: PySoundFile failed. Trying audioread instead.\n",
      "  warnings.warn(\"PySoundFile failed. Trying audioread instead.\")\n"
     ]
    },
    {
     "name": "stdout",
     "output_type": "stream",
     "text": [
      "filesprocess:  ./CLEAN_WOLOF_FOR_MEMORY/10_Fukk/AUDIO-2021-05-25-06-52-57.m4a  --  238\n",
      "239\n"
     ]
    },
    {
     "name": "stderr",
     "output_type": "stream",
     "text": [
      "/home/ibrahimabarry01/anaconda3/lib/python3.8/site-packages/librosa/core/audio.py:162: UserWarning: PySoundFile failed. Trying audioread instead.\n",
      "  warnings.warn(\"PySoundFile failed. Trying audioread instead.\")\n"
     ]
    },
    {
     "name": "stdout",
     "output_type": "stream",
     "text": [
      "filesprocess:  ./CLEAN_WOLOF_FOR_MEMORY/10_Fukk/AUDIO-2021-05-25-06-58-32.m4a  --  240\n",
      "241\n"
     ]
    },
    {
     "name": "stderr",
     "output_type": "stream",
     "text": [
      "/home/ibrahimabarry01/anaconda3/lib/python3.8/site-packages/librosa/core/audio.py:162: UserWarning: PySoundFile failed. Trying audioread instead.\n",
      "  warnings.warn(\"PySoundFile failed. Trying audioread instead.\")\n"
     ]
    },
    {
     "name": "stdout",
     "output_type": "stream",
     "text": [
      "filesprocess:  ./CLEAN_WOLOF_FOR_MEMORY/10_Fukk/AUDIO-2021-05-25-06-59-40.m4a  --  242\n",
      "243\n"
     ]
    },
    {
     "name": "stderr",
     "output_type": "stream",
     "text": [
      "/home/ibrahimabarry01/anaconda3/lib/python3.8/site-packages/librosa/core/audio.py:162: UserWarning: PySoundFile failed. Trying audioread instead.\n",
      "  warnings.warn(\"PySoundFile failed. Trying audioread instead.\")\n"
     ]
    },
    {
     "name": "stdout",
     "output_type": "stream",
     "text": [
      "filesprocess:  ./CLEAN_WOLOF_FOR_MEMORY/10_Fukk/AUDIO-2021-05-25-06-59-47.m4a  --  244\n",
      "245\n"
     ]
    },
    {
     "name": "stderr",
     "output_type": "stream",
     "text": [
      "/home/ibrahimabarry01/anaconda3/lib/python3.8/site-packages/librosa/core/audio.py:162: UserWarning: PySoundFile failed. Trying audioread instead.\n",
      "  warnings.warn(\"PySoundFile failed. Trying audioread instead.\")\n"
     ]
    },
    {
     "name": "stdout",
     "output_type": "stream",
     "text": [
      "filesprocess:  ./CLEAN_WOLOF_FOR_MEMORY/10_Fukk/AUDIO-2021-05-25-14-56-02.m4a  --  246\n",
      "./CLEAN_WOLOF_FOR_MEMORY/6_Juróom-Benn\n",
      "247\n",
      "filesprocess:  ./CLEAN_WOLOF_FOR_MEMORY/6_Juróom-Benn/pas_clean_73757758.m4a  --  248\n",
      "249\n",
      "filesprocess:  ./CLEAN_WOLOF_FOR_MEMORY/6_Juróom-Benn/pas_clean_38896418.m4a  --  250\n",
      "251\n",
      "filesprocess:  ./CLEAN_WOLOF_FOR_MEMORY/6_Juróom-Benn/pas_clean_11728204.m4a  --  252\n",
      "253\n",
      "filesprocess:  ./CLEAN_WOLOF_FOR_MEMORY/6_Juróom-Benn/pas_clean_63196059.m4a  --  254\n",
      "255\n",
      "filesprocess:  ./CLEAN_WOLOF_FOR_MEMORY/6_Juróom-Benn/pas_clean_11012929.m4a  --  256\n",
      "257\n",
      "filesprocess:  ./CLEAN_WOLOF_FOR_MEMORY/6_Juróom-Benn/pas_clean_88133332.m4a  --  258\n",
      "259\n",
      "filesprocess:  ./CLEAN_WOLOF_FOR_MEMORY/6_Juróom-Benn/pas_clean_31091368.m4a  --  260\n",
      "261\n",
      "filesprocess:  ./CLEAN_WOLOF_FOR_MEMORY/6_Juróom-Benn/pas_clean_17675825.m4a  --  262\n",
      "263\n",
      "filesprocess:  ./CLEAN_WOLOF_FOR_MEMORY/6_Juróom-Benn/pas_clean_13600672.m4a  --  264\n",
      "265\n",
      "filesprocess:  ./CLEAN_WOLOF_FOR_MEMORY/6_Juróom-Benn/pas_clean_89079979.m4a  --  266\n",
      "267\n",
      "filesprocess:  ./CLEAN_WOLOF_FOR_MEMORY/6_Juróom-Benn/pas_clean_50666234.m4a  --  268\n",
      "269\n",
      "filesprocess:  ./CLEAN_WOLOF_FOR_MEMORY/6_Juróom-Benn/pas_clean_86772022.m4a  --  270\n",
      "271\n",
      "filesprocess:  ./CLEAN_WOLOF_FOR_MEMORY/6_Juróom-Benn/pas_clean_32920269.m4a  --  272\n",
      "273\n",
      "filesprocess:  ./CLEAN_WOLOF_FOR_MEMORY/6_Juróom-Benn/pas_clean_79266418.m4a  --  274\n",
      "275\n",
      "filesprocess:  ./CLEAN_WOLOF_FOR_MEMORY/6_Juróom-Benn/pas_clean_42550171.m4a  --  276\n",
      "277\n",
      "filesprocess:  ./CLEAN_WOLOF_FOR_MEMORY/6_Juróom-Benn/pas_clean_16145870.m4a  --  278\n",
      "279\n",
      "filesprocess:  ./CLEAN_WOLOF_FOR_MEMORY/6_Juróom-Benn/pas_clean_12020492.m4a  --  280\n",
      "281\n",
      "filesprocess:  ./CLEAN_WOLOF_FOR_MEMORY/6_Juróom-Benn/pas_clean_34902623.m4a  --  282\n",
      "283\n",
      "filesprocess:  ./CLEAN_WOLOF_FOR_MEMORY/6_Juróom-Benn/pas_clean_46672827.m4a  --  284\n",
      "285\n",
      "filesprocess:  ./CLEAN_WOLOF_FOR_MEMORY/6_Juróom-Benn/pas_clean_5824517.m4a  --  286\n",
      "287\n",
      "filesprocess:  ./CLEAN_WOLOF_FOR_MEMORY/6_Juróom-Benn/pas_clean_79718263.m4a  --  288\n",
      "289\n",
      "filesprocess:  ./CLEAN_WOLOF_FOR_MEMORY/6_Juróom-Benn/pas_clean_53104421.m4a  --  290\n",
      "291\n",
      "filesprocess:  ./CLEAN_WOLOF_FOR_MEMORY/6_Juróom-Benn/pas_clean_4602133.m4a  --  292\n",
      "293\n",
      "filesprocess:  ./CLEAN_WOLOF_FOR_MEMORY/6_Juróom-Benn/pas_clean_83210745.m4a  --  294\n",
      "295\n",
      "filesprocess:  ./CLEAN_WOLOF_FOR_MEMORY/6_Juróom-Benn/pas_clean_46081173.m4a  --  296\n",
      "297\n",
      "filesprocess:  ./CLEAN_WOLOF_FOR_MEMORY/6_Juróom-Benn/pas_clean_42780700.m4a  --  298\n",
      "299\n",
      "filesprocess:  ./CLEAN_WOLOF_FOR_MEMORY/6_Juróom-Benn/pas_clean_54710602.m4a  --  300\n",
      "301\n",
      "filesprocess:  ./CLEAN_WOLOF_FOR_MEMORY/6_Juróom-Benn/pas_clean_33468092.m4a  --  302\n",
      "303\n",
      "filesprocess:  ./CLEAN_WOLOF_FOR_MEMORY/6_Juróom-Benn/pas_clean_96660375.m4a  --  304\n",
      "305\n",
      "filesprocess:  ./CLEAN_WOLOF_FOR_MEMORY/6_Juróom-Benn/pas_clean_25463818.m4a  --  306\n",
      "307\n",
      "filesprocess:  ./CLEAN_WOLOF_FOR_MEMORY/6_Juróom-Benn/pas_clean_86004400.m4a  --  308\n",
      "309\n",
      "filesprocess:  ./CLEAN_WOLOF_FOR_MEMORY/6_Juróom-Benn/pas_clean_65051695.m4a  --  310\n",
      "311\n",
      "filesprocess:  ./CLEAN_WOLOF_FOR_MEMORY/6_Juróom-Benn/pas_clean_94428218.m4a  --  312\n",
      "313\n",
      "filesprocess:  ./CLEAN_WOLOF_FOR_MEMORY/6_Juróom-Benn/pas_clean_57168321.m4a  --  314\n",
      "315\n",
      "filesprocess:  ./CLEAN_WOLOF_FOR_MEMORY/6_Juróom-Benn/pas_clean_29242006.m4a  --  316\n",
      "317\n"
     ]
    },
    {
     "name": "stderr",
     "output_type": "stream",
     "text": [
      "/home/ibrahimabarry01/anaconda3/lib/python3.8/site-packages/librosa/core/audio.py:162: UserWarning: PySoundFile failed. Trying audioread instead.\n",
      "  warnings.warn(\"PySoundFile failed. Trying audioread instead.\")\n"
     ]
    },
    {
     "name": "stdout",
     "output_type": "stream",
     "text": [
      "filesprocess:  ./CLEAN_WOLOF_FOR_MEMORY/6_Juróom-Benn/AUDIO-2021-05-25-07-42-10.m4a  --  318\n",
      "319\n"
     ]
    },
    {
     "name": "stderr",
     "output_type": "stream",
     "text": [
      "/home/ibrahimabarry01/anaconda3/lib/python3.8/site-packages/librosa/core/audio.py:162: UserWarning: PySoundFile failed. Trying audioread instead.\n",
      "  warnings.warn(\"PySoundFile failed. Trying audioread instead.\")\n"
     ]
    },
    {
     "name": "stdout",
     "output_type": "stream",
     "text": [
      "filesprocess:  ./CLEAN_WOLOF_FOR_MEMORY/6_Juróom-Benn/AUDIO-2021-05-25-06-52-29.m4a  --  320\n",
      "321\n"
     ]
    },
    {
     "name": "stderr",
     "output_type": "stream",
     "text": [
      "/home/ibrahimabarry01/anaconda3/lib/python3.8/site-packages/librosa/core/audio.py:162: UserWarning: PySoundFile failed. Trying audioread instead.\n",
      "  warnings.warn(\"PySoundFile failed. Trying audioread instead.\")\n"
     ]
    },
    {
     "name": "stdout",
     "output_type": "stream",
     "text": [
      "filesprocess:  ./CLEAN_WOLOF_FOR_MEMORY/6_Juróom-Benn/AUDIO-2021-05-25-06-56-22.m4a  --  322\n",
      "323\n"
     ]
    },
    {
     "name": "stderr",
     "output_type": "stream",
     "text": [
      "/home/ibrahimabarry01/anaconda3/lib/python3.8/site-packages/librosa/core/audio.py:162: UserWarning: PySoundFile failed. Trying audioread instead.\n",
      "  warnings.warn(\"PySoundFile failed. Trying audioread instead.\")\n"
     ]
    },
    {
     "name": "stdout",
     "output_type": "stream",
     "text": [
      "filesprocess:  ./CLEAN_WOLOF_FOR_MEMORY/6_Juróom-Benn/AUDIO-2021-05-25-06-56-29.m4a  --  324\n",
      "325\n"
     ]
    },
    {
     "name": "stderr",
     "output_type": "stream",
     "text": [
      "/home/ibrahimabarry01/anaconda3/lib/python3.8/site-packages/librosa/core/audio.py:162: UserWarning: PySoundFile failed. Trying audioread instead.\n",
      "  warnings.warn(\"PySoundFile failed. Trying audioread instead.\")\n"
     ]
    },
    {
     "name": "stdout",
     "output_type": "stream",
     "text": [
      "filesprocess:  ./CLEAN_WOLOF_FOR_MEMORY/6_Juróom-Benn/AUDIO-2021-05-25-06-56-38.m4a  --  326\n",
      "327\n"
     ]
    },
    {
     "name": "stderr",
     "output_type": "stream",
     "text": [
      "/home/ibrahimabarry01/anaconda3/lib/python3.8/site-packages/librosa/core/audio.py:162: UserWarning: PySoundFile failed. Trying audioread instead.\n",
      "  warnings.warn(\"PySoundFile failed. Trying audioread instead.\")\n"
     ]
    },
    {
     "name": "stdout",
     "output_type": "stream",
     "text": [
      "filesprocess:  ./CLEAN_WOLOF_FOR_MEMORY/6_Juróom-Benn/AUDIO-2021-05-25-14-55-26.m4a  --  328\n",
      "./CLEAN_WOLOF_FOR_MEMORY/3_Ñett\n",
      "329\n",
      "filesprocess:  ./CLEAN_WOLOF_FOR_MEMORY/3_Ñett/pas_clean_57460046.m4a  --  330\n",
      "331\n",
      "filesprocess:  ./CLEAN_WOLOF_FOR_MEMORY/3_Ñett/pas_clean_93450812.m4a  --  332\n",
      "333\n",
      "filesprocess:  ./CLEAN_WOLOF_FOR_MEMORY/3_Ñett/pas_clean_99329157.m4a  --  334\n",
      "335\n",
      "filesprocess:  ./CLEAN_WOLOF_FOR_MEMORY/3_Ñett/pas_clean_51829558.m4a  --  336\n",
      "337\n",
      "filesprocess:  ./CLEAN_WOLOF_FOR_MEMORY/3_Ñett/pas_clean_39373788.m4a  --  338\n",
      "339\n",
      "filesprocess:  ./CLEAN_WOLOF_FOR_MEMORY/3_Ñett/pas_clean_32979882.m4a  --  340\n",
      "341\n",
      "filesprocess:  ./CLEAN_WOLOF_FOR_MEMORY/3_Ñett/pas_clean_90004375.m4a  --  342\n",
      "343\n",
      "filesprocess:  ./CLEAN_WOLOF_FOR_MEMORY/3_Ñett/pas_clean_62356389.m4a  --  344\n",
      "345\n",
      "filesprocess:  ./CLEAN_WOLOF_FOR_MEMORY/3_Ñett/pas_clean_45424407.m4a  --  346\n",
      "347\n",
      "filesprocess:  ./CLEAN_WOLOF_FOR_MEMORY/3_Ñett/pas_clean_79199334.m4a  --  348\n",
      "349\n",
      "filesprocess:  ./CLEAN_WOLOF_FOR_MEMORY/3_Ñett/pas_clean_66974795.m4a  --  350\n",
      "351\n",
      "filesprocess:  ./CLEAN_WOLOF_FOR_MEMORY/3_Ñett/pas_clean_49172926.m4a  --  352\n",
      "353\n",
      "filesprocess:  ./CLEAN_WOLOF_FOR_MEMORY/3_Ñett/pas_clean_91006513.m4a  --  354\n",
      "355\n",
      "filesprocess:  ./CLEAN_WOLOF_FOR_MEMORY/3_Ñett/pas_clean_78690942.m4a  --  356\n",
      "357\n",
      "filesprocess:  ./CLEAN_WOLOF_FOR_MEMORY/3_Ñett/pas_clean_793077.m4a  --  358\n",
      "359\n",
      "filesprocess:  ./CLEAN_WOLOF_FOR_MEMORY/3_Ñett/pas_clean_7722139.m4a  --  360\n",
      "361\n",
      "filesprocess:  ./CLEAN_WOLOF_FOR_MEMORY/3_Ñett/pas_clean_4718112.m4a  --  362\n",
      "363\n",
      "filesprocess:  ./CLEAN_WOLOF_FOR_MEMORY/3_Ñett/pas_clean_38543941.m4a  --  364\n",
      "365\n",
      "filesprocess:  ./CLEAN_WOLOF_FOR_MEMORY/3_Ñett/pas_clean_57512581.m4a  --  366\n",
      "367\n",
      "filesprocess:  ./CLEAN_WOLOF_FOR_MEMORY/3_Ñett/pas_clean_67899208.m4a  --  368\n",
      "369\n",
      "filesprocess:  ./CLEAN_WOLOF_FOR_MEMORY/3_Ñett/pas_clean_25508174.m4a  --  370\n",
      "371\n",
      "filesprocess:  ./CLEAN_WOLOF_FOR_MEMORY/3_Ñett/pas_clean_76665333.m4a  --  372\n",
      "373\n",
      "filesprocess:  ./CLEAN_WOLOF_FOR_MEMORY/3_Ñett/pas_clean_4818769.m4a  --  374\n",
      "375\n",
      "filesprocess:  ./CLEAN_WOLOF_FOR_MEMORY/3_Ñett/pas_clean_51113308.m4a  --  376\n",
      "377\n",
      "filesprocess:  ./CLEAN_WOLOF_FOR_MEMORY/3_Ñett/pas_clean_76604889.m4a  --  378\n",
      "379\n",
      "filesprocess:  ./CLEAN_WOLOF_FOR_MEMORY/3_Ñett/pas_clean_99946180.m4a  --  380\n",
      "381\n",
      "filesprocess:  ./CLEAN_WOLOF_FOR_MEMORY/3_Ñett/pas_clean_31919702.m4a  --  382\n",
      "383\n",
      "filesprocess:  ./CLEAN_WOLOF_FOR_MEMORY/3_Ñett/pas_clean_68383206.m4a  --  384\n",
      "385\n",
      "filesprocess:  ./CLEAN_WOLOF_FOR_MEMORY/3_Ñett/pas_clean_73432822.m4a  --  386\n",
      "387\n",
      "filesprocess:  ./CLEAN_WOLOF_FOR_MEMORY/3_Ñett/pas_clean_4156293.m4a  --  388\n",
      "389\n",
      "filesprocess:  ./CLEAN_WOLOF_FOR_MEMORY/3_Ñett/pas_clean_72588339.m4a  --  390\n",
      "391\n",
      "filesprocess:  ./CLEAN_WOLOF_FOR_MEMORY/3_Ñett/pas_clean_87294535.m4a  --  392\n",
      "393\n"
     ]
    },
    {
     "name": "stderr",
     "output_type": "stream",
     "text": [
      "/home/ibrahimabarry01/anaconda3/lib/python3.8/site-packages/librosa/core/audio.py:162: UserWarning: PySoundFile failed. Trying audioread instead.\n",
      "  warnings.warn(\"PySoundFile failed. Trying audioread instead.\")\n"
     ]
    },
    {
     "name": "stdout",
     "output_type": "stream",
     "text": [
      "filesprocess:  ./CLEAN_WOLOF_FOR_MEMORY/3_Ñett/AUDIO-2021-05-25-07-41-50.m4a  --  394\n",
      "395\n"
     ]
    },
    {
     "name": "stderr",
     "output_type": "stream",
     "text": [
      "/home/ibrahimabarry01/anaconda3/lib/python3.8/site-packages/librosa/core/audio.py:162: UserWarning: PySoundFile failed. Trying audioread instead.\n",
      "  warnings.warn(\"PySoundFile failed. Trying audioread instead.\")\n"
     ]
    },
    {
     "name": "stdout",
     "output_type": "stream",
     "text": [
      "filesprocess:  ./CLEAN_WOLOF_FOR_MEMORY/3_Ñett/AUDIO-2021-05-25-06-52-08.m4a  --  396\n",
      "397\n"
     ]
    },
    {
     "name": "stderr",
     "output_type": "stream",
     "text": [
      "/home/ibrahimabarry01/anaconda3/lib/python3.8/site-packages/librosa/core/audio.py:162: UserWarning: PySoundFile failed. Trying audioread instead.\n",
      "  warnings.warn(\"PySoundFile failed. Trying audioread instead.\")\n"
     ]
    },
    {
     "name": "stdout",
     "output_type": "stream",
     "text": [
      "filesprocess:  ./CLEAN_WOLOF_FOR_MEMORY/3_Ñett/AUDIO-2021-05-25-06-54-31.m4a  --  398\n",
      "399\n"
     ]
    },
    {
     "name": "stderr",
     "output_type": "stream",
     "text": [
      "/home/ibrahimabarry01/anaconda3/lib/python3.8/site-packages/librosa/core/audio.py:162: UserWarning: PySoundFile failed. Trying audioread instead.\n",
      "  warnings.warn(\"PySoundFile failed. Trying audioread instead.\")\n"
     ]
    },
    {
     "name": "stdout",
     "output_type": "stream",
     "text": [
      "filesprocess:  ./CLEAN_WOLOF_FOR_MEMORY/3_Ñett/AUDIO-2021-05-25-06-54-36.m4a  --  400\n",
      "401\n"
     ]
    },
    {
     "name": "stderr",
     "output_type": "stream",
     "text": [
      "/home/ibrahimabarry01/anaconda3/lib/python3.8/site-packages/librosa/core/audio.py:162: UserWarning: PySoundFile failed. Trying audioread instead.\n",
      "  warnings.warn(\"PySoundFile failed. Trying audioread instead.\")\n"
     ]
    },
    {
     "name": "stdout",
     "output_type": "stream",
     "text": [
      "filesprocess:  ./CLEAN_WOLOF_FOR_MEMORY/3_Ñett/AUDIO-2021-05-25-06-54-42.m4a  --  402\n",
      "403\n",
      "filesprocess:  ./CLEAN_WOLOF_FOR_MEMORY/3_Ñett/pas_clean_99329157 (copie).m4a  --  404\n",
      "405\n",
      "filesprocess:  ./CLEAN_WOLOF_FOR_MEMORY/3_Ñett/pas_clean_79199334 (copie).m4a  --  406\n",
      "407\n",
      "filesprocess:  ./CLEAN_WOLOF_FOR_MEMORY/3_Ñett/pas_clean_93450812 (copie).m4a  --  408\n",
      "409\n"
     ]
    },
    {
     "name": "stderr",
     "output_type": "stream",
     "text": [
      "/home/ibrahimabarry01/anaconda3/lib/python3.8/site-packages/librosa/core/audio.py:162: UserWarning: PySoundFile failed. Trying audioread instead.\n",
      "  warnings.warn(\"PySoundFile failed. Trying audioread instead.\")\n"
     ]
    },
    {
     "name": "stdout",
     "output_type": "stream",
     "text": [
      "filesprocess:  ./CLEAN_WOLOF_FOR_MEMORY/3_Ñett/AUDIO-2021-05-25-14-54-52.m4a  --  410\n",
      "./CLEAN_WOLOF_FOR_MEMORY/7_Juróom-Ñaar\n",
      "411\n",
      "filesprocess:  ./CLEAN_WOLOF_FOR_MEMORY/7_Juróom-Ñaar/pas_clean_91669477.m4a  --  412\n",
      "413\n",
      "filesprocess:  ./CLEAN_WOLOF_FOR_MEMORY/7_Juróom-Ñaar/pas_clean_81516245.m4a  --  414\n",
      "415\n",
      "filesprocess:  ./CLEAN_WOLOF_FOR_MEMORY/7_Juróom-Ñaar/pas_clean_96175733.m4a  --  416\n",
      "417\n",
      "filesprocess:  ./CLEAN_WOLOF_FOR_MEMORY/7_Juróom-Ñaar/pas_clean_8006631.m4a  --  418\n",
      "419\n",
      "filesprocess:  ./CLEAN_WOLOF_FOR_MEMORY/7_Juróom-Ñaar/pas_clean_66976032.m4a  --  420\n",
      "421\n",
      "filesprocess:  ./CLEAN_WOLOF_FOR_MEMORY/7_Juróom-Ñaar/pas_clean_50840209.m4a  --  422\n",
      "423\n",
      "filesprocess:  ./CLEAN_WOLOF_FOR_MEMORY/7_Juróom-Ñaar/pas_clean_1608991.m4a  --  424\n",
      "425\n",
      "filesprocess:  ./CLEAN_WOLOF_FOR_MEMORY/7_Juróom-Ñaar/pas_clean_39090515.m4a  --  426\n",
      "427\n",
      "filesprocess:  ./CLEAN_WOLOF_FOR_MEMORY/7_Juróom-Ñaar/pas_clean_1184782.m4a  --  428\n",
      "429\n",
      "filesprocess:  ./CLEAN_WOLOF_FOR_MEMORY/7_Juróom-Ñaar/pas_clean_4037599.m4a  --  430\n",
      "431\n",
      "filesprocess:  ./CLEAN_WOLOF_FOR_MEMORY/7_Juróom-Ñaar/pas_clean_51973370.m4a  --  432\n",
      "433\n",
      "filesprocess:  ./CLEAN_WOLOF_FOR_MEMORY/7_Juróom-Ñaar/pas_clean_48532913.m4a  --  434\n",
      "435\n",
      "filesprocess:  ./CLEAN_WOLOF_FOR_MEMORY/7_Juróom-Ñaar/pas_clean_43246498.m4a  --  436\n",
      "437\n",
      "filesprocess:  ./CLEAN_WOLOF_FOR_MEMORY/7_Juróom-Ñaar/pas_clean_35042624.m4a  --  438\n",
      "439\n",
      "filesprocess:  ./CLEAN_WOLOF_FOR_MEMORY/7_Juróom-Ñaar/pas_clean_1038829.m4a  --  440\n",
      "441\n",
      "filesprocess:  ./CLEAN_WOLOF_FOR_MEMORY/7_Juróom-Ñaar/pas_clean_54094133.m4a  --  442\n",
      "443\n",
      "filesprocess:  ./CLEAN_WOLOF_FOR_MEMORY/7_Juróom-Ñaar/pas_clean_9677208.m4a  --  444\n",
      "445\n",
      "filesprocess:  ./CLEAN_WOLOF_FOR_MEMORY/7_Juróom-Ñaar/pas_clean_33824912.m4a  --  446\n",
      "447\n",
      "filesprocess:  ./CLEAN_WOLOF_FOR_MEMORY/7_Juróom-Ñaar/pas_clean_79916054.m4a  --  448\n",
      "449\n",
      "filesprocess:  ./CLEAN_WOLOF_FOR_MEMORY/7_Juróom-Ñaar/pas_clean_63296582.m4a  --  450\n",
      "451\n",
      "filesprocess:  ./CLEAN_WOLOF_FOR_MEMORY/7_Juróom-Ñaar/pas_clean_2122587.m4a  --  452\n",
      "453\n",
      "filesprocess:  ./CLEAN_WOLOF_FOR_MEMORY/7_Juróom-Ñaar/pas_clean_31112159.m4a  --  454\n",
      "455\n",
      "filesprocess:  ./CLEAN_WOLOF_FOR_MEMORY/7_Juróom-Ñaar/pas_clean_12179189.m4a  --  456\n",
      "457\n",
      "filesprocess:  ./CLEAN_WOLOF_FOR_MEMORY/7_Juróom-Ñaar/pas_clean_73013823.m4a  --  458\n",
      "459\n",
      "filesprocess:  ./CLEAN_WOLOF_FOR_MEMORY/7_Juróom-Ñaar/pas_clean_53795987.m4a  --  460\n",
      "461\n",
      "filesprocess:  ./CLEAN_WOLOF_FOR_MEMORY/7_Juróom-Ñaar/pas_clean_53054848.m4a  --  462\n",
      "463\n",
      "filesprocess:  ./CLEAN_WOLOF_FOR_MEMORY/7_Juróom-Ñaar/pas_clean_66655858.m4a  --  464\n",
      "465\n",
      "filesprocess:  ./CLEAN_WOLOF_FOR_MEMORY/7_Juróom-Ñaar/pas_clean_85370225.m4a  --  466\n",
      "467\n",
      "filesprocess:  ./CLEAN_WOLOF_FOR_MEMORY/7_Juróom-Ñaar/pas_clean_74400451.m4a  --  468\n",
      "469\n",
      "filesprocess:  ./CLEAN_WOLOF_FOR_MEMORY/7_Juróom-Ñaar/pas_clean_72184539.m4a  --  470\n",
      "471\n",
      "filesprocess:  ./CLEAN_WOLOF_FOR_MEMORY/7_Juróom-Ñaar/pas_clean_36240947.m4a  --  472\n",
      "473\n",
      "filesprocess:  ./CLEAN_WOLOF_FOR_MEMORY/7_Juróom-Ñaar/pas_clean_84986086.m4a  --  474\n",
      "475\n",
      "filesprocess:  ./CLEAN_WOLOF_FOR_MEMORY/7_Juróom-Ñaar/pas_clean_53862107.m4a  --  476\n",
      "477\n",
      "filesprocess:  ./CLEAN_WOLOF_FOR_MEMORY/7_Juróom-Ñaar/pas_clean_5484482.m4a  --  478\n",
      "479\n",
      "filesprocess:  ./CLEAN_WOLOF_FOR_MEMORY/7_Juróom-Ñaar/pas_clean_32161517.m4a  --  480\n",
      "481\n"
     ]
    },
    {
     "name": "stderr",
     "output_type": "stream",
     "text": [
      "/home/ibrahimabarry01/anaconda3/lib/python3.8/site-packages/librosa/core/audio.py:162: UserWarning: PySoundFile failed. Trying audioread instead.\n",
      "  warnings.warn(\"PySoundFile failed. Trying audioread instead.\")\n"
     ]
    },
    {
     "name": "stdout",
     "output_type": "stream",
     "text": [
      "filesprocess:  ./CLEAN_WOLOF_FOR_MEMORY/7_Juróom-Ñaar/AUDIO-2021-05-25-07-42-16.m4a  --  482\n",
      "483\n"
     ]
    },
    {
     "name": "stderr",
     "output_type": "stream",
     "text": [
      "/home/ibrahimabarry01/anaconda3/lib/python3.8/site-packages/librosa/core/audio.py:162: UserWarning: PySoundFile failed. Trying audioread instead.\n",
      "  warnings.warn(\"PySoundFile failed. Trying audioread instead.\")\n"
     ]
    },
    {
     "name": "stdout",
     "output_type": "stream",
     "text": [
      "filesprocess:  ./CLEAN_WOLOF_FOR_MEMORY/7_Juróom-Ñaar/AUDIO-2021-05-25-06-52-36.m4a  --  484\n",
      "485\n"
     ]
    },
    {
     "name": "stderr",
     "output_type": "stream",
     "text": [
      "/home/ibrahimabarry01/anaconda3/lib/python3.8/site-packages/librosa/core/audio.py:162: UserWarning: PySoundFile failed. Trying audioread instead.\n",
      "  warnings.warn(\"PySoundFile failed. Trying audioread instead.\")\n"
     ]
    },
    {
     "name": "stdout",
     "output_type": "stream",
     "text": [
      "filesprocess:  ./CLEAN_WOLOF_FOR_MEMORY/7_Juróom-Ñaar/AUDIO-2021-05-25-06-56-57.m4a  --  486\n",
      "487\n"
     ]
    },
    {
     "name": "stderr",
     "output_type": "stream",
     "text": [
      "/home/ibrahimabarry01/anaconda3/lib/python3.8/site-packages/librosa/core/audio.py:162: UserWarning: PySoundFile failed. Trying audioread instead.\n",
      "  warnings.warn(\"PySoundFile failed. Trying audioread instead.\")\n"
     ]
    },
    {
     "name": "stdout",
     "output_type": "stream",
     "text": [
      "filesprocess:  ./CLEAN_WOLOF_FOR_MEMORY/7_Juróom-Ñaar/AUDIO-2021-05-25-06-57-07.m4a  --  488\n",
      "489\n",
      "filesprocess:  ./CLEAN_WOLOF_FOR_MEMORY/7_Juróom-Ñaar/pas_clean_84986086 (copie).m4a  --  490\n",
      "491\n"
     ]
    },
    {
     "name": "stderr",
     "output_type": "stream",
     "text": [
      "/home/ibrahimabarry01/anaconda3/lib/python3.8/site-packages/librosa/core/audio.py:162: UserWarning: PySoundFile failed. Trying audioread instead.\n",
      "  warnings.warn(\"PySoundFile failed. Trying audioread instead.\")\n"
     ]
    },
    {
     "name": "stdout",
     "output_type": "stream",
     "text": [
      "filesprocess:  ./CLEAN_WOLOF_FOR_MEMORY/7_Juróom-Ñaar/AUDIO-2021-05-25-14-55-34.m4a  --  492\n",
      "./CLEAN_WOLOF_FOR_MEMORY/1_Benn\n",
      "493\n",
      "filesprocess:  ./CLEAN_WOLOF_FOR_MEMORY/1_Benn/pas_clean_97872106.m4a  --  494\n",
      "495\n",
      "filesprocess:  ./CLEAN_WOLOF_FOR_MEMORY/1_Benn/pas_clean_55756140.m4a  --  496\n",
      "497\n",
      "filesprocess:  ./CLEAN_WOLOF_FOR_MEMORY/1_Benn/pas_clean_3924240.m4a  --  498\n",
      "499\n",
      "filesprocess:  ./CLEAN_WOLOF_FOR_MEMORY/1_Benn/pas_clean_10619459.m4a  --  500\n",
      "501\n",
      "filesprocess:  ./CLEAN_WOLOF_FOR_MEMORY/1_Benn/pas_clean_10780504.m4a  --  502\n",
      "503\n",
      "filesprocess:  ./CLEAN_WOLOF_FOR_MEMORY/1_Benn/pas_clean_33360066.m4a  --  504\n",
      "505\n",
      "filesprocess:  ./CLEAN_WOLOF_FOR_MEMORY/1_Benn/pas_clean_87747079.m4a  --  506\n",
      "507\n",
      "filesprocess:  ./CLEAN_WOLOF_FOR_MEMORY/1_Benn/pas_clean_98555098.m4a  --  508\n",
      "509\n",
      "filesprocess:  ./CLEAN_WOLOF_FOR_MEMORY/1_Benn/pas_clean_66292085.m4a  --  510\n",
      "511\n",
      "filesprocess:  ./CLEAN_WOLOF_FOR_MEMORY/1_Benn/pas_clean_42051052.m4a  --  512\n",
      "513\n",
      "filesprocess:  ./CLEAN_WOLOF_FOR_MEMORY/1_Benn/pas_clean_80281631.m4a  --  514\n",
      "515\n",
      "filesprocess:  ./CLEAN_WOLOF_FOR_MEMORY/1_Benn/pas_clean_21521738.m4a  --  516\n",
      "517\n",
      "filesprocess:  ./CLEAN_WOLOF_FOR_MEMORY/1_Benn/pas_clean_37366254.m4a  --  518\n",
      "519\n",
      "filesprocess:  ./CLEAN_WOLOF_FOR_MEMORY/1_Benn/pas_clean_8499150.m4a  --  520\n",
      "521\n",
      "filesprocess:  ./CLEAN_WOLOF_FOR_MEMORY/1_Benn/pas_clean_71477086.m4a  --  522\n",
      "523\n",
      "filesprocess:  ./CLEAN_WOLOF_FOR_MEMORY/1_Benn/pas_clean_43163312.m4a  --  524\n",
      "525\n",
      "filesprocess:  ./CLEAN_WOLOF_FOR_MEMORY/1_Benn/pas_clean_34813199.m4a  --  526\n",
      "527\n",
      "filesprocess:  ./CLEAN_WOLOF_FOR_MEMORY/1_Benn/pas_clean_52941789.m4a  --  528\n",
      "529\n",
      "filesprocess:  ./CLEAN_WOLOF_FOR_MEMORY/1_Benn/pas_clean_5358881.m4a  --  530\n",
      "531\n",
      "filesprocess:  ./CLEAN_WOLOF_FOR_MEMORY/1_Benn/pas_clean_7890816.m4a  --  532\n",
      "533\n",
      "filesprocess:  ./CLEAN_WOLOF_FOR_MEMORY/1_Benn/pas_clean_62944063.m4a  --  534\n",
      "535\n",
      "filesprocess:  ./CLEAN_WOLOF_FOR_MEMORY/1_Benn/pas_clean_2665261.m4a  --  536\n",
      "537\n",
      "filesprocess:  ./CLEAN_WOLOF_FOR_MEMORY/1_Benn/pas_clean_26702186.m4a  --  538\n",
      "539\n",
      "filesprocess:  ./CLEAN_WOLOF_FOR_MEMORY/1_Benn/pas_clean_78243339.m4a  --  540\n",
      "541\n",
      "filesprocess:  ./CLEAN_WOLOF_FOR_MEMORY/1_Benn/pas_clean_6946085.m4a  --  542\n",
      "543\n",
      "filesprocess:  ./CLEAN_WOLOF_FOR_MEMORY/1_Benn/pas_clean_93642678.m4a  --  544\n",
      "545\n",
      "filesprocess:  ./CLEAN_WOLOF_FOR_MEMORY/1_Benn/pas_clean_62331218.m4a  --  546\n",
      "547\n",
      "filesprocess:  ./CLEAN_WOLOF_FOR_MEMORY/1_Benn/pas_clean_69864365.m4a  --  548\n",
      "549\n",
      "filesprocess:  ./CLEAN_WOLOF_FOR_MEMORY/1_Benn/pas_clean_50991180.m4a  --  550\n",
      "551\n",
      "filesprocess:  ./CLEAN_WOLOF_FOR_MEMORY/1_Benn/pas_clean_13738833.m4a  --  552\n",
      "553\n",
      "filesprocess:  ./CLEAN_WOLOF_FOR_MEMORY/1_Benn/pas_clean_77699108.m4a  --  554\n",
      "555\n",
      "filesprocess:  ./CLEAN_WOLOF_FOR_MEMORY/1_Benn/pas_clean_24334254.m4a  --  556\n",
      "557\n",
      "filesprocess:  ./CLEAN_WOLOF_FOR_MEMORY/1_Benn/pas_clean_9239877.m4a  --  558\n",
      "559\n",
      "filesprocess:  ./CLEAN_WOLOF_FOR_MEMORY/1_Benn/pas_clean_85585755.m4a  --  560\n",
      "561\n",
      "filesprocess:  ./CLEAN_WOLOF_FOR_MEMORY/1_Benn/pas_clean_47353094.m4a  --  562\n",
      "563\n"
     ]
    },
    {
     "name": "stderr",
     "output_type": "stream",
     "text": [
      "/home/ibrahimabarry01/anaconda3/lib/python3.8/site-packages/librosa/core/audio.py:162: UserWarning: PySoundFile failed. Trying audioread instead.\n",
      "  warnings.warn(\"PySoundFile failed. Trying audioread instead.\")\n"
     ]
    },
    {
     "name": "stdout",
     "output_type": "stream",
     "text": [
      "filesprocess:  ./CLEAN_WOLOF_FOR_MEMORY/1_Benn/AUDIO-2021-05-25-07-41-15.m4a  --  564\n",
      "565\n"
     ]
    },
    {
     "name": "stderr",
     "output_type": "stream",
     "text": [
      "/home/ibrahimabarry01/anaconda3/lib/python3.8/site-packages/librosa/core/audio.py:162: UserWarning: PySoundFile failed. Trying audioread instead.\n",
      "  warnings.warn(\"PySoundFile failed. Trying audioread instead.\")\n"
     ]
    },
    {
     "name": "stdout",
     "output_type": "stream",
     "text": [
      "filesprocess:  ./CLEAN_WOLOF_FOR_MEMORY/1_Benn/AUDIO-2021-05-25-06-51-56.m4a  --  566\n",
      "567\n"
     ]
    },
    {
     "name": "stderr",
     "output_type": "stream",
     "text": [
      "/home/ibrahimabarry01/anaconda3/lib/python3.8/site-packages/librosa/core/audio.py:162: UserWarning: PySoundFile failed. Trying audioread instead.\n",
      "  warnings.warn(\"PySoundFile failed. Trying audioread instead.\")\n"
     ]
    },
    {
     "name": "stdout",
     "output_type": "stream",
     "text": [
      "filesprocess:  ./CLEAN_WOLOF_FOR_MEMORY/1_Benn/AUDIO-2021-05-25-06-53-08.m4a  --  568\n",
      "569\n"
     ]
    },
    {
     "name": "stderr",
     "output_type": "stream",
     "text": [
      "/home/ibrahimabarry01/anaconda3/lib/python3.8/site-packages/librosa/core/audio.py:162: UserWarning: PySoundFile failed. Trying audioread instead.\n",
      "  warnings.warn(\"PySoundFile failed. Trying audioread instead.\")\n"
     ]
    },
    {
     "name": "stdout",
     "output_type": "stream",
     "text": [
      "filesprocess:  ./CLEAN_WOLOF_FOR_MEMORY/1_Benn/AUDIO-2021-05-25-06-53-14.m4a  --  570\n",
      "571\n"
     ]
    },
    {
     "name": "stderr",
     "output_type": "stream",
     "text": [
      "/home/ibrahimabarry01/anaconda3/lib/python3.8/site-packages/librosa/core/audio.py:162: UserWarning: PySoundFile failed. Trying audioread instead.\n",
      "  warnings.warn(\"PySoundFile failed. Trying audioread instead.\")\n"
     ]
    },
    {
     "name": "stdout",
     "output_type": "stream",
     "text": [
      "filesprocess:  ./CLEAN_WOLOF_FOR_MEMORY/1_Benn/AUDIO-2021-05-25-06-53-21.m4a  --  572\n",
      "573\n"
     ]
    },
    {
     "name": "stderr",
     "output_type": "stream",
     "text": [
      "/home/ibrahimabarry01/anaconda3/lib/python3.8/site-packages/librosa/core/audio.py:162: UserWarning: PySoundFile failed. Trying audioread instead.\n",
      "  warnings.warn(\"PySoundFile failed. Trying audioread instead.\")\n"
     ]
    },
    {
     "name": "stdout",
     "output_type": "stream",
     "text": [
      "filesprocess:  ./CLEAN_WOLOF_FOR_MEMORY/1_Benn/AUDIO-2021-05-25-14-54-37.m4a  --  574\n",
      "./CLEAN_WOLOF_FOR_MEMORY/9_Juróom-Ñent\n",
      "575\n",
      "filesprocess:  ./CLEAN_WOLOF_FOR_MEMORY/9_Juróom-Ñent/pas_clean_14821444.m4a  --  576\n",
      "577\n",
      "filesprocess:  ./CLEAN_WOLOF_FOR_MEMORY/9_Juróom-Ñent/pas_clean_94266408.m4a  --  578\n",
      "579\n",
      "filesprocess:  ./CLEAN_WOLOF_FOR_MEMORY/9_Juróom-Ñent/pas_clean_77814734.m4a  --  580\n",
      "581\n",
      "filesprocess:  ./CLEAN_WOLOF_FOR_MEMORY/9_Juróom-Ñent/pas_clean_48405309.m4a  --  582\n",
      "583\n",
      "filesprocess:  ./CLEAN_WOLOF_FOR_MEMORY/9_Juróom-Ñent/pas_clean_13365265.m4a  --  584\n",
      "585\n",
      "filesprocess:  ./CLEAN_WOLOF_FOR_MEMORY/9_Juróom-Ñent/pas_clean_64400048.m4a  --  586\n",
      "587\n",
      "filesprocess:  ./CLEAN_WOLOF_FOR_MEMORY/9_Juróom-Ñent/pas_clean_61198620.m4a  --  588\n",
      "589\n",
      "filesprocess:  ./CLEAN_WOLOF_FOR_MEMORY/9_Juróom-Ñent/pas_clean_92798118.m4a  --  590\n",
      "591\n",
      "filesprocess:  ./CLEAN_WOLOF_FOR_MEMORY/9_Juróom-Ñent/pas_clean_27840941.m4a  --  592\n",
      "593\n",
      "filesprocess:  ./CLEAN_WOLOF_FOR_MEMORY/9_Juróom-Ñent/pas_clean_96970343.m4a  --  594\n",
      "595\n",
      "filesprocess:  ./CLEAN_WOLOF_FOR_MEMORY/9_Juróom-Ñent/pas_clean_81483746.m4a  --  596\n",
      "597\n",
      "filesprocess:  ./CLEAN_WOLOF_FOR_MEMORY/9_Juróom-Ñent/pas_clean_3109352.m4a  --  598\n",
      "599\n",
      "filesprocess:  ./CLEAN_WOLOF_FOR_MEMORY/9_Juróom-Ñent/pas_clean_80008192.m4a  --  600\n",
      "601\n",
      "filesprocess:  ./CLEAN_WOLOF_FOR_MEMORY/9_Juróom-Ñent/pas_clean_25293582.m4a  --  602\n",
      "603\n",
      "filesprocess:  ./CLEAN_WOLOF_FOR_MEMORY/9_Juróom-Ñent/pas_clean_8361223.m4a  --  604\n",
      "605\n",
      "filesprocess:  ./CLEAN_WOLOF_FOR_MEMORY/9_Juróom-Ñent/pas_clean_17117688.m4a  --  606\n",
      "607\n",
      "filesprocess:  ./CLEAN_WOLOF_FOR_MEMORY/9_Juróom-Ñent/pas_clean_16519191.m4a  --  608\n",
      "609\n",
      "filesprocess:  ./CLEAN_WOLOF_FOR_MEMORY/9_Juróom-Ñent/pas_clean_25019152.m4a  --  610\n",
      "611\n",
      "filesprocess:  ./CLEAN_WOLOF_FOR_MEMORY/9_Juróom-Ñent/pas_clean_9791518.m4a  --  612\n",
      "613\n",
      "filesprocess:  ./CLEAN_WOLOF_FOR_MEMORY/9_Juróom-Ñent/pas_clean_35218122.m4a  --  614\n",
      "615\n",
      "filesprocess:  ./CLEAN_WOLOF_FOR_MEMORY/9_Juróom-Ñent/pas_clean_98221557.m4a  --  616\n",
      "617\n",
      "filesprocess:  ./CLEAN_WOLOF_FOR_MEMORY/9_Juróom-Ñent/pas_clean_95754911.m4a  --  618\n",
      "619\n",
      "filesprocess:  ./CLEAN_WOLOF_FOR_MEMORY/9_Juróom-Ñent/pas_clean_49155208.m4a  --  620\n",
      "621\n",
      "filesprocess:  ./CLEAN_WOLOF_FOR_MEMORY/9_Juróom-Ñent/pas_clean_96023134.m4a  --  622\n",
      "623\n",
      "filesprocess:  ./CLEAN_WOLOF_FOR_MEMORY/9_Juróom-Ñent/pas_clean_31537038.m4a  --  624\n",
      "625\n",
      "filesprocess:  ./CLEAN_WOLOF_FOR_MEMORY/9_Juróom-Ñent/pas_clean_75770919.m4a  --  626\n",
      "627\n",
      "filesprocess:  ./CLEAN_WOLOF_FOR_MEMORY/9_Juróom-Ñent/pas_clean_91593777.m4a  --  628\n",
      "629\n",
      "filesprocess:  ./CLEAN_WOLOF_FOR_MEMORY/9_Juróom-Ñent/pas_clean_58789939.m4a  --  630\n",
      "631\n",
      "filesprocess:  ./CLEAN_WOLOF_FOR_MEMORY/9_Juróom-Ñent/pas_clean_51626591.m4a  --  632\n",
      "633\n",
      "filesprocess:  ./CLEAN_WOLOF_FOR_MEMORY/9_Juróom-Ñent/pas_clean_63610707.m4a  --  634\n",
      "635\n",
      "filesprocess:  ./CLEAN_WOLOF_FOR_MEMORY/9_Juróom-Ñent/pas_clean_32830116.m4a  --  636\n",
      "637\n",
      "filesprocess:  ./CLEAN_WOLOF_FOR_MEMORY/9_Juróom-Ñent/pas_clean_20319085.m4a  --  638\n",
      "639\n"
     ]
    },
    {
     "name": "stderr",
     "output_type": "stream",
     "text": [
      "/home/ibrahimabarry01/anaconda3/lib/python3.8/site-packages/librosa/core/audio.py:162: UserWarning: PySoundFile failed. Trying audioread instead.\n",
      "  warnings.warn(\"PySoundFile failed. Trying audioread instead.\")\n"
     ]
    },
    {
     "name": "stdout",
     "output_type": "stream",
     "text": [
      "filesprocess:  ./CLEAN_WOLOF_FOR_MEMORY/9_Juróom-Ñent/AUDIO-2021-05-25-07-42-26.m4a  --  640\n",
      "641\n"
     ]
    },
    {
     "name": "stderr",
     "output_type": "stream",
     "text": [
      "/home/ibrahimabarry01/anaconda3/lib/python3.8/site-packages/librosa/core/audio.py:162: UserWarning: PySoundFile failed. Trying audioread instead.\n",
      "  warnings.warn(\"PySoundFile failed. Trying audioread instead.\")\n"
     ]
    },
    {
     "name": "stdout",
     "output_type": "stream",
     "text": [
      "filesprocess:  ./CLEAN_WOLOF_FOR_MEMORY/9_Juróom-Ñent/AUDIO-2021-05-25-06-52-51.m4a  --  642\n",
      "643\n"
     ]
    },
    {
     "name": "stderr",
     "output_type": "stream",
     "text": [
      "/home/ibrahimabarry01/anaconda3/lib/python3.8/site-packages/librosa/core/audio.py:162: UserWarning: PySoundFile failed. Trying audioread instead.\n",
      "  warnings.warn(\"PySoundFile failed. Trying audioread instead.\")\n"
     ]
    },
    {
     "name": "stdout",
     "output_type": "stream",
     "text": [
      "filesprocess:  ./CLEAN_WOLOF_FOR_MEMORY/9_Juróom-Ñent/AUDIO-2021-05-25-06-58-13.m4a  --  644\n",
      "645\n"
     ]
    },
    {
     "name": "stderr",
     "output_type": "stream",
     "text": [
      "/home/ibrahimabarry01/anaconda3/lib/python3.8/site-packages/librosa/core/audio.py:162: UserWarning: PySoundFile failed. Trying audioread instead.\n",
      "  warnings.warn(\"PySoundFile failed. Trying audioread instead.\")\n"
     ]
    },
    {
     "name": "stdout",
     "output_type": "stream",
     "text": [
      "filesprocess:  ./CLEAN_WOLOF_FOR_MEMORY/9_Juróom-Ñent/AUDIO-2021-05-25-06-58-19.m4a  --  646\n",
      "647\n"
     ]
    },
    {
     "name": "stderr",
     "output_type": "stream",
     "text": [
      "/home/ibrahimabarry01/anaconda3/lib/python3.8/site-packages/librosa/core/audio.py:162: UserWarning: PySoundFile failed. Trying audioread instead.\n",
      "  warnings.warn(\"PySoundFile failed. Trying audioread instead.\")\n"
     ]
    },
    {
     "name": "stdout",
     "output_type": "stream",
     "text": [
      "filesprocess:  ./CLEAN_WOLOF_FOR_MEMORY/9_Juróom-Ñent/AUDIO-2021-05-25-06-58-25.m4a  --  648\n",
      "649\n",
      "filesprocess:  ./CLEAN_WOLOF_FOR_MEMORY/9_Juróom-Ñent/pas_clean_96970343 (copie).m4a  --  650\n",
      "651\n",
      "filesprocess:  ./CLEAN_WOLOF_FOR_MEMORY/9_Juróom-Ñent/pas_clean_77814734 (copie).m4a  --  652\n",
      "653\n",
      "filesprocess:  ./CLEAN_WOLOF_FOR_MEMORY/9_Juróom-Ñent/pas_clean_81483746 (copie).m4a  --  654\n",
      "655\n"
     ]
    },
    {
     "name": "stderr",
     "output_type": "stream",
     "text": [
      "/home/ibrahimabarry01/anaconda3/lib/python3.8/site-packages/librosa/core/audio.py:162: UserWarning: PySoundFile failed. Trying audioread instead.\n",
      "  warnings.warn(\"PySoundFile failed. Trying audioread instead.\")\n"
     ]
    },
    {
     "name": "stdout",
     "output_type": "stream",
     "text": [
      "filesprocess:  ./CLEAN_WOLOF_FOR_MEMORY/9_Juróom-Ñent/AUDIO-2021-05-25-14-55-54.m4a  --  656\n",
      "./CLEAN_WOLOF_FOR_MEMORY/2_Ñaar\n",
      "657\n",
      "filesprocess:  ./CLEAN_WOLOF_FOR_MEMORY/2_Ñaar/pas_clean_63897332.m4a  --  658\n",
      "659\n",
      "filesprocess:  ./CLEAN_WOLOF_FOR_MEMORY/2_Ñaar/pas_clean_87812611.m4a  --  660\n",
      "661\n",
      "filesprocess:  ./CLEAN_WOLOF_FOR_MEMORY/2_Ñaar/pas_clean_57666606.m4a  --  662\n",
      "663\n",
      "filesprocess:  ./CLEAN_WOLOF_FOR_MEMORY/2_Ñaar/pas_clean_28492458.m4a  --  664\n",
      "665\n",
      "filesprocess:  ./CLEAN_WOLOF_FOR_MEMORY/2_Ñaar/pas_clean_32988529.m4a  --  666\n",
      "667\n",
      "filesprocess:  ./CLEAN_WOLOF_FOR_MEMORY/2_Ñaar/pas_clean_16787904.m4a  --  668\n",
      "669\n",
      "filesprocess:  ./CLEAN_WOLOF_FOR_MEMORY/2_Ñaar/pas_clean_60239579.m4a  --  670\n",
      "671\n",
      "filesprocess:  ./CLEAN_WOLOF_FOR_MEMORY/2_Ñaar/pas_clean_20145188.m4a  --  672\n",
      "673\n",
      "filesprocess:  ./CLEAN_WOLOF_FOR_MEMORY/2_Ñaar/pas_clean_12124309.m4a  --  674\n",
      "675\n",
      "filesprocess:  ./CLEAN_WOLOF_FOR_MEMORY/2_Ñaar/pas_clean_33049170.m4a  --  676\n",
      "677\n",
      "filesprocess:  ./CLEAN_WOLOF_FOR_MEMORY/2_Ñaar/pas_clean_61691746.m4a  --  678\n",
      "679\n",
      "filesprocess:  ./CLEAN_WOLOF_FOR_MEMORY/2_Ñaar/pas_clean_19621189.m4a  --  680\n",
      "681\n",
      "filesprocess:  ./CLEAN_WOLOF_FOR_MEMORY/2_Ñaar/pas_clean_38025862.m4a  --  682\n",
      "683\n",
      "filesprocess:  ./CLEAN_WOLOF_FOR_MEMORY/2_Ñaar/pas_clean_55027160.m4a  --  684\n",
      "685\n",
      "filesprocess:  ./CLEAN_WOLOF_FOR_MEMORY/2_Ñaar/pas_clean_71857372.m4a  --  686\n",
      "687\n",
      "filesprocess:  ./CLEAN_WOLOF_FOR_MEMORY/2_Ñaar/pas_clean_33117127.m4a  --  688\n",
      "689\n",
      "filesprocess:  ./CLEAN_WOLOF_FOR_MEMORY/2_Ñaar/pas_clean_1161299.m4a  --  690\n",
      "691\n",
      "filesprocess:  ./CLEAN_WOLOF_FOR_MEMORY/2_Ñaar/pas_clean_66130846.m4a  --  692\n",
      "693\n",
      "filesprocess:  ./CLEAN_WOLOF_FOR_MEMORY/2_Ñaar/pas_clean_95604221.m4a  --  694\n",
      "695\n",
      "filesprocess:  ./CLEAN_WOLOF_FOR_MEMORY/2_Ñaar/pas_clean_7263083.m4a  --  696\n",
      "697\n",
      "filesprocess:  ./CLEAN_WOLOF_FOR_MEMORY/2_Ñaar/pas_clean_80574031.m4a  --  698\n",
      "699\n",
      "filesprocess:  ./CLEAN_WOLOF_FOR_MEMORY/2_Ñaar/pas_clean_56885561.m4a  --  700\n",
      "701\n",
      "filesprocess:  ./CLEAN_WOLOF_FOR_MEMORY/2_Ñaar/pas_clean_72003841.m4a  --  702\n",
      "703\n",
      "filesprocess:  ./CLEAN_WOLOF_FOR_MEMORY/2_Ñaar/pas_clean_85505745.m4a  --  704\n",
      "705\n",
      "filesprocess:  ./CLEAN_WOLOF_FOR_MEMORY/2_Ñaar/pas_clean_63132795.m4a  --  706\n",
      "707\n",
      "filesprocess:  ./CLEAN_WOLOF_FOR_MEMORY/2_Ñaar/pas_clean_92920775.m4a  --  708\n",
      "709\n",
      "filesprocess:  ./CLEAN_WOLOF_FOR_MEMORY/2_Ñaar/pas_clean_19504973.m4a  --  710\n",
      "711\n",
      "filesprocess:  ./CLEAN_WOLOF_FOR_MEMORY/2_Ñaar/pas_clean_24180159.m4a  --  712\n",
      "713\n",
      "filesprocess:  ./CLEAN_WOLOF_FOR_MEMORY/2_Ñaar/pas_clean_95401719.m4a  --  714\n",
      "715\n",
      "filesprocess:  ./CLEAN_WOLOF_FOR_MEMORY/2_Ñaar/pas_clean_25356328.m4a  --  716\n",
      "717\n",
      "filesprocess:  ./CLEAN_WOLOF_FOR_MEMORY/2_Ñaar/pas_clean_27395508.m4a  --  718\n",
      "719\n",
      "filesprocess:  ./CLEAN_WOLOF_FOR_MEMORY/2_Ñaar/pas_clean_78480875.m4a  --  720\n",
      "721\n",
      "filesprocess:  ./CLEAN_WOLOF_FOR_MEMORY/2_Ñaar/pas_clean_2258391.m4a  --  722\n",
      "723\n",
      "filesprocess:  ./CLEAN_WOLOF_FOR_MEMORY/2_Ñaar/pas_clean_28016879.m4a  --  724\n",
      "725\n"
     ]
    },
    {
     "name": "stderr",
     "output_type": "stream",
     "text": [
      "/home/ibrahimabarry01/anaconda3/lib/python3.8/site-packages/librosa/core/audio.py:162: UserWarning: PySoundFile failed. Trying audioread instead.\n",
      "  warnings.warn(\"PySoundFile failed. Trying audioread instead.\")\n"
     ]
    },
    {
     "name": "stdout",
     "output_type": "stream",
     "text": [
      "filesprocess:  ./CLEAN_WOLOF_FOR_MEMORY/2_Ñaar/AUDIO-2021-05-25-07-41-43.m4a  --  726\n",
      "727\n"
     ]
    },
    {
     "name": "stderr",
     "output_type": "stream",
     "text": [
      "/home/ibrahimabarry01/anaconda3/lib/python3.8/site-packages/librosa/core/audio.py:162: UserWarning: PySoundFile failed. Trying audioread instead.\n",
      "  warnings.warn(\"PySoundFile failed. Trying audioread instead.\")\n"
     ]
    },
    {
     "name": "stdout",
     "output_type": "stream",
     "text": [
      "filesprocess:  ./CLEAN_WOLOF_FOR_MEMORY/2_Ñaar/AUDIO-2021-05-25-06-52-02.m4a  --  728\n",
      "729\n"
     ]
    },
    {
     "name": "stderr",
     "output_type": "stream",
     "text": [
      "/home/ibrahimabarry01/anaconda3/lib/python3.8/site-packages/librosa/core/audio.py:162: UserWarning: PySoundFile failed. Trying audioread instead.\n",
      "  warnings.warn(\"PySoundFile failed. Trying audioread instead.\")\n"
     ]
    },
    {
     "name": "stdout",
     "output_type": "stream",
     "text": [
      "filesprocess:  ./CLEAN_WOLOF_FOR_MEMORY/2_Ñaar/AUDIO-2021-05-25-06-53-31.m4a  --  730\n",
      "731\n"
     ]
    },
    {
     "name": "stderr",
     "output_type": "stream",
     "text": [
      "/home/ibrahimabarry01/anaconda3/lib/python3.8/site-packages/librosa/core/audio.py:162: UserWarning: PySoundFile failed. Trying audioread instead.\n",
      "  warnings.warn(\"PySoundFile failed. Trying audioread instead.\")\n"
     ]
    },
    {
     "name": "stdout",
     "output_type": "stream",
     "text": [
      "filesprocess:  ./CLEAN_WOLOF_FOR_MEMORY/2_Ñaar/AUDIO-2021-05-25-06-53-37.m4a  --  732\n",
      "733\n"
     ]
    },
    {
     "name": "stderr",
     "output_type": "stream",
     "text": [
      "/home/ibrahimabarry01/anaconda3/lib/python3.8/site-packages/librosa/core/audio.py:162: UserWarning: PySoundFile failed. Trying audioread instead.\n",
      "  warnings.warn(\"PySoundFile failed. Trying audioread instead.\")\n"
     ]
    },
    {
     "name": "stdout",
     "output_type": "stream",
     "text": [
      "filesprocess:  ./CLEAN_WOLOF_FOR_MEMORY/2_Ñaar/AUDIO-2021-05-25-06-54-15.m4a  --  734\n",
      "735\n",
      "filesprocess:  ./CLEAN_WOLOF_FOR_MEMORY/2_Ñaar/pas_clean_87812611 (copie).m4a  --  736\n",
      "737\n"
     ]
    },
    {
     "name": "stderr",
     "output_type": "stream",
     "text": [
      "/home/ibrahimabarry01/anaconda3/lib/python3.8/site-packages/librosa/core/audio.py:162: UserWarning: PySoundFile failed. Trying audioread instead.\n",
      "  warnings.warn(\"PySoundFile failed. Trying audioread instead.\")\n"
     ]
    },
    {
     "name": "stdout",
     "output_type": "stream",
     "text": [
      "filesprocess:  ./CLEAN_WOLOF_FOR_MEMORY/2_Ñaar/AUDIO-2021-05-25-14-54-44.m4a  --  738\n",
      "./CLEAN_WOLOF_FOR_MEMORY/5_Juróom\n",
      "739\n",
      "filesprocess:  ./CLEAN_WOLOF_FOR_MEMORY/5_Juróom/pas_clean_73012211.m4a  --  740\n",
      "741\n",
      "filesprocess:  ./CLEAN_WOLOF_FOR_MEMORY/5_Juróom/pas_clean_65954598.m4a  --  742\n",
      "743\n",
      "filesprocess:  ./CLEAN_WOLOF_FOR_MEMORY/5_Juróom/pas_clean_15119881.m4a  --  744\n",
      "745\n",
      "filesprocess:  ./CLEAN_WOLOF_FOR_MEMORY/5_Juróom/pas_clean_76253917.m4a  --  746\n",
      "747\n",
      "filesprocess:  ./CLEAN_WOLOF_FOR_MEMORY/5_Juróom/pas_clean_2868521.m4a  --  748\n",
      "749\n",
      "filesprocess:  ./CLEAN_WOLOF_FOR_MEMORY/5_Juróom/pas_clean_28694428.m4a  --  750\n",
      "751\n",
      "filesprocess:  ./CLEAN_WOLOF_FOR_MEMORY/5_Juróom/pas_clean_9096752.m4a  --  752\n",
      "753\n",
      "filesprocess:  ./CLEAN_WOLOF_FOR_MEMORY/5_Juróom/pas_clean_29157027.m4a  --  754\n",
      "755\n",
      "filesprocess:  ./CLEAN_WOLOF_FOR_MEMORY/5_Juróom/pas_clean_5415302.m4a  --  756\n",
      "757\n",
      "filesprocess:  ./CLEAN_WOLOF_FOR_MEMORY/5_Juróom/pas_clean_65082517.m4a  --  758\n",
      "759\n",
      "filesprocess:  ./CLEAN_WOLOF_FOR_MEMORY/5_Juróom/pas_clean_24037755.m4a  --  760\n",
      "761\n",
      "filesprocess:  ./CLEAN_WOLOF_FOR_MEMORY/5_Juróom/pas_clean_27905228.m4a  --  762\n",
      "763\n",
      "filesprocess:  ./CLEAN_WOLOF_FOR_MEMORY/5_Juróom/pas_clean_69965696.m4a  --  764\n",
      "765\n",
      "filesprocess:  ./CLEAN_WOLOF_FOR_MEMORY/5_Juróom/pas_clean_90732634.m4a  --  766\n",
      "767\n",
      "filesprocess:  ./CLEAN_WOLOF_FOR_MEMORY/5_Juróom/pas_clean_77308053.m4a  --  768\n",
      "769\n",
      "filesprocess:  ./CLEAN_WOLOF_FOR_MEMORY/5_Juróom/pas_clean_62128159.m4a  --  770\n",
      "771\n",
      "filesprocess:  ./CLEAN_WOLOF_FOR_MEMORY/5_Juróom/pas_clean_7696314.m4a  --  772\n",
      "773\n",
      "filesprocess:  ./CLEAN_WOLOF_FOR_MEMORY/5_Juróom/pas_clean_43538147.m4a  --  774\n",
      "775\n",
      "filesprocess:  ./CLEAN_WOLOF_FOR_MEMORY/5_Juróom/pas_clean_42639027.m4a  --  776\n",
      "777\n",
      "filesprocess:  ./CLEAN_WOLOF_FOR_MEMORY/5_Juróom/pas_clean_26841786.m4a  --  778\n",
      "779\n",
      "filesprocess:  ./CLEAN_WOLOF_FOR_MEMORY/5_Juróom/pas_clean_76487285.m4a  --  780\n",
      "781\n",
      "filesprocess:  ./CLEAN_WOLOF_FOR_MEMORY/5_Juróom/pas_clean_57465410.m4a  --  782\n",
      "783\n",
      "filesprocess:  ./CLEAN_WOLOF_FOR_MEMORY/5_Juróom/pas_clean_3462376.m4a  --  784\n",
      "785\n",
      "filesprocess:  ./CLEAN_WOLOF_FOR_MEMORY/5_Juróom/pas_clean_66929334.m4a  --  786\n",
      "787\n",
      "filesprocess:  ./CLEAN_WOLOF_FOR_MEMORY/5_Juróom/pas_clean_33781265.m4a  --  788\n",
      "789\n",
      "filesprocess:  ./CLEAN_WOLOF_FOR_MEMORY/5_Juróom/pas_clean_28072401.m4a  --  790\n",
      "791\n",
      "filesprocess:  ./CLEAN_WOLOF_FOR_MEMORY/5_Juróom/pas_clean_78844892.m4a  --  792\n",
      "793\n",
      "filesprocess:  ./CLEAN_WOLOF_FOR_MEMORY/5_Juróom/pas_clean_26158436.m4a  --  794\n",
      "795\n",
      "filesprocess:  ./CLEAN_WOLOF_FOR_MEMORY/5_Juróom/pas_clean_56032991.m4a  --  796\n",
      "797\n",
      "filesprocess:  ./CLEAN_WOLOF_FOR_MEMORY/5_Juróom/pas_clean_77383540.m4a  --  798\n",
      "799\n",
      "filesprocess:  ./CLEAN_WOLOF_FOR_MEMORY/5_Juróom/pas_clean_53115493.m4a  --  800\n",
      "801\n",
      "filesprocess:  ./CLEAN_WOLOF_FOR_MEMORY/5_Juróom/pas_clean_73463879.m4a  --  802\n",
      "803\n",
      "filesprocess:  ./CLEAN_WOLOF_FOR_MEMORY/5_Juróom/pas_clean_41883707.m4a  --  804\n",
      "805\n"
     ]
    },
    {
     "name": "stderr",
     "output_type": "stream",
     "text": [
      "/home/ibrahimabarry01/anaconda3/lib/python3.8/site-packages/librosa/core/audio.py:162: UserWarning: PySoundFile failed. Trying audioread instead.\n",
      "  warnings.warn(\"PySoundFile failed. Trying audioread instead.\")\n"
     ]
    },
    {
     "name": "stdout",
     "output_type": "stream",
     "text": [
      "filesprocess:  ./CLEAN_WOLOF_FOR_MEMORY/5_Juróom/AUDIO-2021-05-25-07-42-05.m4a  --  806\n",
      "807\n"
     ]
    },
    {
     "name": "stderr",
     "output_type": "stream",
     "text": [
      "/home/ibrahimabarry01/anaconda3/lib/python3.8/site-packages/librosa/core/audio.py:162: UserWarning: PySoundFile failed. Trying audioread instead.\n",
      "  warnings.warn(\"PySoundFile failed. Trying audioread instead.\")\n"
     ]
    },
    {
     "name": "stdout",
     "output_type": "stream",
     "text": [
      "filesprocess:  ./CLEAN_WOLOF_FOR_MEMORY/5_Juróom/AUDIO-2021-05-25-06-52-21.m4a  --  808\n",
      "809\n"
     ]
    },
    {
     "name": "stderr",
     "output_type": "stream",
     "text": [
      "/home/ibrahimabarry01/anaconda3/lib/python3.8/site-packages/librosa/core/audio.py:162: UserWarning: PySoundFile failed. Trying audioread instead.\n",
      "  warnings.warn(\"PySoundFile failed. Trying audioread instead.\")\n"
     ]
    },
    {
     "name": "stdout",
     "output_type": "stream",
     "text": [
      "filesprocess:  ./CLEAN_WOLOF_FOR_MEMORY/5_Juróom/AUDIO-2021-05-25-06-55-39.m4a  --  810\n",
      "811\n"
     ]
    },
    {
     "name": "stderr",
     "output_type": "stream",
     "text": [
      "/home/ibrahimabarry01/anaconda3/lib/python3.8/site-packages/librosa/core/audio.py:162: UserWarning: PySoundFile failed. Trying audioread instead.\n",
      "  warnings.warn(\"PySoundFile failed. Trying audioread instead.\")\n"
     ]
    },
    {
     "name": "stdout",
     "output_type": "stream",
     "text": [
      "filesprocess:  ./CLEAN_WOLOF_FOR_MEMORY/5_Juróom/AUDIO-2021-05-25-06-55-44.m4a  --  812\n",
      "813\n"
     ]
    },
    {
     "name": "stderr",
     "output_type": "stream",
     "text": [
      "/home/ibrahimabarry01/anaconda3/lib/python3.8/site-packages/librosa/core/audio.py:162: UserWarning: PySoundFile failed. Trying audioread instead.\n",
      "  warnings.warn(\"PySoundFile failed. Trying audioread instead.\")\n"
     ]
    },
    {
     "name": "stdout",
     "output_type": "stream",
     "text": [
      "filesprocess:  ./CLEAN_WOLOF_FOR_MEMORY/5_Juróom/AUDIO-2021-05-25-06-55-49.m4a  --  814\n",
      "815\n",
      "filesprocess:  ./CLEAN_WOLOF_FOR_MEMORY/5_Juróom/pas_clean_77383540 (copie).m4a  --  816\n",
      "817\n",
      "filesprocess:  ./CLEAN_WOLOF_FOR_MEMORY/5_Juróom/pas_clean_62128159 (copie).m4a  --  818\n",
      "819\n"
     ]
    },
    {
     "name": "stderr",
     "output_type": "stream",
     "text": [
      "/home/ibrahimabarry01/anaconda3/lib/python3.8/site-packages/librosa/core/audio.py:162: UserWarning: PySoundFile failed. Trying audioread instead.\n",
      "  warnings.warn(\"PySoundFile failed. Trying audioread instead.\")\n"
     ]
    },
    {
     "name": "stdout",
     "output_type": "stream",
     "text": [
      "filesprocess:  ./CLEAN_WOLOF_FOR_MEMORY/5_Juróom/AUDIO-2021-05-25-14-55-18.m4a  --  820\n"
     ]
    }
   ],
   "source": [
    "i = 0\n",
    "for d in glob(\"./CLEAN_WOLOF_FOR_MEMORY/*\"):\n",
    "    print(d)\n",
    "    for f in glob(d+\"/*\"):\n",
    "        i = i+1\n",
    "        print(i)\n",
    "        rock = -1.2\n",
    "        i = i+1\n",
    "        wav, sr = l.load(f,sr=22050)\n",
    "        print(\"filesprocess: \", f , \" -- \", i)\n",
    "        wav_pitch_sf = l.effects.pitch_shift(wav,sr,n_steps=rock)\n",
    "        write(f[:-4]+\"rock\"+\".m4a\", sr, wav_pitch_sf )\n",
    "        \n",
    "        mince = 1.5\n",
    "        wav_pitch_sf2 = l.effects.pitch_shift(wav,sr,n_steps=mince)\n",
    "        write(f[:-4]+\"mince\"+\".m4a\", sr, wav_pitch_sf2 )\n",
    "        "
   ]
  },
  {
   "cell_type": "code",
   "execution_count": 37,
   "metadata": {},
   "outputs": [
    {
     "data": {
      "text/plain": [
       "[<matplotlib.lines.Line2D at 0x7f0608a0b100>]"
      ]
     },
     "execution_count": 37,
     "metadata": {},
     "output_type": "execute_result"
    },
    {
     "data": {
      "image/png": "[encoded data removed]",
      "text/plain": [
       "<Figure size 432x288 with 1 Axes>"
      ]
     },
     "metadata": {
      "needs_background": "light"
     },
     "output_type": "display_data"
    }
   ],
   "source": [
    "plt.plot(ll)"
   ]
  },
  {
   "cell_type": "markdown",
   "metadata": {},
   "source": [
    "# APres augmentation , laisser a 70 miles"
   ]
  },
  {
   "cell_type": "code",
   "execution_count": 3,
   "metadata": {},
   "outputs": [],
   "source": [
    "ll = [\"./doing_the_dishes.wav\",\"./pink_noise.wav\",\"./exercise_bike.wav\"]"
   ]
  },
  {
   "cell_type": "code",
   "execution_count": 4,
   "metadata": {},
   "outputs": [
    {
     "data": {
      "image/png": "[encoded data removed]",
      "text/plain": [
       "<Figure size 432x288 with 1 Axes>"
      ]
     },
     "metadata": {
      "needs_background": "light"
     },
     "output_type": "display_data"
    },
    {
     "data": {
      "image/png": "[encoded data removed]",
      "text/plain": [
       "<Figure size 432x288 with 1 Axes>"
      ]
     },
     "metadata": {
      "needs_background": "light"
     },
     "output_type": "display_data"
    },
    {
     "data": {
      "image/png": "[encoded data removed]",
      "text/plain": [
       "<Figure size 432x288 with 1 Axes>"
      ]
     },
     "metadata": {
      "needs_background": "light"
     },
     "output_type": "display_data"
    }
   ],
   "source": [
    "for e in ll:\n",
    "    y , sr = l.load(e, sr= 22050)\n",
    "    plt.plot(y)\n",
    "    plt.show()"
   ]
  },
  {
   "cell_type": "code",
   "execution_count": 5,
   "metadata": {
    "scrolled": true
   },
   "outputs": [
    {
     "name": "stdout",
     "output_type": "stream",
     "text": [
      "./CLEAN_WOLOF_FOR_MEMORY/8_Juróom-Ñett\n",
      "filesprocess:  ./CLEAN_WOLOF_FOR_MEMORY/8_Juróom-Ñett/pas_clean_28505053.m4a  --  1\n",
      "filesprocess:  ./CLEAN_WOLOF_FOR_MEMORY/8_Juróom-Ñett/pas_clean_36751555.m4a  --  2\n",
      "filesprocess:  ./CLEAN_WOLOF_FOR_MEMORY/8_Juróom-Ñett/pas_clean_23143011.m4a  --  3\n",
      "filesprocess:  ./CLEAN_WOLOF_FOR_MEMORY/8_Juróom-Ñett/pas_clean_54980570.m4a  --  4\n",
      "filesprocess:  ./CLEAN_WOLOF_FOR_MEMORY/8_Juróom-Ñett/pas_clean_2193767.m4a  --  5\n",
      "filesprocess:  ./CLEAN_WOLOF_FOR_MEMORY/8_Juróom-Ñett/pas_clean_43089884.m4a  --  6\n",
      "filesprocess:  ./CLEAN_WOLOF_FOR_MEMORY/8_Juróom-Ñett/pas_clean_86523071.m4a  --  7\n",
      "filesprocess:  ./CLEAN_WOLOF_FOR_MEMORY/8_Juróom-Ñett/pas_clean_74467881.m4a  --  8\n",
      "filesprocess:  ./CLEAN_WOLOF_FOR_MEMORY/8_Juróom-Ñett/pas_clean_21906083.m4a  --  9\n",
      "filesprocess:  ./CLEAN_WOLOF_FOR_MEMORY/8_Juróom-Ñett/pas_clean_1314175.m4a  --  10\n",
      "filesprocess:  ./CLEAN_WOLOF_FOR_MEMORY/8_Juróom-Ñett/pas_clean_95131057.m4a  --  11\n",
      "filesprocess:  ./CLEAN_WOLOF_FOR_MEMORY/8_Juróom-Ñett/pas_clean_80452445.m4a  --  12\n",
      "filesprocess:  ./CLEAN_WOLOF_FOR_MEMORY/8_Juróom-Ñett/pas_clean_51193800.m4a  --  13\n",
      "filesprocess:  ./CLEAN_WOLOF_FOR_MEMORY/8_Juróom-Ñett/pas_clean_21057461.m4a  --  14\n",
      "filesprocess:  ./CLEAN_WOLOF_FOR_MEMORY/8_Juróom-Ñett/pas_clean_74865402.m4a  --  15\n",
      "filesprocess:  ./CLEAN_WOLOF_FOR_MEMORY/8_Juróom-Ñett/pas_clean_77526077.m4a  --  16\n",
      "filesprocess:  ./CLEAN_WOLOF_FOR_MEMORY/8_Juróom-Ñett/pas_clean_25801297.m4a  --  17\n",
      "filesprocess:  ./CLEAN_WOLOF_FOR_MEMORY/8_Juróom-Ñett/pas_clean_62346111.m4a  --  18\n",
      "filesprocess:  ./CLEAN_WOLOF_FOR_MEMORY/8_Juróom-Ñett/pas_clean_89315781.m4a  --  19\n",
      "filesprocess:  ./CLEAN_WOLOF_FOR_MEMORY/8_Juróom-Ñett/pas_clean_688745.m4a  --  20\n",
      "filesprocess:  ./CLEAN_WOLOF_FOR_MEMORY/8_Juróom-Ñett/pas_clean_61110072.m4a  --  21\n",
      "filesprocess:  ./CLEAN_WOLOF_FOR_MEMORY/8_Juróom-Ñett/pas_clean_48926996.m4a  --  22\n",
      "filesprocess:  ./CLEAN_WOLOF_FOR_MEMORY/8_Juróom-Ñett/pas_clean_24021529.m4a  --  23\n",
      "filesprocess:  ./CLEAN_WOLOF_FOR_MEMORY/8_Juróom-Ñett/pas_clean_94575049.m4a  --  24\n",
      "filesprocess:  ./CLEAN_WOLOF_FOR_MEMORY/8_Juróom-Ñett/pas_clean_25624872.m4a  --  25\n",
      "filesprocess:  ./CLEAN_WOLOF_FOR_MEMORY/8_Juróom-Ñett/pas_clean_87440116.m4a  --  26\n",
      "filesprocess:  ./CLEAN_WOLOF_FOR_MEMORY/8_Juróom-Ñett/pas_clean_68342304.m4a  --  27\n",
      "filesprocess:  ./CLEAN_WOLOF_FOR_MEMORY/8_Juróom-Ñett/pas_clean_61442849.m4a  --  28\n",
      "filesprocess:  ./CLEAN_WOLOF_FOR_MEMORY/8_Juróom-Ñett/pas_clean_19530866.m4a  --  29\n",
      "filesprocess:  ./CLEAN_WOLOF_FOR_MEMORY/8_Juróom-Ñett/pas_clean_80839140.m4a  --  30\n",
      "filesprocess:  ./CLEAN_WOLOF_FOR_MEMORY/8_Juróom-Ñett/pas_clean_57327759.m4a  --  31\n",
      "filesprocess:  ./CLEAN_WOLOF_FOR_MEMORY/8_Juróom-Ñett/pas_clean_60776408.m4a  --  32\n",
      "filesprocess:  ./CLEAN_WOLOF_FOR_MEMORY/8_Juróom-Ñett/pas_clean_30890037.m4a  --  33\n",
      "filesprocess:  ./CLEAN_WOLOF_FOR_MEMORY/8_Juróom-Ñett/pas_clean_28941923.m4a  --  34\n"
     ]
    },
    {
     "name": "stderr",
     "output_type": "stream",
     "text": [
      "/home/ibrahimabarry01/anaconda3/lib/python3.8/site-packages/librosa/core/audio.py:162: UserWarning: PySoundFile failed. Trying audioread instead.\n",
      "  warnings.warn(\"PySoundFile failed. Trying audioread instead.\")\n"
     ]
    },
    {
     "name": "stdout",
     "output_type": "stream",
     "text": [
      "filesprocess:  ./CLEAN_WOLOF_FOR_MEMORY/8_Juróom-Ñett/AUDIO-2021-05-25-07-42-22.m4a  --  35\n"
     ]
    },
    {
     "name": "stderr",
     "output_type": "stream",
     "text": [
      "/home/ibrahimabarry01/anaconda3/lib/python3.8/site-packages/librosa/core/audio.py:162: UserWarning: PySoundFile failed. Trying audioread instead.\n",
      "  warnings.warn(\"PySoundFile failed. Trying audioread instead.\")\n"
     ]
    },
    {
     "name": "stdout",
     "output_type": "stream",
     "text": [
      "filesprocess:  ./CLEAN_WOLOF_FOR_MEMORY/8_Juróom-Ñett/AUDIO-2021-05-25-06-52-43.m4a  --  36\n"
     ]
    },
    {
     "name": "stderr",
     "output_type": "stream",
     "text": [
      "/home/ibrahimabarry01/anaconda3/lib/python3.8/site-packages/librosa/core/audio.py:162: UserWarning: PySoundFile failed. Trying audioread instead.\n",
      "  warnings.warn(\"PySoundFile failed. Trying audioread instead.\")\n"
     ]
    },
    {
     "name": "stdout",
     "output_type": "stream",
     "text": [
      "filesprocess:  ./CLEAN_WOLOF_FOR_MEMORY/8_Juróom-Ñett/AUDIO-2021-05-25-06-57-49.m4a  --  37\n"
     ]
    },
    {
     "name": "stderr",
     "output_type": "stream",
     "text": [
      "/home/ibrahimabarry01/anaconda3/lib/python3.8/site-packages/librosa/core/audio.py:162: UserWarning: PySoundFile failed. Trying audioread instead.\n",
      "  warnings.warn(\"PySoundFile failed. Trying audioread instead.\")\n"
     ]
    },
    {
     "name": "stdout",
     "output_type": "stream",
     "text": [
      "filesprocess:  ./CLEAN_WOLOF_FOR_MEMORY/8_Juróom-Ñett/AUDIO-2021-05-25-06-57-56.m4a  --  38\n"
     ]
    },
    {
     "name": "stderr",
     "output_type": "stream",
     "text": [
      "/home/ibrahimabarry01/anaconda3/lib/python3.8/site-packages/librosa/core/audio.py:162: UserWarning: PySoundFile failed. Trying audioread instead.\n",
      "  warnings.warn(\"PySoundFile failed. Trying audioread instead.\")\n"
     ]
    },
    {
     "name": "stdout",
     "output_type": "stream",
     "text": [
      "filesprocess:  ./CLEAN_WOLOF_FOR_MEMORY/8_Juróom-Ñett/AUDIO-2021-05-25-06-58-02.m4a  --  39\n",
      "filesprocess:  ./CLEAN_WOLOF_FOR_MEMORY/8_Juróom-Ñett/pas_clean_23143011 (copie).m4a  --  40\n"
     ]
    },
    {
     "name": "stderr",
     "output_type": "stream",
     "text": [
      "/home/ibrahimabarry01/anaconda3/lib/python3.8/site-packages/librosa/core/audio.py:162: UserWarning: PySoundFile failed. Trying audioread instead.\n",
      "  warnings.warn(\"PySoundFile failed. Trying audioread instead.\")\n"
     ]
    },
    {
     "name": "stdout",
     "output_type": "stream",
     "text": [
      "filesprocess:  ./CLEAN_WOLOF_FOR_MEMORY/8_Juróom-Ñett/AUDIO-2021-05-25-14-55-45.m4a  --  41\n",
      "filesprocess:  ./CLEAN_WOLOF_FOR_MEMORY/8_Juróom-Ñett/pas_clean_28505053rock.m4a  --  42\n",
      "filesprocess:  ./CLEAN_WOLOF_FOR_MEMORY/8_Juróom-Ñett/pas_clean_28505053mince.m4a  --  43\n",
      "filesprocess:  ./CLEAN_WOLOF_FOR_MEMORY/8_Juróom-Ñett/pas_clean_36751555rock.m4a  --  44\n",
      "filesprocess:  ./CLEAN_WOLOF_FOR_MEMORY/8_Juróom-Ñett/pas_clean_36751555mince.m4a  --  45\n",
      "filesprocess:  ./CLEAN_WOLOF_FOR_MEMORY/8_Juróom-Ñett/pas_clean_23143011rock.m4a  --  46\n",
      "filesprocess:  ./CLEAN_WOLOF_FOR_MEMORY/8_Juróom-Ñett/pas_clean_23143011mince.m4a  --  47\n",
      "filesprocess:  ./CLEAN_WOLOF_FOR_MEMORY/8_Juróom-Ñett/pas_clean_54980570rock.m4a  --  48\n",
      "filesprocess:  ./CLEAN_WOLOF_FOR_MEMORY/8_Juróom-Ñett/pas_clean_54980570mince.m4a  --  49\n",
      "filesprocess:  ./CLEAN_WOLOF_FOR_MEMORY/8_Juróom-Ñett/pas_clean_2193767rock.m4a  --  50\n",
      "filesprocess:  ./CLEAN_WOLOF_FOR_MEMORY/8_Juróom-Ñett/pas_clean_2193767mince.m4a  --  51\n",
      "filesprocess:  ./CLEAN_WOLOF_FOR_MEMORY/8_Juróom-Ñett/pas_clean_43089884rock.m4a  --  52\n",
      "filesprocess:  ./CLEAN_WOLOF_FOR_MEMORY/8_Juróom-Ñett/pas_clean_43089884mince.m4a  --  53\n",
      "filesprocess:  ./CLEAN_WOLOF_FOR_MEMORY/8_Juróom-Ñett/pas_clean_86523071rock.m4a  --  54\n",
      "filesprocess:  ./CLEAN_WOLOF_FOR_MEMORY/8_Juróom-Ñett/pas_clean_86523071mince.m4a  --  55\n",
      "filesprocess:  ./CLEAN_WOLOF_FOR_MEMORY/8_Juróom-Ñett/pas_clean_74467881rock.m4a  --  56\n",
      "filesprocess:  ./CLEAN_WOLOF_FOR_MEMORY/8_Juróom-Ñett/pas_clean_74467881mince.m4a  --  57\n",
      "filesprocess:  ./CLEAN_WOLOF_FOR_MEMORY/8_Juróom-Ñett/pas_clean_21906083rock.m4a  --  58\n",
      "filesprocess:  ./CLEAN_WOLOF_FOR_MEMORY/8_Juróom-Ñett/pas_clean_21906083mince.m4a  --  59\n",
      "filesprocess:  ./CLEAN_WOLOF_FOR_MEMORY/8_Juróom-Ñett/pas_clean_1314175rock.m4a  --  60\n",
      "filesprocess:  ./CLEAN_WOLOF_FOR_MEMORY/8_Juróom-Ñett/pas_clean_1314175mince.m4a  --  61\n",
      "filesprocess:  ./CLEAN_WOLOF_FOR_MEMORY/8_Juróom-Ñett/pas_clean_95131057rock.m4a  --  62\n",
      "filesprocess:  ./CLEAN_WOLOF_FOR_MEMORY/8_Juróom-Ñett/pas_clean_95131057mince.m4a  --  63\n",
      "filesprocess:  ./CLEAN_WOLOF_FOR_MEMORY/8_Juróom-Ñett/pas_clean_80452445rock.m4a  --  64\n",
      "filesprocess:  ./CLEAN_WOLOF_FOR_MEMORY/8_Juróom-Ñett/pas_clean_80452445mince.m4a  --  65\n",
      "filesprocess:  ./CLEAN_WOLOF_FOR_MEMORY/8_Juróom-Ñett/pas_clean_51193800rock.m4a  --  66\n",
      "filesprocess:  ./CLEAN_WOLOF_FOR_MEMORY/8_Juróom-Ñett/pas_clean_51193800mince.m4a  --  67\n",
      "filesprocess:  ./CLEAN_WOLOF_FOR_MEMORY/8_Juróom-Ñett/pas_clean_21057461rock.m4a  --  68\n",
      "filesprocess:  ./CLEAN_WOLOF_FOR_MEMORY/8_Juróom-Ñett/pas_clean_21057461mince.m4a  --  69\n",
      "filesprocess:  ./CLEAN_WOLOF_FOR_MEMORY/8_Juróom-Ñett/pas_clean_74865402rock.m4a  --  70\n",
      "filesprocess:  ./CLEAN_WOLOF_FOR_MEMORY/8_Juróom-Ñett/pas_clean_74865402mince.m4a  --  71\n",
      "filesprocess:  ./CLEAN_WOLOF_FOR_MEMORY/8_Juróom-Ñett/pas_clean_77526077rock.m4a  --  72\n",
      "filesprocess:  ./CLEAN_WOLOF_FOR_MEMORY/8_Juróom-Ñett/pas_clean_77526077mince.m4a  --  73\n",
      "filesprocess:  ./CLEAN_WOLOF_FOR_MEMORY/8_Juróom-Ñett/pas_clean_25801297rock.m4a  --  74\n",
      "filesprocess:  ./CLEAN_WOLOF_FOR_MEMORY/8_Juróom-Ñett/pas_clean_25801297mince.m4a  --  75\n",
      "filesprocess:  ./CLEAN_WOLOF_FOR_MEMORY/8_Juróom-Ñett/pas_clean_62346111rock.m4a  --  76\n",
      "filesprocess:  ./CLEAN_WOLOF_FOR_MEMORY/8_Juróom-Ñett/pas_clean_62346111mince.m4a  --  77\n",
      "filesprocess:  ./CLEAN_WOLOF_FOR_MEMORY/8_Juróom-Ñett/pas_clean_89315781rock.m4a  --  78\n",
      "filesprocess:  ./CLEAN_WOLOF_FOR_MEMORY/8_Juróom-Ñett/pas_clean_89315781mince.m4a  --  79\n",
      "filesprocess:  ./CLEAN_WOLOF_FOR_MEMORY/8_Juróom-Ñett/pas_clean_688745rock.m4a  --  80\n",
      "filesprocess:  ./CLEAN_WOLOF_FOR_MEMORY/8_Juróom-Ñett/pas_clean_688745mince.m4a  --  81\n",
      "filesprocess:  ./CLEAN_WOLOF_FOR_MEMORY/8_Juróom-Ñett/pas_clean_61110072rock.m4a  --  82\n",
      "filesprocess:  ./CLEAN_WOLOF_FOR_MEMORY/8_Juróom-Ñett/pas_clean_61110072mince.m4a  --  83\n",
      "filesprocess:  ./CLEAN_WOLOF_FOR_MEMORY/8_Juróom-Ñett/pas_clean_48926996rock.m4a  --  84\n",
      "filesprocess:  ./CLEAN_WOLOF_FOR_MEMORY/8_Juróom-Ñett/pas_clean_48926996mince.m4a  --  85\n",
      "filesprocess:  ./CLEAN_WOLOF_FOR_MEMORY/8_Juróom-Ñett/pas_clean_24021529rock.m4a  --  86\n",
      "filesprocess:  ./CLEAN_WOLOF_FOR_MEMORY/8_Juróom-Ñett/pas_clean_24021529mince.m4a  --  87\n",
      "filesprocess:  ./CLEAN_WOLOF_FOR_MEMORY/8_Juróom-Ñett/pas_clean_94575049rock.m4a  --  88\n",
      "filesprocess:  ./CLEAN_WOLOF_FOR_MEMORY/8_Juróom-Ñett/pas_clean_94575049mince.m4a  --  89\n",
      "filesprocess:  ./CLEAN_WOLOF_FOR_MEMORY/8_Juróom-Ñett/pas_clean_25624872rock.m4a  --  90\n",
      "filesprocess:  ./CLEAN_WOLOF_FOR_MEMORY/8_Juróom-Ñett/pas_clean_25624872mince.m4a  --  91\n",
      "filesprocess:  ./CLEAN_WOLOF_FOR_MEMORY/8_Juróom-Ñett/pas_clean_87440116rock.m4a  --  92\n",
      "filesprocess:  ./CLEAN_WOLOF_FOR_MEMORY/8_Juróom-Ñett/pas_clean_87440116mince.m4a  --  93\n",
      "filesprocess:  ./CLEAN_WOLOF_FOR_MEMORY/8_Juróom-Ñett/pas_clean_68342304rock.m4a  --  94\n",
      "filesprocess:  ./CLEAN_WOLOF_FOR_MEMORY/8_Juróom-Ñett/pas_clean_68342304mince.m4a  --  95\n",
      "filesprocess:  ./CLEAN_WOLOF_FOR_MEMORY/8_Juróom-Ñett/pas_clean_61442849rock.m4a  --  96\n",
      "filesprocess:  ./CLEAN_WOLOF_FOR_MEMORY/8_Juróom-Ñett/pas_clean_61442849mince.m4a  --  97\n",
      "filesprocess:  ./CLEAN_WOLOF_FOR_MEMORY/8_Juróom-Ñett/pas_clean_19530866rock.m4a  --  98\n",
      "filesprocess:  ./CLEAN_WOLOF_FOR_MEMORY/8_Juróom-Ñett/pas_clean_19530866mince.m4a  --  99\n",
      "filesprocess:  ./CLEAN_WOLOF_FOR_MEMORY/8_Juróom-Ñett/pas_clean_80839140rock.m4a  --  100\n",
      "filesprocess:  ./CLEAN_WOLOF_FOR_MEMORY/8_Juróom-Ñett/pas_clean_80839140mince.m4a  --  101\n",
      "filesprocess:  ./CLEAN_WOLOF_FOR_MEMORY/8_Juróom-Ñett/pas_clean_57327759rock.m4a  --  102\n",
      "filesprocess:  ./CLEAN_WOLOF_FOR_MEMORY/8_Juróom-Ñett/pas_clean_57327759mince.m4a  --  103\n",
      "filesprocess:  ./CLEAN_WOLOF_FOR_MEMORY/8_Juróom-Ñett/pas_clean_60776408rock.m4a  --  104\n",
      "filesprocess:  ./CLEAN_WOLOF_FOR_MEMORY/8_Juróom-Ñett/pas_clean_60776408mince.m4a  --  105\n",
      "filesprocess:  ./CLEAN_WOLOF_FOR_MEMORY/8_Juróom-Ñett/pas_clean_30890037rock.m4a  --  106\n",
      "filesprocess:  ./CLEAN_WOLOF_FOR_MEMORY/8_Juróom-Ñett/pas_clean_30890037mince.m4a  --  107\n",
      "filesprocess:  ./CLEAN_WOLOF_FOR_MEMORY/8_Juróom-Ñett/pas_clean_28941923rock.m4a  --  108\n",
      "filesprocess:  ./CLEAN_WOLOF_FOR_MEMORY/8_Juróom-Ñett/pas_clean_28941923mince.m4a  --  109\n",
      "filesprocess:  ./CLEAN_WOLOF_FOR_MEMORY/8_Juróom-Ñett/AUDIO-2021-05-25-07-42-22rock.m4a  --  110\n",
      "filesprocess:  ./CLEAN_WOLOF_FOR_MEMORY/8_Juróom-Ñett/AUDIO-2021-05-25-07-42-22mince.m4a  --  111\n",
      "filesprocess:  ./CLEAN_WOLOF_FOR_MEMORY/8_Juróom-Ñett/AUDIO-2021-05-25-06-52-43rock.m4a  --  112\n",
      "filesprocess:  ./CLEAN_WOLOF_FOR_MEMORY/8_Juróom-Ñett/AUDIO-2021-05-25-06-52-43mince.m4a  --  113\n",
      "filesprocess:  ./CLEAN_WOLOF_FOR_MEMORY/8_Juróom-Ñett/AUDIO-2021-05-25-06-57-49rock.m4a  --  114\n",
      "filesprocess:  ./CLEAN_WOLOF_FOR_MEMORY/8_Juróom-Ñett/AUDIO-2021-05-25-06-57-49mince.m4a  --  115\n",
      "filesprocess:  ./CLEAN_WOLOF_FOR_MEMORY/8_Juróom-Ñett/AUDIO-2021-05-25-06-57-56rock.m4a  --  116\n",
      "filesprocess:  ./CLEAN_WOLOF_FOR_MEMORY/8_Juróom-Ñett/AUDIO-2021-05-25-06-57-56mince.m4a  --  117\n",
      "filesprocess:  ./CLEAN_WOLOF_FOR_MEMORY/8_Juróom-Ñett/AUDIO-2021-05-25-06-58-02rock.m4a  --  118\n",
      "filesprocess:  ./CLEAN_WOLOF_FOR_MEMORY/8_Juróom-Ñett/AUDIO-2021-05-25-06-58-02mince.m4a  --  119\n",
      "filesprocess:  ./CLEAN_WOLOF_FOR_MEMORY/8_Juróom-Ñett/pas_clean_23143011 (copie)rock.m4a  --  120\n",
      "filesprocess:  ./CLEAN_WOLOF_FOR_MEMORY/8_Juróom-Ñett/pas_clean_23143011 (copie)mince.m4a  --  121\n",
      "filesprocess:  ./CLEAN_WOLOF_FOR_MEMORY/8_Juróom-Ñett/AUDIO-2021-05-25-14-55-45rock.m4a  --  122\n",
      "filesprocess:  ./CLEAN_WOLOF_FOR_MEMORY/8_Juróom-Ñett/AUDIO-2021-05-25-14-55-45mince.m4a  --  123\n",
      "./CLEAN_WOLOF_FOR_MEMORY/4_Ñent\n",
      "filesprocess:  ./CLEAN_WOLOF_FOR_MEMORY/4_Ñent/pas_clean_20505470.m4a  --  124\n",
      "filesprocess:  ./CLEAN_WOLOF_FOR_MEMORY/4_Ñent/pas_clean_59154469.m4a  --  125\n",
      "filesprocess:  ./CLEAN_WOLOF_FOR_MEMORY/4_Ñent/pas_clean_74862804.m4a  --  126\n",
      "filesprocess:  ./CLEAN_WOLOF_FOR_MEMORY/4_Ñent/pas_clean_5760600.m4a  --  127\n",
      "filesprocess:  ./CLEAN_WOLOF_FOR_MEMORY/4_Ñent/pas_clean_78810402.m4a  --  128\n",
      "filesprocess:  ./CLEAN_WOLOF_FOR_MEMORY/4_Ñent/pas_clean_35542980.m4a  --  129\n",
      "filesprocess:  ./CLEAN_WOLOF_FOR_MEMORY/4_Ñent/pas_clean_80540941.m4a  --  130\n",
      "filesprocess:  ./CLEAN_WOLOF_FOR_MEMORY/4_Ñent/pas_clean_76895287.m4a  --  131\n",
      "filesprocess:  ./CLEAN_WOLOF_FOR_MEMORY/4_Ñent/pas_clean_89404123.m4a  --  132\n",
      "filesprocess:  ./CLEAN_WOLOF_FOR_MEMORY/4_Ñent/pas_clean_65583244.m4a  --  133\n",
      "filesprocess:  ./CLEAN_WOLOF_FOR_MEMORY/4_Ñent/pas_clean_66169269.m4a  --  134\n",
      "filesprocess:  ./CLEAN_WOLOF_FOR_MEMORY/4_Ñent/pas_clean_45921698.m4a  --  135\n",
      "filesprocess:  ./CLEAN_WOLOF_FOR_MEMORY/4_Ñent/pas_clean_4560725.m4a  --  136\n",
      "filesprocess:  ./CLEAN_WOLOF_FOR_MEMORY/4_Ñent/pas_clean_40418882.m4a  --  137\n",
      "filesprocess:  ./CLEAN_WOLOF_FOR_MEMORY/4_Ñent/pas_clean_70069687.m4a  --  138\n",
      "filesprocess:  ./CLEAN_WOLOF_FOR_MEMORY/4_Ñent/pas_clean_7587218.m4a  --  139\n",
      "filesprocess:  ./CLEAN_WOLOF_FOR_MEMORY/4_Ñent/pas_clean_90740071.m4a  --  140\n",
      "filesprocess:  ./CLEAN_WOLOF_FOR_MEMORY/4_Ñent/pas_clean_22232271.m4a  --  141\n",
      "filesprocess:  ./CLEAN_WOLOF_FOR_MEMORY/4_Ñent/pas_clean_49467296.m4a  --  142\n",
      "filesprocess:  ./CLEAN_WOLOF_FOR_MEMORY/4_Ñent/pas_clean_60056960.m4a  --  143\n",
      "filesprocess:  ./CLEAN_WOLOF_FOR_MEMORY/4_Ñent/pas_clean_29344145.m4a  --  144\n",
      "filesprocess:  ./CLEAN_WOLOF_FOR_MEMORY/4_Ñent/pas_clean_95185318.m4a  --  145\n",
      "filesprocess:  ./CLEAN_WOLOF_FOR_MEMORY/4_Ñent/pas_clean_39214490.m4a  --  146\n",
      "filesprocess:  ./CLEAN_WOLOF_FOR_MEMORY/4_Ñent/pas_clean_61430953.m4a  --  147\n",
      "filesprocess:  ./CLEAN_WOLOF_FOR_MEMORY/4_Ñent/pas_clean_22443517.m4a  --  148\n",
      "filesprocess:  ./CLEAN_WOLOF_FOR_MEMORY/4_Ñent/pas_clean_70001907.m4a  --  149\n",
      "filesprocess:  ./CLEAN_WOLOF_FOR_MEMORY/4_Ñent/pas_clean_81746746.m4a  --  150\n",
      "filesprocess:  ./CLEAN_WOLOF_FOR_MEMORY/4_Ñent/pas_clean_62630127.m4a  --  151\n",
      "filesprocess:  ./CLEAN_WOLOF_FOR_MEMORY/4_Ñent/pas_clean_15864680.m4a  --  152\n",
      "filesprocess:  ./CLEAN_WOLOF_FOR_MEMORY/4_Ñent/pas_clean_22097334.m4a  --  153\n",
      "filesprocess:  ./CLEAN_WOLOF_FOR_MEMORY/4_Ñent/pas_clean_55104089.m4a  --  154\n",
      "filesprocess:  ./CLEAN_WOLOF_FOR_MEMORY/4_Ñent/pas_clean_32460870.m4a  --  155\n"
     ]
    },
    {
     "name": "stderr",
     "output_type": "stream",
     "text": [
      "/home/ibrahimabarry01/anaconda3/lib/python3.8/site-packages/librosa/core/audio.py:162: UserWarning: PySoundFile failed. Trying audioread instead.\n",
      "  warnings.warn(\"PySoundFile failed. Trying audioread instead.\")\n"
     ]
    },
    {
     "name": "stdout",
     "output_type": "stream",
     "text": [
      "filesprocess:  ./CLEAN_WOLOF_FOR_MEMORY/4_Ñent/AUDIO-2021-05-25-07-41-54.m4a  --  156\n"
     ]
    },
    {
     "name": "stderr",
     "output_type": "stream",
     "text": [
      "/home/ibrahimabarry01/anaconda3/lib/python3.8/site-packages/librosa/core/audio.py:162: UserWarning: PySoundFile failed. Trying audioread instead.\n",
      "  warnings.warn(\"PySoundFile failed. Trying audioread instead.\")\n"
     ]
    },
    {
     "name": "stdout",
     "output_type": "stream",
     "text": [
      "filesprocess:  ./CLEAN_WOLOF_FOR_MEMORY/4_Ñent/AUDIO-2021-05-25-06-52-15.m4a  --  157\n"
     ]
    },
    {
     "name": "stderr",
     "output_type": "stream",
     "text": [
      "/home/ibrahimabarry01/anaconda3/lib/python3.8/site-packages/librosa/core/audio.py:162: UserWarning: PySoundFile failed. Trying audioread instead.\n",
      "  warnings.warn(\"PySoundFile failed. Trying audioread instead.\")\n"
     ]
    },
    {
     "name": "stdout",
     "output_type": "stream",
     "text": [
      "filesprocess:  ./CLEAN_WOLOF_FOR_MEMORY/4_Ñent/AUDIO-2021-05-25-06-55-13.m4a  --  158\n"
     ]
    },
    {
     "name": "stderr",
     "output_type": "stream",
     "text": [
      "/home/ibrahimabarry01/anaconda3/lib/python3.8/site-packages/librosa/core/audio.py:162: UserWarning: PySoundFile failed. Trying audioread instead.\n",
      "  warnings.warn(\"PySoundFile failed. Trying audioread instead.\")\n"
     ]
    },
    {
     "name": "stdout",
     "output_type": "stream",
     "text": [
      "filesprocess:  ./CLEAN_WOLOF_FOR_MEMORY/4_Ñent/AUDIO-2021-05-25-06-55-19.m4a  --  159\n"
     ]
    },
    {
     "name": "stderr",
     "output_type": "stream",
     "text": [
      "/home/ibrahimabarry01/anaconda3/lib/python3.8/site-packages/librosa/core/audio.py:162: UserWarning: PySoundFile failed. Trying audioread instead.\n",
      "  warnings.warn(\"PySoundFile failed. Trying audioread instead.\")\n"
     ]
    },
    {
     "name": "stdout",
     "output_type": "stream",
     "text": [
      "filesprocess:  ./CLEAN_WOLOF_FOR_MEMORY/4_Ñent/AUDIO-2021-05-25-06-55-25.m4a  --  160\n",
      "filesprocess:  ./CLEAN_WOLOF_FOR_MEMORY/4_Ñent/pas_clean_74862804 (copie).m4a  --  161\n",
      "filesprocess:  ./CLEAN_WOLOF_FOR_MEMORY/4_Ñent/pas_clean_60056960 (copie).m4a  --  162\n",
      "filesprocess:  ./CLEAN_WOLOF_FOR_MEMORY/4_Ñent/pas_clean_29344145 (copie).m4a  --  163\n"
     ]
    },
    {
     "name": "stderr",
     "output_type": "stream",
     "text": [
      "/home/ibrahimabarry01/anaconda3/lib/python3.8/site-packages/librosa/core/audio.py:162: UserWarning: PySoundFile failed. Trying audioread instead.\n",
      "  warnings.warn(\"PySoundFile failed. Trying audioread instead.\")\n"
     ]
    },
    {
     "name": "stdout",
     "output_type": "stream",
     "text": [
      "filesprocess:  ./CLEAN_WOLOF_FOR_MEMORY/4_Ñent/AUDIO-2021-05-25-14-55-08.m4a  --  164\n",
      "filesprocess:  ./CLEAN_WOLOF_FOR_MEMORY/4_Ñent/pas_clean_20505470rock.m4a  --  165\n",
      "filesprocess:  ./CLEAN_WOLOF_FOR_MEMORY/4_Ñent/pas_clean_20505470mince.m4a  --  166\n",
      "filesprocess:  ./CLEAN_WOLOF_FOR_MEMORY/4_Ñent/pas_clean_59154469rock.m4a  --  167\n",
      "filesprocess:  ./CLEAN_WOLOF_FOR_MEMORY/4_Ñent/pas_clean_59154469mince.m4a  --  168\n",
      "filesprocess:  ./CLEAN_WOLOF_FOR_MEMORY/4_Ñent/pas_clean_74862804rock.m4a  --  169\n",
      "filesprocess:  ./CLEAN_WOLOF_FOR_MEMORY/4_Ñent/pas_clean_74862804mince.m4a  --  170\n",
      "filesprocess:  ./CLEAN_WOLOF_FOR_MEMORY/4_Ñent/pas_clean_5760600rock.m4a  --  171\n",
      "filesprocess:  ./CLEAN_WOLOF_FOR_MEMORY/4_Ñent/pas_clean_5760600mince.m4a  --  172\n",
      "filesprocess:  ./CLEAN_WOLOF_FOR_MEMORY/4_Ñent/pas_clean_78810402rock.m4a  --  173\n",
      "filesprocess:  ./CLEAN_WOLOF_FOR_MEMORY/4_Ñent/pas_clean_78810402mince.m4a  --  174\n",
      "filesprocess:  ./CLEAN_WOLOF_FOR_MEMORY/4_Ñent/pas_clean_35542980rock.m4a  --  175\n",
      "filesprocess:  ./CLEAN_WOLOF_FOR_MEMORY/4_Ñent/pas_clean_35542980mince.m4a  --  176\n",
      "filesprocess:  ./CLEAN_WOLOF_FOR_MEMORY/4_Ñent/pas_clean_80540941rock.m4a  --  177\n",
      "filesprocess:  ./CLEAN_WOLOF_FOR_MEMORY/4_Ñent/pas_clean_80540941mince.m4a  --  178\n",
      "filesprocess:  ./CLEAN_WOLOF_FOR_MEMORY/4_Ñent/pas_clean_76895287rock.m4a  --  179\n",
      "filesprocess:  ./CLEAN_WOLOF_FOR_MEMORY/4_Ñent/pas_clean_76895287mince.m4a  --  180\n",
      "filesprocess:  ./CLEAN_WOLOF_FOR_MEMORY/4_Ñent/pas_clean_89404123rock.m4a  --  181\n",
      "filesprocess:  ./CLEAN_WOLOF_FOR_MEMORY/4_Ñent/pas_clean_89404123mince.m4a  --  182\n",
      "filesprocess:  ./CLEAN_WOLOF_FOR_MEMORY/4_Ñent/pas_clean_65583244rock.m4a  --  183\n",
      "filesprocess:  ./CLEAN_WOLOF_FOR_MEMORY/4_Ñent/pas_clean_65583244mince.m4a  --  184\n",
      "filesprocess:  ./CLEAN_WOLOF_FOR_MEMORY/4_Ñent/pas_clean_66169269rock.m4a  --  185\n",
      "filesprocess:  ./CLEAN_WOLOF_FOR_MEMORY/4_Ñent/pas_clean_66169269mince.m4a  --  186\n",
      "filesprocess:  ./CLEAN_WOLOF_FOR_MEMORY/4_Ñent/pas_clean_45921698rock.m4a  --  187\n",
      "filesprocess:  ./CLEAN_WOLOF_FOR_MEMORY/4_Ñent/pas_clean_45921698mince.m4a  --  188\n",
      "filesprocess:  ./CLEAN_WOLOF_FOR_MEMORY/4_Ñent/pas_clean_4560725rock.m4a  --  189\n",
      "filesprocess:  ./CLEAN_WOLOF_FOR_MEMORY/4_Ñent/pas_clean_4560725mince.m4a  --  190\n",
      "filesprocess:  ./CLEAN_WOLOF_FOR_MEMORY/4_Ñent/pas_clean_40418882rock.m4a  --  191\n",
      "filesprocess:  ./CLEAN_WOLOF_FOR_MEMORY/4_Ñent/pas_clean_40418882mince.m4a  --  192\n",
      "filesprocess:  ./CLEAN_WOLOF_FOR_MEMORY/4_Ñent/pas_clean_70069687rock.m4a  --  193\n",
      "filesprocess:  ./CLEAN_WOLOF_FOR_MEMORY/4_Ñent/pas_clean_70069687mince.m4a  --  194\n",
      "filesprocess:  ./CLEAN_WOLOF_FOR_MEMORY/4_Ñent/pas_clean_7587218rock.m4a  --  195\n",
      "filesprocess:  ./CLEAN_WOLOF_FOR_MEMORY/4_Ñent/pas_clean_7587218mince.m4a  --  196\n",
      "filesprocess:  ./CLEAN_WOLOF_FOR_MEMORY/4_Ñent/pas_clean_90740071rock.m4a  --  197\n",
      "filesprocess:  ./CLEAN_WOLOF_FOR_MEMORY/4_Ñent/pas_clean_90740071mince.m4a  --  198\n",
      "filesprocess:  ./CLEAN_WOLOF_FOR_MEMORY/4_Ñent/pas_clean_22232271rock.m4a  --  199\n",
      "filesprocess:  ./CLEAN_WOLOF_FOR_MEMORY/4_Ñent/pas_clean_22232271mince.m4a  --  200\n",
      "filesprocess:  ./CLEAN_WOLOF_FOR_MEMORY/4_Ñent/pas_clean_49467296rock.m4a  --  201\n",
      "filesprocess:  ./CLEAN_WOLOF_FOR_MEMORY/4_Ñent/pas_clean_49467296mince.m4a  --  202\n",
      "filesprocess:  ./CLEAN_WOLOF_FOR_MEMORY/4_Ñent/pas_clean_60056960rock.m4a  --  203\n",
      "filesprocess:  ./CLEAN_WOLOF_FOR_MEMORY/4_Ñent/pas_clean_60056960mince.m4a  --  204\n",
      "filesprocess:  ./CLEAN_WOLOF_FOR_MEMORY/4_Ñent/pas_clean_29344145rock.m4a  --  205\n",
      "filesprocess:  ./CLEAN_WOLOF_FOR_MEMORY/4_Ñent/pas_clean_29344145mince.m4a  --  206\n",
      "filesprocess:  ./CLEAN_WOLOF_FOR_MEMORY/4_Ñent/pas_clean_95185318rock.m4a  --  207\n",
      "filesprocess:  ./CLEAN_WOLOF_FOR_MEMORY/4_Ñent/pas_clean_95185318mince.m4a  --  208\n",
      "filesprocess:  ./CLEAN_WOLOF_FOR_MEMORY/4_Ñent/pas_clean_39214490rock.m4a  --  209\n",
      "filesprocess:  ./CLEAN_WOLOF_FOR_MEMORY/4_Ñent/pas_clean_39214490mince.m4a  --  210\n",
      "filesprocess:  ./CLEAN_WOLOF_FOR_MEMORY/4_Ñent/pas_clean_61430953rock.m4a  --  211\n",
      "filesprocess:  ./CLEAN_WOLOF_FOR_MEMORY/4_Ñent/pas_clean_61430953mince.m4a  --  212\n",
      "filesprocess:  ./CLEAN_WOLOF_FOR_MEMORY/4_Ñent/pas_clean_22443517rock.m4a  --  213\n",
      "filesprocess:  ./CLEAN_WOLOF_FOR_MEMORY/4_Ñent/pas_clean_22443517mince.m4a  --  214\n",
      "filesprocess:  ./CLEAN_WOLOF_FOR_MEMORY/4_Ñent/pas_clean_70001907rock.m4a  --  215\n",
      "filesprocess:  ./CLEAN_WOLOF_FOR_MEMORY/4_Ñent/pas_clean_70001907mince.m4a  --  216\n",
      "filesprocess:  ./CLEAN_WOLOF_FOR_MEMORY/4_Ñent/pas_clean_81746746rock.m4a  --  217\n",
      "filesprocess:  ./CLEAN_WOLOF_FOR_MEMORY/4_Ñent/pas_clean_81746746mince.m4a  --  218\n",
      "filesprocess:  ./CLEAN_WOLOF_FOR_MEMORY/4_Ñent/pas_clean_62630127rock.m4a  --  219\n",
      "filesprocess:  ./CLEAN_WOLOF_FOR_MEMORY/4_Ñent/pas_clean_62630127mince.m4a  --  220\n",
      "filesprocess:  ./CLEAN_WOLOF_FOR_MEMORY/4_Ñent/pas_clean_15864680rock.m4a  --  221\n",
      "filesprocess:  ./CLEAN_WOLOF_FOR_MEMORY/4_Ñent/pas_clean_15864680mince.m4a  --  222\n",
      "filesprocess:  ./CLEAN_WOLOF_FOR_MEMORY/4_Ñent/pas_clean_22097334rock.m4a  --  223\n",
      "filesprocess:  ./CLEAN_WOLOF_FOR_MEMORY/4_Ñent/pas_clean_22097334mince.m4a  --  224\n",
      "filesprocess:  ./CLEAN_WOLOF_FOR_MEMORY/4_Ñent/pas_clean_55104089rock.m4a  --  225\n",
      "filesprocess:  ./CLEAN_WOLOF_FOR_MEMORY/4_Ñent/pas_clean_55104089mince.m4a  --  226\n",
      "filesprocess:  ./CLEAN_WOLOF_FOR_MEMORY/4_Ñent/pas_clean_32460870rock.m4a  --  227\n",
      "filesprocess:  ./CLEAN_WOLOF_FOR_MEMORY/4_Ñent/pas_clean_32460870mince.m4a  --  228\n",
      "filesprocess:  ./CLEAN_WOLOF_FOR_MEMORY/4_Ñent/AUDIO-2021-05-25-07-41-54rock.m4a  --  229\n",
      "filesprocess:  ./CLEAN_WOLOF_FOR_MEMORY/4_Ñent/AUDIO-2021-05-25-07-41-54mince.m4a  --  230\n",
      "filesprocess:  ./CLEAN_WOLOF_FOR_MEMORY/4_Ñent/AUDIO-2021-05-25-06-52-15rock.m4a  --  231\n",
      "filesprocess:  ./CLEAN_WOLOF_FOR_MEMORY/4_Ñent/AUDIO-2021-05-25-06-52-15mince.m4a  --  232\n",
      "filesprocess:  ./CLEAN_WOLOF_FOR_MEMORY/4_Ñent/AUDIO-2021-05-25-06-55-13rock.m4a  --  233\n",
      "filesprocess:  ./CLEAN_WOLOF_FOR_MEMORY/4_Ñent/AUDIO-2021-05-25-06-55-13mince.m4a  --  234\n",
      "filesprocess:  ./CLEAN_WOLOF_FOR_MEMORY/4_Ñent/AUDIO-2021-05-25-06-55-19rock.m4a  --  235\n",
      "filesprocess:  ./CLEAN_WOLOF_FOR_MEMORY/4_Ñent/AUDIO-2021-05-25-06-55-19mince.m4a  --  236\n",
      "filesprocess:  ./CLEAN_WOLOF_FOR_MEMORY/4_Ñent/AUDIO-2021-05-25-06-55-25rock.m4a  --  237\n",
      "filesprocess:  ./CLEAN_WOLOF_FOR_MEMORY/4_Ñent/AUDIO-2021-05-25-06-55-25mince.m4a  --  238\n",
      "filesprocess:  ./CLEAN_WOLOF_FOR_MEMORY/4_Ñent/pas_clean_74862804 (copie)rock.m4a  --  239\n",
      "filesprocess:  ./CLEAN_WOLOF_FOR_MEMORY/4_Ñent/pas_clean_74862804 (copie)mince.m4a  --  240\n",
      "filesprocess:  ./CLEAN_WOLOF_FOR_MEMORY/4_Ñent/pas_clean_60056960 (copie)rock.m4a  --  241\n",
      "filesprocess:  ./CLEAN_WOLOF_FOR_MEMORY/4_Ñent/pas_clean_60056960 (copie)mince.m4a  --  242\n",
      "filesprocess:  ./CLEAN_WOLOF_FOR_MEMORY/4_Ñent/pas_clean_29344145 (copie)rock.m4a  --  243\n",
      "filesprocess:  ./CLEAN_WOLOF_FOR_MEMORY/4_Ñent/pas_clean_29344145 (copie)mince.m4a  --  244\n",
      "filesprocess:  ./CLEAN_WOLOF_FOR_MEMORY/4_Ñent/AUDIO-2021-05-25-14-55-08rock.m4a  --  245\n",
      "filesprocess:  ./CLEAN_WOLOF_FOR_MEMORY/4_Ñent/AUDIO-2021-05-25-14-55-08mince.m4a  --  246\n",
      "./CLEAN_WOLOF_FOR_MEMORY/10_Fukk\n",
      "filesprocess:  ./CLEAN_WOLOF_FOR_MEMORY/10_Fukk/pas_clean_91687470.m4a  --  247\n",
      "filesprocess:  ./CLEAN_WOLOF_FOR_MEMORY/10_Fukk/pas_clean_93674612.m4a  --  248\n",
      "filesprocess:  ./CLEAN_WOLOF_FOR_MEMORY/10_Fukk/pas_clean_57661312.m4a  --  249\n",
      "filesprocess:  ./CLEAN_WOLOF_FOR_MEMORY/10_Fukk/pas_clean_16762113.m4a  --  250\n",
      "filesprocess:  ./CLEAN_WOLOF_FOR_MEMORY/10_Fukk/pas_clean_19546791.m4a  --  251\n",
      "filesprocess:  ./CLEAN_WOLOF_FOR_MEMORY/10_Fukk/pas_clean_88614617.m4a  --  252\n",
      "filesprocess:  ./CLEAN_WOLOF_FOR_MEMORY/10_Fukk/pas_clean_43486736.m4a  --  253\n",
      "filesprocess:  ./CLEAN_WOLOF_FOR_MEMORY/10_Fukk/pas_clean_61564454.m4a  --  254\n",
      "filesprocess:  ./CLEAN_WOLOF_FOR_MEMORY/10_Fukk/pas_clean_5801014.m4a  --  255\n",
      "filesprocess:  ./CLEAN_WOLOF_FOR_MEMORY/10_Fukk/pas_clean_44686695.m4a  --  256\n",
      "filesprocess:  ./CLEAN_WOLOF_FOR_MEMORY/10_Fukk/pas_clean_92608527.m4a  --  257\n",
      "filesprocess:  ./CLEAN_WOLOF_FOR_MEMORY/10_Fukk/pas_clean_66408725.m4a  --  258\n",
      "filesprocess:  ./CLEAN_WOLOF_FOR_MEMORY/10_Fukk/pas_clean_97232939.m4a  --  259\n",
      "filesprocess:  ./CLEAN_WOLOF_FOR_MEMORY/10_Fukk/pas_clean_48017999.m4a  --  260\n",
      "filesprocess:  ./CLEAN_WOLOF_FOR_MEMORY/10_Fukk/pas_clean_79597071.m4a  --  261\n",
      "filesprocess:  ./CLEAN_WOLOF_FOR_MEMORY/10_Fukk/pas_clean_18420607.m4a  --  262\n",
      "filesprocess:  ./CLEAN_WOLOF_FOR_MEMORY/10_Fukk/pas_clean_79465840.m4a  --  263\n",
      "filesprocess:  ./CLEAN_WOLOF_FOR_MEMORY/10_Fukk/pas_clean_88918376.m4a  --  264\n",
      "filesprocess:  ./CLEAN_WOLOF_FOR_MEMORY/10_Fukk/pas_clean_13876322.m4a  --  265\n",
      "filesprocess:  ./CLEAN_WOLOF_FOR_MEMORY/10_Fukk/pas_clean_45935535.m4a  --  266\n",
      "filesprocess:  ./CLEAN_WOLOF_FOR_MEMORY/10_Fukk/pas_clean_41708839.m4a  --  267\n",
      "filesprocess:  ./CLEAN_WOLOF_FOR_MEMORY/10_Fukk/pas_clean_45300394.m4a  --  268\n",
      "filesprocess:  ./CLEAN_WOLOF_FOR_MEMORY/10_Fukk/pas_clean_48474011.m4a  --  269\n",
      "filesprocess:  ./CLEAN_WOLOF_FOR_MEMORY/10_Fukk/pas_clean_27947701.m4a  --  270\n",
      "filesprocess:  ./CLEAN_WOLOF_FOR_MEMORY/10_Fukk/pas_clean_27001466.m4a  --  271\n",
      "filesprocess:  ./CLEAN_WOLOF_FOR_MEMORY/10_Fukk/pas_clean_8773652.m4a  --  272\n",
      "filesprocess:  ./CLEAN_WOLOF_FOR_MEMORY/10_Fukk/pas_clean_41813963.m4a  --  273\n",
      "filesprocess:  ./CLEAN_WOLOF_FOR_MEMORY/10_Fukk/pas_clean_47871436.m4a  --  274\n",
      "filesprocess:  ./CLEAN_WOLOF_FOR_MEMORY/10_Fukk/pas_clean_88894930.m4a  --  275\n",
      "filesprocess:  ./CLEAN_WOLOF_FOR_MEMORY/10_Fukk/pas_clean_77481390.m4a  --  276\n",
      "filesprocess:  ./CLEAN_WOLOF_FOR_MEMORY/10_Fukk/pas_clean_90736367.m4a  --  277\n",
      "filesprocess:  ./CLEAN_WOLOF_FOR_MEMORY/10_Fukk/pas_clean_13612963.m4a  --  278\n",
      "filesprocess:  ./CLEAN_WOLOF_FOR_MEMORY/10_Fukk/pas_clean_76659436.m4a  --  279\n",
      "filesprocess:  ./CLEAN_WOLOF_FOR_MEMORY/10_Fukk/pas_clean_21631609.m4a  --  280\n",
      "filesprocess:  ./CLEAN_WOLOF_FOR_MEMORY/10_Fukk/pas_clean_17803234.m4a  --  281\n"
     ]
    },
    {
     "name": "stderr",
     "output_type": "stream",
     "text": [
      "/home/ibrahimabarry01/anaconda3/lib/python3.8/site-packages/librosa/core/audio.py:162: UserWarning: PySoundFile failed. Trying audioread instead.\n",
      "  warnings.warn(\"PySoundFile failed. Trying audioread instead.\")\n"
     ]
    },
    {
     "name": "stdout",
     "output_type": "stream",
     "text": [
      "filesprocess:  ./CLEAN_WOLOF_FOR_MEMORY/10_Fukk/AUDIO-2021-05-25-07-42-31.m4a  --  282\n"
     ]
    },
    {
     "name": "stderr",
     "output_type": "stream",
     "text": [
      "/home/ibrahimabarry01/anaconda3/lib/python3.8/site-packages/librosa/core/audio.py:162: UserWarning: PySoundFile failed. Trying audioread instead.\n",
      "  warnings.warn(\"PySoundFile failed. Trying audioread instead.\")\n"
     ]
    },
    {
     "name": "stdout",
     "output_type": "stream",
     "text": [
      "filesprocess:  ./CLEAN_WOLOF_FOR_MEMORY/10_Fukk/AUDIO-2021-05-25-06-52-57.m4a  --  283\n"
     ]
    },
    {
     "name": "stderr",
     "output_type": "stream",
     "text": [
      "/home/ibrahimabarry01/anaconda3/lib/python3.8/site-packages/librosa/core/audio.py:162: UserWarning: PySoundFile failed. Trying audioread instead.\n",
      "  warnings.warn(\"PySoundFile failed. Trying audioread instead.\")\n"
     ]
    },
    {
     "name": "stdout",
     "output_type": "stream",
     "text": [
      "filesprocess:  ./CLEAN_WOLOF_FOR_MEMORY/10_Fukk/AUDIO-2021-05-25-06-58-32.m4a  --  284\n"
     ]
    },
    {
     "name": "stderr",
     "output_type": "stream",
     "text": [
      "/home/ibrahimabarry01/anaconda3/lib/python3.8/site-packages/librosa/core/audio.py:162: UserWarning: PySoundFile failed. Trying audioread instead.\n",
      "  warnings.warn(\"PySoundFile failed. Trying audioread instead.\")\n"
     ]
    },
    {
     "name": "stdout",
     "output_type": "stream",
     "text": [
      "filesprocess:  ./CLEAN_WOLOF_FOR_MEMORY/10_Fukk/AUDIO-2021-05-25-06-59-40.m4a  --  285\n"
     ]
    },
    {
     "name": "stderr",
     "output_type": "stream",
     "text": [
      "/home/ibrahimabarry01/anaconda3/lib/python3.8/site-packages/librosa/core/audio.py:162: UserWarning: PySoundFile failed. Trying audioread instead.\n",
      "  warnings.warn(\"PySoundFile failed. Trying audioread instead.\")\n"
     ]
    },
    {
     "name": "stdout",
     "output_type": "stream",
     "text": [
      "filesprocess:  ./CLEAN_WOLOF_FOR_MEMORY/10_Fukk/AUDIO-2021-05-25-06-59-47.m4a  --  286\n"
     ]
    },
    {
     "name": "stderr",
     "output_type": "stream",
     "text": [
      "/home/ibrahimabarry01/anaconda3/lib/python3.8/site-packages/librosa/core/audio.py:162: UserWarning: PySoundFile failed. Trying audioread instead.\n",
      "  warnings.warn(\"PySoundFile failed. Trying audioread instead.\")\n"
     ]
    },
    {
     "name": "stdout",
     "output_type": "stream",
     "text": [
      "filesprocess:  ./CLEAN_WOLOF_FOR_MEMORY/10_Fukk/AUDIO-2021-05-25-14-56-02.m4a  --  287\n",
      "filesprocess:  ./CLEAN_WOLOF_FOR_MEMORY/10_Fukk/pas_clean_91687470rock.m4a  --  288\n",
      "filesprocess:  ./CLEAN_WOLOF_FOR_MEMORY/10_Fukk/pas_clean_91687470mince.m4a  --  289\n",
      "filesprocess:  ./CLEAN_WOLOF_FOR_MEMORY/10_Fukk/pas_clean_93674612rock.m4a  --  290\n",
      "filesprocess:  ./CLEAN_WOLOF_FOR_MEMORY/10_Fukk/pas_clean_93674612mince.m4a  --  291\n",
      "filesprocess:  ./CLEAN_WOLOF_FOR_MEMORY/10_Fukk/pas_clean_57661312rock.m4a  --  292\n",
      "filesprocess:  ./CLEAN_WOLOF_FOR_MEMORY/10_Fukk/pas_clean_57661312mince.m4a  --  293\n",
      "filesprocess:  ./CLEAN_WOLOF_FOR_MEMORY/10_Fukk/pas_clean_16762113rock.m4a  --  294\n",
      "filesprocess:  ./CLEAN_WOLOF_FOR_MEMORY/10_Fukk/pas_clean_16762113mince.m4a  --  295\n",
      "filesprocess:  ./CLEAN_WOLOF_FOR_MEMORY/10_Fukk/pas_clean_19546791rock.m4a  --  296\n",
      "filesprocess:  ./CLEAN_WOLOF_FOR_MEMORY/10_Fukk/pas_clean_19546791mince.m4a  --  297\n",
      "filesprocess:  ./CLEAN_WOLOF_FOR_MEMORY/10_Fukk/pas_clean_88614617rock.m4a  --  298\n",
      "filesprocess:  ./CLEAN_WOLOF_FOR_MEMORY/10_Fukk/pas_clean_88614617mince.m4a  --  299\n",
      "filesprocess:  ./CLEAN_WOLOF_FOR_MEMORY/10_Fukk/pas_clean_43486736rock.m4a  --  300\n",
      "filesprocess:  ./CLEAN_WOLOF_FOR_MEMORY/10_Fukk/pas_clean_43486736mince.m4a  --  301\n",
      "filesprocess:  ./CLEAN_WOLOF_FOR_MEMORY/10_Fukk/pas_clean_61564454rock.m4a  --  302\n",
      "filesprocess:  ./CLEAN_WOLOF_FOR_MEMORY/10_Fukk/pas_clean_61564454mince.m4a  --  303\n",
      "filesprocess:  ./CLEAN_WOLOF_FOR_MEMORY/10_Fukk/pas_clean_5801014rock.m4a  --  304\n",
      "filesprocess:  ./CLEAN_WOLOF_FOR_MEMORY/10_Fukk/pas_clean_5801014mince.m4a  --  305\n",
      "filesprocess:  ./CLEAN_WOLOF_FOR_MEMORY/10_Fukk/pas_clean_44686695rock.m4a  --  306\n",
      "filesprocess:  ./CLEAN_WOLOF_FOR_MEMORY/10_Fukk/pas_clean_44686695mince.m4a  --  307\n",
      "filesprocess:  ./CLEAN_WOLOF_FOR_MEMORY/10_Fukk/pas_clean_92608527rock.m4a  --  308\n",
      "filesprocess:  ./CLEAN_WOLOF_FOR_MEMORY/10_Fukk/pas_clean_92608527mince.m4a  --  309\n",
      "filesprocess:  ./CLEAN_WOLOF_FOR_MEMORY/10_Fukk/pas_clean_66408725rock.m4a  --  310\n",
      "filesprocess:  ./CLEAN_WOLOF_FOR_MEMORY/10_Fukk/pas_clean_66408725mince.m4a  --  311\n",
      "filesprocess:  ./CLEAN_WOLOF_FOR_MEMORY/10_Fukk/pas_clean_97232939rock.m4a  --  312\n",
      "filesprocess:  ./CLEAN_WOLOF_FOR_MEMORY/10_Fukk/pas_clean_97232939mince.m4a  --  313\n",
      "filesprocess:  ./CLEAN_WOLOF_FOR_MEMORY/10_Fukk/pas_clean_48017999rock.m4a  --  314\n",
      "filesprocess:  ./CLEAN_WOLOF_FOR_MEMORY/10_Fukk/pas_clean_48017999mince.m4a  --  315\n",
      "filesprocess:  ./CLEAN_WOLOF_FOR_MEMORY/10_Fukk/pas_clean_79597071rock.m4a  --  316\n",
      "filesprocess:  ./CLEAN_WOLOF_FOR_MEMORY/10_Fukk/pas_clean_79597071mince.m4a  --  317\n",
      "filesprocess:  ./CLEAN_WOLOF_FOR_MEMORY/10_Fukk/pas_clean_18420607rock.m4a  --  318\n",
      "filesprocess:  ./CLEAN_WOLOF_FOR_MEMORY/10_Fukk/pas_clean_18420607mince.m4a  --  319\n",
      "filesprocess:  ./CLEAN_WOLOF_FOR_MEMORY/10_Fukk/pas_clean_79465840rock.m4a  --  320\n",
      "filesprocess:  ./CLEAN_WOLOF_FOR_MEMORY/10_Fukk/pas_clean_79465840mince.m4a  --  321\n",
      "filesprocess:  ./CLEAN_WOLOF_FOR_MEMORY/10_Fukk/pas_clean_88918376rock.m4a  --  322\n",
      "filesprocess:  ./CLEAN_WOLOF_FOR_MEMORY/10_Fukk/pas_clean_88918376mince.m4a  --  323\n",
      "filesprocess:  ./CLEAN_WOLOF_FOR_MEMORY/10_Fukk/pas_clean_13876322rock.m4a  --  324\n",
      "filesprocess:  ./CLEAN_WOLOF_FOR_MEMORY/10_Fukk/pas_clean_13876322mince.m4a  --  325\n",
      "filesprocess:  ./CLEAN_WOLOF_FOR_MEMORY/10_Fukk/pas_clean_45935535rock.m4a  --  326\n",
      "filesprocess:  ./CLEAN_WOLOF_FOR_MEMORY/10_Fukk/pas_clean_45935535mince.m4a  --  327\n",
      "filesprocess:  ./CLEAN_WOLOF_FOR_MEMORY/10_Fukk/pas_clean_41708839rock.m4a  --  328\n",
      "filesprocess:  ./CLEAN_WOLOF_FOR_MEMORY/10_Fukk/pas_clean_41708839mince.m4a  --  329\n",
      "filesprocess:  ./CLEAN_WOLOF_FOR_MEMORY/10_Fukk/pas_clean_45300394rock.m4a  --  330\n",
      "filesprocess:  ./CLEAN_WOLOF_FOR_MEMORY/10_Fukk/pas_clean_45300394mince.m4a  --  331\n",
      "filesprocess:  ./CLEAN_WOLOF_FOR_MEMORY/10_Fukk/pas_clean_48474011rock.m4a  --  332\n",
      "filesprocess:  ./CLEAN_WOLOF_FOR_MEMORY/10_Fukk/pas_clean_48474011mince.m4a  --  333\n",
      "filesprocess:  ./CLEAN_WOLOF_FOR_MEMORY/10_Fukk/pas_clean_27947701rock.m4a  --  334\n",
      "filesprocess:  ./CLEAN_WOLOF_FOR_MEMORY/10_Fukk/pas_clean_27947701mince.m4a  --  335\n",
      "filesprocess:  ./CLEAN_WOLOF_FOR_MEMORY/10_Fukk/pas_clean_27001466rock.m4a  --  336\n",
      "filesprocess:  ./CLEAN_WOLOF_FOR_MEMORY/10_Fukk/pas_clean_27001466mince.m4a  --  337\n",
      "filesprocess:  ./CLEAN_WOLOF_FOR_MEMORY/10_Fukk/pas_clean_8773652rock.m4a  --  338\n",
      "filesprocess:  ./CLEAN_WOLOF_FOR_MEMORY/10_Fukk/pas_clean_8773652mince.m4a  --  339\n",
      "filesprocess:  ./CLEAN_WOLOF_FOR_MEMORY/10_Fukk/pas_clean_41813963rock.m4a  --  340\n",
      "filesprocess:  ./CLEAN_WOLOF_FOR_MEMORY/10_Fukk/pas_clean_41813963mince.m4a  --  341\n",
      "filesprocess:  ./CLEAN_WOLOF_FOR_MEMORY/10_Fukk/pas_clean_47871436rock.m4a  --  342\n",
      "filesprocess:  ./CLEAN_WOLOF_FOR_MEMORY/10_Fukk/pas_clean_47871436mince.m4a  --  343\n",
      "filesprocess:  ./CLEAN_WOLOF_FOR_MEMORY/10_Fukk/pas_clean_88894930rock.m4a  --  344\n",
      "filesprocess:  ./CLEAN_WOLOF_FOR_MEMORY/10_Fukk/pas_clean_88894930mince.m4a  --  345\n",
      "filesprocess:  ./CLEAN_WOLOF_FOR_MEMORY/10_Fukk/pas_clean_77481390rock.m4a  --  346\n",
      "filesprocess:  ./CLEAN_WOLOF_FOR_MEMORY/10_Fukk/pas_clean_77481390mince.m4a  --  347\n",
      "filesprocess:  ./CLEAN_WOLOF_FOR_MEMORY/10_Fukk/pas_clean_90736367rock.m4a  --  348\n",
      "filesprocess:  ./CLEAN_WOLOF_FOR_MEMORY/10_Fukk/pas_clean_90736367mince.m4a  --  349\n",
      "filesprocess:  ./CLEAN_WOLOF_FOR_MEMORY/10_Fukk/pas_clean_13612963rock.m4a  --  350\n",
      "filesprocess:  ./CLEAN_WOLOF_FOR_MEMORY/10_Fukk/pas_clean_13612963mince.m4a  --  351\n",
      "filesprocess:  ./CLEAN_WOLOF_FOR_MEMORY/10_Fukk/pas_clean_76659436rock.m4a  --  352\n",
      "filesprocess:  ./CLEAN_WOLOF_FOR_MEMORY/10_Fukk/pas_clean_76659436mince.m4a  --  353\n",
      "filesprocess:  ./CLEAN_WOLOF_FOR_MEMORY/10_Fukk/pas_clean_21631609rock.m4a  --  354\n",
      "filesprocess:  ./CLEAN_WOLOF_FOR_MEMORY/10_Fukk/pas_clean_21631609mince.m4a  --  355\n",
      "filesprocess:  ./CLEAN_WOLOF_FOR_MEMORY/10_Fukk/pas_clean_17803234rock.m4a  --  356\n",
      "filesprocess:  ./CLEAN_WOLOF_FOR_MEMORY/10_Fukk/pas_clean_17803234mince.m4a  --  357\n",
      "filesprocess:  ./CLEAN_WOLOF_FOR_MEMORY/10_Fukk/AUDIO-2021-05-25-07-42-31rock.m4a  --  358\n",
      "filesprocess:  ./CLEAN_WOLOF_FOR_MEMORY/10_Fukk/AUDIO-2021-05-25-07-42-31mince.m4a  --  359\n",
      "filesprocess:  ./CLEAN_WOLOF_FOR_MEMORY/10_Fukk/AUDIO-2021-05-25-06-52-57rock.m4a  --  360\n",
      "filesprocess:  ./CLEAN_WOLOF_FOR_MEMORY/10_Fukk/AUDIO-2021-05-25-06-52-57mince.m4a  --  361\n",
      "filesprocess:  ./CLEAN_WOLOF_FOR_MEMORY/10_Fukk/AUDIO-2021-05-25-06-58-32rock.m4a  --  362\n",
      "filesprocess:  ./CLEAN_WOLOF_FOR_MEMORY/10_Fukk/AUDIO-2021-05-25-06-58-32mince.m4a  --  363\n",
      "filesprocess:  ./CLEAN_WOLOF_FOR_MEMORY/10_Fukk/AUDIO-2021-05-25-06-59-40rock.m4a  --  364\n",
      "filesprocess:  ./CLEAN_WOLOF_FOR_MEMORY/10_Fukk/AUDIO-2021-05-25-06-59-40mince.m4a  --  365\n",
      "filesprocess:  ./CLEAN_WOLOF_FOR_MEMORY/10_Fukk/AUDIO-2021-05-25-06-59-47rock.m4a  --  366\n",
      "filesprocess:  ./CLEAN_WOLOF_FOR_MEMORY/10_Fukk/AUDIO-2021-05-25-06-59-47mince.m4a  --  367\n",
      "filesprocess:  ./CLEAN_WOLOF_FOR_MEMORY/10_Fukk/AUDIO-2021-05-25-14-56-02rock.m4a  --  368\n",
      "filesprocess:  ./CLEAN_WOLOF_FOR_MEMORY/10_Fukk/AUDIO-2021-05-25-14-56-02mince.m4a  --  369\n",
      "./CLEAN_WOLOF_FOR_MEMORY/6_Juróom-Benn\n",
      "filesprocess:  ./CLEAN_WOLOF_FOR_MEMORY/6_Juróom-Benn/pas_clean_73757758.m4a  --  370\n",
      "filesprocess:  ./CLEAN_WOLOF_FOR_MEMORY/6_Juróom-Benn/pas_clean_38896418.m4a  --  371\n",
      "filesprocess:  ./CLEAN_WOLOF_FOR_MEMORY/6_Juróom-Benn/pas_clean_11728204.m4a  --  372\n",
      "filesprocess:  ./CLEAN_WOLOF_FOR_MEMORY/6_Juróom-Benn/pas_clean_63196059.m4a  --  373\n",
      "filesprocess:  ./CLEAN_WOLOF_FOR_MEMORY/6_Juróom-Benn/pas_clean_11012929.m4a  --  374\n",
      "filesprocess:  ./CLEAN_WOLOF_FOR_MEMORY/6_Juróom-Benn/pas_clean_88133332.m4a  --  375\n",
      "filesprocess:  ./CLEAN_WOLOF_FOR_MEMORY/6_Juróom-Benn/pas_clean_31091368.m4a  --  376\n",
      "filesprocess:  ./CLEAN_WOLOF_FOR_MEMORY/6_Juróom-Benn/pas_clean_17675825.m4a  --  377\n",
      "filesprocess:  ./CLEAN_WOLOF_FOR_MEMORY/6_Juróom-Benn/pas_clean_13600672.m4a  --  378\n",
      "filesprocess:  ./CLEAN_WOLOF_FOR_MEMORY/6_Juróom-Benn/pas_clean_89079979.m4a  --  379\n",
      "filesprocess:  ./CLEAN_WOLOF_FOR_MEMORY/6_Juróom-Benn/pas_clean_50666234.m4a  --  380\n",
      "filesprocess:  ./CLEAN_WOLOF_FOR_MEMORY/6_Juróom-Benn/pas_clean_86772022.m4a  --  381\n",
      "filesprocess:  ./CLEAN_WOLOF_FOR_MEMORY/6_Juróom-Benn/pas_clean_32920269.m4a  --  382\n",
      "filesprocess:  ./CLEAN_WOLOF_FOR_MEMORY/6_Juróom-Benn/pas_clean_79266418.m4a  --  383\n",
      "filesprocess:  ./CLEAN_WOLOF_FOR_MEMORY/6_Juróom-Benn/pas_clean_42550171.m4a  --  384\n",
      "filesprocess:  ./CLEAN_WOLOF_FOR_MEMORY/6_Juróom-Benn/pas_clean_16145870.m4a  --  385\n",
      "filesprocess:  ./CLEAN_WOLOF_FOR_MEMORY/6_Juróom-Benn/pas_clean_12020492.m4a  --  386\n",
      "filesprocess:  ./CLEAN_WOLOF_FOR_MEMORY/6_Juróom-Benn/pas_clean_34902623.m4a  --  387\n",
      "filesprocess:  ./CLEAN_WOLOF_FOR_MEMORY/6_Juróom-Benn/pas_clean_46672827.m4a  --  388\n",
      "filesprocess:  ./CLEAN_WOLOF_FOR_MEMORY/6_Juróom-Benn/pas_clean_5824517.m4a  --  389\n",
      "filesprocess:  ./CLEAN_WOLOF_FOR_MEMORY/6_Juróom-Benn/pas_clean_79718263.m4a  --  390\n",
      "filesprocess:  ./CLEAN_WOLOF_FOR_MEMORY/6_Juróom-Benn/pas_clean_53104421.m4a  --  391\n",
      "filesprocess:  ./CLEAN_WOLOF_FOR_MEMORY/6_Juróom-Benn/pas_clean_4602133.m4a  --  392\n",
      "filesprocess:  ./CLEAN_WOLOF_FOR_MEMORY/6_Juróom-Benn/pas_clean_83210745.m4a  --  393\n",
      "filesprocess:  ./CLEAN_WOLOF_FOR_MEMORY/6_Juróom-Benn/pas_clean_46081173.m4a  --  394\n",
      "filesprocess:  ./CLEAN_WOLOF_FOR_MEMORY/6_Juróom-Benn/pas_clean_42780700.m4a  --  395\n",
      "filesprocess:  ./CLEAN_WOLOF_FOR_MEMORY/6_Juróom-Benn/pas_clean_54710602.m4a  --  396\n",
      "filesprocess:  ./CLEAN_WOLOF_FOR_MEMORY/6_Juróom-Benn/pas_clean_33468092.m4a  --  397\n",
      "filesprocess:  ./CLEAN_WOLOF_FOR_MEMORY/6_Juróom-Benn/pas_clean_96660375.m4a  --  398\n",
      "filesprocess:  ./CLEAN_WOLOF_FOR_MEMORY/6_Juróom-Benn/pas_clean_25463818.m4a  --  399\n",
      "filesprocess:  ./CLEAN_WOLOF_FOR_MEMORY/6_Juróom-Benn/pas_clean_86004400.m4a  --  400\n",
      "filesprocess:  ./CLEAN_WOLOF_FOR_MEMORY/6_Juróom-Benn/pas_clean_65051695.m4a  --  401\n",
      "filesprocess:  ./CLEAN_WOLOF_FOR_MEMORY/6_Juróom-Benn/pas_clean_94428218.m4a  --  402\n",
      "filesprocess:  ./CLEAN_WOLOF_FOR_MEMORY/6_Juróom-Benn/pas_clean_57168321.m4a  --  403\n",
      "filesprocess:  ./CLEAN_WOLOF_FOR_MEMORY/6_Juróom-Benn/pas_clean_29242006.m4a  --  404\n"
     ]
    },
    {
     "name": "stderr",
     "output_type": "stream",
     "text": [
      "/home/ibrahimabarry01/anaconda3/lib/python3.8/site-packages/librosa/core/audio.py:162: UserWarning: PySoundFile failed. Trying audioread instead.\n",
      "  warnings.warn(\"PySoundFile failed. Trying audioread instead.\")\n"
     ]
    },
    {
     "name": "stdout",
     "output_type": "stream",
     "text": [
      "filesprocess:  ./CLEAN_WOLOF_FOR_MEMORY/6_Juróom-Benn/AUDIO-2021-05-25-07-42-10.m4a  --  405\n"
     ]
    },
    {
     "name": "stderr",
     "output_type": "stream",
     "text": [
      "/home/ibrahimabarry01/anaconda3/lib/python3.8/site-packages/librosa/core/audio.py:162: UserWarning: PySoundFile failed. Trying audioread instead.\n",
      "  warnings.warn(\"PySoundFile failed. Trying audioread instead.\")\n"
     ]
    },
    {
     "name": "stdout",
     "output_type": "stream",
     "text": [
      "filesprocess:  ./CLEAN_WOLOF_FOR_MEMORY/6_Juróom-Benn/AUDIO-2021-05-25-06-52-29.m4a  --  406\n"
     ]
    },
    {
     "name": "stderr",
     "output_type": "stream",
     "text": [
      "/home/ibrahimabarry01/anaconda3/lib/python3.8/site-packages/librosa/core/audio.py:162: UserWarning: PySoundFile failed. Trying audioread instead.\n",
      "  warnings.warn(\"PySoundFile failed. Trying audioread instead.\")\n"
     ]
    },
    {
     "name": "stdout",
     "output_type": "stream",
     "text": [
      "filesprocess:  ./CLEAN_WOLOF_FOR_MEMORY/6_Juróom-Benn/AUDIO-2021-05-25-06-56-22.m4a  --  407\n"
     ]
    },
    {
     "name": "stderr",
     "output_type": "stream",
     "text": [
      "/home/ibrahimabarry01/anaconda3/lib/python3.8/site-packages/librosa/core/audio.py:162: UserWarning: PySoundFile failed. Trying audioread instead.\n",
      "  warnings.warn(\"PySoundFile failed. Trying audioread instead.\")\n"
     ]
    },
    {
     "name": "stdout",
     "output_type": "stream",
     "text": [
      "filesprocess:  ./CLEAN_WOLOF_FOR_MEMORY/6_Juróom-Benn/AUDIO-2021-05-25-06-56-29.m4a  --  408\n"
     ]
    },
    {
     "name": "stderr",
     "output_type": "stream",
     "text": [
      "/home/ibrahimabarry01/anaconda3/lib/python3.8/site-packages/librosa/core/audio.py:162: UserWarning: PySoundFile failed. Trying audioread instead.\n",
      "  warnings.warn(\"PySoundFile failed. Trying audioread instead.\")\n"
     ]
    },
    {
     "name": "stdout",
     "output_type": "stream",
     "text": [
      "filesprocess:  ./CLEAN_WOLOF_FOR_MEMORY/6_Juróom-Benn/AUDIO-2021-05-25-06-56-38.m4a  --  409\n"
     ]
    },
    {
     "name": "stderr",
     "output_type": "stream",
     "text": [
      "/home/ibrahimabarry01/anaconda3/lib/python3.8/site-packages/librosa/core/audio.py:162: UserWarning: PySoundFile failed. Trying audioread instead.\n",
      "  warnings.warn(\"PySoundFile failed. Trying audioread instead.\")\n"
     ]
    },
    {
     "name": "stdout",
     "output_type": "stream",
     "text": [
      "filesprocess:  ./CLEAN_WOLOF_FOR_MEMORY/6_Juróom-Benn/AUDIO-2021-05-25-14-55-26.m4a  --  410\n",
      "filesprocess:  ./CLEAN_WOLOF_FOR_MEMORY/6_Juróom-Benn/pas_clean_73757758rock.m4a  --  411\n",
      "filesprocess:  ./CLEAN_WOLOF_FOR_MEMORY/6_Juróom-Benn/pas_clean_73757758mince.m4a  --  412\n",
      "filesprocess:  ./CLEAN_WOLOF_FOR_MEMORY/6_Juróom-Benn/pas_clean_38896418rock.m4a  --  413\n",
      "filesprocess:  ./CLEAN_WOLOF_FOR_MEMORY/6_Juróom-Benn/pas_clean_38896418mince.m4a  --  414\n",
      "filesprocess:  ./CLEAN_WOLOF_FOR_MEMORY/6_Juróom-Benn/pas_clean_11728204rock.m4a  --  415\n",
      "filesprocess:  ./CLEAN_WOLOF_FOR_MEMORY/6_Juróom-Benn/pas_clean_11728204mince.m4a  --  416\n",
      "filesprocess:  ./CLEAN_WOLOF_FOR_MEMORY/6_Juróom-Benn/pas_clean_63196059rock.m4a  --  417\n",
      "filesprocess:  ./CLEAN_WOLOF_FOR_MEMORY/6_Juróom-Benn/pas_clean_63196059mince.m4a  --  418\n",
      "filesprocess:  ./CLEAN_WOLOF_FOR_MEMORY/6_Juróom-Benn/pas_clean_11012929rock.m4a  --  419\n",
      "filesprocess:  ./CLEAN_WOLOF_FOR_MEMORY/6_Juróom-Benn/pas_clean_11012929mince.m4a  --  420\n",
      "filesprocess:  ./CLEAN_WOLOF_FOR_MEMORY/6_Juróom-Benn/pas_clean_88133332rock.m4a  --  421\n",
      "filesprocess:  ./CLEAN_WOLOF_FOR_MEMORY/6_Juróom-Benn/pas_clean_88133332mince.m4a  --  422\n",
      "filesprocess:  ./CLEAN_WOLOF_FOR_MEMORY/6_Juróom-Benn/pas_clean_31091368rock.m4a  --  423\n",
      "filesprocess:  ./CLEAN_WOLOF_FOR_MEMORY/6_Juróom-Benn/pas_clean_31091368mince.m4a  --  424\n",
      "filesprocess:  ./CLEAN_WOLOF_FOR_MEMORY/6_Juróom-Benn/pas_clean_17675825rock.m4a  --  425\n",
      "filesprocess:  ./CLEAN_WOLOF_FOR_MEMORY/6_Juróom-Benn/pas_clean_17675825mince.m4a  --  426\n",
      "filesprocess:  ./CLEAN_WOLOF_FOR_MEMORY/6_Juróom-Benn/pas_clean_13600672rock.m4a  --  427\n",
      "filesprocess:  ./CLEAN_WOLOF_FOR_MEMORY/6_Juróom-Benn/pas_clean_13600672mince.m4a  --  428\n",
      "filesprocess:  ./CLEAN_WOLOF_FOR_MEMORY/6_Juróom-Benn/pas_clean_89079979rock.m4a  --  429\n",
      "filesprocess:  ./CLEAN_WOLOF_FOR_MEMORY/6_Juróom-Benn/pas_clean_89079979mince.m4a  --  430\n",
      "filesprocess:  ./CLEAN_WOLOF_FOR_MEMORY/6_Juróom-Benn/pas_clean_50666234rock.m4a  --  431\n",
      "filesprocess:  ./CLEAN_WOLOF_FOR_MEMORY/6_Juróom-Benn/pas_clean_50666234mince.m4a  --  432\n",
      "filesprocess:  ./CLEAN_WOLOF_FOR_MEMORY/6_Juróom-Benn/pas_clean_86772022rock.m4a  --  433\n",
      "filesprocess:  ./CLEAN_WOLOF_FOR_MEMORY/6_Juróom-Benn/pas_clean_86772022mince.m4a  --  434\n",
      "filesprocess:  ./CLEAN_WOLOF_FOR_MEMORY/6_Juróom-Benn/pas_clean_32920269rock.m4a  --  435\n",
      "filesprocess:  ./CLEAN_WOLOF_FOR_MEMORY/6_Juróom-Benn/pas_clean_32920269mince.m4a  --  436\n",
      "filesprocess:  ./CLEAN_WOLOF_FOR_MEMORY/6_Juróom-Benn/pas_clean_79266418rock.m4a  --  437\n",
      "filesprocess:  ./CLEAN_WOLOF_FOR_MEMORY/6_Juróom-Benn/pas_clean_79266418mince.m4a  --  438\n",
      "filesprocess:  ./CLEAN_WOLOF_FOR_MEMORY/6_Juróom-Benn/pas_clean_42550171rock.m4a  --  439\n",
      "filesprocess:  ./CLEAN_WOLOF_FOR_MEMORY/6_Juróom-Benn/pas_clean_42550171mince.m4a  --  440\n",
      "filesprocess:  ./CLEAN_WOLOF_FOR_MEMORY/6_Juróom-Benn/pas_clean_16145870rock.m4a  --  441\n",
      "filesprocess:  ./CLEAN_WOLOF_FOR_MEMORY/6_Juróom-Benn/pas_clean_16145870mince.m4a  --  442\n",
      "filesprocess:  ./CLEAN_WOLOF_FOR_MEMORY/6_Juróom-Benn/pas_clean_12020492rock.m4a  --  443\n",
      "filesprocess:  ./CLEAN_WOLOF_FOR_MEMORY/6_Juróom-Benn/pas_clean_12020492mince.m4a  --  444\n",
      "filesprocess:  ./CLEAN_WOLOF_FOR_MEMORY/6_Juróom-Benn/pas_clean_34902623rock.m4a  --  445\n",
      "filesprocess:  ./CLEAN_WOLOF_FOR_MEMORY/6_Juróom-Benn/pas_clean_34902623mince.m4a  --  446\n",
      "filesprocess:  ./CLEAN_WOLOF_FOR_MEMORY/6_Juróom-Benn/pas_clean_46672827rock.m4a  --  447\n",
      "filesprocess:  ./CLEAN_WOLOF_FOR_MEMORY/6_Juróom-Benn/pas_clean_46672827mince.m4a  --  448\n",
      "filesprocess:  ./CLEAN_WOLOF_FOR_MEMORY/6_Juróom-Benn/pas_clean_5824517rock.m4a  --  449\n",
      "filesprocess:  ./CLEAN_WOLOF_FOR_MEMORY/6_Juróom-Benn/pas_clean_5824517mince.m4a  --  450\n",
      "filesprocess:  ./CLEAN_WOLOF_FOR_MEMORY/6_Juróom-Benn/pas_clean_79718263rock.m4a  --  451\n",
      "filesprocess:  ./CLEAN_WOLOF_FOR_MEMORY/6_Juróom-Benn/pas_clean_79718263mince.m4a  --  452\n",
      "filesprocess:  ./CLEAN_WOLOF_FOR_MEMORY/6_Juróom-Benn/pas_clean_53104421rock.m4a  --  453\n",
      "filesprocess:  ./CLEAN_WOLOF_FOR_MEMORY/6_Juróom-Benn/pas_clean_53104421mince.m4a  --  454\n",
      "filesprocess:  ./CLEAN_WOLOF_FOR_MEMORY/6_Juróom-Benn/pas_clean_4602133rock.m4a  --  455\n",
      "filesprocess:  ./CLEAN_WOLOF_FOR_MEMORY/6_Juróom-Benn/pas_clean_4602133mince.m4a  --  456\n",
      "filesprocess:  ./CLEAN_WOLOF_FOR_MEMORY/6_Juróom-Benn/pas_clean_83210745rock.m4a  --  457\n",
      "filesprocess:  ./CLEAN_WOLOF_FOR_MEMORY/6_Juróom-Benn/pas_clean_83210745mince.m4a  --  458\n",
      "filesprocess:  ./CLEAN_WOLOF_FOR_MEMORY/6_Juróom-Benn/pas_clean_46081173rock.m4a  --  459\n",
      "filesprocess:  ./CLEAN_WOLOF_FOR_MEMORY/6_Juróom-Benn/pas_clean_46081173mince.m4a  --  460\n",
      "filesprocess:  ./CLEAN_WOLOF_FOR_MEMORY/6_Juróom-Benn/pas_clean_42780700rock.m4a  --  461\n",
      "filesprocess:  ./CLEAN_WOLOF_FOR_MEMORY/6_Juróom-Benn/pas_clean_42780700mince.m4a  --  462\n",
      "filesprocess:  ./CLEAN_WOLOF_FOR_MEMORY/6_Juróom-Benn/pas_clean_54710602rock.m4a  --  463\n",
      "filesprocess:  ./CLEAN_WOLOF_FOR_MEMORY/6_Juróom-Benn/pas_clean_54710602mince.m4a  --  464\n",
      "filesprocess:  ./CLEAN_WOLOF_FOR_MEMORY/6_Juróom-Benn/pas_clean_33468092rock.m4a  --  465\n",
      "filesprocess:  ./CLEAN_WOLOF_FOR_MEMORY/6_Juróom-Benn/pas_clean_33468092mince.m4a  --  466\n",
      "filesprocess:  ./CLEAN_WOLOF_FOR_MEMORY/6_Juróom-Benn/pas_clean_96660375rock.m4a  --  467\n",
      "filesprocess:  ./CLEAN_WOLOF_FOR_MEMORY/6_Juróom-Benn/pas_clean_96660375mince.m4a  --  468\n",
      "filesprocess:  ./CLEAN_WOLOF_FOR_MEMORY/6_Juróom-Benn/pas_clean_25463818rock.m4a  --  469\n",
      "filesprocess:  ./CLEAN_WOLOF_FOR_MEMORY/6_Juróom-Benn/pas_clean_25463818mince.m4a  --  470\n",
      "filesprocess:  ./CLEAN_WOLOF_FOR_MEMORY/6_Juróom-Benn/pas_clean_86004400rock.m4a  --  471\n",
      "filesprocess:  ./CLEAN_WOLOF_FOR_MEMORY/6_Juróom-Benn/pas_clean_86004400mince.m4a  --  472\n",
      "filesprocess:  ./CLEAN_WOLOF_FOR_MEMORY/6_Juróom-Benn/pas_clean_65051695rock.m4a  --  473\n",
      "filesprocess:  ./CLEAN_WOLOF_FOR_MEMORY/6_Juróom-Benn/pas_clean_65051695mince.m4a  --  474\n",
      "filesprocess:  ./CLEAN_WOLOF_FOR_MEMORY/6_Juróom-Benn/pas_clean_94428218rock.m4a  --  475\n",
      "filesprocess:  ./CLEAN_WOLOF_FOR_MEMORY/6_Juróom-Benn/pas_clean_94428218mince.m4a  --  476\n",
      "filesprocess:  ./CLEAN_WOLOF_FOR_MEMORY/6_Juróom-Benn/pas_clean_57168321rock.m4a  --  477\n",
      "filesprocess:  ./CLEAN_WOLOF_FOR_MEMORY/6_Juróom-Benn/pas_clean_57168321mince.m4a  --  478\n",
      "filesprocess:  ./CLEAN_WOLOF_FOR_MEMORY/6_Juróom-Benn/pas_clean_29242006rock.m4a  --  479\n",
      "filesprocess:  ./CLEAN_WOLOF_FOR_MEMORY/6_Juróom-Benn/pas_clean_29242006mince.m4a  --  480\n",
      "filesprocess:  ./CLEAN_WOLOF_FOR_MEMORY/6_Juróom-Benn/AUDIO-2021-05-25-07-42-10rock.m4a  --  481\n",
      "filesprocess:  ./CLEAN_WOLOF_FOR_MEMORY/6_Juróom-Benn/AUDIO-2021-05-25-07-42-10mince.m4a  --  482\n",
      "filesprocess:  ./CLEAN_WOLOF_FOR_MEMORY/6_Juróom-Benn/AUDIO-2021-05-25-06-52-29rock.m4a  --  483\n",
      "filesprocess:  ./CLEAN_WOLOF_FOR_MEMORY/6_Juróom-Benn/AUDIO-2021-05-25-06-52-29mince.m4a  --  484\n",
      "filesprocess:  ./CLEAN_WOLOF_FOR_MEMORY/6_Juróom-Benn/AUDIO-2021-05-25-06-56-22rock.m4a  --  485\n",
      "filesprocess:  ./CLEAN_WOLOF_FOR_MEMORY/6_Juróom-Benn/AUDIO-2021-05-25-06-56-22mince.m4a  --  486\n",
      "filesprocess:  ./CLEAN_WOLOF_FOR_MEMORY/6_Juróom-Benn/AUDIO-2021-05-25-06-56-29rock.m4a  --  487\n",
      "filesprocess:  ./CLEAN_WOLOF_FOR_MEMORY/6_Juróom-Benn/AUDIO-2021-05-25-06-56-29mince.m4a  --  488\n",
      "filesprocess:  ./CLEAN_WOLOF_FOR_MEMORY/6_Juróom-Benn/AUDIO-2021-05-25-06-56-38rock.m4a  --  489\n",
      "filesprocess:  ./CLEAN_WOLOF_FOR_MEMORY/6_Juróom-Benn/AUDIO-2021-05-25-06-56-38mince.m4a  --  490\n",
      "filesprocess:  ./CLEAN_WOLOF_FOR_MEMORY/6_Juróom-Benn/AUDIO-2021-05-25-14-55-26rock.m4a  --  491\n",
      "filesprocess:  ./CLEAN_WOLOF_FOR_MEMORY/6_Juróom-Benn/AUDIO-2021-05-25-14-55-26mince.m4a  --  492\n",
      "./CLEAN_WOLOF_FOR_MEMORY/3_Ñett\n",
      "filesprocess:  ./CLEAN_WOLOF_FOR_MEMORY/3_Ñett/pas_clean_57460046.m4a  --  493\n",
      "filesprocess:  ./CLEAN_WOLOF_FOR_MEMORY/3_Ñett/pas_clean_93450812.m4a  --  494\n",
      "filesprocess:  ./CLEAN_WOLOF_FOR_MEMORY/3_Ñett/pas_clean_99329157.m4a  --  495\n",
      "filesprocess:  ./CLEAN_WOLOF_FOR_MEMORY/3_Ñett/pas_clean_51829558.m4a  --  496\n",
      "filesprocess:  ./CLEAN_WOLOF_FOR_MEMORY/3_Ñett/pas_clean_39373788.m4a  --  497\n",
      "filesprocess:  ./CLEAN_WOLOF_FOR_MEMORY/3_Ñett/pas_clean_32979882.m4a  --  498\n",
      "filesprocess:  ./CLEAN_WOLOF_FOR_MEMORY/3_Ñett/pas_clean_90004375.m4a  --  499\n",
      "filesprocess:  ./CLEAN_WOLOF_FOR_MEMORY/3_Ñett/pas_clean_62356389.m4a  --  500\n",
      "filesprocess:  ./CLEAN_WOLOF_FOR_MEMORY/3_Ñett/pas_clean_45424407.m4a  --  501\n",
      "filesprocess:  ./CLEAN_WOLOF_FOR_MEMORY/3_Ñett/pas_clean_79199334.m4a  --  502\n",
      "filesprocess:  ./CLEAN_WOLOF_FOR_MEMORY/3_Ñett/pas_clean_66974795.m4a  --  503\n",
      "filesprocess:  ./CLEAN_WOLOF_FOR_MEMORY/3_Ñett/pas_clean_49172926.m4a  --  504\n",
      "filesprocess:  ./CLEAN_WOLOF_FOR_MEMORY/3_Ñett/pas_clean_91006513.m4a  --  505\n",
      "filesprocess:  ./CLEAN_WOLOF_FOR_MEMORY/3_Ñett/pas_clean_78690942.m4a  --  506\n",
      "filesprocess:  ./CLEAN_WOLOF_FOR_MEMORY/3_Ñett/pas_clean_793077.m4a  --  507\n",
      "filesprocess:  ./CLEAN_WOLOF_FOR_MEMORY/3_Ñett/pas_clean_7722139.m4a  --  508\n",
      "filesprocess:  ./CLEAN_WOLOF_FOR_MEMORY/3_Ñett/pas_clean_4718112.m4a  --  509\n",
      "filesprocess:  ./CLEAN_WOLOF_FOR_MEMORY/3_Ñett/pas_clean_38543941.m4a  --  510\n",
      "filesprocess:  ./CLEAN_WOLOF_FOR_MEMORY/3_Ñett/pas_clean_57512581.m4a  --  511\n",
      "filesprocess:  ./CLEAN_WOLOF_FOR_MEMORY/3_Ñett/pas_clean_67899208.m4a  --  512\n",
      "filesprocess:  ./CLEAN_WOLOF_FOR_MEMORY/3_Ñett/pas_clean_25508174.m4a  --  513\n",
      "filesprocess:  ./CLEAN_WOLOF_FOR_MEMORY/3_Ñett/pas_clean_76665333.m4a  --  514\n",
      "filesprocess:  ./CLEAN_WOLOF_FOR_MEMORY/3_Ñett/pas_clean_4818769.m4a  --  515\n",
      "filesprocess:  ./CLEAN_WOLOF_FOR_MEMORY/3_Ñett/pas_clean_51113308.m4a  --  516\n",
      "filesprocess:  ./CLEAN_WOLOF_FOR_MEMORY/3_Ñett/pas_clean_76604889.m4a  --  517\n",
      "filesprocess:  ./CLEAN_WOLOF_FOR_MEMORY/3_Ñett/pas_clean_99946180.m4a  --  518\n",
      "filesprocess:  ./CLEAN_WOLOF_FOR_MEMORY/3_Ñett/pas_clean_31919702.m4a  --  519\n",
      "filesprocess:  ./CLEAN_WOLOF_FOR_MEMORY/3_Ñett/pas_clean_68383206.m4a  --  520\n",
      "filesprocess:  ./CLEAN_WOLOF_FOR_MEMORY/3_Ñett/pas_clean_73432822.m4a  --  521\n",
      "filesprocess:  ./CLEAN_WOLOF_FOR_MEMORY/3_Ñett/pas_clean_4156293.m4a  --  522\n",
      "filesprocess:  ./CLEAN_WOLOF_FOR_MEMORY/3_Ñett/pas_clean_72588339.m4a  --  523\n",
      "filesprocess:  ./CLEAN_WOLOF_FOR_MEMORY/3_Ñett/pas_clean_87294535.m4a  --  524\n"
     ]
    },
    {
     "name": "stderr",
     "output_type": "stream",
     "text": [
      "/home/ibrahimabarry01/anaconda3/lib/python3.8/site-packages/librosa/core/audio.py:162: UserWarning: PySoundFile failed. Trying audioread instead.\n",
      "  warnings.warn(\"PySoundFile failed. Trying audioread instead.\")\n"
     ]
    },
    {
     "name": "stdout",
     "output_type": "stream",
     "text": [
      "filesprocess:  ./CLEAN_WOLOF_FOR_MEMORY/3_Ñett/AUDIO-2021-05-25-07-41-50.m4a  --  525\n"
     ]
    },
    {
     "name": "stderr",
     "output_type": "stream",
     "text": [
      "/home/ibrahimabarry01/anaconda3/lib/python3.8/site-packages/librosa/core/audio.py:162: UserWarning: PySoundFile failed. Trying audioread instead.\n",
      "  warnings.warn(\"PySoundFile failed. Trying audioread instead.\")\n"
     ]
    },
    {
     "name": "stdout",
     "output_type": "stream",
     "text": [
      "filesprocess:  ./CLEAN_WOLOF_FOR_MEMORY/3_Ñett/AUDIO-2021-05-25-06-52-08.m4a  --  526\n"
     ]
    },
    {
     "name": "stderr",
     "output_type": "stream",
     "text": [
      "/home/ibrahimabarry01/anaconda3/lib/python3.8/site-packages/librosa/core/audio.py:162: UserWarning: PySoundFile failed. Trying audioread instead.\n",
      "  warnings.warn(\"PySoundFile failed. Trying audioread instead.\")\n"
     ]
    },
    {
     "name": "stdout",
     "output_type": "stream",
     "text": [
      "filesprocess:  ./CLEAN_WOLOF_FOR_MEMORY/3_Ñett/AUDIO-2021-05-25-06-54-31.m4a  --  527\n"
     ]
    },
    {
     "name": "stderr",
     "output_type": "stream",
     "text": [
      "/home/ibrahimabarry01/anaconda3/lib/python3.8/site-packages/librosa/core/audio.py:162: UserWarning: PySoundFile failed. Trying audioread instead.\n",
      "  warnings.warn(\"PySoundFile failed. Trying audioread instead.\")\n"
     ]
    },
    {
     "name": "stdout",
     "output_type": "stream",
     "text": [
      "filesprocess:  ./CLEAN_WOLOF_FOR_MEMORY/3_Ñett/AUDIO-2021-05-25-06-54-36.m4a  --  528\n"
     ]
    },
    {
     "name": "stderr",
     "output_type": "stream",
     "text": [
      "/home/ibrahimabarry01/anaconda3/lib/python3.8/site-packages/librosa/core/audio.py:162: UserWarning: PySoundFile failed. Trying audioread instead.\n",
      "  warnings.warn(\"PySoundFile failed. Trying audioread instead.\")\n"
     ]
    },
    {
     "name": "stdout",
     "output_type": "stream",
     "text": [
      "filesprocess:  ./CLEAN_WOLOF_FOR_MEMORY/3_Ñett/AUDIO-2021-05-25-06-54-42.m4a  --  529\n",
      "filesprocess:  ./CLEAN_WOLOF_FOR_MEMORY/3_Ñett/pas_clean_99329157 (copie).m4a  --  530\n",
      "filesprocess:  ./CLEAN_WOLOF_FOR_MEMORY/3_Ñett/pas_clean_79199334 (copie).m4a  --  531\n",
      "filesprocess:  ./CLEAN_WOLOF_FOR_MEMORY/3_Ñett/pas_clean_93450812 (copie).m4a  --  532\n"
     ]
    },
    {
     "name": "stderr",
     "output_type": "stream",
     "text": [
      "/home/ibrahimabarry01/anaconda3/lib/python3.8/site-packages/librosa/core/audio.py:162: UserWarning: PySoundFile failed. Trying audioread instead.\n",
      "  warnings.warn(\"PySoundFile failed. Trying audioread instead.\")\n"
     ]
    },
    {
     "name": "stdout",
     "output_type": "stream",
     "text": [
      "filesprocess:  ./CLEAN_WOLOF_FOR_MEMORY/3_Ñett/AUDIO-2021-05-25-14-54-52.m4a  --  533\n",
      "filesprocess:  ./CLEAN_WOLOF_FOR_MEMORY/3_Ñett/pas_clean_57460046rock.m4a  --  534\n",
      "filesprocess:  ./CLEAN_WOLOF_FOR_MEMORY/3_Ñett/pas_clean_57460046mince.m4a  --  535\n",
      "filesprocess:  ./CLEAN_WOLOF_FOR_MEMORY/3_Ñett/pas_clean_93450812rock.m4a  --  536\n",
      "filesprocess:  ./CLEAN_WOLOF_FOR_MEMORY/3_Ñett/pas_clean_93450812mince.m4a  --  537\n",
      "filesprocess:  ./CLEAN_WOLOF_FOR_MEMORY/3_Ñett/pas_clean_99329157rock.m4a  --  538\n",
      "filesprocess:  ./CLEAN_WOLOF_FOR_MEMORY/3_Ñett/pas_clean_99329157mince.m4a  --  539\n",
      "filesprocess:  ./CLEAN_WOLOF_FOR_MEMORY/3_Ñett/pas_clean_51829558rock.m4a  --  540\n",
      "filesprocess:  ./CLEAN_WOLOF_FOR_MEMORY/3_Ñett/pas_clean_51829558mince.m4a  --  541\n",
      "filesprocess:  ./CLEAN_WOLOF_FOR_MEMORY/3_Ñett/pas_clean_39373788rock.m4a  --  542\n",
      "filesprocess:  ./CLEAN_WOLOF_FOR_MEMORY/3_Ñett/pas_clean_39373788mince.m4a  --  543\n",
      "filesprocess:  ./CLEAN_WOLOF_FOR_MEMORY/3_Ñett/pas_clean_32979882rock.m4a  --  544\n",
      "filesprocess:  ./CLEAN_WOLOF_FOR_MEMORY/3_Ñett/pas_clean_32979882mince.m4a  --  545\n",
      "filesprocess:  ./CLEAN_WOLOF_FOR_MEMORY/3_Ñett/pas_clean_90004375rock.m4a  --  546\n",
      "filesprocess:  ./CLEAN_WOLOF_FOR_MEMORY/3_Ñett/pas_clean_90004375mince.m4a  --  547\n",
      "filesprocess:  ./CLEAN_WOLOF_FOR_MEMORY/3_Ñett/pas_clean_62356389rock.m4a  --  548\n",
      "filesprocess:  ./CLEAN_WOLOF_FOR_MEMORY/3_Ñett/pas_clean_62356389mince.m4a  --  549\n",
      "filesprocess:  ./CLEAN_WOLOF_FOR_MEMORY/3_Ñett/pas_clean_45424407rock.m4a  --  550\n",
      "filesprocess:  ./CLEAN_WOLOF_FOR_MEMORY/3_Ñett/pas_clean_45424407mince.m4a  --  551\n",
      "filesprocess:  ./CLEAN_WOLOF_FOR_MEMORY/3_Ñett/pas_clean_79199334rock.m4a  --  552\n",
      "filesprocess:  ./CLEAN_WOLOF_FOR_MEMORY/3_Ñett/pas_clean_79199334mince.m4a  --  553\n",
      "filesprocess:  ./CLEAN_WOLOF_FOR_MEMORY/3_Ñett/pas_clean_66974795rock.m4a  --  554\n",
      "filesprocess:  ./CLEAN_WOLOF_FOR_MEMORY/3_Ñett/pas_clean_66974795mince.m4a  --  555\n",
      "filesprocess:  ./CLEAN_WOLOF_FOR_MEMORY/3_Ñett/pas_clean_49172926rock.m4a  --  556\n",
      "filesprocess:  ./CLEAN_WOLOF_FOR_MEMORY/3_Ñett/pas_clean_49172926mince.m4a  --  557\n",
      "filesprocess:  ./CLEAN_WOLOF_FOR_MEMORY/3_Ñett/pas_clean_91006513rock.m4a  --  558\n",
      "filesprocess:  ./CLEAN_WOLOF_FOR_MEMORY/3_Ñett/pas_clean_91006513mince.m4a  --  559\n",
      "filesprocess:  ./CLEAN_WOLOF_FOR_MEMORY/3_Ñett/pas_clean_78690942rock.m4a  --  560\n",
      "filesprocess:  ./CLEAN_WOLOF_FOR_MEMORY/3_Ñett/pas_clean_78690942mince.m4a  --  561\n",
      "filesprocess:  ./CLEAN_WOLOF_FOR_MEMORY/3_Ñett/pas_clean_793077rock.m4a  --  562\n",
      "filesprocess:  ./CLEAN_WOLOF_FOR_MEMORY/3_Ñett/pas_clean_793077mince.m4a  --  563\n",
      "filesprocess:  ./CLEAN_WOLOF_FOR_MEMORY/3_Ñett/pas_clean_7722139rock.m4a  --  564\n",
      "filesprocess:  ./CLEAN_WOLOF_FOR_MEMORY/3_Ñett/pas_clean_7722139mince.m4a  --  565\n",
      "filesprocess:  ./CLEAN_WOLOF_FOR_MEMORY/3_Ñett/pas_clean_4718112rock.m4a  --  566\n",
      "filesprocess:  ./CLEAN_WOLOF_FOR_MEMORY/3_Ñett/pas_clean_4718112mince.m4a  --  567\n",
      "filesprocess:  ./CLEAN_WOLOF_FOR_MEMORY/3_Ñett/pas_clean_38543941rock.m4a  --  568\n",
      "filesprocess:  ./CLEAN_WOLOF_FOR_MEMORY/3_Ñett/pas_clean_38543941mince.m4a  --  569\n",
      "filesprocess:  ./CLEAN_WOLOF_FOR_MEMORY/3_Ñett/pas_clean_57512581rock.m4a  --  570\n",
      "filesprocess:  ./CLEAN_WOLOF_FOR_MEMORY/3_Ñett/pas_clean_57512581mince.m4a  --  571\n",
      "filesprocess:  ./CLEAN_WOLOF_FOR_MEMORY/3_Ñett/pas_clean_67899208rock.m4a  --  572\n",
      "filesprocess:  ./CLEAN_WOLOF_FOR_MEMORY/3_Ñett/pas_clean_67899208mince.m4a  --  573\n",
      "filesprocess:  ./CLEAN_WOLOF_FOR_MEMORY/3_Ñett/pas_clean_25508174rock.m4a  --  574\n",
      "filesprocess:  ./CLEAN_WOLOF_FOR_MEMORY/3_Ñett/pas_clean_25508174mince.m4a  --  575\n",
      "filesprocess:  ./CLEAN_WOLOF_FOR_MEMORY/3_Ñett/pas_clean_76665333rock.m4a  --  576\n",
      "filesprocess:  ./CLEAN_WOLOF_FOR_MEMORY/3_Ñett/pas_clean_76665333mince.m4a  --  577\n",
      "filesprocess:  ./CLEAN_WOLOF_FOR_MEMORY/3_Ñett/pas_clean_4818769rock.m4a  --  578\n",
      "filesprocess:  ./CLEAN_WOLOF_FOR_MEMORY/3_Ñett/pas_clean_4818769mince.m4a  --  579\n",
      "filesprocess:  ./CLEAN_WOLOF_FOR_MEMORY/3_Ñett/pas_clean_51113308rock.m4a  --  580\n",
      "filesprocess:  ./CLEAN_WOLOF_FOR_MEMORY/3_Ñett/pas_clean_51113308mince.m4a  --  581\n",
      "filesprocess:  ./CLEAN_WOLOF_FOR_MEMORY/3_Ñett/pas_clean_76604889rock.m4a  --  582\n",
      "filesprocess:  ./CLEAN_WOLOF_FOR_MEMORY/3_Ñett/pas_clean_76604889mince.m4a  --  583\n",
      "filesprocess:  ./CLEAN_WOLOF_FOR_MEMORY/3_Ñett/pas_clean_99946180rock.m4a  --  584\n",
      "filesprocess:  ./CLEAN_WOLOF_FOR_MEMORY/3_Ñett/pas_clean_99946180mince.m4a  --  585\n",
      "filesprocess:  ./CLEAN_WOLOF_FOR_MEMORY/3_Ñett/pas_clean_31919702rock.m4a  --  586\n",
      "filesprocess:  ./CLEAN_WOLOF_FOR_MEMORY/3_Ñett/pas_clean_31919702mince.m4a  --  587\n",
      "filesprocess:  ./CLEAN_WOLOF_FOR_MEMORY/3_Ñett/pas_clean_68383206rock.m4a  --  588\n",
      "filesprocess:  ./CLEAN_WOLOF_FOR_MEMORY/3_Ñett/pas_clean_68383206mince.m4a  --  589\n",
      "filesprocess:  ./CLEAN_WOLOF_FOR_MEMORY/3_Ñett/pas_clean_73432822rock.m4a  --  590\n",
      "filesprocess:  ./CLEAN_WOLOF_FOR_MEMORY/3_Ñett/pas_clean_73432822mince.m4a  --  591\n",
      "filesprocess:  ./CLEAN_WOLOF_FOR_MEMORY/3_Ñett/pas_clean_4156293rock.m4a  --  592\n",
      "filesprocess:  ./CLEAN_WOLOF_FOR_MEMORY/3_Ñett/pas_clean_4156293mince.m4a  --  593\n",
      "filesprocess:  ./CLEAN_WOLOF_FOR_MEMORY/3_Ñett/pas_clean_72588339rock.m4a  --  594\n",
      "filesprocess:  ./CLEAN_WOLOF_FOR_MEMORY/3_Ñett/pas_clean_72588339mince.m4a  --  595\n",
      "filesprocess:  ./CLEAN_WOLOF_FOR_MEMORY/3_Ñett/pas_clean_87294535rock.m4a  --  596\n",
      "filesprocess:  ./CLEAN_WOLOF_FOR_MEMORY/3_Ñett/pas_clean_87294535mince.m4a  --  597\n",
      "filesprocess:  ./CLEAN_WOLOF_FOR_MEMORY/3_Ñett/AUDIO-2021-05-25-07-41-50rock.m4a  --  598\n",
      "filesprocess:  ./CLEAN_WOLOF_FOR_MEMORY/3_Ñett/AUDIO-2021-05-25-07-41-50mince.m4a  --  599\n",
      "filesprocess:  ./CLEAN_WOLOF_FOR_MEMORY/3_Ñett/AUDIO-2021-05-25-06-52-08rock.m4a  --  600\n",
      "filesprocess:  ./CLEAN_WOLOF_FOR_MEMORY/3_Ñett/AUDIO-2021-05-25-06-52-08mince.m4a  --  601\n",
      "filesprocess:  ./CLEAN_WOLOF_FOR_MEMORY/3_Ñett/AUDIO-2021-05-25-06-54-31rock.m4a  --  602\n",
      "filesprocess:  ./CLEAN_WOLOF_FOR_MEMORY/3_Ñett/AUDIO-2021-05-25-06-54-31mince.m4a  --  603\n",
      "filesprocess:  ./CLEAN_WOLOF_FOR_MEMORY/3_Ñett/AUDIO-2021-05-25-06-54-36rock.m4a  --  604\n",
      "filesprocess:  ./CLEAN_WOLOF_FOR_MEMORY/3_Ñett/AUDIO-2021-05-25-06-54-36mince.m4a  --  605\n",
      "filesprocess:  ./CLEAN_WOLOF_FOR_MEMORY/3_Ñett/AUDIO-2021-05-25-06-54-42rock.m4a  --  606\n",
      "filesprocess:  ./CLEAN_WOLOF_FOR_MEMORY/3_Ñett/AUDIO-2021-05-25-06-54-42mince.m4a  --  607\n",
      "filesprocess:  ./CLEAN_WOLOF_FOR_MEMORY/3_Ñett/pas_clean_99329157 (copie)rock.m4a  --  608\n",
      "filesprocess:  ./CLEAN_WOLOF_FOR_MEMORY/3_Ñett/pas_clean_99329157 (copie)mince.m4a  --  609\n",
      "filesprocess:  ./CLEAN_WOLOF_FOR_MEMORY/3_Ñett/pas_clean_79199334 (copie)rock.m4a  --  610\n",
      "filesprocess:  ./CLEAN_WOLOF_FOR_MEMORY/3_Ñett/pas_clean_79199334 (copie)mince.m4a  --  611\n",
      "filesprocess:  ./CLEAN_WOLOF_FOR_MEMORY/3_Ñett/pas_clean_93450812 (copie)rock.m4a  --  612\n",
      "filesprocess:  ./CLEAN_WOLOF_FOR_MEMORY/3_Ñett/pas_clean_93450812 (copie)mince.m4a  --  613\n",
      "filesprocess:  ./CLEAN_WOLOF_FOR_MEMORY/3_Ñett/AUDIO-2021-05-25-14-54-52rock.m4a  --  614\n",
      "filesprocess:  ./CLEAN_WOLOF_FOR_MEMORY/3_Ñett/AUDIO-2021-05-25-14-54-52mince.m4a  --  615\n",
      "./CLEAN_WOLOF_FOR_MEMORY/7_Juróom-Ñaar\n",
      "filesprocess:  ./CLEAN_WOLOF_FOR_MEMORY/7_Juróom-Ñaar/pas_clean_91669477.m4a  --  616\n",
      "filesprocess:  ./CLEAN_WOLOF_FOR_MEMORY/7_Juróom-Ñaar/pas_clean_81516245.m4a  --  617\n",
      "filesprocess:  ./CLEAN_WOLOF_FOR_MEMORY/7_Juróom-Ñaar/pas_clean_96175733.m4a  --  618\n",
      "filesprocess:  ./CLEAN_WOLOF_FOR_MEMORY/7_Juróom-Ñaar/pas_clean_8006631.m4a  --  619\n",
      "filesprocess:  ./CLEAN_WOLOF_FOR_MEMORY/7_Juróom-Ñaar/pas_clean_66976032.m4a  --  620\n",
      "filesprocess:  ./CLEAN_WOLOF_FOR_MEMORY/7_Juróom-Ñaar/pas_clean_50840209.m4a  --  621\n",
      "filesprocess:  ./CLEAN_WOLOF_FOR_MEMORY/7_Juróom-Ñaar/pas_clean_1608991.m4a  --  622\n",
      "filesprocess:  ./CLEAN_WOLOF_FOR_MEMORY/7_Juróom-Ñaar/pas_clean_39090515.m4a  --  623\n",
      "filesprocess:  ./CLEAN_WOLOF_FOR_MEMORY/7_Juróom-Ñaar/pas_clean_1184782.m4a  --  624\n",
      "filesprocess:  ./CLEAN_WOLOF_FOR_MEMORY/7_Juróom-Ñaar/pas_clean_4037599.m4a  --  625\n",
      "filesprocess:  ./CLEAN_WOLOF_FOR_MEMORY/7_Juróom-Ñaar/pas_clean_51973370.m4a  --  626\n",
      "filesprocess:  ./CLEAN_WOLOF_FOR_MEMORY/7_Juróom-Ñaar/pas_clean_48532913.m4a  --  627\n",
      "filesprocess:  ./CLEAN_WOLOF_FOR_MEMORY/7_Juróom-Ñaar/pas_clean_43246498.m4a  --  628\n",
      "filesprocess:  ./CLEAN_WOLOF_FOR_MEMORY/7_Juróom-Ñaar/pas_clean_35042624.m4a  --  629\n",
      "filesprocess:  ./CLEAN_WOLOF_FOR_MEMORY/7_Juróom-Ñaar/pas_clean_1038829.m4a  --  630\n",
      "filesprocess:  ./CLEAN_WOLOF_FOR_MEMORY/7_Juróom-Ñaar/pas_clean_54094133.m4a  --  631\n",
      "filesprocess:  ./CLEAN_WOLOF_FOR_MEMORY/7_Juróom-Ñaar/pas_clean_9677208.m4a  --  632\n",
      "filesprocess:  ./CLEAN_WOLOF_FOR_MEMORY/7_Juróom-Ñaar/pas_clean_33824912.m4a  --  633\n",
      "filesprocess:  ./CLEAN_WOLOF_FOR_MEMORY/7_Juróom-Ñaar/pas_clean_79916054.m4a  --  634\n",
      "filesprocess:  ./CLEAN_WOLOF_FOR_MEMORY/7_Juróom-Ñaar/pas_clean_63296582.m4a  --  635\n",
      "filesprocess:  ./CLEAN_WOLOF_FOR_MEMORY/7_Juróom-Ñaar/pas_clean_2122587.m4a  --  636\n",
      "filesprocess:  ./CLEAN_WOLOF_FOR_MEMORY/7_Juróom-Ñaar/pas_clean_31112159.m4a  --  637\n",
      "filesprocess:  ./CLEAN_WOLOF_FOR_MEMORY/7_Juróom-Ñaar/pas_clean_12179189.m4a  --  638\n",
      "filesprocess:  ./CLEAN_WOLOF_FOR_MEMORY/7_Juróom-Ñaar/pas_clean_73013823.m4a  --  639\n",
      "filesprocess:  ./CLEAN_WOLOF_FOR_MEMORY/7_Juróom-Ñaar/pas_clean_53795987.m4a  --  640\n",
      "filesprocess:  ./CLEAN_WOLOF_FOR_MEMORY/7_Juróom-Ñaar/pas_clean_53054848.m4a  --  641\n",
      "filesprocess:  ./CLEAN_WOLOF_FOR_MEMORY/7_Juróom-Ñaar/pas_clean_66655858.m4a  --  642\n",
      "filesprocess:  ./CLEAN_WOLOF_FOR_MEMORY/7_Juróom-Ñaar/pas_clean_85370225.m4a  --  643\n",
      "filesprocess:  ./CLEAN_WOLOF_FOR_MEMORY/7_Juróom-Ñaar/pas_clean_74400451.m4a  --  644\n",
      "filesprocess:  ./CLEAN_WOLOF_FOR_MEMORY/7_Juróom-Ñaar/pas_clean_72184539.m4a  --  645\n",
      "filesprocess:  ./CLEAN_WOLOF_FOR_MEMORY/7_Juróom-Ñaar/pas_clean_36240947.m4a  --  646\n",
      "filesprocess:  ./CLEAN_WOLOF_FOR_MEMORY/7_Juróom-Ñaar/pas_clean_84986086.m4a  --  647\n",
      "filesprocess:  ./CLEAN_WOLOF_FOR_MEMORY/7_Juróom-Ñaar/pas_clean_53862107.m4a  --  648\n",
      "filesprocess:  ./CLEAN_WOLOF_FOR_MEMORY/7_Juróom-Ñaar/pas_clean_5484482.m4a  --  649\n",
      "filesprocess:  ./CLEAN_WOLOF_FOR_MEMORY/7_Juróom-Ñaar/pas_clean_32161517.m4a  --  650\n"
     ]
    },
    {
     "name": "stderr",
     "output_type": "stream",
     "text": [
      "/home/ibrahimabarry01/anaconda3/lib/python3.8/site-packages/librosa/core/audio.py:162: UserWarning: PySoundFile failed. Trying audioread instead.\n",
      "  warnings.warn(\"PySoundFile failed. Trying audioread instead.\")\n"
     ]
    },
    {
     "name": "stdout",
     "output_type": "stream",
     "text": [
      "filesprocess:  ./CLEAN_WOLOF_FOR_MEMORY/7_Juróom-Ñaar/AUDIO-2021-05-25-07-42-16.m4a  --  651\n"
     ]
    },
    {
     "name": "stderr",
     "output_type": "stream",
     "text": [
      "/home/ibrahimabarry01/anaconda3/lib/python3.8/site-packages/librosa/core/audio.py:162: UserWarning: PySoundFile failed. Trying audioread instead.\n",
      "  warnings.warn(\"PySoundFile failed. Trying audioread instead.\")\n"
     ]
    },
    {
     "name": "stdout",
     "output_type": "stream",
     "text": [
      "filesprocess:  ./CLEAN_WOLOF_FOR_MEMORY/7_Juróom-Ñaar/AUDIO-2021-05-25-06-52-36.m4a  --  652\n"
     ]
    },
    {
     "name": "stderr",
     "output_type": "stream",
     "text": [
      "/home/ibrahimabarry01/anaconda3/lib/python3.8/site-packages/librosa/core/audio.py:162: UserWarning: PySoundFile failed. Trying audioread instead.\n",
      "  warnings.warn(\"PySoundFile failed. Trying audioread instead.\")\n"
     ]
    },
    {
     "name": "stdout",
     "output_type": "stream",
     "text": [
      "filesprocess:  ./CLEAN_WOLOF_FOR_MEMORY/7_Juróom-Ñaar/AUDIO-2021-05-25-06-56-57.m4a  --  653\n"
     ]
    },
    {
     "name": "stderr",
     "output_type": "stream",
     "text": [
      "/home/ibrahimabarry01/anaconda3/lib/python3.8/site-packages/librosa/core/audio.py:162: UserWarning: PySoundFile failed. Trying audioread instead.\n",
      "  warnings.warn(\"PySoundFile failed. Trying audioread instead.\")\n"
     ]
    },
    {
     "name": "stdout",
     "output_type": "stream",
     "text": [
      "filesprocess:  ./CLEAN_WOLOF_FOR_MEMORY/7_Juróom-Ñaar/AUDIO-2021-05-25-06-57-07.m4a  --  654\n",
      "filesprocess:  ./CLEAN_WOLOF_FOR_MEMORY/7_Juróom-Ñaar/pas_clean_84986086 (copie).m4a  --  655\n"
     ]
    },
    {
     "name": "stderr",
     "output_type": "stream",
     "text": [
      "/home/ibrahimabarry01/anaconda3/lib/python3.8/site-packages/librosa/core/audio.py:162: UserWarning: PySoundFile failed. Trying audioread instead.\n",
      "  warnings.warn(\"PySoundFile failed. Trying audioread instead.\")\n"
     ]
    },
    {
     "name": "stdout",
     "output_type": "stream",
     "text": [
      "filesprocess:  ./CLEAN_WOLOF_FOR_MEMORY/7_Juróom-Ñaar/AUDIO-2021-05-25-14-55-34.m4a  --  656\n",
      "filesprocess:  ./CLEAN_WOLOF_FOR_MEMORY/7_Juróom-Ñaar/pas_clean_91669477rock.m4a  --  657\n",
      "filesprocess:  ./CLEAN_WOLOF_FOR_MEMORY/7_Juróom-Ñaar/pas_clean_91669477mince.m4a  --  658\n",
      "filesprocess:  ./CLEAN_WOLOF_FOR_MEMORY/7_Juróom-Ñaar/pas_clean_81516245rock.m4a  --  659\n",
      "filesprocess:  ./CLEAN_WOLOF_FOR_MEMORY/7_Juróom-Ñaar/pas_clean_81516245mince.m4a  --  660\n",
      "filesprocess:  ./CLEAN_WOLOF_FOR_MEMORY/7_Juróom-Ñaar/pas_clean_96175733rock.m4a  --  661\n",
      "filesprocess:  ./CLEAN_WOLOF_FOR_MEMORY/7_Juróom-Ñaar/pas_clean_96175733mince.m4a  --  662\n",
      "filesprocess:  ./CLEAN_WOLOF_FOR_MEMORY/7_Juróom-Ñaar/pas_clean_8006631rock.m4a  --  663\n",
      "filesprocess:  ./CLEAN_WOLOF_FOR_MEMORY/7_Juróom-Ñaar/pas_clean_8006631mince.m4a  --  664\n",
      "filesprocess:  ./CLEAN_WOLOF_FOR_MEMORY/7_Juróom-Ñaar/pas_clean_66976032rock.m4a  --  665\n",
      "filesprocess:  ./CLEAN_WOLOF_FOR_MEMORY/7_Juróom-Ñaar/pas_clean_66976032mince.m4a  --  666\n",
      "filesprocess:  ./CLEAN_WOLOF_FOR_MEMORY/7_Juróom-Ñaar/pas_clean_50840209rock.m4a  --  667\n",
      "filesprocess:  ./CLEAN_WOLOF_FOR_MEMORY/7_Juróom-Ñaar/pas_clean_50840209mince.m4a  --  668\n",
      "filesprocess:  ./CLEAN_WOLOF_FOR_MEMORY/7_Juróom-Ñaar/pas_clean_1608991rock.m4a  --  669\n",
      "filesprocess:  ./CLEAN_WOLOF_FOR_MEMORY/7_Juróom-Ñaar/pas_clean_1608991mince.m4a  --  670\n",
      "filesprocess:  ./CLEAN_WOLOF_FOR_MEMORY/7_Juróom-Ñaar/pas_clean_39090515rock.m4a  --  671\n",
      "filesprocess:  ./CLEAN_WOLOF_FOR_MEMORY/7_Juróom-Ñaar/pas_clean_39090515mince.m4a  --  672\n",
      "filesprocess:  ./CLEAN_WOLOF_FOR_MEMORY/7_Juróom-Ñaar/pas_clean_1184782rock.m4a  --  673\n",
      "filesprocess:  ./CLEAN_WOLOF_FOR_MEMORY/7_Juróom-Ñaar/pas_clean_1184782mince.m4a  --  674\n",
      "filesprocess:  ./CLEAN_WOLOF_FOR_MEMORY/7_Juróom-Ñaar/pas_clean_4037599rock.m4a  --  675\n",
      "filesprocess:  ./CLEAN_WOLOF_FOR_MEMORY/7_Juróom-Ñaar/pas_clean_4037599mince.m4a  --  676\n",
      "filesprocess:  ./CLEAN_WOLOF_FOR_MEMORY/7_Juróom-Ñaar/pas_clean_51973370rock.m4a  --  677\n",
      "filesprocess:  ./CLEAN_WOLOF_FOR_MEMORY/7_Juróom-Ñaar/pas_clean_51973370mince.m4a  --  678\n",
      "filesprocess:  ./CLEAN_WOLOF_FOR_MEMORY/7_Juróom-Ñaar/pas_clean_48532913rock.m4a  --  679\n",
      "filesprocess:  ./CLEAN_WOLOF_FOR_MEMORY/7_Juróom-Ñaar/pas_clean_48532913mince.m4a  --  680\n",
      "filesprocess:  ./CLEAN_WOLOF_FOR_MEMORY/7_Juróom-Ñaar/pas_clean_43246498rock.m4a  --  681\n",
      "filesprocess:  ./CLEAN_WOLOF_FOR_MEMORY/7_Juróom-Ñaar/pas_clean_43246498mince.m4a  --  682\n",
      "filesprocess:  ./CLEAN_WOLOF_FOR_MEMORY/7_Juróom-Ñaar/pas_clean_35042624rock.m4a  --  683\n",
      "filesprocess:  ./CLEAN_WOLOF_FOR_MEMORY/7_Juróom-Ñaar/pas_clean_35042624mince.m4a  --  684\n",
      "filesprocess:  ./CLEAN_WOLOF_FOR_MEMORY/7_Juróom-Ñaar/pas_clean_1038829rock.m4a  --  685\n",
      "filesprocess:  ./CLEAN_WOLOF_FOR_MEMORY/7_Juróom-Ñaar/pas_clean_1038829mince.m4a  --  686\n",
      "filesprocess:  ./CLEAN_WOLOF_FOR_MEMORY/7_Juróom-Ñaar/pas_clean_54094133rock.m4a  --  687\n",
      "filesprocess:  ./CLEAN_WOLOF_FOR_MEMORY/7_Juróom-Ñaar/pas_clean_54094133mince.m4a  --  688\n",
      "filesprocess:  ./CLEAN_WOLOF_FOR_MEMORY/7_Juróom-Ñaar/pas_clean_9677208rock.m4a  --  689\n",
      "filesprocess:  ./CLEAN_WOLOF_FOR_MEMORY/7_Juróom-Ñaar/pas_clean_9677208mince.m4a  --  690\n",
      "filesprocess:  ./CLEAN_WOLOF_FOR_MEMORY/7_Juróom-Ñaar/pas_clean_33824912rock.m4a  --  691\n",
      "filesprocess:  ./CLEAN_WOLOF_FOR_MEMORY/7_Juróom-Ñaar/pas_clean_33824912mince.m4a  --  692\n",
      "filesprocess:  ./CLEAN_WOLOF_FOR_MEMORY/7_Juróom-Ñaar/pas_clean_79916054rock.m4a  --  693\n",
      "filesprocess:  ./CLEAN_WOLOF_FOR_MEMORY/7_Juróom-Ñaar/pas_clean_79916054mince.m4a  --  694\n",
      "filesprocess:  ./CLEAN_WOLOF_FOR_MEMORY/7_Juróom-Ñaar/pas_clean_63296582rock.m4a  --  695\n",
      "filesprocess:  ./CLEAN_WOLOF_FOR_MEMORY/7_Juróom-Ñaar/pas_clean_63296582mince.m4a  --  696\n",
      "filesprocess:  ./CLEAN_WOLOF_FOR_MEMORY/7_Juróom-Ñaar/pas_clean_2122587rock.m4a  --  697\n",
      "filesprocess:  ./CLEAN_WOLOF_FOR_MEMORY/7_Juróom-Ñaar/pas_clean_2122587mince.m4a  --  698\n",
      "filesprocess:  ./CLEAN_WOLOF_FOR_MEMORY/7_Juróom-Ñaar/pas_clean_31112159rock.m4a  --  699\n",
      "filesprocess:  ./CLEAN_WOLOF_FOR_MEMORY/7_Juróom-Ñaar/pas_clean_31112159mince.m4a  --  700\n",
      "filesprocess:  ./CLEAN_WOLOF_FOR_MEMORY/7_Juróom-Ñaar/pas_clean_12179189rock.m4a  --  701\n",
      "filesprocess:  ./CLEAN_WOLOF_FOR_MEMORY/7_Juróom-Ñaar/pas_clean_12179189mince.m4a  --  702\n",
      "filesprocess:  ./CLEAN_WOLOF_FOR_MEMORY/7_Juróom-Ñaar/pas_clean_73013823rock.m4a  --  703\n",
      "filesprocess:  ./CLEAN_WOLOF_FOR_MEMORY/7_Juróom-Ñaar/pas_clean_73013823mince.m4a  --  704\n",
      "filesprocess:  ./CLEAN_WOLOF_FOR_MEMORY/7_Juróom-Ñaar/pas_clean_53795987rock.m4a  --  705\n",
      "filesprocess:  ./CLEAN_WOLOF_FOR_MEMORY/7_Juróom-Ñaar/pas_clean_53795987mince.m4a  --  706\n",
      "filesprocess:  ./CLEAN_WOLOF_FOR_MEMORY/7_Juróom-Ñaar/pas_clean_53054848rock.m4a  --  707\n",
      "filesprocess:  ./CLEAN_WOLOF_FOR_MEMORY/7_Juróom-Ñaar/pas_clean_53054848mince.m4a  --  708\n",
      "filesprocess:  ./CLEAN_WOLOF_FOR_MEMORY/7_Juróom-Ñaar/pas_clean_66655858rock.m4a  --  709\n",
      "filesprocess:  ./CLEAN_WOLOF_FOR_MEMORY/7_Juróom-Ñaar/pas_clean_66655858mince.m4a  --  710\n",
      "filesprocess:  ./CLEAN_WOLOF_FOR_MEMORY/7_Juróom-Ñaar/pas_clean_85370225rock.m4a  --  711\n",
      "filesprocess:  ./CLEAN_WOLOF_FOR_MEMORY/7_Juróom-Ñaar/pas_clean_85370225mince.m4a  --  712\n",
      "filesprocess:  ./CLEAN_WOLOF_FOR_MEMORY/7_Juróom-Ñaar/pas_clean_74400451rock.m4a  --  713\n",
      "filesprocess:  ./CLEAN_WOLOF_FOR_MEMORY/7_Juróom-Ñaar/pas_clean_74400451mince.m4a  --  714\n",
      "filesprocess:  ./CLEAN_WOLOF_FOR_MEMORY/7_Juróom-Ñaar/pas_clean_72184539rock.m4a  --  715\n",
      "filesprocess:  ./CLEAN_WOLOF_FOR_MEMORY/7_Juróom-Ñaar/pas_clean_72184539mince.m4a  --  716\n",
      "filesprocess:  ./CLEAN_WOLOF_FOR_MEMORY/7_Juróom-Ñaar/pas_clean_36240947rock.m4a  --  717\n",
      "filesprocess:  ./CLEAN_WOLOF_FOR_MEMORY/7_Juróom-Ñaar/pas_clean_36240947mince.m4a  --  718\n",
      "filesprocess:  ./CLEAN_WOLOF_FOR_MEMORY/7_Juróom-Ñaar/pas_clean_84986086rock.m4a  --  719\n",
      "filesprocess:  ./CLEAN_WOLOF_FOR_MEMORY/7_Juróom-Ñaar/pas_clean_84986086mince.m4a  --  720\n",
      "filesprocess:  ./CLEAN_WOLOF_FOR_MEMORY/7_Juróom-Ñaar/pas_clean_53862107rock.m4a  --  721\n",
      "filesprocess:  ./CLEAN_WOLOF_FOR_MEMORY/7_Juróom-Ñaar/pas_clean_53862107mince.m4a  --  722\n",
      "filesprocess:  ./CLEAN_WOLOF_FOR_MEMORY/7_Juróom-Ñaar/pas_clean_5484482rock.m4a  --  723\n",
      "filesprocess:  ./CLEAN_WOLOF_FOR_MEMORY/7_Juróom-Ñaar/pas_clean_5484482mince.m4a  --  724\n",
      "filesprocess:  ./CLEAN_WOLOF_FOR_MEMORY/7_Juróom-Ñaar/pas_clean_32161517rock.m4a  --  725\n",
      "filesprocess:  ./CLEAN_WOLOF_FOR_MEMORY/7_Juróom-Ñaar/pas_clean_32161517mince.m4a  --  726\n",
      "filesprocess:  ./CLEAN_WOLOF_FOR_MEMORY/7_Juróom-Ñaar/AUDIO-2021-05-25-07-42-16rock.m4a  --  727\n",
      "filesprocess:  ./CLEAN_WOLOF_FOR_MEMORY/7_Juróom-Ñaar/AUDIO-2021-05-25-07-42-16mince.m4a  --  728\n",
      "filesprocess:  ./CLEAN_WOLOF_FOR_MEMORY/7_Juróom-Ñaar/AUDIO-2021-05-25-06-52-36rock.m4a  --  729\n",
      "filesprocess:  ./CLEAN_WOLOF_FOR_MEMORY/7_Juróom-Ñaar/AUDIO-2021-05-25-06-52-36mince.m4a  --  730\n",
      "filesprocess:  ./CLEAN_WOLOF_FOR_MEMORY/7_Juróom-Ñaar/AUDIO-2021-05-25-06-56-57rock.m4a  --  731\n",
      "filesprocess:  ./CLEAN_WOLOF_FOR_MEMORY/7_Juróom-Ñaar/AUDIO-2021-05-25-06-56-57mince.m4a  --  732\n",
      "filesprocess:  ./CLEAN_WOLOF_FOR_MEMORY/7_Juróom-Ñaar/AUDIO-2021-05-25-06-57-07rock.m4a  --  733\n",
      "filesprocess:  ./CLEAN_WOLOF_FOR_MEMORY/7_Juróom-Ñaar/AUDIO-2021-05-25-06-57-07mince.m4a  --  734\n",
      "filesprocess:  ./CLEAN_WOLOF_FOR_MEMORY/7_Juróom-Ñaar/pas_clean_84986086 (copie)rock.m4a  --  735\n",
      "filesprocess:  ./CLEAN_WOLOF_FOR_MEMORY/7_Juróom-Ñaar/pas_clean_84986086 (copie)mince.m4a  --  736\n",
      "filesprocess:  ./CLEAN_WOLOF_FOR_MEMORY/7_Juróom-Ñaar/AUDIO-2021-05-25-14-55-34rock.m4a  --  737\n",
      "filesprocess:  ./CLEAN_WOLOF_FOR_MEMORY/7_Juróom-Ñaar/AUDIO-2021-05-25-14-55-34mince.m4a  --  738\n",
      "./CLEAN_WOLOF_FOR_MEMORY/1_Benn\n",
      "filesprocess:  ./CLEAN_WOLOF_FOR_MEMORY/1_Benn/pas_clean_97872106.m4a  --  739\n",
      "filesprocess:  ./CLEAN_WOLOF_FOR_MEMORY/1_Benn/pas_clean_55756140.m4a  --  740\n",
      "filesprocess:  ./CLEAN_WOLOF_FOR_MEMORY/1_Benn/pas_clean_3924240.m4a  --  741\n",
      "filesprocess:  ./CLEAN_WOLOF_FOR_MEMORY/1_Benn/pas_clean_10619459.m4a  --  742\n",
      "filesprocess:  ./CLEAN_WOLOF_FOR_MEMORY/1_Benn/pas_clean_10780504.m4a  --  743\n",
      "filesprocess:  ./CLEAN_WOLOF_FOR_MEMORY/1_Benn/pas_clean_33360066.m4a  --  744\n",
      "filesprocess:  ./CLEAN_WOLOF_FOR_MEMORY/1_Benn/pas_clean_87747079.m4a  --  745\n",
      "filesprocess:  ./CLEAN_WOLOF_FOR_MEMORY/1_Benn/pas_clean_98555098.m4a  --  746\n",
      "filesprocess:  ./CLEAN_WOLOF_FOR_MEMORY/1_Benn/pas_clean_66292085.m4a  --  747\n",
      "filesprocess:  ./CLEAN_WOLOF_FOR_MEMORY/1_Benn/pas_clean_42051052.m4a  --  748\n",
      "filesprocess:  ./CLEAN_WOLOF_FOR_MEMORY/1_Benn/pas_clean_80281631.m4a  --  749\n",
      "filesprocess:  ./CLEAN_WOLOF_FOR_MEMORY/1_Benn/pas_clean_21521738.m4a  --  750\n",
      "filesprocess:  ./CLEAN_WOLOF_FOR_MEMORY/1_Benn/pas_clean_37366254.m4a  --  751\n",
      "filesprocess:  ./CLEAN_WOLOF_FOR_MEMORY/1_Benn/pas_clean_8499150.m4a  --  752\n",
      "filesprocess:  ./CLEAN_WOLOF_FOR_MEMORY/1_Benn/pas_clean_71477086.m4a  --  753\n",
      "filesprocess:  ./CLEAN_WOLOF_FOR_MEMORY/1_Benn/pas_clean_43163312.m4a  --  754\n",
      "filesprocess:  ./CLEAN_WOLOF_FOR_MEMORY/1_Benn/pas_clean_34813199.m4a  --  755\n",
      "filesprocess:  ./CLEAN_WOLOF_FOR_MEMORY/1_Benn/pas_clean_52941789.m4a  --  756\n",
      "filesprocess:  ./CLEAN_WOLOF_FOR_MEMORY/1_Benn/pas_clean_5358881.m4a  --  757\n",
      "filesprocess:  ./CLEAN_WOLOF_FOR_MEMORY/1_Benn/pas_clean_7890816.m4a  --  758\n",
      "filesprocess:  ./CLEAN_WOLOF_FOR_MEMORY/1_Benn/pas_clean_62944063.m4a  --  759\n",
      "filesprocess:  ./CLEAN_WOLOF_FOR_MEMORY/1_Benn/pas_clean_2665261.m4a  --  760\n",
      "filesprocess:  ./CLEAN_WOLOF_FOR_MEMORY/1_Benn/pas_clean_26702186.m4a  --  761\n",
      "filesprocess:  ./CLEAN_WOLOF_FOR_MEMORY/1_Benn/pas_clean_78243339.m4a  --  762\n",
      "filesprocess:  ./CLEAN_WOLOF_FOR_MEMORY/1_Benn/pas_clean_6946085.m4a  --  763\n",
      "filesprocess:  ./CLEAN_WOLOF_FOR_MEMORY/1_Benn/pas_clean_93642678.m4a  --  764\n",
      "filesprocess:  ./CLEAN_WOLOF_FOR_MEMORY/1_Benn/pas_clean_62331218.m4a  --  765\n",
      "filesprocess:  ./CLEAN_WOLOF_FOR_MEMORY/1_Benn/pas_clean_69864365.m4a  --  766\n",
      "filesprocess:  ./CLEAN_WOLOF_FOR_MEMORY/1_Benn/pas_clean_50991180.m4a  --  767\n",
      "filesprocess:  ./CLEAN_WOLOF_FOR_MEMORY/1_Benn/pas_clean_13738833.m4a  --  768\n",
      "filesprocess:  ./CLEAN_WOLOF_FOR_MEMORY/1_Benn/pas_clean_77699108.m4a  --  769\n",
      "filesprocess:  ./CLEAN_WOLOF_FOR_MEMORY/1_Benn/pas_clean_24334254.m4a  --  770\n",
      "filesprocess:  ./CLEAN_WOLOF_FOR_MEMORY/1_Benn/pas_clean_9239877.m4a  --  771\n",
      "filesprocess:  ./CLEAN_WOLOF_FOR_MEMORY/1_Benn/pas_clean_85585755.m4a  --  772\n",
      "filesprocess:  ./CLEAN_WOLOF_FOR_MEMORY/1_Benn/pas_clean_47353094.m4a  --  773\n"
     ]
    },
    {
     "name": "stderr",
     "output_type": "stream",
     "text": [
      "/home/ibrahimabarry01/anaconda3/lib/python3.8/site-packages/librosa/core/audio.py:162: UserWarning: PySoundFile failed. Trying audioread instead.\n",
      "  warnings.warn(\"PySoundFile failed. Trying audioread instead.\")\n"
     ]
    },
    {
     "name": "stdout",
     "output_type": "stream",
     "text": [
      "filesprocess:  ./CLEAN_WOLOF_FOR_MEMORY/1_Benn/AUDIO-2021-05-25-07-41-15.m4a  --  774\n"
     ]
    },
    {
     "name": "stderr",
     "output_type": "stream",
     "text": [
      "/home/ibrahimabarry01/anaconda3/lib/python3.8/site-packages/librosa/core/audio.py:162: UserWarning: PySoundFile failed. Trying audioread instead.\n",
      "  warnings.warn(\"PySoundFile failed. Trying audioread instead.\")\n"
     ]
    },
    {
     "name": "stdout",
     "output_type": "stream",
     "text": [
      "filesprocess:  ./CLEAN_WOLOF_FOR_MEMORY/1_Benn/AUDIO-2021-05-25-06-51-56.m4a  --  775\n"
     ]
    },
    {
     "name": "stderr",
     "output_type": "stream",
     "text": [
      "/home/ibrahimabarry01/anaconda3/lib/python3.8/site-packages/librosa/core/audio.py:162: UserWarning: PySoundFile failed. Trying audioread instead.\n",
      "  warnings.warn(\"PySoundFile failed. Trying audioread instead.\")\n"
     ]
    },
    {
     "name": "stdout",
     "output_type": "stream",
     "text": [
      "filesprocess:  ./CLEAN_WOLOF_FOR_MEMORY/1_Benn/AUDIO-2021-05-25-06-53-08.m4a  --  776\n"
     ]
    },
    {
     "name": "stderr",
     "output_type": "stream",
     "text": [
      "/home/ibrahimabarry01/anaconda3/lib/python3.8/site-packages/librosa/core/audio.py:162: UserWarning: PySoundFile failed. Trying audioread instead.\n",
      "  warnings.warn(\"PySoundFile failed. Trying audioread instead.\")\n"
     ]
    },
    {
     "name": "stdout",
     "output_type": "stream",
     "text": [
      "filesprocess:  ./CLEAN_WOLOF_FOR_MEMORY/1_Benn/AUDIO-2021-05-25-06-53-14.m4a  --  777\n"
     ]
    },
    {
     "name": "stderr",
     "output_type": "stream",
     "text": [
      "/home/ibrahimabarry01/anaconda3/lib/python3.8/site-packages/librosa/core/audio.py:162: UserWarning: PySoundFile failed. Trying audioread instead.\n",
      "  warnings.warn(\"PySoundFile failed. Trying audioread instead.\")\n"
     ]
    },
    {
     "name": "stdout",
     "output_type": "stream",
     "text": [
      "filesprocess:  ./CLEAN_WOLOF_FOR_MEMORY/1_Benn/AUDIO-2021-05-25-06-53-21.m4a  --  778\n"
     ]
    },
    {
     "name": "stderr",
     "output_type": "stream",
     "text": [
      "/home/ibrahimabarry01/anaconda3/lib/python3.8/site-packages/librosa/core/audio.py:162: UserWarning: PySoundFile failed. Trying audioread instead.\n",
      "  warnings.warn(\"PySoundFile failed. Trying audioread instead.\")\n"
     ]
    },
    {
     "name": "stdout",
     "output_type": "stream",
     "text": [
      "filesprocess:  ./CLEAN_WOLOF_FOR_MEMORY/1_Benn/AUDIO-2021-05-25-14-54-37.m4a  --  779\n",
      "filesprocess:  ./CLEAN_WOLOF_FOR_MEMORY/1_Benn/pas_clean_97872106rock.m4a  --  780\n",
      "filesprocess:  ./CLEAN_WOLOF_FOR_MEMORY/1_Benn/pas_clean_97872106mince.m4a  --  781\n",
      "filesprocess:  ./CLEAN_WOLOF_FOR_MEMORY/1_Benn/pas_clean_55756140rock.m4a  --  782\n",
      "filesprocess:  ./CLEAN_WOLOF_FOR_MEMORY/1_Benn/pas_clean_55756140mince.m4a  --  783\n",
      "filesprocess:  ./CLEAN_WOLOF_FOR_MEMORY/1_Benn/pas_clean_3924240rock.m4a  --  784\n",
      "filesprocess:  ./CLEAN_WOLOF_FOR_MEMORY/1_Benn/pas_clean_3924240mince.m4a  --  785\n",
      "filesprocess:  ./CLEAN_WOLOF_FOR_MEMORY/1_Benn/pas_clean_10619459rock.m4a  --  786\n",
      "filesprocess:  ./CLEAN_WOLOF_FOR_MEMORY/1_Benn/pas_clean_10619459mince.m4a  --  787\n",
      "filesprocess:  ./CLEAN_WOLOF_FOR_MEMORY/1_Benn/pas_clean_10780504rock.m4a  --  788\n",
      "filesprocess:  ./CLEAN_WOLOF_FOR_MEMORY/1_Benn/pas_clean_10780504mince.m4a  --  789\n",
      "filesprocess:  ./CLEAN_WOLOF_FOR_MEMORY/1_Benn/pas_clean_33360066rock.m4a  --  790\n",
      "filesprocess:  ./CLEAN_WOLOF_FOR_MEMORY/1_Benn/pas_clean_33360066mince.m4a  --  791\n",
      "filesprocess:  ./CLEAN_WOLOF_FOR_MEMORY/1_Benn/pas_clean_87747079rock.m4a  --  792\n",
      "filesprocess:  ./CLEAN_WOLOF_FOR_MEMORY/1_Benn/pas_clean_87747079mince.m4a  --  793\n",
      "filesprocess:  ./CLEAN_WOLOF_FOR_MEMORY/1_Benn/pas_clean_98555098rock.m4a  --  794\n",
      "filesprocess:  ./CLEAN_WOLOF_FOR_MEMORY/1_Benn/pas_clean_98555098mince.m4a  --  795\n",
      "filesprocess:  ./CLEAN_WOLOF_FOR_MEMORY/1_Benn/pas_clean_66292085rock.m4a  --  796\n",
      "filesprocess:  ./CLEAN_WOLOF_FOR_MEMORY/1_Benn/pas_clean_66292085mince.m4a  --  797\n",
      "filesprocess:  ./CLEAN_WOLOF_FOR_MEMORY/1_Benn/pas_clean_42051052rock.m4a  --  798\n",
      "filesprocess:  ./CLEAN_WOLOF_FOR_MEMORY/1_Benn/pas_clean_42051052mince.m4a  --  799\n",
      "filesprocess:  ./CLEAN_WOLOF_FOR_MEMORY/1_Benn/pas_clean_80281631rock.m4a  --  800\n",
      "filesprocess:  ./CLEAN_WOLOF_FOR_MEMORY/1_Benn/pas_clean_80281631mince.m4a  --  801\n",
      "filesprocess:  ./CLEAN_WOLOF_FOR_MEMORY/1_Benn/pas_clean_21521738rock.m4a  --  802\n",
      "filesprocess:  ./CLEAN_WOLOF_FOR_MEMORY/1_Benn/pas_clean_21521738mince.m4a  --  803\n",
      "filesprocess:  ./CLEAN_WOLOF_FOR_MEMORY/1_Benn/pas_clean_37366254rock.m4a  --  804\n",
      "filesprocess:  ./CLEAN_WOLOF_FOR_MEMORY/1_Benn/pas_clean_37366254mince.m4a  --  805\n",
      "filesprocess:  ./CLEAN_WOLOF_FOR_MEMORY/1_Benn/pas_clean_8499150rock.m4a  --  806\n",
      "filesprocess:  ./CLEAN_WOLOF_FOR_MEMORY/1_Benn/pas_clean_8499150mince.m4a  --  807\n",
      "filesprocess:  ./CLEAN_WOLOF_FOR_MEMORY/1_Benn/pas_clean_71477086rock.m4a  --  808\n",
      "filesprocess:  ./CLEAN_WOLOF_FOR_MEMORY/1_Benn/pas_clean_71477086mince.m4a  --  809\n",
      "filesprocess:  ./CLEAN_WOLOF_FOR_MEMORY/1_Benn/pas_clean_43163312rock.m4a  --  810\n",
      "filesprocess:  ./CLEAN_WOLOF_FOR_MEMORY/1_Benn/pas_clean_43163312mince.m4a  --  811\n",
      "filesprocess:  ./CLEAN_WOLOF_FOR_MEMORY/1_Benn/pas_clean_34813199rock.m4a  --  812\n",
      "filesprocess:  ./CLEAN_WOLOF_FOR_MEMORY/1_Benn/pas_clean_34813199mince.m4a  --  813\n",
      "filesprocess:  ./CLEAN_WOLOF_FOR_MEMORY/1_Benn/pas_clean_52941789rock.m4a  --  814\n",
      "filesprocess:  ./CLEAN_WOLOF_FOR_MEMORY/1_Benn/pas_clean_52941789mince.m4a  --  815\n",
      "filesprocess:  ./CLEAN_WOLOF_FOR_MEMORY/1_Benn/pas_clean_5358881rock.m4a  --  816\n",
      "filesprocess:  ./CLEAN_WOLOF_FOR_MEMORY/1_Benn/pas_clean_5358881mince.m4a  --  817\n",
      "filesprocess:  ./CLEAN_WOLOF_FOR_MEMORY/1_Benn/pas_clean_7890816rock.m4a  --  818\n",
      "filesprocess:  ./CLEAN_WOLOF_FOR_MEMORY/1_Benn/pas_clean_7890816mince.m4a  --  819\n",
      "filesprocess:  ./CLEAN_WOLOF_FOR_MEMORY/1_Benn/pas_clean_62944063rock.m4a  --  820\n",
      "filesprocess:  ./CLEAN_WOLOF_FOR_MEMORY/1_Benn/pas_clean_62944063mince.m4a  --  821\n",
      "filesprocess:  ./CLEAN_WOLOF_FOR_MEMORY/1_Benn/pas_clean_2665261rock.m4a  --  822\n",
      "filesprocess:  ./CLEAN_WOLOF_FOR_MEMORY/1_Benn/pas_clean_2665261mince.m4a  --  823\n",
      "filesprocess:  ./CLEAN_WOLOF_FOR_MEMORY/1_Benn/pas_clean_26702186rock.m4a  --  824\n",
      "filesprocess:  ./CLEAN_WOLOF_FOR_MEMORY/1_Benn/pas_clean_26702186mince.m4a  --  825\n",
      "filesprocess:  ./CLEAN_WOLOF_FOR_MEMORY/1_Benn/pas_clean_78243339rock.m4a  --  826\n",
      "filesprocess:  ./CLEAN_WOLOF_FOR_MEMORY/1_Benn/pas_clean_78243339mince.m4a  --  827\n",
      "filesprocess:  ./CLEAN_WOLOF_FOR_MEMORY/1_Benn/pas_clean_6946085rock.m4a  --  828\n",
      "filesprocess:  ./CLEAN_WOLOF_FOR_MEMORY/1_Benn/pas_clean_6946085mince.m4a  --  829\n",
      "filesprocess:  ./CLEAN_WOLOF_FOR_MEMORY/1_Benn/pas_clean_93642678rock.m4a  --  830\n",
      "filesprocess:  ./CLEAN_WOLOF_FOR_MEMORY/1_Benn/pas_clean_93642678mince.m4a  --  831\n",
      "filesprocess:  ./CLEAN_WOLOF_FOR_MEMORY/1_Benn/pas_clean_62331218rock.m4a  --  832\n",
      "filesprocess:  ./CLEAN_WOLOF_FOR_MEMORY/1_Benn/pas_clean_62331218mince.m4a  --  833\n",
      "filesprocess:  ./CLEAN_WOLOF_FOR_MEMORY/1_Benn/pas_clean_69864365rock.m4a  --  834\n",
      "filesprocess:  ./CLEAN_WOLOF_FOR_MEMORY/1_Benn/pas_clean_69864365mince.m4a  --  835\n",
      "filesprocess:  ./CLEAN_WOLOF_FOR_MEMORY/1_Benn/pas_clean_50991180rock.m4a  --  836\n",
      "filesprocess:  ./CLEAN_WOLOF_FOR_MEMORY/1_Benn/pas_clean_50991180mince.m4a  --  837\n",
      "filesprocess:  ./CLEAN_WOLOF_FOR_MEMORY/1_Benn/pas_clean_13738833rock.m4a  --  838\n",
      "filesprocess:  ./CLEAN_WOLOF_FOR_MEMORY/1_Benn/pas_clean_13738833mince.m4a  --  839\n",
      "filesprocess:  ./CLEAN_WOLOF_FOR_MEMORY/1_Benn/pas_clean_77699108rock.m4a  --  840\n",
      "filesprocess:  ./CLEAN_WOLOF_FOR_MEMORY/1_Benn/pas_clean_77699108mince.m4a  --  841\n",
      "filesprocess:  ./CLEAN_WOLOF_FOR_MEMORY/1_Benn/pas_clean_24334254rock.m4a  --  842\n",
      "filesprocess:  ./CLEAN_WOLOF_FOR_MEMORY/1_Benn/pas_clean_24334254mince.m4a  --  843\n",
      "filesprocess:  ./CLEAN_WOLOF_FOR_MEMORY/1_Benn/pas_clean_9239877rock.m4a  --  844\n",
      "filesprocess:  ./CLEAN_WOLOF_FOR_MEMORY/1_Benn/pas_clean_9239877mince.m4a  --  845\n",
      "filesprocess:  ./CLEAN_WOLOF_FOR_MEMORY/1_Benn/pas_clean_85585755rock.m4a  --  846\n",
      "filesprocess:  ./CLEAN_WOLOF_FOR_MEMORY/1_Benn/pas_clean_85585755mince.m4a  --  847\n",
      "filesprocess:  ./CLEAN_WOLOF_FOR_MEMORY/1_Benn/pas_clean_47353094rock.m4a  --  848\n",
      "filesprocess:  ./CLEAN_WOLOF_FOR_MEMORY/1_Benn/pas_clean_47353094mince.m4a  --  849\n",
      "filesprocess:  ./CLEAN_WOLOF_FOR_MEMORY/1_Benn/AUDIO-2021-05-25-07-41-15rock.m4a  --  850\n",
      "filesprocess:  ./CLEAN_WOLOF_FOR_MEMORY/1_Benn/AUDIO-2021-05-25-07-41-15mince.m4a  --  851\n",
      "filesprocess:  ./CLEAN_WOLOF_FOR_MEMORY/1_Benn/AUDIO-2021-05-25-06-51-56rock.m4a  --  852\n",
      "filesprocess:  ./CLEAN_WOLOF_FOR_MEMORY/1_Benn/AUDIO-2021-05-25-06-51-56mince.m4a  --  853\n",
      "filesprocess:  ./CLEAN_WOLOF_FOR_MEMORY/1_Benn/AUDIO-2021-05-25-06-53-08rock.m4a  --  854\n",
      "filesprocess:  ./CLEAN_WOLOF_FOR_MEMORY/1_Benn/AUDIO-2021-05-25-06-53-08mince.m4a  --  855\n",
      "filesprocess:  ./CLEAN_WOLOF_FOR_MEMORY/1_Benn/AUDIO-2021-05-25-06-53-14rock.m4a  --  856\n",
      "filesprocess:  ./CLEAN_WOLOF_FOR_MEMORY/1_Benn/AUDIO-2021-05-25-06-53-14mince.m4a  --  857\n",
      "filesprocess:  ./CLEAN_WOLOF_FOR_MEMORY/1_Benn/AUDIO-2021-05-25-06-53-21rock.m4a  --  858\n",
      "filesprocess:  ./CLEAN_WOLOF_FOR_MEMORY/1_Benn/AUDIO-2021-05-25-06-53-21mince.m4a  --  859\n",
      "filesprocess:  ./CLEAN_WOLOF_FOR_MEMORY/1_Benn/AUDIO-2021-05-25-14-54-37rock.m4a  --  860\n",
      "filesprocess:  ./CLEAN_WOLOF_FOR_MEMORY/1_Benn/AUDIO-2021-05-25-14-54-37mince.m4a  --  861\n",
      "./CLEAN_WOLOF_FOR_MEMORY/9_Juróom-Ñent\n",
      "filesprocess:  ./CLEAN_WOLOF_FOR_MEMORY/9_Juróom-Ñent/pas_clean_14821444.m4a  --  862\n",
      "filesprocess:  ./CLEAN_WOLOF_FOR_MEMORY/9_Juróom-Ñent/pas_clean_94266408.m4a  --  863\n",
      "filesprocess:  ./CLEAN_WOLOF_FOR_MEMORY/9_Juróom-Ñent/pas_clean_77814734.m4a  --  864\n",
      "filesprocess:  ./CLEAN_WOLOF_FOR_MEMORY/9_Juróom-Ñent/pas_clean_48405309.m4a  --  865\n",
      "filesprocess:  ./CLEAN_WOLOF_FOR_MEMORY/9_Juróom-Ñent/pas_clean_13365265.m4a  --  866\n",
      "filesprocess:  ./CLEAN_WOLOF_FOR_MEMORY/9_Juróom-Ñent/pas_clean_64400048.m4a  --  867\n",
      "filesprocess:  ./CLEAN_WOLOF_FOR_MEMORY/9_Juróom-Ñent/pas_clean_61198620.m4a  --  868\n",
      "filesprocess:  ./CLEAN_WOLOF_FOR_MEMORY/9_Juróom-Ñent/pas_clean_92798118.m4a  --  869\n",
      "filesprocess:  ./CLEAN_WOLOF_FOR_MEMORY/9_Juróom-Ñent/pas_clean_27840941.m4a  --  870\n",
      "filesprocess:  ./CLEAN_WOLOF_FOR_MEMORY/9_Juróom-Ñent/pas_clean_96970343.m4a  --  871\n",
      "filesprocess:  ./CLEAN_WOLOF_FOR_MEMORY/9_Juróom-Ñent/pas_clean_81483746.m4a  --  872\n",
      "filesprocess:  ./CLEAN_WOLOF_FOR_MEMORY/9_Juróom-Ñent/pas_clean_3109352.m4a  --  873\n",
      "filesprocess:  ./CLEAN_WOLOF_FOR_MEMORY/9_Juróom-Ñent/pas_clean_80008192.m4a  --  874\n",
      "filesprocess:  ./CLEAN_WOLOF_FOR_MEMORY/9_Juróom-Ñent/pas_clean_25293582.m4a  --  875\n",
      "filesprocess:  ./CLEAN_WOLOF_FOR_MEMORY/9_Juróom-Ñent/pas_clean_8361223.m4a  --  876\n",
      "filesprocess:  ./CLEAN_WOLOF_FOR_MEMORY/9_Juróom-Ñent/pas_clean_17117688.m4a  --  877\n",
      "filesprocess:  ./CLEAN_WOLOF_FOR_MEMORY/9_Juróom-Ñent/pas_clean_16519191.m4a  --  878\n",
      "filesprocess:  ./CLEAN_WOLOF_FOR_MEMORY/9_Juróom-Ñent/pas_clean_25019152.m4a  --  879\n",
      "filesprocess:  ./CLEAN_WOLOF_FOR_MEMORY/9_Juróom-Ñent/pas_clean_9791518.m4a  --  880\n",
      "filesprocess:  ./CLEAN_WOLOF_FOR_MEMORY/9_Juróom-Ñent/pas_clean_35218122.m4a  --  881\n",
      "filesprocess:  ./CLEAN_WOLOF_FOR_MEMORY/9_Juróom-Ñent/pas_clean_98221557.m4a  --  882\n",
      "filesprocess:  ./CLEAN_WOLOF_FOR_MEMORY/9_Juróom-Ñent/pas_clean_95754911.m4a  --  883\n",
      "filesprocess:  ./CLEAN_WOLOF_FOR_MEMORY/9_Juróom-Ñent/pas_clean_49155208.m4a  --  884\n",
      "filesprocess:  ./CLEAN_WOLOF_FOR_MEMORY/9_Juróom-Ñent/pas_clean_96023134.m4a  --  885\n",
      "filesprocess:  ./CLEAN_WOLOF_FOR_MEMORY/9_Juróom-Ñent/pas_clean_31537038.m4a  --  886\n",
      "filesprocess:  ./CLEAN_WOLOF_FOR_MEMORY/9_Juróom-Ñent/pas_clean_75770919.m4a  --  887\n",
      "filesprocess:  ./CLEAN_WOLOF_FOR_MEMORY/9_Juróom-Ñent/pas_clean_91593777.m4a  --  888\n",
      "filesprocess:  ./CLEAN_WOLOF_FOR_MEMORY/9_Juróom-Ñent/pas_clean_58789939.m4a  --  889\n",
      "filesprocess:  ./CLEAN_WOLOF_FOR_MEMORY/9_Juróom-Ñent/pas_clean_51626591.m4a  --  890\n",
      "filesprocess:  ./CLEAN_WOLOF_FOR_MEMORY/9_Juróom-Ñent/pas_clean_63610707.m4a  --  891\n",
      "filesprocess:  ./CLEAN_WOLOF_FOR_MEMORY/9_Juróom-Ñent/pas_clean_32830116.m4a  --  892\n",
      "filesprocess:  ./CLEAN_WOLOF_FOR_MEMORY/9_Juróom-Ñent/pas_clean_20319085.m4a  --  893\n"
     ]
    },
    {
     "name": "stderr",
     "output_type": "stream",
     "text": [
      "/home/ibrahimabarry01/anaconda3/lib/python3.8/site-packages/librosa/core/audio.py:162: UserWarning: PySoundFile failed. Trying audioread instead.\n",
      "  warnings.warn(\"PySoundFile failed. Trying audioread instead.\")\n"
     ]
    },
    {
     "name": "stdout",
     "output_type": "stream",
     "text": [
      "filesprocess:  ./CLEAN_WOLOF_FOR_MEMORY/9_Juróom-Ñent/AUDIO-2021-05-25-07-42-26.m4a  --  894\n"
     ]
    },
    {
     "name": "stderr",
     "output_type": "stream",
     "text": [
      "/home/ibrahimabarry01/anaconda3/lib/python3.8/site-packages/librosa/core/audio.py:162: UserWarning: PySoundFile failed. Trying audioread instead.\n",
      "  warnings.warn(\"PySoundFile failed. Trying audioread instead.\")\n"
     ]
    },
    {
     "name": "stdout",
     "output_type": "stream",
     "text": [
      "filesprocess:  ./CLEAN_WOLOF_FOR_MEMORY/9_Juróom-Ñent/AUDIO-2021-05-25-06-52-51.m4a  --  895\n"
     ]
    },
    {
     "name": "stderr",
     "output_type": "stream",
     "text": [
      "/home/ibrahimabarry01/anaconda3/lib/python3.8/site-packages/librosa/core/audio.py:162: UserWarning: PySoundFile failed. Trying audioread instead.\n",
      "  warnings.warn(\"PySoundFile failed. Trying audioread instead.\")\n"
     ]
    },
    {
     "name": "stdout",
     "output_type": "stream",
     "text": [
      "filesprocess:  ./CLEAN_WOLOF_FOR_MEMORY/9_Juróom-Ñent/AUDIO-2021-05-25-06-58-13.m4a  --  896\n"
     ]
    },
    {
     "name": "stderr",
     "output_type": "stream",
     "text": [
      "/home/ibrahimabarry01/anaconda3/lib/python3.8/site-packages/librosa/core/audio.py:162: UserWarning: PySoundFile failed. Trying audioread instead.\n",
      "  warnings.warn(\"PySoundFile failed. Trying audioread instead.\")\n"
     ]
    },
    {
     "name": "stdout",
     "output_type": "stream",
     "text": [
      "filesprocess:  ./CLEAN_WOLOF_FOR_MEMORY/9_Juróom-Ñent/AUDIO-2021-05-25-06-58-19.m4a  --  897\n"
     ]
    },
    {
     "name": "stderr",
     "output_type": "stream",
     "text": [
      "/home/ibrahimabarry01/anaconda3/lib/python3.8/site-packages/librosa/core/audio.py:162: UserWarning: PySoundFile failed. Trying audioread instead.\n",
      "  warnings.warn(\"PySoundFile failed. Trying audioread instead.\")\n"
     ]
    },
    {
     "name": "stdout",
     "output_type": "stream",
     "text": [
      "filesprocess:  ./CLEAN_WOLOF_FOR_MEMORY/9_Juróom-Ñent/AUDIO-2021-05-25-06-58-25.m4a  --  898\n",
      "filesprocess:  ./CLEAN_WOLOF_FOR_MEMORY/9_Juróom-Ñent/pas_clean_96970343 (copie).m4a  --  899\n",
      "filesprocess:  ./CLEAN_WOLOF_FOR_MEMORY/9_Juróom-Ñent/pas_clean_77814734 (copie).m4a  --  900\n",
      "filesprocess:  ./CLEAN_WOLOF_FOR_MEMORY/9_Juróom-Ñent/pas_clean_81483746 (copie).m4a  --  901\n"
     ]
    },
    {
     "name": "stderr",
     "output_type": "stream",
     "text": [
      "/home/ibrahimabarry01/anaconda3/lib/python3.8/site-packages/librosa/core/audio.py:162: UserWarning: PySoundFile failed. Trying audioread instead.\n",
      "  warnings.warn(\"PySoundFile failed. Trying audioread instead.\")\n"
     ]
    },
    {
     "name": "stdout",
     "output_type": "stream",
     "text": [
      "filesprocess:  ./CLEAN_WOLOF_FOR_MEMORY/9_Juróom-Ñent/AUDIO-2021-05-25-14-55-54.m4a  --  902\n",
      "filesprocess:  ./CLEAN_WOLOF_FOR_MEMORY/9_Juróom-Ñent/pas_clean_14821444rock.m4a  --  903\n",
      "filesprocess:  ./CLEAN_WOLOF_FOR_MEMORY/9_Juróom-Ñent/pas_clean_14821444mince.m4a  --  904\n",
      "filesprocess:  ./CLEAN_WOLOF_FOR_MEMORY/9_Juróom-Ñent/pas_clean_94266408rock.m4a  --  905\n",
      "filesprocess:  ./CLEAN_WOLOF_FOR_MEMORY/9_Juróom-Ñent/pas_clean_94266408mince.m4a  --  906\n",
      "filesprocess:  ./CLEAN_WOLOF_FOR_MEMORY/9_Juróom-Ñent/pas_clean_77814734rock.m4a  --  907\n",
      "filesprocess:  ./CLEAN_WOLOF_FOR_MEMORY/9_Juróom-Ñent/pas_clean_77814734mince.m4a  --  908\n",
      "filesprocess:  ./CLEAN_WOLOF_FOR_MEMORY/9_Juróom-Ñent/pas_clean_48405309rock.m4a  --  909\n",
      "filesprocess:  ./CLEAN_WOLOF_FOR_MEMORY/9_Juróom-Ñent/pas_clean_48405309mince.m4a  --  910\n",
      "filesprocess:  ./CLEAN_WOLOF_FOR_MEMORY/9_Juróom-Ñent/pas_clean_13365265rock.m4a  --  911\n",
      "filesprocess:  ./CLEAN_WOLOF_FOR_MEMORY/9_Juróom-Ñent/pas_clean_13365265mince.m4a  --  912\n",
      "filesprocess:  ./CLEAN_WOLOF_FOR_MEMORY/9_Juróom-Ñent/pas_clean_64400048rock.m4a  --  913\n",
      "filesprocess:  ./CLEAN_WOLOF_FOR_MEMORY/9_Juróom-Ñent/pas_clean_64400048mince.m4a  --  914\n",
      "filesprocess:  ./CLEAN_WOLOF_FOR_MEMORY/9_Juróom-Ñent/pas_clean_61198620rock.m4a  --  915\n",
      "filesprocess:  ./CLEAN_WOLOF_FOR_MEMORY/9_Juróom-Ñent/pas_clean_61198620mince.m4a  --  916\n",
      "filesprocess:  ./CLEAN_WOLOF_FOR_MEMORY/9_Juróom-Ñent/pas_clean_92798118rock.m4a  --  917\n",
      "filesprocess:  ./CLEAN_WOLOF_FOR_MEMORY/9_Juróom-Ñent/pas_clean_92798118mince.m4a  --  918\n",
      "filesprocess:  ./CLEAN_WOLOF_FOR_MEMORY/9_Juróom-Ñent/pas_clean_27840941rock.m4a  --  919\n",
      "filesprocess:  ./CLEAN_WOLOF_FOR_MEMORY/9_Juróom-Ñent/pas_clean_27840941mince.m4a  --  920\n",
      "filesprocess:  ./CLEAN_WOLOF_FOR_MEMORY/9_Juróom-Ñent/pas_clean_96970343rock.m4a  --  921\n",
      "filesprocess:  ./CLEAN_WOLOF_FOR_MEMORY/9_Juróom-Ñent/pas_clean_96970343mince.m4a  --  922\n",
      "filesprocess:  ./CLEAN_WOLOF_FOR_MEMORY/9_Juróom-Ñent/pas_clean_81483746rock.m4a  --  923\n",
      "filesprocess:  ./CLEAN_WOLOF_FOR_MEMORY/9_Juróom-Ñent/pas_clean_81483746mince.m4a  --  924\n",
      "filesprocess:  ./CLEAN_WOLOF_FOR_MEMORY/9_Juróom-Ñent/pas_clean_3109352rock.m4a  --  925\n",
      "filesprocess:  ./CLEAN_WOLOF_FOR_MEMORY/9_Juróom-Ñent/pas_clean_3109352mince.m4a  --  926\n",
      "filesprocess:  ./CLEAN_WOLOF_FOR_MEMORY/9_Juróom-Ñent/pas_clean_80008192rock.m4a  --  927\n",
      "filesprocess:  ./CLEAN_WOLOF_FOR_MEMORY/9_Juróom-Ñent/pas_clean_80008192mince.m4a  --  928\n",
      "filesprocess:  ./CLEAN_WOLOF_FOR_MEMORY/9_Juróom-Ñent/pas_clean_25293582rock.m4a  --  929\n",
      "filesprocess:  ./CLEAN_WOLOF_FOR_MEMORY/9_Juróom-Ñent/pas_clean_25293582mince.m4a  --  930\n",
      "filesprocess:  ./CLEAN_WOLOF_FOR_MEMORY/9_Juróom-Ñent/pas_clean_8361223rock.m4a  --  931\n",
      "filesprocess:  ./CLEAN_WOLOF_FOR_MEMORY/9_Juróom-Ñent/pas_clean_8361223mince.m4a  --  932\n",
      "filesprocess:  ./CLEAN_WOLOF_FOR_MEMORY/9_Juróom-Ñent/pas_clean_17117688rock.m4a  --  933\n",
      "filesprocess:  ./CLEAN_WOLOF_FOR_MEMORY/9_Juróom-Ñent/pas_clean_17117688mince.m4a  --  934\n",
      "filesprocess:  ./CLEAN_WOLOF_FOR_MEMORY/9_Juróom-Ñent/pas_clean_16519191rock.m4a  --  935\n",
      "filesprocess:  ./CLEAN_WOLOF_FOR_MEMORY/9_Juróom-Ñent/pas_clean_16519191mince.m4a  --  936\n",
      "filesprocess:  ./CLEAN_WOLOF_FOR_MEMORY/9_Juróom-Ñent/pas_clean_25019152rock.m4a  --  937\n",
      "filesprocess:  ./CLEAN_WOLOF_FOR_MEMORY/9_Juróom-Ñent/pas_clean_25019152mince.m4a  --  938\n",
      "filesprocess:  ./CLEAN_WOLOF_FOR_MEMORY/9_Juróom-Ñent/pas_clean_9791518rock.m4a  --  939\n",
      "filesprocess:  ./CLEAN_WOLOF_FOR_MEMORY/9_Juróom-Ñent/pas_clean_9791518mince.m4a  --  940\n",
      "filesprocess:  ./CLEAN_WOLOF_FOR_MEMORY/9_Juróom-Ñent/pas_clean_35218122rock.m4a  --  941\n",
      "filesprocess:  ./CLEAN_WOLOF_FOR_MEMORY/9_Juróom-Ñent/pas_clean_35218122mince.m4a  --  942\n",
      "filesprocess:  ./CLEAN_WOLOF_FOR_MEMORY/9_Juróom-Ñent/pas_clean_98221557rock.m4a  --  943\n",
      "filesprocess:  ./CLEAN_WOLOF_FOR_MEMORY/9_Juróom-Ñent/pas_clean_98221557mince.m4a  --  944\n",
      "filesprocess:  ./CLEAN_WOLOF_FOR_MEMORY/9_Juróom-Ñent/pas_clean_95754911rock.m4a  --  945\n",
      "filesprocess:  ./CLEAN_WOLOF_FOR_MEMORY/9_Juróom-Ñent/pas_clean_95754911mince.m4a  --  946\n",
      "filesprocess:  ./CLEAN_WOLOF_FOR_MEMORY/9_Juróom-Ñent/pas_clean_49155208rock.m4a  --  947\n",
      "filesprocess:  ./CLEAN_WOLOF_FOR_MEMORY/9_Juróom-Ñent/pas_clean_49155208mince.m4a  --  948\n",
      "filesprocess:  ./CLEAN_WOLOF_FOR_MEMORY/9_Juróom-Ñent/pas_clean_96023134rock.m4a  --  949\n",
      "filesprocess:  ./CLEAN_WOLOF_FOR_MEMORY/9_Juróom-Ñent/pas_clean_96023134mince.m4a  --  950\n",
      "filesprocess:  ./CLEAN_WOLOF_FOR_MEMORY/9_Juróom-Ñent/pas_clean_31537038rock.m4a  --  951\n",
      "filesprocess:  ./CLEAN_WOLOF_FOR_MEMORY/9_Juróom-Ñent/pas_clean_31537038mince.m4a  --  952\n",
      "filesprocess:  ./CLEAN_WOLOF_FOR_MEMORY/9_Juróom-Ñent/pas_clean_75770919rock.m4a  --  953\n",
      "filesprocess:  ./CLEAN_WOLOF_FOR_MEMORY/9_Juróom-Ñent/pas_clean_75770919mince.m4a  --  954\n",
      "filesprocess:  ./CLEAN_WOLOF_FOR_MEMORY/9_Juróom-Ñent/pas_clean_91593777rock.m4a  --  955\n",
      "filesprocess:  ./CLEAN_WOLOF_FOR_MEMORY/9_Juróom-Ñent/pas_clean_91593777mince.m4a  --  956\n",
      "filesprocess:  ./CLEAN_WOLOF_FOR_MEMORY/9_Juróom-Ñent/pas_clean_58789939rock.m4a  --  957\n",
      "filesprocess:  ./CLEAN_WOLOF_FOR_MEMORY/9_Juróom-Ñent/pas_clean_58789939mince.m4a  --  958\n",
      "filesprocess:  ./CLEAN_WOLOF_FOR_MEMORY/9_Juróom-Ñent/pas_clean_51626591rock.m4a  --  959\n",
      "filesprocess:  ./CLEAN_WOLOF_FOR_MEMORY/9_Juróom-Ñent/pas_clean_51626591mince.m4a  --  960\n",
      "filesprocess:  ./CLEAN_WOLOF_FOR_MEMORY/9_Juróom-Ñent/pas_clean_63610707rock.m4a  --  961\n",
      "filesprocess:  ./CLEAN_WOLOF_FOR_MEMORY/9_Juróom-Ñent/pas_clean_63610707mince.m4a  --  962\n",
      "filesprocess:  ./CLEAN_WOLOF_FOR_MEMORY/9_Juróom-Ñent/pas_clean_32830116rock.m4a  --  963\n",
      "filesprocess:  ./CLEAN_WOLOF_FOR_MEMORY/9_Juróom-Ñent/pas_clean_32830116mince.m4a  --  964\n",
      "filesprocess:  ./CLEAN_WOLOF_FOR_MEMORY/9_Juróom-Ñent/pas_clean_20319085rock.m4a  --  965\n",
      "filesprocess:  ./CLEAN_WOLOF_FOR_MEMORY/9_Juróom-Ñent/pas_clean_20319085mince.m4a  --  966\n",
      "filesprocess:  ./CLEAN_WOLOF_FOR_MEMORY/9_Juróom-Ñent/AUDIO-2021-05-25-07-42-26rock.m4a  --  967\n",
      "filesprocess:  ./CLEAN_WOLOF_FOR_MEMORY/9_Juróom-Ñent/AUDIO-2021-05-25-07-42-26mince.m4a  --  968\n",
      "filesprocess:  ./CLEAN_WOLOF_FOR_MEMORY/9_Juróom-Ñent/AUDIO-2021-05-25-06-52-51rock.m4a  --  969\n",
      "filesprocess:  ./CLEAN_WOLOF_FOR_MEMORY/9_Juróom-Ñent/AUDIO-2021-05-25-06-52-51mince.m4a  --  970\n",
      "filesprocess:  ./CLEAN_WOLOF_FOR_MEMORY/9_Juróom-Ñent/AUDIO-2021-05-25-06-58-13rock.m4a  --  971\n",
      "filesprocess:  ./CLEAN_WOLOF_FOR_MEMORY/9_Juróom-Ñent/AUDIO-2021-05-25-06-58-13mince.m4a  --  972\n",
      "filesprocess:  ./CLEAN_WOLOF_FOR_MEMORY/9_Juróom-Ñent/AUDIO-2021-05-25-06-58-19rock.m4a  --  973\n",
      "filesprocess:  ./CLEAN_WOLOF_FOR_MEMORY/9_Juróom-Ñent/AUDIO-2021-05-25-06-58-19mince.m4a  --  974\n",
      "filesprocess:  ./CLEAN_WOLOF_FOR_MEMORY/9_Juróom-Ñent/AUDIO-2021-05-25-06-58-25rock.m4a  --  975\n",
      "filesprocess:  ./CLEAN_WOLOF_FOR_MEMORY/9_Juróom-Ñent/AUDIO-2021-05-25-06-58-25mince.m4a  --  976\n",
      "filesprocess:  ./CLEAN_WOLOF_FOR_MEMORY/9_Juróom-Ñent/pas_clean_96970343 (copie)rock.m4a  --  977\n",
      "filesprocess:  ./CLEAN_WOLOF_FOR_MEMORY/9_Juróom-Ñent/pas_clean_96970343 (copie)mince.m4a  --  978\n",
      "filesprocess:  ./CLEAN_WOLOF_FOR_MEMORY/9_Juróom-Ñent/pas_clean_77814734 (copie)rock.m4a  --  979\n",
      "filesprocess:  ./CLEAN_WOLOF_FOR_MEMORY/9_Juróom-Ñent/pas_clean_77814734 (copie)mince.m4a  --  980\n",
      "filesprocess:  ./CLEAN_WOLOF_FOR_MEMORY/9_Juróom-Ñent/pas_clean_81483746 (copie)rock.m4a  --  981\n",
      "filesprocess:  ./CLEAN_WOLOF_FOR_MEMORY/9_Juróom-Ñent/pas_clean_81483746 (copie)mince.m4a  --  982\n",
      "filesprocess:  ./CLEAN_WOLOF_FOR_MEMORY/9_Juróom-Ñent/AUDIO-2021-05-25-14-55-54rock.m4a  --  983\n",
      "filesprocess:  ./CLEAN_WOLOF_FOR_MEMORY/9_Juróom-Ñent/AUDIO-2021-05-25-14-55-54mince.m4a  --  984\n",
      "./CLEAN_WOLOF_FOR_MEMORY/2_Ñaar\n",
      "filesprocess:  ./CLEAN_WOLOF_FOR_MEMORY/2_Ñaar/pas_clean_63897332.m4a  --  985\n",
      "filesprocess:  ./CLEAN_WOLOF_FOR_MEMORY/2_Ñaar/pas_clean_87812611.m4a  --  986\n",
      "filesprocess:  ./CLEAN_WOLOF_FOR_MEMORY/2_Ñaar/pas_clean_57666606.m4a  --  987\n",
      "filesprocess:  ./CLEAN_WOLOF_FOR_MEMORY/2_Ñaar/pas_clean_28492458.m4a  --  988\n",
      "filesprocess:  ./CLEAN_WOLOF_FOR_MEMORY/2_Ñaar/pas_clean_32988529.m4a  --  989\n",
      "filesprocess:  ./CLEAN_WOLOF_FOR_MEMORY/2_Ñaar/pas_clean_16787904.m4a  --  990\n",
      "filesprocess:  ./CLEAN_WOLOF_FOR_MEMORY/2_Ñaar/pas_clean_60239579.m4a  --  991\n",
      "filesprocess:  ./CLEAN_WOLOF_FOR_MEMORY/2_Ñaar/pas_clean_20145188.m4a  --  992\n",
      "filesprocess:  ./CLEAN_WOLOF_FOR_MEMORY/2_Ñaar/pas_clean_12124309.m4a  --  993\n",
      "filesprocess:  ./CLEAN_WOLOF_FOR_MEMORY/2_Ñaar/pas_clean_33049170.m4a  --  994\n",
      "filesprocess:  ./CLEAN_WOLOF_FOR_MEMORY/2_Ñaar/pas_clean_61691746.m4a  --  995\n",
      "filesprocess:  ./CLEAN_WOLOF_FOR_MEMORY/2_Ñaar/pas_clean_19621189.m4a  --  996\n",
      "filesprocess:  ./CLEAN_WOLOF_FOR_MEMORY/2_Ñaar/pas_clean_38025862.m4a  --  997\n",
      "filesprocess:  ./CLEAN_WOLOF_FOR_MEMORY/2_Ñaar/pas_clean_55027160.m4a  --  998\n",
      "filesprocess:  ./CLEAN_WOLOF_FOR_MEMORY/2_Ñaar/pas_clean_71857372.m4a  --  999\n",
      "filesprocess:  ./CLEAN_WOLOF_FOR_MEMORY/2_Ñaar/pas_clean_33117127.m4a  --  1000\n",
      "filesprocess:  ./CLEAN_WOLOF_FOR_MEMORY/2_Ñaar/pas_clean_1161299.m4a  --  1001\n",
      "filesprocess:  ./CLEAN_WOLOF_FOR_MEMORY/2_Ñaar/pas_clean_66130846.m4a  --  1002\n",
      "filesprocess:  ./CLEAN_WOLOF_FOR_MEMORY/2_Ñaar/pas_clean_95604221.m4a  --  1003\n",
      "filesprocess:  ./CLEAN_WOLOF_FOR_MEMORY/2_Ñaar/pas_clean_7263083.m4a  --  1004\n",
      "filesprocess:  ./CLEAN_WOLOF_FOR_MEMORY/2_Ñaar/pas_clean_80574031.m4a  --  1005\n",
      "filesprocess:  ./CLEAN_WOLOF_FOR_MEMORY/2_Ñaar/pas_clean_56885561.m4a  --  1006\n",
      "filesprocess:  ./CLEAN_WOLOF_FOR_MEMORY/2_Ñaar/pas_clean_72003841.m4a  --  1007\n",
      "filesprocess:  ./CLEAN_WOLOF_FOR_MEMORY/2_Ñaar/pas_clean_85505745.m4a  --  1008\n",
      "filesprocess:  ./CLEAN_WOLOF_FOR_MEMORY/2_Ñaar/pas_clean_63132795.m4a  --  1009\n",
      "filesprocess:  ./CLEAN_WOLOF_FOR_MEMORY/2_Ñaar/pas_clean_92920775.m4a  --  1010\n",
      "filesprocess:  ./CLEAN_WOLOF_FOR_MEMORY/2_Ñaar/pas_clean_19504973.m4a  --  1011\n",
      "filesprocess:  ./CLEAN_WOLOF_FOR_MEMORY/2_Ñaar/pas_clean_24180159.m4a  --  1012\n",
      "filesprocess:  ./CLEAN_WOLOF_FOR_MEMORY/2_Ñaar/pas_clean_95401719.m4a  --  1013\n",
      "filesprocess:  ./CLEAN_WOLOF_FOR_MEMORY/2_Ñaar/pas_clean_25356328.m4a  --  1014\n",
      "filesprocess:  ./CLEAN_WOLOF_FOR_MEMORY/2_Ñaar/pas_clean_27395508.m4a  --  1015\n",
      "filesprocess:  ./CLEAN_WOLOF_FOR_MEMORY/2_Ñaar/pas_clean_78480875.m4a  --  1016\n",
      "filesprocess:  ./CLEAN_WOLOF_FOR_MEMORY/2_Ñaar/pas_clean_2258391.m4a  --  1017\n",
      "filesprocess:  ./CLEAN_WOLOF_FOR_MEMORY/2_Ñaar/pas_clean_28016879.m4a  --  1018\n"
     ]
    },
    {
     "name": "stderr",
     "output_type": "stream",
     "text": [
      "/home/ibrahimabarry01/anaconda3/lib/python3.8/site-packages/librosa/core/audio.py:162: UserWarning: PySoundFile failed. Trying audioread instead.\n",
      "  warnings.warn(\"PySoundFile failed. Trying audioread instead.\")\n"
     ]
    },
    {
     "name": "stdout",
     "output_type": "stream",
     "text": [
      "filesprocess:  ./CLEAN_WOLOF_FOR_MEMORY/2_Ñaar/AUDIO-2021-05-25-07-41-43.m4a  --  1019\n"
     ]
    },
    {
     "name": "stderr",
     "output_type": "stream",
     "text": [
      "/home/ibrahimabarry01/anaconda3/lib/python3.8/site-packages/librosa/core/audio.py:162: UserWarning: PySoundFile failed. Trying audioread instead.\n",
      "  warnings.warn(\"PySoundFile failed. Trying audioread instead.\")\n"
     ]
    },
    {
     "name": "stdout",
     "output_type": "stream",
     "text": [
      "filesprocess:  ./CLEAN_WOLOF_FOR_MEMORY/2_Ñaar/AUDIO-2021-05-25-06-52-02.m4a  --  1020\n"
     ]
    },
    {
     "name": "stderr",
     "output_type": "stream",
     "text": [
      "/home/ibrahimabarry01/anaconda3/lib/python3.8/site-packages/librosa/core/audio.py:162: UserWarning: PySoundFile failed. Trying audioread instead.\n",
      "  warnings.warn(\"PySoundFile failed. Trying audioread instead.\")\n"
     ]
    },
    {
     "name": "stdout",
     "output_type": "stream",
     "text": [
      "filesprocess:  ./CLEAN_WOLOF_FOR_MEMORY/2_Ñaar/AUDIO-2021-05-25-06-53-31.m4a  --  1021\n"
     ]
    },
    {
     "name": "stderr",
     "output_type": "stream",
     "text": [
      "/home/ibrahimabarry01/anaconda3/lib/python3.8/site-packages/librosa/core/audio.py:162: UserWarning: PySoundFile failed. Trying audioread instead.\n",
      "  warnings.warn(\"PySoundFile failed. Trying audioread instead.\")\n"
     ]
    },
    {
     "name": "stdout",
     "output_type": "stream",
     "text": [
      "filesprocess:  ./CLEAN_WOLOF_FOR_MEMORY/2_Ñaar/AUDIO-2021-05-25-06-53-37.m4a  --  1022\n"
     ]
    },
    {
     "name": "stderr",
     "output_type": "stream",
     "text": [
      "/home/ibrahimabarry01/anaconda3/lib/python3.8/site-packages/librosa/core/audio.py:162: UserWarning: PySoundFile failed. Trying audioread instead.\n",
      "  warnings.warn(\"PySoundFile failed. Trying audioread instead.\")\n"
     ]
    },
    {
     "name": "stdout",
     "output_type": "stream",
     "text": [
      "filesprocess:  ./CLEAN_WOLOF_FOR_MEMORY/2_Ñaar/AUDIO-2021-05-25-06-54-15.m4a  --  1023\n",
      "filesprocess:  ./CLEAN_WOLOF_FOR_MEMORY/2_Ñaar/pas_clean_87812611 (copie).m4a  --  1024\n"
     ]
    },
    {
     "name": "stderr",
     "output_type": "stream",
     "text": [
      "/home/ibrahimabarry01/anaconda3/lib/python3.8/site-packages/librosa/core/audio.py:162: UserWarning: PySoundFile failed. Trying audioread instead.\n",
      "  warnings.warn(\"PySoundFile failed. Trying audioread instead.\")\n"
     ]
    },
    {
     "name": "stdout",
     "output_type": "stream",
     "text": [
      "filesprocess:  ./CLEAN_WOLOF_FOR_MEMORY/2_Ñaar/AUDIO-2021-05-25-14-54-44.m4a  --  1025\n",
      "filesprocess:  ./CLEAN_WOLOF_FOR_MEMORY/2_Ñaar/pas_clean_63897332rock.m4a  --  1026\n",
      "filesprocess:  ./CLEAN_WOLOF_FOR_MEMORY/2_Ñaar/pas_clean_63897332mince.m4a  --  1027\n",
      "filesprocess:  ./CLEAN_WOLOF_FOR_MEMORY/2_Ñaar/pas_clean_87812611rock.m4a  --  1028\n",
      "filesprocess:  ./CLEAN_WOLOF_FOR_MEMORY/2_Ñaar/pas_clean_87812611mince.m4a  --  1029\n",
      "filesprocess:  ./CLEAN_WOLOF_FOR_MEMORY/2_Ñaar/pas_clean_57666606rock.m4a  --  1030\n",
      "filesprocess:  ./CLEAN_WOLOF_FOR_MEMORY/2_Ñaar/pas_clean_57666606mince.m4a  --  1031\n",
      "filesprocess:  ./CLEAN_WOLOF_FOR_MEMORY/2_Ñaar/pas_clean_28492458rock.m4a  --  1032\n",
      "filesprocess:  ./CLEAN_WOLOF_FOR_MEMORY/2_Ñaar/pas_clean_28492458mince.m4a  --  1033\n",
      "filesprocess:  ./CLEAN_WOLOF_FOR_MEMORY/2_Ñaar/pas_clean_32988529rock.m4a  --  1034\n",
      "filesprocess:  ./CLEAN_WOLOF_FOR_MEMORY/2_Ñaar/pas_clean_32988529mince.m4a  --  1035\n",
      "filesprocess:  ./CLEAN_WOLOF_FOR_MEMORY/2_Ñaar/pas_clean_16787904rock.m4a  --  1036\n",
      "filesprocess:  ./CLEAN_WOLOF_FOR_MEMORY/2_Ñaar/pas_clean_16787904mince.m4a  --  1037\n",
      "filesprocess:  ./CLEAN_WOLOF_FOR_MEMORY/2_Ñaar/pas_clean_60239579rock.m4a  --  1038\n",
      "filesprocess:  ./CLEAN_WOLOF_FOR_MEMORY/2_Ñaar/pas_clean_60239579mince.m4a  --  1039\n",
      "filesprocess:  ./CLEAN_WOLOF_FOR_MEMORY/2_Ñaar/pas_clean_20145188rock.m4a  --  1040\n",
      "filesprocess:  ./CLEAN_WOLOF_FOR_MEMORY/2_Ñaar/pas_clean_20145188mince.m4a  --  1041\n",
      "filesprocess:  ./CLEAN_WOLOF_FOR_MEMORY/2_Ñaar/pas_clean_12124309rock.m4a  --  1042\n",
      "filesprocess:  ./CLEAN_WOLOF_FOR_MEMORY/2_Ñaar/pas_clean_12124309mince.m4a  --  1043\n",
      "filesprocess:  ./CLEAN_WOLOF_FOR_MEMORY/2_Ñaar/pas_clean_33049170rock.m4a  --  1044\n",
      "filesprocess:  ./CLEAN_WOLOF_FOR_MEMORY/2_Ñaar/pas_clean_33049170mince.m4a  --  1045\n",
      "filesprocess:  ./CLEAN_WOLOF_FOR_MEMORY/2_Ñaar/pas_clean_61691746rock.m4a  --  1046\n",
      "filesprocess:  ./CLEAN_WOLOF_FOR_MEMORY/2_Ñaar/pas_clean_61691746mince.m4a  --  1047\n",
      "filesprocess:  ./CLEAN_WOLOF_FOR_MEMORY/2_Ñaar/pas_clean_19621189rock.m4a  --  1048\n",
      "filesprocess:  ./CLEAN_WOLOF_FOR_MEMORY/2_Ñaar/pas_clean_19621189mince.m4a  --  1049\n",
      "filesprocess:  ./CLEAN_WOLOF_FOR_MEMORY/2_Ñaar/pas_clean_38025862rock.m4a  --  1050\n",
      "filesprocess:  ./CLEAN_WOLOF_FOR_MEMORY/2_Ñaar/pas_clean_38025862mince.m4a  --  1051\n",
      "filesprocess:  ./CLEAN_WOLOF_FOR_MEMORY/2_Ñaar/pas_clean_55027160rock.m4a  --  1052\n",
      "filesprocess:  ./CLEAN_WOLOF_FOR_MEMORY/2_Ñaar/pas_clean_55027160mince.m4a  --  1053\n",
      "filesprocess:  ./CLEAN_WOLOF_FOR_MEMORY/2_Ñaar/pas_clean_71857372rock.m4a  --  1054\n",
      "filesprocess:  ./CLEAN_WOLOF_FOR_MEMORY/2_Ñaar/pas_clean_71857372mince.m4a  --  1055\n",
      "filesprocess:  ./CLEAN_WOLOF_FOR_MEMORY/2_Ñaar/pas_clean_33117127rock.m4a  --  1056\n",
      "filesprocess:  ./CLEAN_WOLOF_FOR_MEMORY/2_Ñaar/pas_clean_33117127mince.m4a  --  1057\n",
      "filesprocess:  ./CLEAN_WOLOF_FOR_MEMORY/2_Ñaar/pas_clean_1161299rock.m4a  --  1058\n",
      "filesprocess:  ./CLEAN_WOLOF_FOR_MEMORY/2_Ñaar/pas_clean_1161299mince.m4a  --  1059\n",
      "filesprocess:  ./CLEAN_WOLOF_FOR_MEMORY/2_Ñaar/pas_clean_66130846rock.m4a  --  1060\n",
      "filesprocess:  ./CLEAN_WOLOF_FOR_MEMORY/2_Ñaar/pas_clean_66130846mince.m4a  --  1061\n",
      "filesprocess:  ./CLEAN_WOLOF_FOR_MEMORY/2_Ñaar/pas_clean_95604221rock.m4a  --  1062\n",
      "filesprocess:  ./CLEAN_WOLOF_FOR_MEMORY/2_Ñaar/pas_clean_95604221mince.m4a  --  1063\n",
      "filesprocess:  ./CLEAN_WOLOF_FOR_MEMORY/2_Ñaar/pas_clean_7263083rock.m4a  --  1064\n",
      "filesprocess:  ./CLEAN_WOLOF_FOR_MEMORY/2_Ñaar/pas_clean_7263083mince.m4a  --  1065\n",
      "filesprocess:  ./CLEAN_WOLOF_FOR_MEMORY/2_Ñaar/pas_clean_80574031rock.m4a  --  1066\n",
      "filesprocess:  ./CLEAN_WOLOF_FOR_MEMORY/2_Ñaar/pas_clean_80574031mince.m4a  --  1067\n",
      "filesprocess:  ./CLEAN_WOLOF_FOR_MEMORY/2_Ñaar/pas_clean_56885561rock.m4a  --  1068\n",
      "filesprocess:  ./CLEAN_WOLOF_FOR_MEMORY/2_Ñaar/pas_clean_56885561mince.m4a  --  1069\n",
      "filesprocess:  ./CLEAN_WOLOF_FOR_MEMORY/2_Ñaar/pas_clean_72003841rock.m4a  --  1070\n",
      "filesprocess:  ./CLEAN_WOLOF_FOR_MEMORY/2_Ñaar/pas_clean_72003841mince.m4a  --  1071\n",
      "filesprocess:  ./CLEAN_WOLOF_FOR_MEMORY/2_Ñaar/pas_clean_85505745rock.m4a  --  1072\n",
      "filesprocess:  ./CLEAN_WOLOF_FOR_MEMORY/2_Ñaar/pas_clean_85505745mince.m4a  --  1073\n",
      "filesprocess:  ./CLEAN_WOLOF_FOR_MEMORY/2_Ñaar/pas_clean_63132795rock.m4a  --  1074\n",
      "filesprocess:  ./CLEAN_WOLOF_FOR_MEMORY/2_Ñaar/pas_clean_63132795mince.m4a  --  1075\n",
      "filesprocess:  ./CLEAN_WOLOF_FOR_MEMORY/2_Ñaar/pas_clean_92920775rock.m4a  --  1076\n",
      "filesprocess:  ./CLEAN_WOLOF_FOR_MEMORY/2_Ñaar/pas_clean_92920775mince.m4a  --  1077\n",
      "filesprocess:  ./CLEAN_WOLOF_FOR_MEMORY/2_Ñaar/pas_clean_19504973rock.m4a  --  1078\n",
      "filesprocess:  ./CLEAN_WOLOF_FOR_MEMORY/2_Ñaar/pas_clean_19504973mince.m4a  --  1079\n",
      "filesprocess:  ./CLEAN_WOLOF_FOR_MEMORY/2_Ñaar/pas_clean_24180159rock.m4a  --  1080\n",
      "filesprocess:  ./CLEAN_WOLOF_FOR_MEMORY/2_Ñaar/pas_clean_24180159mince.m4a  --  1081\n",
      "filesprocess:  ./CLEAN_WOLOF_FOR_MEMORY/2_Ñaar/pas_clean_95401719rock.m4a  --  1082\n",
      "filesprocess:  ./CLEAN_WOLOF_FOR_MEMORY/2_Ñaar/pas_clean_95401719mince.m4a  --  1083\n",
      "filesprocess:  ./CLEAN_WOLOF_FOR_MEMORY/2_Ñaar/pas_clean_25356328rock.m4a  --  1084\n",
      "filesprocess:  ./CLEAN_WOLOF_FOR_MEMORY/2_Ñaar/pas_clean_25356328mince.m4a  --  1085\n",
      "filesprocess:  ./CLEAN_WOLOF_FOR_MEMORY/2_Ñaar/pas_clean_27395508rock.m4a  --  1086\n",
      "filesprocess:  ./CLEAN_WOLOF_FOR_MEMORY/2_Ñaar/pas_clean_27395508mince.m4a  --  1087\n",
      "filesprocess:  ./CLEAN_WOLOF_FOR_MEMORY/2_Ñaar/pas_clean_78480875rock.m4a  --  1088\n",
      "filesprocess:  ./CLEAN_WOLOF_FOR_MEMORY/2_Ñaar/pas_clean_78480875mince.m4a  --  1089\n",
      "filesprocess:  ./CLEAN_WOLOF_FOR_MEMORY/2_Ñaar/pas_clean_2258391rock.m4a  --  1090\n",
      "filesprocess:  ./CLEAN_WOLOF_FOR_MEMORY/2_Ñaar/pas_clean_2258391mince.m4a  --  1091\n",
      "filesprocess:  ./CLEAN_WOLOF_FOR_MEMORY/2_Ñaar/pas_clean_28016879rock.m4a  --  1092\n",
      "filesprocess:  ./CLEAN_WOLOF_FOR_MEMORY/2_Ñaar/pas_clean_28016879mince.m4a  --  1093\n",
      "filesprocess:  ./CLEAN_WOLOF_FOR_MEMORY/2_Ñaar/AUDIO-2021-05-25-07-41-43rock.m4a  --  1094\n",
      "filesprocess:  ./CLEAN_WOLOF_FOR_MEMORY/2_Ñaar/AUDIO-2021-05-25-07-41-43mince.m4a  --  1095\n",
      "filesprocess:  ./CLEAN_WOLOF_FOR_MEMORY/2_Ñaar/AUDIO-2021-05-25-06-52-02rock.m4a  --  1096\n",
      "filesprocess:  ./CLEAN_WOLOF_FOR_MEMORY/2_Ñaar/AUDIO-2021-05-25-06-52-02mince.m4a  --  1097\n",
      "filesprocess:  ./CLEAN_WOLOF_FOR_MEMORY/2_Ñaar/AUDIO-2021-05-25-06-53-31rock.m4a  --  1098\n",
      "filesprocess:  ./CLEAN_WOLOF_FOR_MEMORY/2_Ñaar/AUDIO-2021-05-25-06-53-31mince.m4a  --  1099\n",
      "filesprocess:  ./CLEAN_WOLOF_FOR_MEMORY/2_Ñaar/AUDIO-2021-05-25-06-53-37rock.m4a  --  1100\n",
      "filesprocess:  ./CLEAN_WOLOF_FOR_MEMORY/2_Ñaar/AUDIO-2021-05-25-06-53-37mince.m4a  --  1101\n",
      "filesprocess:  ./CLEAN_WOLOF_FOR_MEMORY/2_Ñaar/AUDIO-2021-05-25-06-54-15rock.m4a  --  1102\n",
      "filesprocess:  ./CLEAN_WOLOF_FOR_MEMORY/2_Ñaar/AUDIO-2021-05-25-06-54-15mince.m4a  --  1103\n",
      "filesprocess:  ./CLEAN_WOLOF_FOR_MEMORY/2_Ñaar/pas_clean_87812611 (copie)rock.m4a  --  1104\n",
      "filesprocess:  ./CLEAN_WOLOF_FOR_MEMORY/2_Ñaar/pas_clean_87812611 (copie)mince.m4a  --  1105\n",
      "filesprocess:  ./CLEAN_WOLOF_FOR_MEMORY/2_Ñaar/AUDIO-2021-05-25-14-54-44rock.m4a  --  1106\n",
      "filesprocess:  ./CLEAN_WOLOF_FOR_MEMORY/2_Ñaar/AUDIO-2021-05-25-14-54-44mince.m4a  --  1107\n",
      "./CLEAN_WOLOF_FOR_MEMORY/5_Juróom\n",
      "filesprocess:  ./CLEAN_WOLOF_FOR_MEMORY/5_Juróom/pas_clean_73012211.m4a  --  1108\n",
      "filesprocess:  ./CLEAN_WOLOF_FOR_MEMORY/5_Juróom/pas_clean_65954598.m4a  --  1109\n",
      "filesprocess:  ./CLEAN_WOLOF_FOR_MEMORY/5_Juróom/pas_clean_15119881.m4a  --  1110\n",
      "filesprocess:  ./CLEAN_WOLOF_FOR_MEMORY/5_Juróom/pas_clean_76253917.m4a  --  1111\n",
      "filesprocess:  ./CLEAN_WOLOF_FOR_MEMORY/5_Juróom/pas_clean_2868521.m4a  --  1112\n",
      "filesprocess:  ./CLEAN_WOLOF_FOR_MEMORY/5_Juróom/pas_clean_28694428.m4a  --  1113\n",
      "filesprocess:  ./CLEAN_WOLOF_FOR_MEMORY/5_Juróom/pas_clean_9096752.m4a  --  1114\n",
      "filesprocess:  ./CLEAN_WOLOF_FOR_MEMORY/5_Juróom/pas_clean_29157027.m4a  --  1115\n",
      "filesprocess:  ./CLEAN_WOLOF_FOR_MEMORY/5_Juróom/pas_clean_5415302.m4a  --  1116\n",
      "filesprocess:  ./CLEAN_WOLOF_FOR_MEMORY/5_Juróom/pas_clean_65082517.m4a  --  1117\n",
      "filesprocess:  ./CLEAN_WOLOF_FOR_MEMORY/5_Juróom/pas_clean_24037755.m4a  --  1118\n",
      "filesprocess:  ./CLEAN_WOLOF_FOR_MEMORY/5_Juróom/pas_clean_27905228.m4a  --  1119\n",
      "filesprocess:  ./CLEAN_WOLOF_FOR_MEMORY/5_Juróom/pas_clean_69965696.m4a  --  1120\n",
      "filesprocess:  ./CLEAN_WOLOF_FOR_MEMORY/5_Juróom/pas_clean_90732634.m4a  --  1121\n",
      "filesprocess:  ./CLEAN_WOLOF_FOR_MEMORY/5_Juróom/pas_clean_77308053.m4a  --  1122\n",
      "filesprocess:  ./CLEAN_WOLOF_FOR_MEMORY/5_Juróom/pas_clean_62128159.m4a  --  1123\n",
      "filesprocess:  ./CLEAN_WOLOF_FOR_MEMORY/5_Juróom/pas_clean_7696314.m4a  --  1124\n",
      "filesprocess:  ./CLEAN_WOLOF_FOR_MEMORY/5_Juróom/pas_clean_43538147.m4a  --  1125\n",
      "filesprocess:  ./CLEAN_WOLOF_FOR_MEMORY/5_Juróom/pas_clean_42639027.m4a  --  1126\n",
      "filesprocess:  ./CLEAN_WOLOF_FOR_MEMORY/5_Juróom/pas_clean_26841786.m4a  --  1127\n",
      "filesprocess:  ./CLEAN_WOLOF_FOR_MEMORY/5_Juróom/pas_clean_76487285.m4a  --  1128\n",
      "filesprocess:  ./CLEAN_WOLOF_FOR_MEMORY/5_Juróom/pas_clean_57465410.m4a  --  1129\n",
      "filesprocess:  ./CLEAN_WOLOF_FOR_MEMORY/5_Juróom/pas_clean_3462376.m4a  --  1130\n",
      "filesprocess:  ./CLEAN_WOLOF_FOR_MEMORY/5_Juróom/pas_clean_66929334.m4a  --  1131\n",
      "filesprocess:  ./CLEAN_WOLOF_FOR_MEMORY/5_Juróom/pas_clean_33781265.m4a  --  1132\n",
      "filesprocess:  ./CLEAN_WOLOF_FOR_MEMORY/5_Juróom/pas_clean_28072401.m4a  --  1133\n",
      "filesprocess:  ./CLEAN_WOLOF_FOR_MEMORY/5_Juróom/pas_clean_78844892.m4a  --  1134\n",
      "filesprocess:  ./CLEAN_WOLOF_FOR_MEMORY/5_Juróom/pas_clean_26158436.m4a  --  1135\n",
      "filesprocess:  ./CLEAN_WOLOF_FOR_MEMORY/5_Juróom/pas_clean_56032991.m4a  --  1136\n",
      "filesprocess:  ./CLEAN_WOLOF_FOR_MEMORY/5_Juróom/pas_clean_77383540.m4a  --  1137\n",
      "filesprocess:  ./CLEAN_WOLOF_FOR_MEMORY/5_Juróom/pas_clean_53115493.m4a  --  1138\n",
      "filesprocess:  ./CLEAN_WOLOF_FOR_MEMORY/5_Juróom/pas_clean_73463879.m4a  --  1139\n",
      "filesprocess:  ./CLEAN_WOLOF_FOR_MEMORY/5_Juróom/pas_clean_41883707.m4a  --  1140\n"
     ]
    },
    {
     "name": "stderr",
     "output_type": "stream",
     "text": [
      "/home/ibrahimabarry01/anaconda3/lib/python3.8/site-packages/librosa/core/audio.py:162: UserWarning: PySoundFile failed. Trying audioread instead.\n",
      "  warnings.warn(\"PySoundFile failed. Trying audioread instead.\")\n"
     ]
    },
    {
     "name": "stdout",
     "output_type": "stream",
     "text": [
      "filesprocess:  ./CLEAN_WOLOF_FOR_MEMORY/5_Juróom/AUDIO-2021-05-25-07-42-05.m4a  --  1141\n"
     ]
    },
    {
     "name": "stderr",
     "output_type": "stream",
     "text": [
      "/home/ibrahimabarry01/anaconda3/lib/python3.8/site-packages/librosa/core/audio.py:162: UserWarning: PySoundFile failed. Trying audioread instead.\n",
      "  warnings.warn(\"PySoundFile failed. Trying audioread instead.\")\n"
     ]
    },
    {
     "name": "stdout",
     "output_type": "stream",
     "text": [
      "filesprocess:  ./CLEAN_WOLOF_FOR_MEMORY/5_Juróom/AUDIO-2021-05-25-06-52-21.m4a  --  1142\n"
     ]
    },
    {
     "name": "stderr",
     "output_type": "stream",
     "text": [
      "/home/ibrahimabarry01/anaconda3/lib/python3.8/site-packages/librosa/core/audio.py:162: UserWarning: PySoundFile failed. Trying audioread instead.\n",
      "  warnings.warn(\"PySoundFile failed. Trying audioread instead.\")\n"
     ]
    },
    {
     "name": "stdout",
     "output_type": "stream",
     "text": [
      "filesprocess:  ./CLEAN_WOLOF_FOR_MEMORY/5_Juróom/AUDIO-2021-05-25-06-55-39.m4a  --  1143\n"
     ]
    },
    {
     "name": "stderr",
     "output_type": "stream",
     "text": [
      "/home/ibrahimabarry01/anaconda3/lib/python3.8/site-packages/librosa/core/audio.py:162: UserWarning: PySoundFile failed. Trying audioread instead.\n",
      "  warnings.warn(\"PySoundFile failed. Trying audioread instead.\")\n"
     ]
    },
    {
     "name": "stdout",
     "output_type": "stream",
     "text": [
      "filesprocess:  ./CLEAN_WOLOF_FOR_MEMORY/5_Juróom/AUDIO-2021-05-25-06-55-44.m4a  --  1144\n"
     ]
    },
    {
     "name": "stderr",
     "output_type": "stream",
     "text": [
      "/home/ibrahimabarry01/anaconda3/lib/python3.8/site-packages/librosa/core/audio.py:162: UserWarning: PySoundFile failed. Trying audioread instead.\n",
      "  warnings.warn(\"PySoundFile failed. Trying audioread instead.\")\n"
     ]
    },
    {
     "name": "stdout",
     "output_type": "stream",
     "text": [
      "filesprocess:  ./CLEAN_WOLOF_FOR_MEMORY/5_Juróom/AUDIO-2021-05-25-06-55-49.m4a  --  1145\n",
      "filesprocess:  ./CLEAN_WOLOF_FOR_MEMORY/5_Juróom/pas_clean_77383540 (copie).m4a  --  1146\n",
      "filesprocess:  ./CLEAN_WOLOF_FOR_MEMORY/5_Juróom/pas_clean_62128159 (copie).m4a  --  1147\n"
     ]
    },
    {
     "name": "stderr",
     "output_type": "stream",
     "text": [
      "/home/ibrahimabarry01/anaconda3/lib/python3.8/site-packages/librosa/core/audio.py:162: UserWarning: PySoundFile failed. Trying audioread instead.\n",
      "  warnings.warn(\"PySoundFile failed. Trying audioread instead.\")\n"
     ]
    },
    {
     "name": "stdout",
     "output_type": "stream",
     "text": [
      "filesprocess:  ./CLEAN_WOLOF_FOR_MEMORY/5_Juróom/AUDIO-2021-05-25-14-55-18.m4a  --  1148\n",
      "filesprocess:  ./CLEAN_WOLOF_FOR_MEMORY/5_Juróom/pas_clean_73012211rock.m4a  --  1149\n",
      "filesprocess:  ./CLEAN_WOLOF_FOR_MEMORY/5_Juróom/pas_clean_73012211mince.m4a  --  1150\n",
      "filesprocess:  ./CLEAN_WOLOF_FOR_MEMORY/5_Juróom/pas_clean_65954598rock.m4a  --  1151\n",
      "filesprocess:  ./CLEAN_WOLOF_FOR_MEMORY/5_Juróom/pas_clean_65954598mince.m4a  --  1152\n",
      "filesprocess:  ./CLEAN_WOLOF_FOR_MEMORY/5_Juróom/pas_clean_15119881rock.m4a  --  1153\n",
      "filesprocess:  ./CLEAN_WOLOF_FOR_MEMORY/5_Juróom/pas_clean_15119881mince.m4a  --  1154\n",
      "filesprocess:  ./CLEAN_WOLOF_FOR_MEMORY/5_Juróom/pas_clean_76253917rock.m4a  --  1155\n",
      "filesprocess:  ./CLEAN_WOLOF_FOR_MEMORY/5_Juróom/pas_clean_76253917mince.m4a  --  1156\n",
      "filesprocess:  ./CLEAN_WOLOF_FOR_MEMORY/5_Juróom/pas_clean_2868521rock.m4a  --  1157\n",
      "filesprocess:  ./CLEAN_WOLOF_FOR_MEMORY/5_Juróom/pas_clean_2868521mince.m4a  --  1158\n",
      "filesprocess:  ./CLEAN_WOLOF_FOR_MEMORY/5_Juróom/pas_clean_28694428rock.m4a  --  1159\n",
      "filesprocess:  ./CLEAN_WOLOF_FOR_MEMORY/5_Juróom/pas_clean_28694428mince.m4a  --  1160\n",
      "filesprocess:  ./CLEAN_WOLOF_FOR_MEMORY/5_Juróom/pas_clean_9096752rock.m4a  --  1161\n",
      "filesprocess:  ./CLEAN_WOLOF_FOR_MEMORY/5_Juróom/pas_clean_9096752mince.m4a  --  1162\n",
      "filesprocess:  ./CLEAN_WOLOF_FOR_MEMORY/5_Juróom/pas_clean_29157027rock.m4a  --  1163\n",
      "filesprocess:  ./CLEAN_WOLOF_FOR_MEMORY/5_Juróom/pas_clean_29157027mince.m4a  --  1164\n",
      "filesprocess:  ./CLEAN_WOLOF_FOR_MEMORY/5_Juróom/pas_clean_5415302rock.m4a  --  1165\n",
      "filesprocess:  ./CLEAN_WOLOF_FOR_MEMORY/5_Juróom/pas_clean_5415302mince.m4a  --  1166\n",
      "filesprocess:  ./CLEAN_WOLOF_FOR_MEMORY/5_Juróom/pas_clean_65082517rock.m4a  --  1167\n",
      "filesprocess:  ./CLEAN_WOLOF_FOR_MEMORY/5_Juróom/pas_clean_65082517mince.m4a  --  1168\n",
      "filesprocess:  ./CLEAN_WOLOF_FOR_MEMORY/5_Juróom/pas_clean_24037755rock.m4a  --  1169\n",
      "filesprocess:  ./CLEAN_WOLOF_FOR_MEMORY/5_Juróom/pas_clean_24037755mince.m4a  --  1170\n",
      "filesprocess:  ./CLEAN_WOLOF_FOR_MEMORY/5_Juróom/pas_clean_27905228rock.m4a  --  1171\n",
      "filesprocess:  ./CLEAN_WOLOF_FOR_MEMORY/5_Juróom/pas_clean_27905228mince.m4a  --  1172\n",
      "filesprocess:  ./CLEAN_WOLOF_FOR_MEMORY/5_Juróom/pas_clean_69965696rock.m4a  --  1173\n",
      "filesprocess:  ./CLEAN_WOLOF_FOR_MEMORY/5_Juróom/pas_clean_69965696mince.m4a  --  1174\n",
      "filesprocess:  ./CLEAN_WOLOF_FOR_MEMORY/5_Juróom/pas_clean_90732634rock.m4a  --  1175\n",
      "filesprocess:  ./CLEAN_WOLOF_FOR_MEMORY/5_Juróom/pas_clean_90732634mince.m4a  --  1176\n",
      "filesprocess:  ./CLEAN_WOLOF_FOR_MEMORY/5_Juróom/pas_clean_77308053rock.m4a  --  1177\n",
      "filesprocess:  ./CLEAN_WOLOF_FOR_MEMORY/5_Juróom/pas_clean_77308053mince.m4a  --  1178\n",
      "filesprocess:  ./CLEAN_WOLOF_FOR_MEMORY/5_Juróom/pas_clean_62128159rock.m4a  --  1179\n",
      "filesprocess:  ./CLEAN_WOLOF_FOR_MEMORY/5_Juróom/pas_clean_62128159mince.m4a  --  1180\n",
      "filesprocess:  ./CLEAN_WOLOF_FOR_MEMORY/5_Juróom/pas_clean_7696314rock.m4a  --  1181\n",
      "filesprocess:  ./CLEAN_WOLOF_FOR_MEMORY/5_Juróom/pas_clean_7696314mince.m4a  --  1182\n",
      "filesprocess:  ./CLEAN_WOLOF_FOR_MEMORY/5_Juróom/pas_clean_43538147rock.m4a  --  1183\n",
      "filesprocess:  ./CLEAN_WOLOF_FOR_MEMORY/5_Juróom/pas_clean_43538147mince.m4a  --  1184\n",
      "filesprocess:  ./CLEAN_WOLOF_FOR_MEMORY/5_Juróom/pas_clean_42639027rock.m4a  --  1185\n",
      "filesprocess:  ./CLEAN_WOLOF_FOR_MEMORY/5_Juróom/pas_clean_42639027mince.m4a  --  1186\n",
      "filesprocess:  ./CLEAN_WOLOF_FOR_MEMORY/5_Juróom/pas_clean_26841786rock.m4a  --  1187\n",
      "filesprocess:  ./CLEAN_WOLOF_FOR_MEMORY/5_Juróom/pas_clean_26841786mince.m4a  --  1188\n",
      "filesprocess:  ./CLEAN_WOLOF_FOR_MEMORY/5_Juróom/pas_clean_76487285rock.m4a  --  1189\n",
      "filesprocess:  ./CLEAN_WOLOF_FOR_MEMORY/5_Juróom/pas_clean_76487285mince.m4a  --  1190\n",
      "filesprocess:  ./CLEAN_WOLOF_FOR_MEMORY/5_Juróom/pas_clean_57465410rock.m4a  --  1191\n",
      "filesprocess:  ./CLEAN_WOLOF_FOR_MEMORY/5_Juróom/pas_clean_57465410mince.m4a  --  1192\n",
      "filesprocess:  ./CLEAN_WOLOF_FOR_MEMORY/5_Juróom/pas_clean_3462376rock.m4a  --  1193\n",
      "filesprocess:  ./CLEAN_WOLOF_FOR_MEMORY/5_Juróom/pas_clean_3462376mince.m4a  --  1194\n",
      "filesprocess:  ./CLEAN_WOLOF_FOR_MEMORY/5_Juróom/pas_clean_66929334rock.m4a  --  1195\n",
      "filesprocess:  ./CLEAN_WOLOF_FOR_MEMORY/5_Juróom/pas_clean_66929334mince.m4a  --  1196\n",
      "filesprocess:  ./CLEAN_WOLOF_FOR_MEMORY/5_Juróom/pas_clean_33781265rock.m4a  --  1197\n",
      "filesprocess:  ./CLEAN_WOLOF_FOR_MEMORY/5_Juróom/pas_clean_33781265mince.m4a  --  1198\n",
      "filesprocess:  ./CLEAN_WOLOF_FOR_MEMORY/5_Juróom/pas_clean_28072401rock.m4a  --  1199\n",
      "filesprocess:  ./CLEAN_WOLOF_FOR_MEMORY/5_Juróom/pas_clean_28072401mince.m4a  --  1200\n",
      "filesprocess:  ./CLEAN_WOLOF_FOR_MEMORY/5_Juróom/pas_clean_78844892rock.m4a  --  1201\n",
      "filesprocess:  ./CLEAN_WOLOF_FOR_MEMORY/5_Juróom/pas_clean_78844892mince.m4a  --  1202\n",
      "filesprocess:  ./CLEAN_WOLOF_FOR_MEMORY/5_Juróom/pas_clean_26158436rock.m4a  --  1203\n",
      "filesprocess:  ./CLEAN_WOLOF_FOR_MEMORY/5_Juróom/pas_clean_26158436mince.m4a  --  1204\n",
      "filesprocess:  ./CLEAN_WOLOF_FOR_MEMORY/5_Juróom/pas_clean_56032991rock.m4a  --  1205\n",
      "filesprocess:  ./CLEAN_WOLOF_FOR_MEMORY/5_Juróom/pas_clean_56032991mince.m4a  --  1206\n",
      "filesprocess:  ./CLEAN_WOLOF_FOR_MEMORY/5_Juróom/pas_clean_77383540rock.m4a  --  1207\n",
      "filesprocess:  ./CLEAN_WOLOF_FOR_MEMORY/5_Juróom/pas_clean_77383540mince.m4a  --  1208\n",
      "filesprocess:  ./CLEAN_WOLOF_FOR_MEMORY/5_Juróom/pas_clean_53115493rock.m4a  --  1209\n",
      "filesprocess:  ./CLEAN_WOLOF_FOR_MEMORY/5_Juróom/pas_clean_53115493mince.m4a  --  1210\n",
      "filesprocess:  ./CLEAN_WOLOF_FOR_MEMORY/5_Juróom/pas_clean_73463879rock.m4a  --  1211\n",
      "filesprocess:  ./CLEAN_WOLOF_FOR_MEMORY/5_Juróom/pas_clean_73463879mince.m4a  --  1212\n",
      "filesprocess:  ./CLEAN_WOLOF_FOR_MEMORY/5_Juróom/pas_clean_41883707rock.m4a  --  1213\n",
      "filesprocess:  ./CLEAN_WOLOF_FOR_MEMORY/5_Juróom/pas_clean_41883707mince.m4a  --  1214\n",
      "filesprocess:  ./CLEAN_WOLOF_FOR_MEMORY/5_Juróom/AUDIO-2021-05-25-07-42-05rock.m4a  --  1215\n",
      "filesprocess:  ./CLEAN_WOLOF_FOR_MEMORY/5_Juróom/AUDIO-2021-05-25-07-42-05mince.m4a  --  1216\n",
      "filesprocess:  ./CLEAN_WOLOF_FOR_MEMORY/5_Juróom/AUDIO-2021-05-25-06-52-21rock.m4a  --  1217\n",
      "filesprocess:  ./CLEAN_WOLOF_FOR_MEMORY/5_Juróom/AUDIO-2021-05-25-06-52-21mince.m4a  --  1218\n",
      "filesprocess:  ./CLEAN_WOLOF_FOR_MEMORY/5_Juróom/AUDIO-2021-05-25-06-55-39rock.m4a  --  1219\n",
      "filesprocess:  ./CLEAN_WOLOF_FOR_MEMORY/5_Juróom/AUDIO-2021-05-25-06-55-39mince.m4a  --  1220\n",
      "filesprocess:  ./CLEAN_WOLOF_FOR_MEMORY/5_Juróom/AUDIO-2021-05-25-06-55-44rock.m4a  --  1221\n",
      "filesprocess:  ./CLEAN_WOLOF_FOR_MEMORY/5_Juróom/AUDIO-2021-05-25-06-55-44mince.m4a  --  1222\n",
      "filesprocess:  ./CLEAN_WOLOF_FOR_MEMORY/5_Juróom/AUDIO-2021-05-25-06-55-49rock.m4a  --  1223\n",
      "filesprocess:  ./CLEAN_WOLOF_FOR_MEMORY/5_Juróom/AUDIO-2021-05-25-06-55-49mince.m4a  --  1224\n",
      "filesprocess:  ./CLEAN_WOLOF_FOR_MEMORY/5_Juróom/pas_clean_77383540 (copie)rock.m4a  --  1225\n",
      "filesprocess:  ./CLEAN_WOLOF_FOR_MEMORY/5_Juróom/pas_clean_77383540 (copie)mince.m4a  --  1226\n",
      "filesprocess:  ./CLEAN_WOLOF_FOR_MEMORY/5_Juróom/pas_clean_62128159 (copie)rock.m4a  --  1227\n",
      "filesprocess:  ./CLEAN_WOLOF_FOR_MEMORY/5_Juróom/pas_clean_62128159 (copie)mince.m4a  --  1228\n",
      "filesprocess:  ./CLEAN_WOLOF_FOR_MEMORY/5_Juróom/AUDIO-2021-05-25-14-55-18rock.m4a  --  1229\n",
      "filesprocess:  ./CLEAN_WOLOF_FOR_MEMORY/5_Juróom/AUDIO-2021-05-25-14-55-18mince.m4a  --  1230\n"
     ]
    }
   ],
   "source": [
    "i = 0\n",
    "\n",
    "n0 , sr = l.load(ll[0])\n",
    "#n1 , sr = l.load(ll[1])\n",
    "n2 , sr = l.load(ll[2])\n",
    "\n",
    "n0 = n0 / 2.5\n",
    "#n1 = n1 / 12\n",
    "n2 = n2 / 2\n",
    "\n",
    "for d in glob(\"./CLEAN_WOLOF_FOR_MEMORY/*\"):\n",
    "    print(d)\n",
    "    for f in glob(d+\"/*\"):\n",
    "        i = i+1\n",
    "        wav, sr = l.load(f,sr=22050)\n",
    "        print(\"filesprocess: \", f , \" -- \", i)\n",
    "        \n",
    "        # bruit 0\n",
    "        d = np.random.randint(1, 1000000)\n",
    "        wav_n0 = wav + n0[d:d+len(wav)] \n",
    "        write(f[:-4]+\"n0\"+\".m4a\", sr, wav_n0 )\n",
    "        \n",
    "        # bruit 1\n",
    "        #d = np.random.randint(1, 1000000)\n",
    "        #wav_n1 = wav + n1[d:d+len(wav)] \n",
    "        #write(f[:-4]+\"n1\"+\".m4a\", sr, wav_n1 )\n",
    "        \n",
    "        # bruit 2\n",
    "        d = np.random.randint(1, 1000000)\n",
    "        wav_n2 = wav + n2[d:d+len(wav)] \n",
    "        write(f[:-4]+\"n2\"+\".m4a\", sr, wav_n2 )"
   ]
  },
  {
   "cell_type": "markdown",
   "metadata": {},
   "source": [
    "# Ecrire ceux qui sont aussi < a 70 miles "
   ]
  },
  {
   "cell_type": "code",
   "execution_count": null,
   "metadata": {},
   "outputs": [
    {
     "name": "stdout",
     "output_type": "stream",
     "text": [
      " CHIFFRE : :  8_Juróom-Ñett\n"
     ]
    },
    {
     "name": "stderr",
     "output_type": "stream",
     "text": [
      "/home/ibrahimabarry01/anaconda3/lib/python3.8/site-packages/librosa/core/audio.py:162: UserWarning: PySoundFile failed. Trying audioread instead.\n",
      "  warnings.warn(\"PySoundFile failed. Trying audioread instead.\")\n"
     ]
    },
    {
     "name": "stdout",
     "output_type": "stream",
     "text": [
      "filesprocess:  ./WOLOF_FOR_MEMORY/8_Juróom-Ñett/AUDIO-2021-05-22-20-51-38.m4a  --  1\n",
      "  len --  37603   --  Ecrit ......\n"
     ]
    },
    {
     "name": "stderr",
     "output_type": "stream",
     "text": [
      "/home/ibrahimabarry01/anaconda3/lib/python3.8/site-packages/librosa/core/audio.py:162: UserWarning: PySoundFile failed. Trying audioread instead.\n",
      "  warnings.warn(\"PySoundFile failed. Trying audioread instead.\")\n"
     ]
    },
    {
     "name": "stdout",
     "output_type": "stream",
     "text": [
      "filesprocess:  ./WOLOF_FOR_MEMORY/8_Juróom-Ñett/AUDIO-2021-05-22-19-26-23.m4a  --  2\n",
      "  len --  33840   --  Ecrit ......\n"
     ]
    },
    {
     "name": "stderr",
     "output_type": "stream",
     "text": [
      "/home/ibrahimabarry01/anaconda3/lib/python3.8/site-packages/librosa/core/audio.py:162: UserWarning: PySoundFile failed. Trying audioread instead.\n",
      "  warnings.warn(\"PySoundFile failed. Trying audioread instead.\")\n"
     ]
    },
    {
     "name": "stdout",
     "output_type": "stream",
     "text": [
      "filesprocess:  ./WOLOF_FOR_MEMORY/8_Juróom-Ñett/AUDIO-2021-05-22-18-04-08.m4a  --  3\n",
      "  len --  31017   --  Ecrit ......\n"
     ]
    },
    {
     "name": "stderr",
     "output_type": "stream",
     "text": [
      "/home/ibrahimabarry01/anaconda3/lib/python3.8/site-packages/librosa/core/audio.py:162: UserWarning: PySoundFile failed. Trying audioread instead.\n",
      "  warnings.warn(\"PySoundFile failed. Trying audioread instead.\")\n"
     ]
    },
    {
     "name": "stdout",
     "output_type": "stream",
     "text": [
      "filesprocess:  ./WOLOF_FOR_MEMORY/8_Juróom-Ñett/AUDIO-2021-05-22-20-04-41.m4a  --  4\n",
      "  len --  56889   --  Ecrit ......\n"
     ]
    },
    {
     "name": "stderr",
     "output_type": "stream",
     "text": [
      "/home/ibrahimabarry01/anaconda3/lib/python3.8/site-packages/librosa/core/audio.py:162: UserWarning: PySoundFile failed. Trying audioread instead.\n",
      "  warnings.warn(\"PySoundFile failed. Trying audioread instead.\")\n"
     ]
    },
    {
     "name": "stdout",
     "output_type": "stream",
     "text": [
      "filesprocess:  ./WOLOF_FOR_MEMORY/8_Juróom-Ñett/AUDIO-2021-05-22-14-04-40.m4a  --  5\n",
      "  len --  55949   --  Ecrit ......\n"
     ]
    },
    {
     "name": "stderr",
     "output_type": "stream",
     "text": [
      "/home/ibrahimabarry01/anaconda3/lib/python3.8/site-packages/librosa/core/audio.py:162: UserWarning: PySoundFile failed. Trying audioread instead.\n",
      "  warnings.warn(\"PySoundFile failed. Trying audioread instead.\")\n"
     ]
    },
    {
     "name": "stdout",
     "output_type": "stream",
     "text": [
      "filesprocess:  ./WOLOF_FOR_MEMORY/8_Juróom-Ñett/AUDIO-2021-05-22-13-27-46.m4a  --  6\n",
      "  len --  45129   --  Ecrit ......\n"
     ]
    },
    {
     "name": "stderr",
     "output_type": "stream",
     "text": [
      "/home/ibrahimabarry01/anaconda3/lib/python3.8/site-packages/librosa/core/audio.py:162: UserWarning: PySoundFile failed. Trying audioread instead.\n",
      "  warnings.warn(\"PySoundFile failed. Trying audioread instead.\")\n"
     ]
    },
    {
     "name": "stdout",
     "output_type": "stream",
     "text": [
      "filesprocess:  ./WOLOF_FOR_MEMORY/8_Juróom-Ñett/AUDIO-2021-05-16-20-17-05.m4a  --  7\n",
      "  len --  32429   --  Ecrit ......\n"
     ]
    },
    {
     "name": "stderr",
     "output_type": "stream",
     "text": [
      "/home/ibrahimabarry01/anaconda3/lib/python3.8/site-packages/librosa/core/audio.py:162: UserWarning: PySoundFile failed. Trying audioread instead.\n",
      "  warnings.warn(\"PySoundFile failed. Trying audioread instead.\")\n"
     ]
    },
    {
     "name": "stdout",
     "output_type": "stream",
     "text": [
      "filesprocess:  ./WOLOF_FOR_MEMORY/8_Juróom-Ñett/AUDIO-2021-05-16-20-28-08.m4a  --  8\n",
      "  len --  71001   --  Ecrit ......\n"
     ]
    },
    {
     "name": "stderr",
     "output_type": "stream",
     "text": [
      "/home/ibrahimabarry01/anaconda3/lib/python3.8/site-packages/librosa/core/audio.py:162: UserWarning: PySoundFile failed. Trying audioread instead.\n",
      "  warnings.warn(\"PySoundFile failed. Trying audioread instead.\")\n"
     ]
    },
    {
     "name": "stdout",
     "output_type": "stream",
     "text": [
      "filesprocess:  ./WOLOF_FOR_MEMORY/8_Juróom-Ñett/AUDIO-2021-05-16-23-21-22.m4a  --  9\n",
      "  len --  68649   --  Ecrit ......\n"
     ]
    },
    {
     "name": "stderr",
     "output_type": "stream",
     "text": [
      "/home/ibrahimabarry01/anaconda3/lib/python3.8/site-packages/librosa/core/audio.py:162: UserWarning: PySoundFile failed. Trying audioread instead.\n",
      "  warnings.warn(\"PySoundFile failed. Trying audioread instead.\")\n"
     ]
    },
    {
     "name": "stdout",
     "output_type": "stream",
     "text": [
      "filesprocess:  ./WOLOF_FOR_MEMORY/8_Juróom-Ñett/AUDIO-2021-05-16-23-52-15.m4a  --  10\n",
      "  len --  27725   --  Ecrit ......\n"
     ]
    },
    {
     "name": "stderr",
     "output_type": "stream",
     "text": [
      "/home/ibrahimabarry01/anaconda3/lib/python3.8/site-packages/librosa/core/audio.py:162: UserWarning: PySoundFile failed. Trying audioread instead.\n",
      "  warnings.warn(\"PySoundFile failed. Trying audioread instead.\")\n"
     ]
    },
    {
     "name": "stdout",
     "output_type": "stream",
     "text": [
      "filesprocess:  ./WOLOF_FOR_MEMORY/8_Juróom-Ñett/AUDIO-2021-05-17-00-06-55.m4a  --  11\n",
      "  len --  25843   --  Ecrit ......\n"
     ]
    },
    {
     "name": "stderr",
     "output_type": "stream",
     "text": [
      "/home/ibrahimabarry01/anaconda3/lib/python3.8/site-packages/librosa/core/audio.py:162: UserWarning: PySoundFile failed. Trying audioread instead.\n",
      "  warnings.warn(\"PySoundFile failed. Trying audioread instead.\")\n"
     ]
    },
    {
     "name": "stdout",
     "output_type": "stream",
     "text": [
      "filesprocess:  ./WOLOF_FOR_MEMORY/8_Juróom-Ñett/AUDIO-2021-05-11-15-22-17.m4a  --  12\n",
      "  len --  42777   --  Ecrit ......\n"
     ]
    },
    {
     "name": "stderr",
     "output_type": "stream",
     "text": [
      "/home/ibrahimabarry01/anaconda3/lib/python3.8/site-packages/librosa/core/audio.py:162: UserWarning: PySoundFile failed. Trying audioread instead.\n",
      "  warnings.warn(\"PySoundFile failed. Trying audioread instead.\")\n"
     ]
    },
    {
     "name": "stdout",
     "output_type": "stream",
     "text": [
      "filesprocess:  ./WOLOF_FOR_MEMORY/8_Juróom-Ñett/AUDIO-2021-05-18-14-34-41.m4a  --  13\n",
      "  len --  38073   --  Ecrit ......\n"
     ]
    },
    {
     "name": "stderr",
     "output_type": "stream",
     "text": [
      "/home/ibrahimabarry01/anaconda3/lib/python3.8/site-packages/librosa/core/audio.py:162: UserWarning: PySoundFile failed. Trying audioread instead.\n",
      "  warnings.warn(\"PySoundFile failed. Trying audioread instead.\")\n"
     ]
    },
    {
     "name": "stdout",
     "output_type": "stream",
     "text": [
      "filesprocess:  ./WOLOF_FOR_MEMORY/8_Juróom-Ñett/AUDIO-2021-05-18-19-55-12.m4a  --  14\n",
      "  len --  71472   --  Ecrit ......\n"
     ]
    },
    {
     "name": "stderr",
     "output_type": "stream",
     "text": [
      "/home/ibrahimabarry01/anaconda3/lib/python3.8/site-packages/librosa/core/audio.py:162: UserWarning: PySoundFile failed. Trying audioread instead.\n",
      "  warnings.warn(\"PySoundFile failed. Trying audioread instead.\")\n"
     ]
    },
    {
     "name": "stdout",
     "output_type": "stream",
     "text": [
      "filesprocess:  ./WOLOF_FOR_MEMORY/8_Juróom-Ñett/AUDIO-2021-05-18-21-52-49.m4a  --  15\n",
      "  len --  33840   --  Ecrit ......\n"
     ]
    },
    {
     "name": "stderr",
     "output_type": "stream",
     "text": [
      "/home/ibrahimabarry01/anaconda3/lib/python3.8/site-packages/librosa/core/audio.py:162: UserWarning: PySoundFile failed. Trying audioread instead.\n",
      "  warnings.warn(\"PySoundFile failed. Trying audioread instead.\")\n"
     ]
    },
    {
     "name": "stdout",
     "output_type": "stream",
     "text": [
      "filesprocess:  ./WOLOF_FOR_MEMORY/8_Juróom-Ñett/AUDIO-2021-05-18-20-59-14_1.m4a  --  16\n",
      "  len --  70656   --  Ecrit ......\n"
     ]
    },
    {
     "name": "stderr",
     "output_type": "stream",
     "text": [
      "/home/ibrahimabarry01/anaconda3/lib/python3.8/site-packages/librosa/core/audio.py:162: UserWarning: PySoundFile failed. Trying audioread instead.\n",
      "  warnings.warn(\"PySoundFile failed. Trying audioread instead.\")\n"
     ]
    },
    {
     "name": "stdout",
     "output_type": "stream",
     "text": [
      "filesprocess:  ./WOLOF_FOR_MEMORY/8_Juróom-Ñett/AUDIO-2021-05-19-21-40-15.m4a  --  17\n",
      "  len --  55478   --  Ecrit ......\n"
     ]
    },
    {
     "name": "stderr",
     "output_type": "stream",
     "text": [
      "/home/ibrahimabarry01/anaconda3/lib/python3.8/site-packages/librosa/core/audio.py:162: UserWarning: PySoundFile failed. Trying audioread instead.\n",
      "  warnings.warn(\"PySoundFile failed. Trying audioread instead.\")\n"
     ]
    },
    {
     "name": "stdout",
     "output_type": "stream",
     "text": [
      "filesprocess:  ./WOLOF_FOR_MEMORY/8_Juróom-Ñett/AUDIO-2021-05-19-22-01-19.m4a  --  18\n",
      "  len --  59241   --  Ecrit ......\n"
     ]
    },
    {
     "name": "stderr",
     "output_type": "stream",
     "text": [
      "/home/ibrahimabarry01/anaconda3/lib/python3.8/site-packages/librosa/core/audio.py:162: UserWarning: PySoundFile failed. Trying audioread instead.\n",
      "  warnings.warn(\"PySoundFile failed. Trying audioread instead.\")\n"
     ]
    },
    {
     "name": "stdout",
     "output_type": "stream",
     "text": [
      "filesprocess:  ./WOLOF_FOR_MEMORY/8_Juróom-Ñett/AUDIO-2021-05-20-17-49-25.m4a  --  19\n",
      "  len --  58301   --  Ecrit ......\n"
     ]
    },
    {
     "name": "stderr",
     "output_type": "stream",
     "text": [
      "/home/ibrahimabarry01/anaconda3/lib/python3.8/site-packages/librosa/core/audio.py:162: UserWarning: PySoundFile failed. Trying audioread instead.\n",
      "  warnings.warn(\"PySoundFile failed. Trying audioread instead.\")\n"
     ]
    },
    {
     "name": "stdout",
     "output_type": "stream",
     "text": [
      "filesprocess:  ./WOLOF_FOR_MEMORY/8_Juróom-Ñett/AUDIO-2021-05-20-17-59-12.m4a  --  20\n",
      "  len --  24432   --  Ecrit ......\n"
     ]
    },
    {
     "name": "stderr",
     "output_type": "stream",
     "text": [
      "/home/ibrahimabarry01/anaconda3/lib/python3.8/site-packages/librosa/core/audio.py:162: UserWarning: PySoundFile failed. Trying audioread instead.\n",
      "  warnings.warn(\"PySoundFile failed. Trying audioread instead.\")\n"
     ]
    },
    {
     "name": "stdout",
     "output_type": "stream",
     "text": [
      "filesprocess:  ./WOLOF_FOR_MEMORY/8_Juróom-Ñett/AUDIO-2021-05-16-23-16-43.m4a  --  21\n",
      "  len --  23961   --  Ecrit ......\n"
     ]
    },
    {
     "name": "stderr",
     "output_type": "stream",
     "text": [
      "/home/ibrahimabarry01/anaconda3/lib/python3.8/site-packages/librosa/core/audio.py:162: UserWarning: PySoundFile failed. Trying audioread instead.\n",
      "  warnings.warn(\"PySoundFile failed. Trying audioread instead.\")\n"
     ]
    },
    {
     "name": "stdout",
     "output_type": "stream",
     "text": [
      "filesprocess:  ./WOLOF_FOR_MEMORY/8_Juróom-Ñett/AUDIO-2021-05-20-21-03-16_1.m4a  --  22\n",
      "  len --  65827   --  Ecrit ......\n"
     ]
    },
    {
     "name": "stderr",
     "output_type": "stream",
     "text": [
      "/home/ibrahimabarry01/anaconda3/lib/python3.8/site-packages/librosa/core/audio.py:162: UserWarning: PySoundFile failed. Trying audioread instead.\n",
      "  warnings.warn(\"PySoundFile failed. Trying audioread instead.\")\n"
     ]
    },
    {
     "name": "stdout",
     "output_type": "stream",
     "text": [
      "filesprocess:  ./WOLOF_FOR_MEMORY/8_Juróom-Ñett/AUDIO-2021-05-21-00-25-59.m4a  --  23\n",
      "  len --  46541   --  Ecrit ......\n"
     ]
    },
    {
     "name": "stderr",
     "output_type": "stream",
     "text": [
      "/home/ibrahimabarry01/anaconda3/lib/python3.8/site-packages/librosa/core/audio.py:162: UserWarning: PySoundFile failed. Trying audioread instead.\n",
      "  warnings.warn(\"PySoundFile failed. Trying audioread instead.\")\n"
     ]
    },
    {
     "name": "stdout",
     "output_type": "stream",
     "text": [
      "filesprocess:  ./WOLOF_FOR_MEMORY/8_Juróom-Ñett/AUDIO-2021-05-21-00-12-53.m4a  --  24\n",
      "  len --  25843   --  Ecrit ......\n"
     ]
    },
    {
     "name": "stderr",
     "output_type": "stream",
     "text": [
      "/home/ibrahimabarry01/anaconda3/lib/python3.8/site-packages/librosa/core/audio.py:162: UserWarning: PySoundFile failed. Trying audioread instead.\n",
      "  warnings.warn(\"PySoundFile failed. Trying audioread instead.\")\n"
     ]
    },
    {
     "name": "stdout",
     "output_type": "stream",
     "text": [
      "filesprocess:  ./WOLOF_FOR_MEMORY/8_Juróom-Ñett/AUDIO-2021-05-21-00-47-46.m4a  --  25\n",
      "  len --  42777   --  Ecrit ......\n"
     ]
    },
    {
     "name": "stderr",
     "output_type": "stream",
     "text": [
      "/home/ibrahimabarry01/anaconda3/lib/python3.8/site-packages/librosa/core/audio.py:162: UserWarning: PySoundFile failed. Trying audioread instead.\n",
      "  warnings.warn(\"PySoundFile failed. Trying audioread instead.\")\n"
     ]
    },
    {
     "name": "stdout",
     "output_type": "stream",
     "text": [
      "filesprocess:  ./WOLOF_FOR_MEMORY/8_Juróom-Ñett/AUDIO-2021-05-20-23-57-16.m4a  --  26\n",
      "  len --  66768   --  Ecrit ......\n"
     ]
    },
    {
     "name": "stderr",
     "output_type": "stream",
     "text": [
      "/home/ibrahimabarry01/anaconda3/lib/python3.8/site-packages/librosa/core/audio.py:162: UserWarning: PySoundFile failed. Trying audioread instead.\n",
      "  warnings.warn(\"PySoundFile failed. Trying audioread instead.\")\n"
     ]
    },
    {
     "name": "stdout",
     "output_type": "stream",
     "text": [
      "filesprocess:  ./WOLOF_FOR_MEMORY/8_Juróom-Ñett/AUDIO-2021-05-20-19-51-54.m4a  --  27\n",
      "  len --  30077   --  Ecrit ......\n"
     ]
    },
    {
     "name": "stderr",
     "output_type": "stream",
     "text": [
      "/home/ibrahimabarry01/anaconda3/lib/python3.8/site-packages/librosa/core/audio.py:162: UserWarning: PySoundFile failed. Trying audioread instead.\n",
      "  warnings.warn(\"PySoundFile failed. Trying audioread instead.\")\n"
     ]
    },
    {
     "name": "stdout",
     "output_type": "stream",
     "text": [
      "filesprocess:  ./WOLOF_FOR_MEMORY/8_Juróom-Ñett/AUDIO-2021-05-21-01-03-18.m4a  --  28\n",
      "  len --  47481   --  Ecrit ......\n"
     ]
    },
    {
     "name": "stderr",
     "output_type": "stream",
     "text": [
      "/home/ibrahimabarry01/anaconda3/lib/python3.8/site-packages/librosa/core/audio.py:162: UserWarning: PySoundFile failed. Trying audioread instead.\n",
      "  warnings.warn(\"PySoundFile failed. Trying audioread instead.\")\n"
     ]
    },
    {
     "name": "stdout",
     "output_type": "stream",
     "text": [
      "filesprocess:  ./WOLOF_FOR_MEMORY/8_Juróom-Ñett/AUDIO-2021-05-20-21-28-23.m4a  --  29\n",
      "  len --  45129   --  Ecrit ......\n"
     ]
    },
    {
     "name": "stderr",
     "output_type": "stream",
     "text": [
      "/home/ibrahimabarry01/anaconda3/lib/python3.8/site-packages/librosa/core/audio.py:162: UserWarning: PySoundFile failed. Trying audioread instead.\n",
      "  warnings.warn(\"PySoundFile failed. Trying audioread instead.\")\n"
     ]
    },
    {
     "name": "stdout",
     "output_type": "stream",
     "text": [
      "filesprocess:  ./WOLOF_FOR_MEMORY/8_Juróom-Ñett/AUDIO-2021-05-21-19-33-28.m4a  --  30\n",
      "  len --  30547   --  Ecrit ......\n"
     ]
    },
    {
     "name": "stderr",
     "output_type": "stream",
     "text": [
      "/home/ibrahimabarry01/anaconda3/lib/python3.8/site-packages/librosa/core/audio.py:162: UserWarning: PySoundFile failed. Trying audioread instead.\n",
      "  warnings.warn(\"PySoundFile failed. Trying audioread instead.\")\n"
     ]
    },
    {
     "name": "stdout",
     "output_type": "stream",
     "text": [
      "filesprocess:  ./WOLOF_FOR_MEMORY/8_Juróom-Ñett/AUDIO-2021-05-21-21-38-54.m4a  --  31\n"
     ]
    },
    {
     "data": {
      "image/png": "[encoded data removed]",
      "text/plain": [
       "<Figure size 720x360 with 1 Axes>"
      ]
     },
     "metadata": {
      "needs_background": "light"
     },
     "output_type": "display_data"
    },
    {
     "name": "stdout",
     "output_type": "stream",
     "text": [
      "Entrer debut : 60000\n",
      "Entrer din : 90000\n"
     ]
    },
    {
     "name": "stderr",
     "output_type": "stream",
     "text": [
      "/home/ibrahimabarry01/anaconda3/lib/python3.8/site-packages/librosa/core/audio.py:162: UserWarning: PySoundFile failed. Trying audioread instead.\n",
      "  warnings.warn(\"PySoundFile failed. Trying audioread instead.\")\n"
     ]
    },
    {
     "name": "stdout",
     "output_type": "stream",
     "text": [
      "filesprocess:  ./WOLOF_FOR_MEMORY/8_Juróom-Ñett/AUDIO-2021-05-20-17-39-49.m4a  --  32\n",
      "  len --  49833   --  Ecrit ......\n"
     ]
    },
    {
     "name": "stderr",
     "output_type": "stream",
     "text": [
      "/home/ibrahimabarry01/anaconda3/lib/python3.8/site-packages/librosa/core/audio.py:162: UserWarning: PySoundFile failed. Trying audioread instead.\n",
      "  warnings.warn(\"PySoundFile failed. Trying audioread instead.\")\n"
     ]
    },
    {
     "name": "stdout",
     "output_type": "stream",
     "text": [
      "filesprocess:  ./WOLOF_FOR_MEMORY/8_Juróom-Ñett/AUDIO-2021-05-16-23-32-09.m4a  --  33\n",
      "  len --  47952   --  Ecrit ......\n"
     ]
    },
    {
     "name": "stderr",
     "output_type": "stream",
     "text": [
      "/home/ibrahimabarry01/anaconda3/lib/python3.8/site-packages/librosa/core/audio.py:162: UserWarning: PySoundFile failed. Trying audioread instead.\n",
      "  warnings.warn(\"PySoundFile failed. Trying audioread instead.\")\n"
     ]
    },
    {
     "name": "stdout",
     "output_type": "stream",
     "text": [
      "filesprocess:  ./WOLOF_FOR_MEMORY/8_Juróom-Ñett/AUDIO-2021-05-22-10-47-25.m4a  --  34\n",
      "  len --  30547   --  Ecrit ......\n",
      " CHIFFRE : :  4_Ñent\n"
     ]
    },
    {
     "name": "stderr",
     "output_type": "stream",
     "text": [
      "/home/ibrahimabarry01/anaconda3/lib/python3.8/site-packages/librosa/core/audio.py:162: UserWarning: PySoundFile failed. Trying audioread instead.\n",
      "  warnings.warn(\"PySoundFile failed. Trying audioread instead.\")\n"
     ]
    },
    {
     "name": "stdout",
     "output_type": "stream",
     "text": [
      "filesprocess:  ./WOLOF_FOR_MEMORY/4_Ñent/AUDIO-2021-05-22-20-50-41.m4a  --  35\n",
      "  len --  51715   --  Ecrit ......\n"
     ]
    },
    {
     "name": "stderr",
     "output_type": "stream",
     "text": [
      "/home/ibrahimabarry01/anaconda3/lib/python3.8/site-packages/librosa/core/audio.py:162: UserWarning: PySoundFile failed. Trying audioread instead.\n",
      "  warnings.warn(\"PySoundFile failed. Trying audioread instead.\")\n"
     ]
    },
    {
     "name": "stdout",
     "output_type": "stream",
     "text": [
      "filesprocess:  ./WOLOF_FOR_MEMORY/4_Ñent/AUDIO-2021-05-22-19-26-09.m4a  --  36\n",
      "  len --  35721   --  Ecrit ......\n"
     ]
    },
    {
     "name": "stderr",
     "output_type": "stream",
     "text": [
      "/home/ibrahimabarry01/anaconda3/lib/python3.8/site-packages/librosa/core/audio.py:162: UserWarning: PySoundFile failed. Trying audioread instead.\n",
      "  warnings.warn(\"PySoundFile failed. Trying audioread instead.\")\n"
     ]
    },
    {
     "name": "stdout",
     "output_type": "stream",
     "text": [
      "filesprocess:  ./WOLOF_FOR_MEMORY/4_Ñent/AUDIO-2021-05-22-18-03-51.m4a  --  37\n",
      "  len --  31017   --  Ecrit ......\n"
     ]
    },
    {
     "name": "stderr",
     "output_type": "stream",
     "text": [
      "/home/ibrahimabarry01/anaconda3/lib/python3.8/site-packages/librosa/core/audio.py:162: UserWarning: PySoundFile failed. Trying audioread instead.\n",
      "  warnings.warn(\"PySoundFile failed. Trying audioread instead.\")\n"
     ]
    },
    {
     "name": "stdout",
     "output_type": "stream",
     "text": [
      "filesprocess:  ./WOLOF_FOR_MEMORY/4_Ñent/AUDIO-2021-05-22-20-04-16.m4a  --  38\n",
      "  len --  63005   --  Ecrit ......\n"
     ]
    },
    {
     "name": "stderr",
     "output_type": "stream",
     "text": [
      "/home/ibrahimabarry01/anaconda3/lib/python3.8/site-packages/librosa/core/audio.py:162: UserWarning: PySoundFile failed. Trying audioread instead.\n",
      "  warnings.warn(\"PySoundFile failed. Trying audioread instead.\")\n"
     ]
    },
    {
     "name": "stdout",
     "output_type": "stream",
     "text": [
      "filesprocess:  ./WOLOF_FOR_MEMORY/4_Ñent/AUDIO-2021-05-22-14-04-18.m4a  --  39\n",
      "  len --  45129   --  Ecrit ......\n"
     ]
    },
    {
     "name": "stderr",
     "output_type": "stream",
     "text": [
      "/home/ibrahimabarry01/anaconda3/lib/python3.8/site-packages/librosa/core/audio.py:162: UserWarning: PySoundFile failed. Trying audioread instead.\n",
      "  warnings.warn(\"PySoundFile failed. Trying audioread instead.\")\n"
     ]
    },
    {
     "name": "stdout",
     "output_type": "stream",
     "text": [
      "filesprocess:  ./WOLOF_FOR_MEMORY/4_Ñent/AUDIO-2021-05-22-13-27-13.m4a  --  40\n",
      "  len --  44189   --  Ecrit ......\n"
     ]
    },
    {
     "name": "stderr",
     "output_type": "stream",
     "text": [
      "/home/ibrahimabarry01/anaconda3/lib/python3.8/site-packages/librosa/core/audio.py:162: UserWarning: PySoundFile failed. Trying audioread instead.\n",
      "  warnings.warn(\"PySoundFile failed. Trying audioread instead.\")\n"
     ]
    },
    {
     "name": "stdout",
     "output_type": "stream",
     "text": [
      "filesprocess:  ./WOLOF_FOR_MEMORY/4_Ñent/AUDIO-2021-05-16-20-16-08.m4a  --  41\n",
      "  len --  36662   --  Ecrit ......\n"
     ]
    },
    {
     "name": "stderr",
     "output_type": "stream",
     "text": [
      "/home/ibrahimabarry01/anaconda3/lib/python3.8/site-packages/librosa/core/audio.py:162: UserWarning: PySoundFile failed. Trying audioread instead.\n",
      "  warnings.warn(\"PySoundFile failed. Trying audioread instead.\")\n"
     ]
    },
    {
     "name": "stdout",
     "output_type": "stream",
     "text": [
      "filesprocess:  ./WOLOF_FOR_MEMORY/4_Ñent/AUDIO-2021-05-16-20-26-37.m4a  --  42\n",
      "  len --  63005   --  Ecrit ......\n"
     ]
    },
    {
     "name": "stderr",
     "output_type": "stream",
     "text": [
      "/home/ibrahimabarry01/anaconda3/lib/python3.8/site-packages/librosa/core/audio.py:162: UserWarning: PySoundFile failed. Trying audioread instead.\n",
      "  warnings.warn(\"PySoundFile failed. Trying audioread instead.\")\n"
     ]
    },
    {
     "name": "stdout",
     "output_type": "stream",
     "text": [
      "filesprocess:  ./WOLOF_FOR_MEMORY/4_Ñent/AUDIO-2021-05-16-23-21-00.m4a  --  43\n",
      "  len --  62534   --  Ecrit ......\n"
     ]
    },
    {
     "name": "stderr",
     "output_type": "stream",
     "text": [
      "/home/ibrahimabarry01/anaconda3/lib/python3.8/site-packages/librosa/core/audio.py:162: UserWarning: PySoundFile failed. Trying audioread instead.\n",
      "  warnings.warn(\"PySoundFile failed. Trying audioread instead.\")\n"
     ]
    },
    {
     "name": "stdout",
     "output_type": "stream",
     "text": [
      "filesprocess:  ./WOLOF_FOR_MEMORY/4_Ñent/AUDIO-2021-05-16-23-50-18.m4a  --  44\n",
      "  len --  28195   --  Ecrit ......\n"
     ]
    },
    {
     "name": "stderr",
     "output_type": "stream",
     "text": [
      "/home/ibrahimabarry01/anaconda3/lib/python3.8/site-packages/librosa/core/audio.py:162: UserWarning: PySoundFile failed. Trying audioread instead.\n",
      "  warnings.warn(\"PySoundFile failed. Trying audioread instead.\")\n"
     ]
    },
    {
     "name": "stdout",
     "output_type": "stream",
     "text": [
      "filesprocess:  ./WOLOF_FOR_MEMORY/4_Ñent/AUDIO-2021-05-17-00-06-36.m4a  --  45\n",
      "  len --  34310   --  Ecrit ......\n"
     ]
    },
    {
     "name": "stderr",
     "output_type": "stream",
     "text": [
      "/home/ibrahimabarry01/anaconda3/lib/python3.8/site-packages/librosa/core/audio.py:162: UserWarning: PySoundFile failed. Trying audioread instead.\n",
      "  warnings.warn(\"PySoundFile failed. Trying audioread instead.\")\n"
     ]
    },
    {
     "name": "stdout",
     "output_type": "stream",
     "text": [
      "filesprocess:  ./WOLOF_FOR_MEMORY/4_Ñent/AUDIO-2021-05-11-15-20-34.m4a  --  46\n",
      "  len --  48893   --  Ecrit ......\n"
     ]
    },
    {
     "name": "stderr",
     "output_type": "stream",
     "text": [
      "/home/ibrahimabarry01/anaconda3/lib/python3.8/site-packages/librosa/core/audio.py:162: UserWarning: PySoundFile failed. Trying audioread instead.\n",
      "  warnings.warn(\"PySoundFile failed. Trying audioread instead.\")\n"
     ]
    },
    {
     "name": "stdout",
     "output_type": "stream",
     "text": [
      "filesprocess:  ./WOLOF_FOR_MEMORY/4_Ñent/AUDIO-2021-05-18-01-10-22.m4a  --  47\n",
      "  len --  31017   --  Ecrit ......\n"
     ]
    },
    {
     "name": "stderr",
     "output_type": "stream",
     "text": [
      "/home/ibrahimabarry01/anaconda3/lib/python3.8/site-packages/librosa/core/audio.py:162: UserWarning: PySoundFile failed. Trying audioread instead.\n",
      "  warnings.warn(\"PySoundFile failed. Trying audioread instead.\")\n"
     ]
    },
    {
     "name": "stdout",
     "output_type": "stream",
     "text": [
      "filesprocess:  ./WOLOF_FOR_MEMORY/4_Ñent/AUDIO-2021-05-18-14-34-19.m4a  --  48\n",
      "  len --  23021   --  Ecrit ......\n"
     ]
    },
    {
     "name": "stderr",
     "output_type": "stream",
     "text": [
      "/home/ibrahimabarry01/anaconda3/lib/python3.8/site-packages/librosa/core/audio.py:162: UserWarning: PySoundFile failed. Trying audioread instead.\n",
      "  warnings.warn(\"PySoundFile failed. Trying audioread instead.\")\n"
     ]
    },
    {
     "name": "stdout",
     "output_type": "stream",
     "text": [
      "filesprocess:  ./WOLOF_FOR_MEMORY/4_Ñent/AUDIO-2021-05-18-20-40-26.m4a  --  49\n",
      "  len --  35721   --  Ecrit ......\n"
     ]
    },
    {
     "name": "stderr",
     "output_type": "stream",
     "text": [
      "/home/ibrahimabarry01/anaconda3/lib/python3.8/site-packages/librosa/core/audio.py:162: UserWarning: PySoundFile failed. Trying audioread instead.\n",
      "  warnings.warn(\"PySoundFile failed. Trying audioread instead.\")\n"
     ]
    },
    {
     "name": "stdout",
     "output_type": "stream",
     "text": [
      "filesprocess:  ./WOLOF_FOR_MEMORY/4_Ñent/AUDIO-2021-05-18-21-52-29.m4a  --  50\n",
      "  len --  40425   --  Ecrit ......\n"
     ]
    },
    {
     "name": "stderr",
     "output_type": "stream",
     "text": [
      "/home/ibrahimabarry01/anaconda3/lib/python3.8/site-packages/librosa/core/audio.py:162: UserWarning: PySoundFile failed. Trying audioread instead.\n",
      "  warnings.warn(\"PySoundFile failed. Trying audioread instead.\")\n"
     ]
    },
    {
     "name": "stdout",
     "output_type": "stream",
     "text": [
      "filesprocess:  ./WOLOF_FOR_MEMORY/4_Ñent/AUDIO-2021-05-18-20-59-13.m4a  --  51\n",
      "  len --  45056   --  Ecrit ......\n"
     ]
    },
    {
     "name": "stderr",
     "output_type": "stream",
     "text": [
      "/home/ibrahimabarry01/anaconda3/lib/python3.8/site-packages/librosa/core/audio.py:162: UserWarning: PySoundFile failed. Trying audioread instead.\n",
      "  warnings.warn(\"PySoundFile failed. Trying audioread instead.\")\n"
     ]
    },
    {
     "name": "stdout",
     "output_type": "stream",
     "text": [
      "filesprocess:  ./WOLOF_FOR_MEMORY/4_Ñent/AUDIO-2021-05-19-21-39-34.m4a  --  52\n",
      "  len --  63475   --  Ecrit ......\n"
     ]
    },
    {
     "name": "stderr",
     "output_type": "stream",
     "text": [
      "/home/ibrahimabarry01/anaconda3/lib/python3.8/site-packages/librosa/core/audio.py:162: UserWarning: PySoundFile failed. Trying audioread instead.\n",
      "  warnings.warn(\"PySoundFile failed. Trying audioread instead.\")\n"
     ]
    },
    {
     "name": "stdout",
     "output_type": "stream",
     "text": [
      "filesprocess:  ./WOLOF_FOR_MEMORY/4_Ñent/AUDIO-2021-05-19-22-00-38.m4a  --  53\n",
      "  len --  53597   --  Ecrit ......\n"
     ]
    },
    {
     "name": "stderr",
     "output_type": "stream",
     "text": [
      "/home/ibrahimabarry01/anaconda3/lib/python3.8/site-packages/librosa/core/audio.py:162: UserWarning: PySoundFile failed. Trying audioread instead.\n",
      "  warnings.warn(\"PySoundFile failed. Trying audioread instead.\")\n"
     ]
    },
    {
     "name": "stdout",
     "output_type": "stream",
     "text": [
      "filesprocess:  ./WOLOF_FOR_MEMORY/4_Ñent/AUDIO-2021-05-20-17-49-00.m4a  --  54\n",
      "  len --  61123   --  Ecrit ......\n"
     ]
    },
    {
     "name": "stderr",
     "output_type": "stream",
     "text": [
      "/home/ibrahimabarry01/anaconda3/lib/python3.8/site-packages/librosa/core/audio.py:162: UserWarning: PySoundFile failed. Trying audioread instead.\n",
      "  warnings.warn(\"PySoundFile failed. Trying audioread instead.\")\n"
     ]
    },
    {
     "name": "stdout",
     "output_type": "stream",
     "text": [
      "filesprocess:  ./WOLOF_FOR_MEMORY/4_Ñent/AUDIO-2021-05-16-23-16-29.m4a  --  55\n",
      "  len --  17376   --  Ecrit ......\n"
     ]
    },
    {
     "name": "stderr",
     "output_type": "stream",
     "text": [
      "/home/ibrahimabarry01/anaconda3/lib/python3.8/site-packages/librosa/core/audio.py:162: UserWarning: PySoundFile failed. Trying audioread instead.\n",
      "  warnings.warn(\"PySoundFile failed. Trying audioread instead.\")\n"
     ]
    },
    {
     "name": "stdout",
     "output_type": "stream",
     "text": [
      "filesprocess:  ./WOLOF_FOR_MEMORY/4_Ñent/AUDIO-2021-05-20-21-03-14_1.m4a  --  56\n"
     ]
    },
    {
     "data": {
      "image/png": "[encoded data removed]",
      "text/plain": [
       "<Figure size 720x360 with 1 Axes>"
      ]
     },
     "metadata": {
      "needs_background": "light"
     },
     "output_type": "display_data"
    },
    {
     "name": "stdout",
     "output_type": "stream",
     "text": [
      "Entrer debut : 0\n",
      "Entrer din : 60000\n"
     ]
    },
    {
     "name": "stderr",
     "output_type": "stream",
     "text": [
      "/home/ibrahimabarry01/anaconda3/lib/python3.8/site-packages/librosa/core/audio.py:162: UserWarning: PySoundFile failed. Trying audioread instead.\n",
      "  warnings.warn(\"PySoundFile failed. Trying audioread instead.\")\n"
     ]
    },
    {
     "name": "stdout",
     "output_type": "stream",
     "text": [
      "filesprocess:  ./WOLOF_FOR_MEMORY/4_Ñent/AUDIO-2021-05-21-00-25-08.m4a  --  57\n",
      "  len --  37603   --  Ecrit ......\n"
     ]
    },
    {
     "name": "stderr",
     "output_type": "stream",
     "text": [
      "/home/ibrahimabarry01/anaconda3/lib/python3.8/site-packages/librosa/core/audio.py:162: UserWarning: PySoundFile failed. Trying audioread instead.\n",
      "  warnings.warn(\"PySoundFile failed. Trying audioread instead.\")\n"
     ]
    },
    {
     "name": "stdout",
     "output_type": "stream",
     "text": [
      "filesprocess:  ./WOLOF_FOR_MEMORY/4_Ñent/AUDIO-2021-05-21-00-12-34.m4a  --  58\n",
      "  len --  28665   --  Ecrit ......\n"
     ]
    },
    {
     "name": "stderr",
     "output_type": "stream",
     "text": [
      "/home/ibrahimabarry01/anaconda3/lib/python3.8/site-packages/librosa/core/audio.py:162: UserWarning: PySoundFile failed. Trying audioread instead.\n",
      "  warnings.warn(\"PySoundFile failed. Trying audioread instead.\")\n"
     ]
    },
    {
     "name": "stdout",
     "output_type": "stream",
     "text": [
      "filesprocess:  ./WOLOF_FOR_MEMORY/4_Ñent/AUDIO-2021-05-20-23-56-32.m4a  --  59\n",
      "  len --  46070   --  Ecrit ......\n"
     ]
    },
    {
     "name": "stderr",
     "output_type": "stream",
     "text": [
      "/home/ibrahimabarry01/anaconda3/lib/python3.8/site-packages/librosa/core/audio.py:162: UserWarning: PySoundFile failed. Trying audioread instead.\n",
      "  warnings.warn(\"PySoundFile failed. Trying audioread instead.\")\n"
     ]
    },
    {
     "name": "stdout",
     "output_type": "stream",
     "text": [
      "filesprocess:  ./WOLOF_FOR_MEMORY/4_Ñent/AUDIO-2021-05-20-19-51-31.m4a  --  60\n",
      "  len --  36662   --  Ecrit ......\n"
     ]
    },
    {
     "name": "stderr",
     "output_type": "stream",
     "text": [
      "/home/ibrahimabarry01/anaconda3/lib/python3.8/site-packages/librosa/core/audio.py:162: UserWarning: PySoundFile failed. Trying audioread instead.\n",
      "  warnings.warn(\"PySoundFile failed. Trying audioread instead.\")\n"
     ]
    },
    {
     "name": "stdout",
     "output_type": "stream",
     "text": [
      "filesprocess:  ./WOLOF_FOR_MEMORY/4_Ñent/AUDIO-2021-05-21-01-02-18.m4a  --  61\n",
      "  len --  39485   --  Ecrit ......\n"
     ]
    },
    {
     "name": "stderr",
     "output_type": "stream",
     "text": [
      "/home/ibrahimabarry01/anaconda3/lib/python3.8/site-packages/librosa/core/audio.py:162: UserWarning: PySoundFile failed. Trying audioread instead.\n",
      "  warnings.warn(\"PySoundFile failed. Trying audioread instead.\")\n"
     ]
    },
    {
     "name": "stdout",
     "output_type": "stream",
     "text": [
      "filesprocess:  ./WOLOF_FOR_MEMORY/4_Ñent/AUDIO-2021-05-20-21-27-51.m4a  --  62\n",
      "  len --  35721   --  Ecrit ......\n"
     ]
    },
    {
     "name": "stderr",
     "output_type": "stream",
     "text": [
      "/home/ibrahimabarry01/anaconda3/lib/python3.8/site-packages/librosa/core/audio.py:162: UserWarning: PySoundFile failed. Trying audioread instead.\n",
      "  warnings.warn(\"PySoundFile failed. Trying audioread instead.\")\n"
     ]
    },
    {
     "name": "stdout",
     "output_type": "stream",
     "text": [
      "filesprocess:  ./WOLOF_FOR_MEMORY/4_Ñent/AUDIO-2021-05-21-19-33-31_1.m4a  --  63\n",
      "  len --  59712   --  Ecrit ......\n"
     ]
    },
    {
     "name": "stderr",
     "output_type": "stream",
     "text": [
      "/home/ibrahimabarry01/anaconda3/lib/python3.8/site-packages/librosa/core/audio.py:162: UserWarning: PySoundFile failed. Trying audioread instead.\n",
      "  warnings.warn(\"PySoundFile failed. Trying audioread instead.\")\n"
     ]
    },
    {
     "name": "stdout",
     "output_type": "stream",
     "text": [
      "filesprocess:  ./WOLOF_FOR_MEMORY/4_Ñent/AUDIO-2021-05-21-21-37-43.m4a  --  64\n",
      "  len --  64886   --  Ecrit ......\n"
     ]
    },
    {
     "name": "stderr",
     "output_type": "stream",
     "text": [
      "/home/ibrahimabarry01/anaconda3/lib/python3.8/site-packages/librosa/core/audio.py:162: UserWarning: PySoundFile failed. Trying audioread instead.\n",
      "  warnings.warn(\"PySoundFile failed. Trying audioread instead.\")\n"
     ]
    },
    {
     "name": "stdout",
     "output_type": "stream",
     "text": [
      "filesprocess:  ./WOLOF_FOR_MEMORY/4_Ñent/AUDIO-2021-05-20-17-35-49.m4a  --  65\n",
      "  len --  27725   --  Ecrit ......\n"
     ]
    },
    {
     "name": "stderr",
     "output_type": "stream",
     "text": [
      "/home/ibrahimabarry01/anaconda3/lib/python3.8/site-packages/librosa/core/audio.py:162: UserWarning: PySoundFile failed. Trying audioread instead.\n",
      "  warnings.warn(\"PySoundFile failed. Trying audioread instead.\")\n"
     ]
    },
    {
     "name": "stdout",
     "output_type": "stream",
     "text": [
      "filesprocess:  ./WOLOF_FOR_MEMORY/4_Ñent/AUDIO-2021-05-16-23-31-21.m4a  --  66\n",
      "  len --  47011   --  Ecrit ......\n"
     ]
    },
    {
     "name": "stderr",
     "output_type": "stream",
     "text": [
      "/home/ibrahimabarry01/anaconda3/lib/python3.8/site-packages/librosa/core/audio.py:162: UserWarning: PySoundFile failed. Trying audioread instead.\n",
      "  warnings.warn(\"PySoundFile failed. Trying audioread instead.\")\n"
     ]
    },
    {
     "name": "stdout",
     "output_type": "stream",
     "text": [
      "filesprocess:  ./WOLOF_FOR_MEMORY/4_Ñent/AUDIO-2021-05-22-10-47-10.m4a  --  67\n",
      "  len --  32899   --  Ecrit ......\n",
      " CHIFFRE : :  10_Fukk\n"
     ]
    },
    {
     "name": "stderr",
     "output_type": "stream",
     "text": [
      "/home/ibrahimabarry01/anaconda3/lib/python3.8/site-packages/librosa/core/audio.py:162: UserWarning: PySoundFile failed. Trying audioread instead.\n",
      "  warnings.warn(\"PySoundFile failed. Trying audioread instead.\")\n"
     ]
    },
    {
     "name": "stdout",
     "output_type": "stream",
     "text": [
      "filesprocess:  ./WOLOF_FOR_MEMORY/10_Fukk/AUDIO-2021-05-22-20-52-02.m4a  --  68\n",
      "  len --  47011   --  Ecrit ......\n"
     ]
    },
    {
     "name": "stderr",
     "output_type": "stream",
     "text": [
      "/home/ibrahimabarry01/anaconda3/lib/python3.8/site-packages/librosa/core/audio.py:162: UserWarning: PySoundFile failed. Trying audioread instead.\n",
      "  warnings.warn(\"PySoundFile failed. Trying audioread instead.\")\n"
     ]
    },
    {
     "name": "stdout",
     "output_type": "stream",
     "text": [
      "filesprocess:  ./WOLOF_FOR_MEMORY/10_Fukk/AUDIO-2021-05-22-19-26-31.m4a  --  69\n",
      "  len --  43718   --  Ecrit ......\n"
     ]
    },
    {
     "name": "stderr",
     "output_type": "stream",
     "text": [
      "/home/ibrahimabarry01/anaconda3/lib/python3.8/site-packages/librosa/core/audio.py:162: UserWarning: PySoundFile failed. Trying audioread instead.\n",
      "  warnings.warn(\"PySoundFile failed. Trying audioread instead.\")\n"
     ]
    },
    {
     "name": "stdout",
     "output_type": "stream",
     "text": [
      "filesprocess:  ./WOLOF_FOR_MEMORY/10_Fukk/AUDIO-2021-05-22-18-04-15.m4a  --  70\n",
      "  len --  31958   --  Ecrit ......\n"
     ]
    },
    {
     "name": "stderr",
     "output_type": "stream",
     "text": [
      "/home/ibrahimabarry01/anaconda3/lib/python3.8/site-packages/librosa/core/audio.py:162: UserWarning: PySoundFile failed. Trying audioread instead.\n",
      "  warnings.warn(\"PySoundFile failed. Trying audioread instead.\")\n"
     ]
    },
    {
     "name": "stdout",
     "output_type": "stream",
     "text": [
      "filesprocess:  ./WOLOF_FOR_MEMORY/10_Fukk/AUDIO-2021-05-22-20-04-47.m4a  --  71\n",
      "  len --  50774   --  Ecrit ......\n"
     ]
    },
    {
     "name": "stderr",
     "output_type": "stream",
     "text": [
      "/home/ibrahimabarry01/anaconda3/lib/python3.8/site-packages/librosa/core/audio.py:162: UserWarning: PySoundFile failed. Trying audioread instead.\n",
      "  warnings.warn(\"PySoundFile failed. Trying audioread instead.\")\n"
     ]
    },
    {
     "name": "stdout",
     "output_type": "stream",
     "text": [
      "filesprocess:  ./WOLOF_FOR_MEMORY/10_Fukk/AUDIO-2021-05-22-14-04-50.m4a  --  72\n",
      "  len --  40896   --  Ecrit ......\n"
     ]
    },
    {
     "name": "stderr",
     "output_type": "stream",
     "text": [
      "/home/ibrahimabarry01/anaconda3/lib/python3.8/site-packages/librosa/core/audio.py:162: UserWarning: PySoundFile failed. Trying audioread instead.\n",
      "  warnings.warn(\"PySoundFile failed. Trying audioread instead.\")\n"
     ]
    },
    {
     "name": "stdout",
     "output_type": "stream",
     "text": [
      "filesprocess:  ./WOLOF_FOR_MEMORY/10_Fukk/AUDIO-2021-05-22-13-28-07.m4a  --  73\n",
      "  len --  35721   --  Ecrit ......\n"
     ]
    },
    {
     "name": "stderr",
     "output_type": "stream",
     "text": [
      "/home/ibrahimabarry01/anaconda3/lib/python3.8/site-packages/librosa/core/audio.py:162: UserWarning: PySoundFile failed. Trying audioread instead.\n",
      "  warnings.warn(\"PySoundFile failed. Trying audioread instead.\")\n"
     ]
    },
    {
     "name": "stdout",
     "output_type": "stream",
     "text": [
      "filesprocess:  ./WOLOF_FOR_MEMORY/10_Fukk/AUDIO-2021-05-16-20-17-24.m4a  --  74\n",
      "  len --  35251   --  Ecrit ......\n"
     ]
    },
    {
     "name": "stderr",
     "output_type": "stream",
     "text": [
      "/home/ibrahimabarry01/anaconda3/lib/python3.8/site-packages/librosa/core/audio.py:162: UserWarning: PySoundFile failed. Trying audioread instead.\n",
      "  warnings.warn(\"PySoundFile failed. Trying audioread instead.\")\n"
     ]
    },
    {
     "name": "stdout",
     "output_type": "stream",
     "text": [
      "filesprocess:  ./WOLOF_FOR_MEMORY/10_Fukk/AUDIO-2021-05-16-20-28-42.m4a  --  75\n",
      "  len --  63945   --  Ecrit ......\n"
     ]
    },
    {
     "name": "stderr",
     "output_type": "stream",
     "text": [
      "/home/ibrahimabarry01/anaconda3/lib/python3.8/site-packages/librosa/core/audio.py:162: UserWarning: PySoundFile failed. Trying audioread instead.\n",
      "  warnings.warn(\"PySoundFile failed. Trying audioread instead.\")\n"
     ]
    },
    {
     "name": "stdout",
     "output_type": "stream",
     "text": [
      "filesprocess:  ./WOLOF_FOR_MEMORY/10_Fukk/AUDIO-2021-05-16-23-21-33.m4a  --  76\n",
      "  len --  58771   --  Ecrit ......\n"
     ]
    },
    {
     "name": "stderr",
     "output_type": "stream",
     "text": [
      "/home/ibrahimabarry01/anaconda3/lib/python3.8/site-packages/librosa/core/audio.py:162: UserWarning: PySoundFile failed. Trying audioread instead.\n",
      "  warnings.warn(\"PySoundFile failed. Trying audioread instead.\")\n"
     ]
    },
    {
     "name": "stdout",
     "output_type": "stream",
     "text": [
      "filesprocess:  ./WOLOF_FOR_MEMORY/10_Fukk/AUDIO-2021-05-16-23-52-36.m4a  --  77\n",
      "  len --  23961   --  Ecrit ......\n"
     ]
    },
    {
     "name": "stderr",
     "output_type": "stream",
     "text": [
      "/home/ibrahimabarry01/anaconda3/lib/python3.8/site-packages/librosa/core/audio.py:162: UserWarning: PySoundFile failed. Trying audioread instead.\n",
      "  warnings.warn(\"PySoundFile failed. Trying audioread instead.\")\n"
     ]
    },
    {
     "name": "stdout",
     "output_type": "stream",
     "text": [
      "filesprocess:  ./WOLOF_FOR_MEMORY/10_Fukk/AUDIO-2021-05-17-00-07-02.m4a  --  78\n",
      "  len --  21609   --  Ecrit ......\n"
     ]
    },
    {
     "name": "stderr",
     "output_type": "stream",
     "text": [
      "/home/ibrahimabarry01/anaconda3/lib/python3.8/site-packages/librosa/core/audio.py:162: UserWarning: PySoundFile failed. Trying audioread instead.\n",
      "  warnings.warn(\"PySoundFile failed. Trying audioread instead.\")\n"
     ]
    },
    {
     "name": "stdout",
     "output_type": "stream",
     "text": [
      "filesprocess:  ./WOLOF_FOR_MEMORY/10_Fukk/AUDIO-2021-05-18-01-10-24.m4a  --  79\n",
      "  len --  23961   --  Ecrit ......\n"
     ]
    },
    {
     "name": "stderr",
     "output_type": "stream",
     "text": [
      "/home/ibrahimabarry01/anaconda3/lib/python3.8/site-packages/librosa/core/audio.py:162: UserWarning: PySoundFile failed. Trying audioread instead.\n",
      "  warnings.warn(\"PySoundFile failed. Trying audioread instead.\")\n"
     ]
    },
    {
     "name": "stdout",
     "output_type": "stream",
     "text": [
      "filesprocess:  ./WOLOF_FOR_MEMORY/10_Fukk/AUDIO-2021-05-18-14-34-48.m4a  --  80\n",
      "  len --  21609   --  Ecrit ......\n"
     ]
    },
    {
     "name": "stderr",
     "output_type": "stream",
     "text": [
      "/home/ibrahimabarry01/anaconda3/lib/python3.8/site-packages/librosa/core/audio.py:162: UserWarning: PySoundFile failed. Trying audioread instead.\n",
      "  warnings.warn(\"PySoundFile failed. Trying audioread instead.\")\n"
     ]
    },
    {
     "name": "stdout",
     "output_type": "stream",
     "text": [
      "filesprocess:  ./WOLOF_FOR_MEMORY/10_Fukk/AUDIO-2021-05-18-19-55-57.m4a  --  81\n",
      "  len --  52656   --  Ecrit ......\n"
     ]
    },
    {
     "name": "stderr",
     "output_type": "stream",
     "text": [
      "/home/ibrahimabarry01/anaconda3/lib/python3.8/site-packages/librosa/core/audio.py:162: UserWarning: PySoundFile failed. Trying audioread instead.\n",
      "  warnings.warn(\"PySoundFile failed. Trying audioread instead.\")\n"
     ]
    },
    {
     "name": "stdout",
     "output_type": "stream",
     "text": [
      "filesprocess:  ./WOLOF_FOR_MEMORY/10_Fukk/AUDIO-2021-05-18-21-52-58.m4a  --  82\n",
      "  len --  33369   --  Ecrit ......\n"
     ]
    },
    {
     "name": "stderr",
     "output_type": "stream",
     "text": [
      "/home/ibrahimabarry01/anaconda3/lib/python3.8/site-packages/librosa/core/audio.py:162: UserWarning: PySoundFile failed. Trying audioread instead.\n",
      "  warnings.warn(\"PySoundFile failed. Trying audioread instead.\")\n"
     ]
    },
    {
     "name": "stdout",
     "output_type": "stream",
     "text": [
      "filesprocess:  ./WOLOF_FOR_MEMORY/10_Fukk/AUDIO-2021-05-18-20-59-14_3.m4a  --  83\n",
      "  len --  44032   --  Ecrit ......\n"
     ]
    },
    {
     "name": "stderr",
     "output_type": "stream",
     "text": [
      "/home/ibrahimabarry01/anaconda3/lib/python3.8/site-packages/librosa/core/audio.py:162: UserWarning: PySoundFile failed. Trying audioread instead.\n",
      "  warnings.warn(\"PySoundFile failed. Trying audioread instead.\")\n"
     ]
    },
    {
     "name": "stdout",
     "output_type": "stream",
     "text": [
      "filesprocess:  ./WOLOF_FOR_MEMORY/10_Fukk/AUDIO-2021-05-19-21-40-45.m4a  --  84\n",
      "  len --  66768   --  Ecrit ......\n"
     ]
    },
    {
     "name": "stderr",
     "output_type": "stream",
     "text": [
      "/home/ibrahimabarry01/anaconda3/lib/python3.8/site-packages/librosa/core/audio.py:162: UserWarning: PySoundFile failed. Trying audioread instead.\n",
      "  warnings.warn(\"PySoundFile failed. Trying audioread instead.\")\n"
     ]
    },
    {
     "name": "stdout",
     "output_type": "stream",
     "text": [
      "filesprocess:  ./WOLOF_FOR_MEMORY/10_Fukk/AUDIO-2021-05-19-22-01-42.m4a  --  85\n",
      "  len --  47952   --  Ecrit ......\n"
     ]
    },
    {
     "name": "stderr",
     "output_type": "stream",
     "text": [
      "/home/ibrahimabarry01/anaconda3/lib/python3.8/site-packages/librosa/core/audio.py:162: UserWarning: PySoundFile failed. Trying audioread instead.\n",
      "  warnings.warn(\"PySoundFile failed. Trying audioread instead.\")\n"
     ]
    },
    {
     "name": "stdout",
     "output_type": "stream",
     "text": [
      "filesprocess:  ./WOLOF_FOR_MEMORY/10_Fukk/AUDIO-2021-05-20-17-49-37.m4a  --  86\n",
      "  len --  52656   --  Ecrit ......\n"
     ]
    },
    {
     "name": "stderr",
     "output_type": "stream",
     "text": [
      "/home/ibrahimabarry01/anaconda3/lib/python3.8/site-packages/librosa/core/audio.py:162: UserWarning: PySoundFile failed. Trying audioread instead.\n",
      "  warnings.warn(\"PySoundFile failed. Trying audioread instead.\")\n"
     ]
    },
    {
     "name": "stdout",
     "output_type": "stream",
     "text": [
      "filesprocess:  ./WOLOF_FOR_MEMORY/10_Fukk/AUDIO-2021-05-20-18-01-11.m4a  --  87\n",
      "  len --  33369   --  Ecrit ......\n"
     ]
    },
    {
     "name": "stderr",
     "output_type": "stream",
     "text": [
      "/home/ibrahimabarry01/anaconda3/lib/python3.8/site-packages/librosa/core/audio.py:162: UserWarning: PySoundFile failed. Trying audioread instead.\n",
      "  warnings.warn(\"PySoundFile failed. Trying audioread instead.\")\n"
     ]
    },
    {
     "name": "stdout",
     "output_type": "stream",
     "text": [
      "filesprocess:  ./WOLOF_FOR_MEMORY/10_Fukk/AUDIO-2021-05-16-23-16-50.m4a  --  88\n",
      "  len --  14553   --  Ecrit ......\n"
     ]
    },
    {
     "name": "stderr",
     "output_type": "stream",
     "text": [
      "/home/ibrahimabarry01/anaconda3/lib/python3.8/site-packages/librosa/core/audio.py:162: UserWarning: PySoundFile failed. Trying audioread instead.\n",
      "  warnings.warn(\"PySoundFile failed. Trying audioread instead.\")\n"
     ]
    },
    {
     "name": "stdout",
     "output_type": "stream",
     "text": [
      "filesprocess:  ./WOLOF_FOR_MEMORY/10_Fukk/AUDIO-2021-05-20-16-13-28.m4a  --  89\n",
      "  len --  22550   --  Ecrit ......\n"
     ]
    },
    {
     "name": "stderr",
     "output_type": "stream",
     "text": [
      "/home/ibrahimabarry01/anaconda3/lib/python3.8/site-packages/librosa/core/audio.py:162: UserWarning: PySoundFile failed. Trying audioread instead.\n",
      "  warnings.warn(\"PySoundFile failed. Trying audioread instead.\")\n"
     ]
    },
    {
     "name": "stdout",
     "output_type": "stream",
     "text": [
      "filesprocess:  ./WOLOF_FOR_MEMORY/10_Fukk/AUDIO-2021-05-20-21-03-31.m4a  --  90\n",
      "  len --  70061   --  Ecrit ......\n"
     ]
    },
    {
     "name": "stderr",
     "output_type": "stream",
     "text": [
      "/home/ibrahimabarry01/anaconda3/lib/python3.8/site-packages/librosa/core/audio.py:162: UserWarning: PySoundFile failed. Trying audioread instead.\n",
      "  warnings.warn(\"PySoundFile failed. Trying audioread instead.\")\n"
     ]
    },
    {
     "name": "stdout",
     "output_type": "stream",
     "text": [
      "filesprocess:  ./WOLOF_FOR_MEMORY/10_Fukk/AUDIO-2021-05-21-00-26-19.m4a  --  91\n",
      "  len --  40425   --  Ecrit ......\n"
     ]
    },
    {
     "name": "stderr",
     "output_type": "stream",
     "text": [
      "/home/ibrahimabarry01/anaconda3/lib/python3.8/site-packages/librosa/core/audio.py:162: UserWarning: PySoundFile failed. Trying audioread instead.\n",
      "  warnings.warn(\"PySoundFile failed. Trying audioread instead.\")\n"
     ]
    },
    {
     "name": "stdout",
     "output_type": "stream",
     "text": [
      "filesprocess:  ./WOLOF_FOR_MEMORY/10_Fukk/AUDIO-2021-05-21-00-13-25.m4a  --  92\n",
      "  len --  37133   --  Ecrit ......\n"
     ]
    },
    {
     "name": "stderr",
     "output_type": "stream",
     "text": [
      "/home/ibrahimabarry01/anaconda3/lib/python3.8/site-packages/librosa/core/audio.py:162: UserWarning: PySoundFile failed. Trying audioread instead.\n",
      "  warnings.warn(\"PySoundFile failed. Trying audioread instead.\")\n"
     ]
    },
    {
     "name": "stdout",
     "output_type": "stream",
     "text": [
      "filesprocess:  ./WOLOF_FOR_MEMORY/10_Fukk/AUDIO-2021-05-21-00-51-31.m4a  --  93\n",
      "  len --  35721   --  Ecrit ......\n"
     ]
    },
    {
     "name": "stderr",
     "output_type": "stream",
     "text": [
      "/home/ibrahimabarry01/anaconda3/lib/python3.8/site-packages/librosa/core/audio.py:162: UserWarning: PySoundFile failed. Trying audioread instead.\n",
      "  warnings.warn(\"PySoundFile failed. Trying audioread instead.\")\n"
     ]
    },
    {
     "name": "stdout",
     "output_type": "stream",
     "text": [
      "filesprocess:  ./WOLOF_FOR_MEMORY/10_Fukk/AUDIO-2021-05-20-23-58-14.m4a  --  94\n",
      "  len --  45600   --  Ecrit ......\n"
     ]
    },
    {
     "name": "stderr",
     "output_type": "stream",
     "text": [
      "/home/ibrahimabarry01/anaconda3/lib/python3.8/site-packages/librosa/core/audio.py:162: UserWarning: PySoundFile failed. Trying audioread instead.\n",
      "  warnings.warn(\"PySoundFile failed. Trying audioread instead.\")\n"
     ]
    },
    {
     "name": "stdout",
     "output_type": "stream",
     "text": [
      "filesprocess:  ./WOLOF_FOR_MEMORY/10_Fukk/AUDIO-2021-05-20-19-52-31.m4a  --  95\n",
      "  len --  43248   --  Ecrit ......\n"
     ]
    },
    {
     "name": "stderr",
     "output_type": "stream",
     "text": [
      "/home/ibrahimabarry01/anaconda3/lib/python3.8/site-packages/librosa/core/audio.py:162: UserWarning: PySoundFile failed. Trying audioread instead.\n",
      "  warnings.warn(\"PySoundFile failed. Trying audioread instead.\")\n"
     ]
    },
    {
     "name": "stdout",
     "output_type": "stream",
     "text": [
      "filesprocess:  ./WOLOF_FOR_MEMORY/10_Fukk/AUDIO-2021-05-21-01-03-29.m4a  --  96\n",
      "  len --  47952   --  Ecrit ......\n"
     ]
    },
    {
     "name": "stderr",
     "output_type": "stream",
     "text": [
      "/home/ibrahimabarry01/anaconda3/lib/python3.8/site-packages/librosa/core/audio.py:162: UserWarning: PySoundFile failed. Trying audioread instead.\n",
      "  warnings.warn(\"PySoundFile failed. Trying audioread instead.\")\n"
     ]
    },
    {
     "name": "stdout",
     "output_type": "stream",
     "text": [
      "filesprocess:  ./WOLOF_FOR_MEMORY/10_Fukk/AUDIO-2021-05-20-21-28-34.m4a  --  97\n",
      "  len --  42777   --  Ecrit ......\n"
     ]
    },
    {
     "name": "stderr",
     "output_type": "stream",
     "text": [
      "/home/ibrahimabarry01/anaconda3/lib/python3.8/site-packages/librosa/core/audio.py:162: UserWarning: PySoundFile failed. Trying audioread instead.\n",
      "  warnings.warn(\"PySoundFile failed. Trying audioread instead.\")\n"
     ]
    },
    {
     "name": "stdout",
     "output_type": "stream",
     "text": [
      "filesprocess:  ./WOLOF_FOR_MEMORY/10_Fukk/AUDIO-2021-05-21-19-33-34_1.m4a  --  98\n",
      "  len --  28665   --  Ecrit ......\n"
     ]
    },
    {
     "name": "stderr",
     "output_type": "stream",
     "text": [
      "/home/ibrahimabarry01/anaconda3/lib/python3.8/site-packages/librosa/core/audio.py:162: UserWarning: PySoundFile failed. Trying audioread instead.\n",
      "  warnings.warn(\"PySoundFile failed. Trying audioread instead.\")\n"
     ]
    },
    {
     "name": "stdout",
     "output_type": "stream",
     "text": [
      "filesprocess:  ./WOLOF_FOR_MEMORY/10_Fukk/AUDIO-2021-05-21-21-39-28.m4a  --  99\n",
      "  len --  69120   --  Ecrit ......\n"
     ]
    },
    {
     "name": "stderr",
     "output_type": "stream",
     "text": [
      "/home/ibrahimabarry01/anaconda3/lib/python3.8/site-packages/librosa/core/audio.py:162: UserWarning: PySoundFile failed. Trying audioread instead.\n",
      "  warnings.warn(\"PySoundFile failed. Trying audioread instead.\")\n"
     ]
    },
    {
     "name": "stdout",
     "output_type": "stream",
     "text": [
      "filesprocess:  ./WOLOF_FOR_MEMORY/10_Fukk/AUDIO-2021-05-20-17-40-45.m4a  --  100\n",
      "  len --  43718   --  Ecrit ......\n"
     ]
    },
    {
     "name": "stderr",
     "output_type": "stream",
     "text": [
      "/home/ibrahimabarry01/anaconda3/lib/python3.8/site-packages/librosa/core/audio.py:162: UserWarning: PySoundFile failed. Trying audioread instead.\n",
      "  warnings.warn(\"PySoundFile failed. Trying audioread instead.\")\n"
     ]
    },
    {
     "name": "stdout",
     "output_type": "stream",
     "text": [
      "filesprocess:  ./WOLOF_FOR_MEMORY/10_Fukk/AUDIO-2021-05-16-23-32-29.m4a  --  101\n",
      "  len --  44189   --  Ecrit ......\n"
     ]
    },
    {
     "name": "stderr",
     "output_type": "stream",
     "text": [
      "/home/ibrahimabarry01/anaconda3/lib/python3.8/site-packages/librosa/core/audio.py:162: UserWarning: PySoundFile failed. Trying audioread instead.\n",
      "  warnings.warn(\"PySoundFile failed. Trying audioread instead.\")\n"
     ]
    },
    {
     "name": "stdout",
     "output_type": "stream",
     "text": [
      "filesprocess:  ./WOLOF_FOR_MEMORY/10_Fukk/AUDIO-2021-05-22-10-47-35.m4a  --  102\n",
      "  len --  30077   --  Ecrit ......\n",
      " CHIFFRE : :  6_Juróom-Benn\n"
     ]
    },
    {
     "name": "stderr",
     "output_type": "stream",
     "text": [
      "/home/ibrahimabarry01/anaconda3/lib/python3.8/site-packages/librosa/core/audio.py:162: UserWarning: PySoundFile failed. Trying audioread instead.\n",
      "  warnings.warn(\"PySoundFile failed. Trying audioread instead.\")\n"
     ]
    },
    {
     "name": "stdout",
     "output_type": "stream",
     "text": [
      "filesprocess:  ./WOLOF_FOR_MEMORY/6_Juróom-Benn/AUDIO-2021-05-22-20-51-04.m4a  --  103\n",
      "  len --  62064   --  Ecrit ......\n"
     ]
    },
    {
     "name": "stderr",
     "output_type": "stream",
     "text": [
      "/home/ibrahimabarry01/anaconda3/lib/python3.8/site-packages/librosa/core/audio.py:162: UserWarning: PySoundFile failed. Trying audioread instead.\n",
      "  warnings.warn(\"PySoundFile failed. Trying audioread instead.\")\n"
     ]
    },
    {
     "name": "stdout",
     "output_type": "stream",
     "text": [
      "filesprocess:  ./WOLOF_FOR_MEMORY/6_Juróom-Benn/AUDIO-2021-05-22-19-26-16.m4a  --  104\n",
      "  len --  29606   --  Ecrit ......\n"
     ]
    },
    {
     "name": "stderr",
     "output_type": "stream",
     "text": [
      "/home/ibrahimabarry01/anaconda3/lib/python3.8/site-packages/librosa/core/audio.py:162: UserWarning: PySoundFile failed. Trying audioread instead.\n",
      "  warnings.warn(\"PySoundFile failed. Trying audioread instead.\")\n"
     ]
    },
    {
     "name": "stdout",
     "output_type": "stream",
     "text": [
      "filesprocess:  ./WOLOF_FOR_MEMORY/6_Juróom-Benn/AUDIO-2021-05-22-18-04-00.m4a  --  105\n",
      "  len --  29606   --  Ecrit ......\n"
     ]
    },
    {
     "name": "stderr",
     "output_type": "stream",
     "text": [
      "/home/ibrahimabarry01/anaconda3/lib/python3.8/site-packages/librosa/core/audio.py:162: UserWarning: PySoundFile failed. Trying audioread instead.\n",
      "  warnings.warn(\"PySoundFile failed. Trying audioread instead.\")\n"
     ]
    },
    {
     "name": "stdout",
     "output_type": "stream",
     "text": [
      "filesprocess:  ./WOLOF_FOR_MEMORY/6_Juróom-Benn/AUDIO-2021-05-22-20-04-25.m4a  --  106\n",
      "  len --  56419   --  Ecrit ......\n"
     ]
    },
    {
     "name": "stderr",
     "output_type": "stream",
     "text": [
      "/home/ibrahimabarry01/anaconda3/lib/python3.8/site-packages/librosa/core/audio.py:162: UserWarning: PySoundFile failed. Trying audioread instead.\n",
      "  warnings.warn(\"PySoundFile failed. Trying audioread instead.\")\n"
     ]
    },
    {
     "name": "stdout",
     "output_type": "stream",
     "text": [
      "filesprocess:  ./WOLOF_FOR_MEMORY/6_Juróom-Benn/AUDIO-2021-05-22-14-04-30.m4a  --  107\n"
     ]
    },
    {
     "data": {
      "image/png": "[encoded data removed]",
      "text/plain": [
       "<Figure size 720x360 with 1 Axes>"
      ]
     },
     "metadata": {
      "needs_background": "light"
     },
     "output_type": "display_data"
    },
    {
     "name": "stdout",
     "output_type": "stream",
     "text": [
      "Entrer debut : 0\n",
      "Entrer din : 50000\n"
     ]
    },
    {
     "name": "stderr",
     "output_type": "stream",
     "text": [
      "/home/ibrahimabarry01/anaconda3/lib/python3.8/site-packages/librosa/core/audio.py:162: UserWarning: PySoundFile failed. Trying audioread instead.\n",
      "  warnings.warn(\"PySoundFile failed. Trying audioread instead.\")\n"
     ]
    },
    {
     "name": "stdout",
     "output_type": "stream",
     "text": [
      "filesprocess:  ./WOLOF_FOR_MEMORY/6_Juróom-Benn/AUDIO-2021-05-22-13-27-31.m4a  --  108\n",
      "  len --  50774   --  Ecrit ......\n"
     ]
    },
    {
     "name": "stderr",
     "output_type": "stream",
     "text": [
      "/home/ibrahimabarry01/anaconda3/lib/python3.8/site-packages/librosa/core/audio.py:162: UserWarning: PySoundFile failed. Trying audioread instead.\n",
      "  warnings.warn(\"PySoundFile failed. Trying audioread instead.\")\n"
     ]
    },
    {
     "name": "stdout",
     "output_type": "stream",
     "text": [
      "filesprocess:  ./WOLOF_FOR_MEMORY/6_Juróom-Benn/AUDIO-2021-05-16-20-16-57.m4a  --  109\n",
      "  len --  42777   --  Ecrit ......\n"
     ]
    },
    {
     "name": "stderr",
     "output_type": "stream",
     "text": [
      "/home/ibrahimabarry01/anaconda3/lib/python3.8/site-packages/librosa/core/audio.py:162: UserWarning: PySoundFile failed. Trying audioread instead.\n",
      "  warnings.warn(\"PySoundFile failed. Trying audioread instead.\")\n"
     ]
    },
    {
     "name": "stdout",
     "output_type": "stream",
     "text": [
      "filesprocess:  ./WOLOF_FOR_MEMORY/6_Juróom-Benn/AUDIO-2021-05-16-20-27-52.m4a  --  110\n"
     ]
    },
    {
     "data": {
      "image/png": "[encoded data removed]",
      "text/plain": [
       "<Figure size 720x360 with 1 Axes>"
      ]
     },
     "metadata": {
      "needs_background": "light"
     },
     "output_type": "display_data"
    },
    {
     "name": "stdout",
     "output_type": "stream",
     "text": [
      "Entrer debut : 20000\n",
      "Entrer din : 70000\n"
     ]
    },
    {
     "name": "stderr",
     "output_type": "stream",
     "text": [
      "/home/ibrahimabarry01/anaconda3/lib/python3.8/site-packages/librosa/core/audio.py:162: UserWarning: PySoundFile failed. Trying audioread instead.\n",
      "  warnings.warn(\"PySoundFile failed. Trying audioread instead.\")\n"
     ]
    },
    {
     "name": "stdout",
     "output_type": "stream",
     "text": [
      "filesprocess:  ./WOLOF_FOR_MEMORY/6_Juróom-Benn/AUDIO-2021-05-16-23-21-11.m4a  --  111\n"
     ]
    },
    {
     "data": {
      "image/png": "[encoded data removed]",
      "text/plain": [
       "<Figure size 720x360 with 1 Axes>"
      ]
     },
     "metadata": {
      "needs_background": "light"
     },
     "output_type": "display_data"
    },
    {
     "name": "stdout",
     "output_type": "stream",
     "text": [
      "Entrer debut : 10000\n",
      "Entrer din : 70000\n"
     ]
    },
    {
     "name": "stderr",
     "output_type": "stream",
     "text": [
      "/home/ibrahimabarry01/anaconda3/lib/python3.8/site-packages/librosa/core/audio.py:162: UserWarning: PySoundFile failed. Trying audioread instead.\n",
      "  warnings.warn(\"PySoundFile failed. Trying audioread instead.\")\n"
     ]
    },
    {
     "name": "stdout",
     "output_type": "stream",
     "text": [
      "filesprocess:  ./WOLOF_FOR_MEMORY/6_Juróom-Benn/AUDIO-2021-05-16-23-51-36.m4a  --  112\n",
      "  len --  33369   --  Ecrit ......\n"
     ]
    },
    {
     "name": "stderr",
     "output_type": "stream",
     "text": [
      "/home/ibrahimabarry01/anaconda3/lib/python3.8/site-packages/librosa/core/audio.py:162: UserWarning: PySoundFile failed. Trying audioread instead.\n",
      "  warnings.warn(\"PySoundFile failed. Trying audioread instead.\")\n"
     ]
    },
    {
     "name": "stdout",
     "output_type": "stream",
     "text": [
      "filesprocess:  ./WOLOF_FOR_MEMORY/6_Juróom-Benn/AUDIO-2021-05-17-00-06-47.m4a  --  113\n",
      "  len --  33840   --  Ecrit ......\n"
     ]
    },
    {
     "name": "stderr",
     "output_type": "stream",
     "text": [
      "/home/ibrahimabarry01/anaconda3/lib/python3.8/site-packages/librosa/core/audio.py:162: UserWarning: PySoundFile failed. Trying audioread instead.\n",
      "  warnings.warn(\"PySoundFile failed. Trying audioread instead.\")\n"
     ]
    },
    {
     "name": "stdout",
     "output_type": "stream",
     "text": [
      "filesprocess:  ./WOLOF_FOR_MEMORY/6_Juróom-Benn/AUDIO-2021-05-11-15-21-30.m4a  --  114\n",
      "  len --  29136   --  Ecrit ......\n"
     ]
    },
    {
     "name": "stderr",
     "output_type": "stream",
     "text": [
      "/home/ibrahimabarry01/anaconda3/lib/python3.8/site-packages/librosa/core/audio.py:162: UserWarning: PySoundFile failed. Trying audioread instead.\n",
      "  warnings.warn(\"PySoundFile failed. Trying audioread instead.\")\n"
     ]
    },
    {
     "name": "stdout",
     "output_type": "stream",
     "text": [
      "filesprocess:  ./WOLOF_FOR_MEMORY/6_Juróom-Benn/AUDIO-2021-05-18-01-10-18.m4a  --  115\n",
      "  len --  25373   --  Ecrit ......\n"
     ]
    },
    {
     "name": "stderr",
     "output_type": "stream",
     "text": [
      "/home/ibrahimabarry01/anaconda3/lib/python3.8/site-packages/librosa/core/audio.py:162: UserWarning: PySoundFile failed. Trying audioread instead.\n",
      "  warnings.warn(\"PySoundFile failed. Trying audioread instead.\")\n"
     ]
    },
    {
     "name": "stdout",
     "output_type": "stream",
     "text": [
      "filesprocess:  ./WOLOF_FOR_MEMORY/6_Juróom-Benn/AUDIO-2021-05-18-14-34-33.m4a  --  116\n",
      "  len --  42777   --  Ecrit ......\n"
     ]
    },
    {
     "name": "stderr",
     "output_type": "stream",
     "text": [
      "/home/ibrahimabarry01/anaconda3/lib/python3.8/site-packages/librosa/core/audio.py:162: UserWarning: PySoundFile failed. Trying audioread instead.\n",
      "  warnings.warn(\"PySoundFile failed. Trying audioread instead.\")\n"
     ]
    },
    {
     "name": "stdout",
     "output_type": "stream",
     "text": [
      "filesprocess:  ./WOLOF_FOR_MEMORY/6_Juróom-Benn/AUDIO-2021-05-18-19-54-57.m4a  --  117\n",
      "  len --  43718   --  Ecrit ......\n"
     ]
    },
    {
     "name": "stderr",
     "output_type": "stream",
     "text": [
      "/home/ibrahimabarry01/anaconda3/lib/python3.8/site-packages/librosa/core/audio.py:162: UserWarning: PySoundFile failed. Trying audioread instead.\n",
      "  warnings.warn(\"PySoundFile failed. Trying audioread instead.\")\n"
     ]
    },
    {
     "name": "stdout",
     "output_type": "stream",
     "text": [
      "filesprocess:  ./WOLOF_FOR_MEMORY/6_Juróom-Benn/AUDIO-2021-05-18-21-52-38.m4a  --  118\n",
      "  len --  31017   --  Ecrit ......\n"
     ]
    },
    {
     "name": "stderr",
     "output_type": "stream",
     "text": [
      "/home/ibrahimabarry01/anaconda3/lib/python3.8/site-packages/librosa/core/audio.py:162: UserWarning: PySoundFile failed. Trying audioread instead.\n",
      "  warnings.warn(\"PySoundFile failed. Trying audioread instead.\")\n"
     ]
    },
    {
     "name": "stdout",
     "output_type": "stream",
     "text": [
      "filesprocess:  ./WOLOF_FOR_MEMORY/6_Juróom-Benn/AUDIO-2021-05-18-20-59-13_2.m4a  --  119\n",
      "  len --  53760   --  Ecrit ......\n"
     ]
    },
    {
     "name": "stderr",
     "output_type": "stream",
     "text": [
      "/home/ibrahimabarry01/anaconda3/lib/python3.8/site-packages/librosa/core/audio.py:162: UserWarning: PySoundFile failed. Trying audioread instead.\n",
      "  warnings.warn(\"PySoundFile failed. Trying audioread instead.\")\n"
     ]
    },
    {
     "name": "stdout",
     "output_type": "stream",
     "text": [
      "filesprocess:  ./WOLOF_FOR_MEMORY/6_Juróom-Benn/AUDIO-2021-05-19-21-39-55.m4a  --  120\n",
      "  len --  58301   --  Ecrit ......\n"
     ]
    },
    {
     "name": "stderr",
     "output_type": "stream",
     "text": [
      "/home/ibrahimabarry01/anaconda3/lib/python3.8/site-packages/librosa/core/audio.py:162: UserWarning: PySoundFile failed. Trying audioread instead.\n",
      "  warnings.warn(\"PySoundFile failed. Trying audioread instead.\")\n"
     ]
    },
    {
     "name": "stdout",
     "output_type": "stream",
     "text": [
      "filesprocess:  ./WOLOF_FOR_MEMORY/6_Juróom-Benn/AUDIO-2021-05-19-22-01-00.m4a  --  121\n",
      "  len --  62064   --  Ecrit ......\n"
     ]
    },
    {
     "name": "stderr",
     "output_type": "stream",
     "text": [
      "/home/ibrahimabarry01/anaconda3/lib/python3.8/site-packages/librosa/core/audio.py:162: UserWarning: PySoundFile failed. Trying audioread instead.\n",
      "  warnings.warn(\"PySoundFile failed. Trying audioread instead.\")\n"
     ]
    },
    {
     "name": "stdout",
     "output_type": "stream",
     "text": [
      "filesprocess:  ./WOLOF_FOR_MEMORY/6_Juróom-Benn/AUDIO-2021-05-20-17-49-11.m4a  --  122\n",
      "  len --  56419   --  Ecrit ......\n"
     ]
    },
    {
     "name": "stderr",
     "output_type": "stream",
     "text": [
      "/home/ibrahimabarry01/anaconda3/lib/python3.8/site-packages/librosa/core/audio.py:162: UserWarning: PySoundFile failed. Trying audioread instead.\n",
      "  warnings.warn(\"PySoundFile failed. Trying audioread instead.\")\n"
     ]
    },
    {
     "name": "stdout",
     "output_type": "stream",
     "text": [
      "filesprocess:  ./WOLOF_FOR_MEMORY/6_Juróom-Benn/AUDIO-2021-05-20-17-58-39.m4a  --  123\n",
      "  len --  23961   --  Ecrit ......\n"
     ]
    },
    {
     "name": "stderr",
     "output_type": "stream",
     "text": [
      "/home/ibrahimabarry01/anaconda3/lib/python3.8/site-packages/librosa/core/audio.py:162: UserWarning: PySoundFile failed. Trying audioread instead.\n",
      "  warnings.warn(\"PySoundFile failed. Trying audioread instead.\")\n"
     ]
    },
    {
     "name": "stdout",
     "output_type": "stream",
     "text": [
      "filesprocess:  ./WOLOF_FOR_MEMORY/6_Juróom-Benn/AUDIO-2021-05-16-23-16-36.m4a  --  124\n",
      "  len --  14083   --  Ecrit ......\n"
     ]
    },
    {
     "name": "stderr",
     "output_type": "stream",
     "text": [
      "/home/ibrahimabarry01/anaconda3/lib/python3.8/site-packages/librosa/core/audio.py:162: UserWarning: PySoundFile failed. Trying audioread instead.\n",
      "  warnings.warn(\"PySoundFile failed. Trying audioread instead.\")\n"
     ]
    },
    {
     "name": "stdout",
     "output_type": "stream",
     "text": [
      "filesprocess:  ./WOLOF_FOR_MEMORY/6_Juróom-Benn/AUDIO-2021-05-20-21-03-15_1.m4a  --  125\n",
      "  len --  62534   --  Ecrit ......\n"
     ]
    },
    {
     "name": "stderr",
     "output_type": "stream",
     "text": [
      "/home/ibrahimabarry01/anaconda3/lib/python3.8/site-packages/librosa/core/audio.py:162: UserWarning: PySoundFile failed. Trying audioread instead.\n",
      "  warnings.warn(\"PySoundFile failed. Trying audioread instead.\")\n"
     ]
    },
    {
     "name": "stdout",
     "output_type": "stream",
     "text": [
      "filesprocess:  ./WOLOF_FOR_MEMORY/6_Juróom-Benn/AUDIO-2021-05-21-00-25-33.m4a  --  126\n",
      "  len --  34310   --  Ecrit ......\n"
     ]
    },
    {
     "name": "stderr",
     "output_type": "stream",
     "text": [
      "/home/ibrahimabarry01/anaconda3/lib/python3.8/site-packages/librosa/core/audio.py:162: UserWarning: PySoundFile failed. Trying audioread instead.\n",
      "  warnings.warn(\"PySoundFile failed. Trying audioread instead.\")\n"
     ]
    },
    {
     "name": "stdout",
     "output_type": "stream",
     "text": [
      "filesprocess:  ./WOLOF_FOR_MEMORY/6_Juróom-Benn/AUDIO-2021-05-21-00-12-45.m4a  --  127\n",
      "  len --  31958   --  Ecrit ......\n"
     ]
    },
    {
     "name": "stderr",
     "output_type": "stream",
     "text": [
      "/home/ibrahimabarry01/anaconda3/lib/python3.8/site-packages/librosa/core/audio.py:162: UserWarning: PySoundFile failed. Trying audioread instead.\n",
      "  warnings.warn(\"PySoundFile failed. Trying audioread instead.\")\n"
     ]
    },
    {
     "name": "stdout",
     "output_type": "stream",
     "text": [
      "filesprocess:  ./WOLOF_FOR_MEMORY/6_Juróom-Benn/AUDIO-2021-05-21-00-46-37.m4a  --  128\n",
      "  len --  39014   --  Ecrit ......\n"
     ]
    },
    {
     "name": "stderr",
     "output_type": "stream",
     "text": [
      "/home/ibrahimabarry01/anaconda3/lib/python3.8/site-packages/librosa/core/audio.py:162: UserWarning: PySoundFile failed. Trying audioread instead.\n",
      "  warnings.warn(\"PySoundFile failed. Trying audioread instead.\")\n"
     ]
    },
    {
     "name": "stdout",
     "output_type": "stream",
     "text": [
      "filesprocess:  ./WOLOF_FOR_MEMORY/6_Juróom-Benn/AUDIO-2021-05-20-23-56-51.m4a  --  129\n",
      "  len --  60182   --  Ecrit ......\n"
     ]
    },
    {
     "name": "stderr",
     "output_type": "stream",
     "text": [
      "/home/ibrahimabarry01/anaconda3/lib/python3.8/site-packages/librosa/core/audio.py:162: UserWarning: PySoundFile failed. Trying audioread instead.\n",
      "  warnings.warn(\"PySoundFile failed. Trying audioread instead.\")\n"
     ]
    },
    {
     "name": "stdout",
     "output_type": "stream",
     "text": [
      "filesprocess:  ./WOLOF_FOR_MEMORY/6_Juróom-Benn/AUDIO-2021-05-20-19-51-39.m4a  --  130\n",
      "  len --  26784   --  Ecrit ......\n"
     ]
    },
    {
     "name": "stderr",
     "output_type": "stream",
     "text": [
      "/home/ibrahimabarry01/anaconda3/lib/python3.8/site-packages/librosa/core/audio.py:162: UserWarning: PySoundFile failed. Trying audioread instead.\n",
      "  warnings.warn(\"PySoundFile failed. Trying audioread instead.\")\n"
     ]
    },
    {
     "name": "stdout",
     "output_type": "stream",
     "text": [
      "filesprocess:  ./WOLOF_FOR_MEMORY/6_Juróom-Benn/AUDIO-2021-05-21-01-03-06.m4a  --  131\n",
      "  len --  50304   --  Ecrit ......\n"
     ]
    },
    {
     "name": "stderr",
     "output_type": "stream",
     "text": [
      "/home/ibrahimabarry01/anaconda3/lib/python3.8/site-packages/librosa/core/audio.py:162: UserWarning: PySoundFile failed. Trying audioread instead.\n",
      "  warnings.warn(\"PySoundFile failed. Trying audioread instead.\")\n"
     ]
    },
    {
     "name": "stdout",
     "output_type": "stream",
     "text": [
      "filesprocess:  ./WOLOF_FOR_MEMORY/6_Juróom-Benn/AUDIO-2021-05-20-21-28-11.m4a  --  132\n",
      "  len --  48893   --  Ecrit ......\n"
     ]
    },
    {
     "name": "stderr",
     "output_type": "stream",
     "text": [
      "/home/ibrahimabarry01/anaconda3/lib/python3.8/site-packages/librosa/core/audio.py:162: UserWarning: PySoundFile failed. Trying audioread instead.\n",
      "  warnings.warn(\"PySoundFile failed. Trying audioread instead.\")\n"
     ]
    },
    {
     "name": "stdout",
     "output_type": "stream",
     "text": [
      "filesprocess:  ./WOLOF_FOR_MEMORY/6_Juróom-Benn/AUDIO-2021-05-21-19-33-30.m4a  --  133\n",
      "  len --  58771   --  Ecrit ......\n"
     ]
    },
    {
     "name": "stderr",
     "output_type": "stream",
     "text": [
      "/home/ibrahimabarry01/anaconda3/lib/python3.8/site-packages/librosa/core/audio.py:162: UserWarning: PySoundFile failed. Trying audioread instead.\n",
      "  warnings.warn(\"PySoundFile failed. Trying audioread instead.\")\n"
     ]
    },
    {
     "name": "stdout",
     "output_type": "stream",
     "text": [
      "filesprocess:  ./WOLOF_FOR_MEMORY/6_Juróom-Benn/AUDIO-2021-05-21-21-38-27.m4a  --  134\n",
      "  len --  61123   --  Ecrit ......\n"
     ]
    },
    {
     "name": "stderr",
     "output_type": "stream",
     "text": [
      "/home/ibrahimabarry01/anaconda3/lib/python3.8/site-packages/librosa/core/audio.py:162: UserWarning: PySoundFile failed. Trying audioread instead.\n",
      "  warnings.warn(\"PySoundFile failed. Trying audioread instead.\")\n"
     ]
    },
    {
     "name": "stdout",
     "output_type": "stream",
     "text": [
      "filesprocess:  ./WOLOF_FOR_MEMORY/6_Juróom-Benn/AUDIO-2021-05-20-17-37-37.m4a  --  135\n",
      "  len --  36662   --  Ecrit ......\n"
     ]
    },
    {
     "name": "stderr",
     "output_type": "stream",
     "text": [
      "/home/ibrahimabarry01/anaconda3/lib/python3.8/site-packages/librosa/core/audio.py:162: UserWarning: PySoundFile failed. Trying audioread instead.\n",
      "  warnings.warn(\"PySoundFile failed. Trying audioread instead.\")\n"
     ]
    },
    {
     "name": "stdout",
     "output_type": "stream",
     "text": [
      "filesprocess:  ./WOLOF_FOR_MEMORY/6_Juróom-Benn/AUDIO-2021-05-16-23-31-50.m4a  --  136\n",
      "  len --  48893   --  Ecrit ......\n"
     ]
    },
    {
     "name": "stderr",
     "output_type": "stream",
     "text": [
      "/home/ibrahimabarry01/anaconda3/lib/python3.8/site-packages/librosa/core/audio.py:162: UserWarning: PySoundFile failed. Trying audioread instead.\n",
      "  warnings.warn(\"PySoundFile failed. Trying audioread instead.\")\n"
     ]
    },
    {
     "name": "stdout",
     "output_type": "stream",
     "text": [
      "filesprocess:  ./WOLOF_FOR_MEMORY/6_Juróom-Benn/AUDIO-2021-05-22-10-47-16.m4a  --  137\n",
      "  len --  31958   --  Ecrit ......\n",
      " CHIFFRE : :  3_Ñett\n"
     ]
    },
    {
     "name": "stderr",
     "output_type": "stream",
     "text": [
      "/home/ibrahimabarry01/anaconda3/lib/python3.8/site-packages/librosa/core/audio.py:162: UserWarning: PySoundFile failed. Trying audioread instead.\n",
      "  warnings.warn(\"PySoundFile failed. Trying audioread instead.\")\n"
     ]
    },
    {
     "name": "stdout",
     "output_type": "stream",
     "text": [
      "filesprocess:  ./WOLOF_FOR_MEMORY/3_Ñett/AUDIO-2021-05-22-20-50-32.m4a  --  138\n",
      "  len --  43718   --  Ecrit ......\n"
     ]
    },
    {
     "name": "stderr",
     "output_type": "stream",
     "text": [
      "/home/ibrahimabarry01/anaconda3/lib/python3.8/site-packages/librosa/core/audio.py:162: UserWarning: PySoundFile failed. Trying audioread instead.\n",
      "  warnings.warn(\"PySoundFile failed. Trying audioread instead.\")\n"
     ]
    },
    {
     "name": "stdout",
     "output_type": "stream",
     "text": [
      "filesprocess:  ./WOLOF_FOR_MEMORY/3_Ñett/AUDIO-2021-05-22-19-26-05.m4a  --  139\n",
      "  len --  43718   --  Ecrit ......\n"
     ]
    },
    {
     "name": "stderr",
     "output_type": "stream",
     "text": [
      "/home/ibrahimabarry01/anaconda3/lib/python3.8/site-packages/librosa/core/audio.py:162: UserWarning: PySoundFile failed. Trying audioread instead.\n",
      "  warnings.warn(\"PySoundFile failed. Trying audioread instead.\")\n"
     ]
    },
    {
     "name": "stdout",
     "output_type": "stream",
     "text": [
      "filesprocess:  ./WOLOF_FOR_MEMORY/3_Ñett/AUDIO-2021-05-22-18-03-47.m4a  --  140\n",
      "  len --  34781   --  Ecrit ......\n"
     ]
    },
    {
     "name": "stderr",
     "output_type": "stream",
     "text": [
      "/home/ibrahimabarry01/anaconda3/lib/python3.8/site-packages/librosa/core/audio.py:162: UserWarning: PySoundFile failed. Trying audioread instead.\n",
      "  warnings.warn(\"PySoundFile failed. Trying audioread instead.\")\n"
     ]
    },
    {
     "name": "stdout",
     "output_type": "stream",
     "text": [
      "filesprocess:  ./WOLOF_FOR_MEMORY/3_Ñett/AUDIO-2021-05-22-14-04-13.m4a  --  141\n",
      "  len --  45600   --  Ecrit ......\n"
     ]
    },
    {
     "name": "stderr",
     "output_type": "stream",
     "text": [
      "/home/ibrahimabarry01/anaconda3/lib/python3.8/site-packages/librosa/core/audio.py:162: UserWarning: PySoundFile failed. Trying audioread instead.\n",
      "  warnings.warn(\"PySoundFile failed. Trying audioread instead.\")\n"
     ]
    },
    {
     "name": "stdout",
     "output_type": "stream",
     "text": [
      "filesprocess:  ./WOLOF_FOR_MEMORY/3_Ñett/AUDIO-2021-05-22-13-27-05.m4a  --  142\n",
      "  len --  44659   --  Ecrit ......\n"
     ]
    },
    {
     "name": "stderr",
     "output_type": "stream",
     "text": [
      "/home/ibrahimabarry01/anaconda3/lib/python3.8/site-packages/librosa/core/audio.py:162: UserWarning: PySoundFile failed. Trying audioread instead.\n",
      "  warnings.warn(\"PySoundFile failed. Trying audioread instead.\")\n"
     ]
    },
    {
     "name": "stdout",
     "output_type": "stream",
     "text": [
      "filesprocess:  ./WOLOF_FOR_MEMORY/3_Ñett/AUDIO-2021-05-16-20-16-04.m4a  --  143\n",
      "  len --  36662   --  Ecrit ......\n"
     ]
    },
    {
     "name": "stderr",
     "output_type": "stream",
     "text": [
      "/home/ibrahimabarry01/anaconda3/lib/python3.8/site-packages/librosa/core/audio.py:162: UserWarning: PySoundFile failed. Trying audioread instead.\n",
      "  warnings.warn(\"PySoundFile failed. Trying audioread instead.\")\n"
     ]
    },
    {
     "name": "stdout",
     "output_type": "stream",
     "text": [
      "filesprocess:  ./WOLOF_FOR_MEMORY/3_Ñett/AUDIO-2021-05-16-20-26-29.m4a  --  144\n",
      "  len --  60653   --  Ecrit ......\n"
     ]
    },
    {
     "name": "stderr",
     "output_type": "stream",
     "text": [
      "/home/ibrahimabarry01/anaconda3/lib/python3.8/site-packages/librosa/core/audio.py:162: UserWarning: PySoundFile failed. Trying audioread instead.\n",
      "  warnings.warn(\"PySoundFile failed. Trying audioread instead.\")\n"
     ]
    },
    {
     "name": "stdout",
     "output_type": "stream",
     "text": [
      "filesprocess:  ./WOLOF_FOR_MEMORY/3_Ñett/AUDIO-2021-05-16-23-20-55.m4a  --  145\n",
      "  len --  71001   --  Ecrit ......\n"
     ]
    },
    {
     "name": "stderr",
     "output_type": "stream",
     "text": [
      "/home/ibrahimabarry01/anaconda3/lib/python3.8/site-packages/librosa/core/audio.py:162: UserWarning: PySoundFile failed. Trying audioread instead.\n",
      "  warnings.warn(\"PySoundFile failed. Trying audioread instead.\")\n"
     ]
    },
    {
     "name": "stdout",
     "output_type": "stream",
     "text": [
      "filesprocess:  ./WOLOF_FOR_MEMORY/3_Ñett/AUDIO-2021-05-16-23-49-56.m4a  --  146\n",
      "  len --  36192   --  Ecrit ......\n"
     ]
    },
    {
     "name": "stderr",
     "output_type": "stream",
     "text": [
      "/home/ibrahimabarry01/anaconda3/lib/python3.8/site-packages/librosa/core/audio.py:162: UserWarning: PySoundFile failed. Trying audioread instead.\n",
      "  warnings.warn(\"PySoundFile failed. Trying audioread instead.\")\n"
     ]
    },
    {
     "name": "stdout",
     "output_type": "stream",
     "text": [
      "filesprocess:  ./WOLOF_FOR_MEMORY/3_Ñett/AUDIO-2021-05-17-00-06-29.m4a  --  147\n",
      "  len --  35721   --  Ecrit ......\n"
     ]
    },
    {
     "name": "stderr",
     "output_type": "stream",
     "text": [
      "/home/ibrahimabarry01/anaconda3/lib/python3.8/site-packages/librosa/core/audio.py:162: UserWarning: PySoundFile failed. Trying audioread instead.\n",
      "  warnings.warn(\"PySoundFile failed. Trying audioread instead.\")\n"
     ]
    },
    {
     "name": "stdout",
     "output_type": "stream",
     "text": [
      "filesprocess:  ./WOLOF_FOR_MEMORY/3_Ñett/AUDIO-2021-05-11-15-20-21.m4a  --  148\n",
      "  len --  49833   --  Ecrit ......\n"
     ]
    },
    {
     "name": "stderr",
     "output_type": "stream",
     "text": [
      "/home/ibrahimabarry01/anaconda3/lib/python3.8/site-packages/librosa/core/audio.py:162: UserWarning: PySoundFile failed. Trying audioread instead.\n",
      "  warnings.warn(\"PySoundFile failed. Trying audioread instead.\")\n"
     ]
    },
    {
     "name": "stdout",
     "output_type": "stream",
     "text": [
      "filesprocess:  ./WOLOF_FOR_MEMORY/3_Ñett/AUDIO-2021-05-18-01-10-25.m4a  --  149\n",
      "  len --  21609   --  Ecrit ......\n"
     ]
    },
    {
     "name": "stderr",
     "output_type": "stream",
     "text": [
      "/home/ibrahimabarry01/anaconda3/lib/python3.8/site-packages/librosa/core/audio.py:162: UserWarning: PySoundFile failed. Trying audioread instead.\n",
      "  warnings.warn(\"PySoundFile failed. Trying audioread instead.\")\n"
     ]
    },
    {
     "name": "stdout",
     "output_type": "stream",
     "text": [
      "filesprocess:  ./WOLOF_FOR_MEMORY/3_Ñett/AUDIO-2021-05-18-14-34-16.m4a  --  150\n",
      "  len --  21609   --  Ecrit ......\n"
     ]
    },
    {
     "name": "stderr",
     "output_type": "stream",
     "text": [
      "/home/ibrahimabarry01/anaconda3/lib/python3.8/site-packages/librosa/core/audio.py:162: UserWarning: PySoundFile failed. Trying audioread instead.\n",
      "  warnings.warn(\"PySoundFile failed. Trying audioread instead.\")\n"
     ]
    },
    {
     "name": "stdout",
     "output_type": "stream",
     "text": [
      "filesprocess:  ./WOLOF_FOR_MEMORY/3_Ñett/AUDIO-2021-05-18-20-39-55.m4a  --  151\n",
      "  len --  42777   --  Ecrit ......\n"
     ]
    },
    {
     "name": "stderr",
     "output_type": "stream",
     "text": [
      "/home/ibrahimabarry01/anaconda3/lib/python3.8/site-packages/librosa/core/audio.py:162: UserWarning: PySoundFile failed. Trying audioread instead.\n",
      "  warnings.warn(\"PySoundFile failed. Trying audioread instead.\")\n"
     ]
    },
    {
     "name": "stdout",
     "output_type": "stream",
     "text": [
      "filesprocess:  ./WOLOF_FOR_MEMORY/3_Ñett/AUDIO-2021-05-18-21-52-24.m4a  --  152\n",
      "  len --  34781   --  Ecrit ......\n"
     ]
    },
    {
     "name": "stderr",
     "output_type": "stream",
     "text": [
      "/home/ibrahimabarry01/anaconda3/lib/python3.8/site-packages/librosa/core/audio.py:162: UserWarning: PySoundFile failed. Trying audioread instead.\n",
      "  warnings.warn(\"PySoundFile failed. Trying audioread instead.\")\n"
     ]
    },
    {
     "name": "stdout",
     "output_type": "stream",
     "text": [
      "filesprocess:  ./WOLOF_FOR_MEMORY/3_Ñett/AUDIO-2021-05-18-20-59-12.m4a  --  153\n",
      "  len --  50176   --  Ecrit ......\n"
     ]
    },
    {
     "name": "stderr",
     "output_type": "stream",
     "text": [
      "/home/ibrahimabarry01/anaconda3/lib/python3.8/site-packages/librosa/core/audio.py:162: UserWarning: PySoundFile failed. Trying audioread instead.\n",
      "  warnings.warn(\"PySoundFile failed. Trying audioread instead.\")\n"
     ]
    },
    {
     "name": "stdout",
     "output_type": "stream",
     "text": [
      "filesprocess:  ./WOLOF_FOR_MEMORY/3_Ñett/AUDIO-2021-05-19-21-39-13.m4a  --  154\n",
      "  len --  61123   --  Ecrit ......\n"
     ]
    },
    {
     "name": "stderr",
     "output_type": "stream",
     "text": [
      "/home/ibrahimabarry01/anaconda3/lib/python3.8/site-packages/librosa/core/audio.py:162: UserWarning: PySoundFile failed. Trying audioread instead.\n",
      "  warnings.warn(\"PySoundFile failed. Trying audioread instead.\")\n"
     ]
    },
    {
     "name": "stdout",
     "output_type": "stream",
     "text": [
      "filesprocess:  ./WOLOF_FOR_MEMORY/3_Ñett/AUDIO-2021-05-19-22-00-28.m4a  --  155\n",
      "  len --  44659   --  Ecrit ......\n"
     ]
    },
    {
     "name": "stderr",
     "output_type": "stream",
     "text": [
      "/home/ibrahimabarry01/anaconda3/lib/python3.8/site-packages/librosa/core/audio.py:162: UserWarning: PySoundFile failed. Trying audioread instead.\n",
      "  warnings.warn(\"PySoundFile failed. Trying audioread instead.\")\n"
     ]
    },
    {
     "name": "stdout",
     "output_type": "stream",
     "text": [
      "filesprocess:  ./WOLOF_FOR_MEMORY/3_Ñett/AUDIO-2021-05-20-17-48-54.m4a  --  156\n",
      "  len --  63945   --  Ecrit ......\n"
     ]
    },
    {
     "name": "stderr",
     "output_type": "stream",
     "text": [
      "/home/ibrahimabarry01/anaconda3/lib/python3.8/site-packages/librosa/core/audio.py:162: UserWarning: PySoundFile failed. Trying audioread instead.\n",
      "  warnings.warn(\"PySoundFile failed. Trying audioread instead.\")\n"
     ]
    },
    {
     "name": "stdout",
     "output_type": "stream",
     "text": [
      "filesprocess:  ./WOLOF_FOR_MEMORY/3_Ñett/AUDIO-2021-05-20-16-12-56.m4a  --  157\n",
      "  len --  22550   --  Ecrit ......\n"
     ]
    },
    {
     "name": "stderr",
     "output_type": "stream",
     "text": [
      "/home/ibrahimabarry01/anaconda3/lib/python3.8/site-packages/librosa/core/audio.py:162: UserWarning: PySoundFile failed. Trying audioread instead.\n",
      "  warnings.warn(\"PySoundFile failed. Trying audioread instead.\")\n"
     ]
    },
    {
     "name": "stdout",
     "output_type": "stream",
     "text": [
      "filesprocess:  ./WOLOF_FOR_MEMORY/3_Ñett/AUDIO-2021-05-20-21-03-14.m4a  --  158\n",
      "  len --  58301   --  Ecrit ......\n"
     ]
    },
    {
     "name": "stderr",
     "output_type": "stream",
     "text": [
      "/home/ibrahimabarry01/anaconda3/lib/python3.8/site-packages/librosa/core/audio.py:162: UserWarning: PySoundFile failed. Trying audioread instead.\n",
      "  warnings.warn(\"PySoundFile failed. Trying audioread instead.\")\n"
     ]
    },
    {
     "name": "stdout",
     "output_type": "stream",
     "text": [
      "filesprocess:  ./WOLOF_FOR_MEMORY/3_Ñett/AUDIO-2021-05-21-00-24-45.m4a  --  159\n",
      "  len --  46070   --  Ecrit ......\n"
     ]
    },
    {
     "name": "stderr",
     "output_type": "stream",
     "text": [
      "/home/ibrahimabarry01/anaconda3/lib/python3.8/site-packages/librosa/core/audio.py:162: UserWarning: PySoundFile failed. Trying audioread instead.\n",
      "  warnings.warn(\"PySoundFile failed. Trying audioread instead.\")\n"
     ]
    },
    {
     "name": "stdout",
     "output_type": "stream",
     "text": [
      "filesprocess:  ./WOLOF_FOR_MEMORY/3_Ñett/AUDIO-2021-05-21-00-12-32.m4a  --  160\n",
      "  len --  24902   --  Ecrit ......\n"
     ]
    },
    {
     "name": "stderr",
     "output_type": "stream",
     "text": [
      "/home/ibrahimabarry01/anaconda3/lib/python3.8/site-packages/librosa/core/audio.py:162: UserWarning: PySoundFile failed. Trying audioread instead.\n",
      "  warnings.warn(\"PySoundFile failed. Trying audioread instead.\")\n"
     ]
    },
    {
     "name": "stdout",
     "output_type": "stream",
     "text": [
      "filesprocess:  ./WOLOF_FOR_MEMORY/3_Ñett/AUDIO-2021-05-21-00-44-40.m4a  --  161\n",
      "  len --  36192   --  Ecrit ......\n"
     ]
    },
    {
     "name": "stderr",
     "output_type": "stream",
     "text": [
      "/home/ibrahimabarry01/anaconda3/lib/python3.8/site-packages/librosa/core/audio.py:162: UserWarning: PySoundFile failed. Trying audioread instead.\n",
      "  warnings.warn(\"PySoundFile failed. Trying audioread instead.\")\n"
     ]
    },
    {
     "name": "stdout",
     "output_type": "stream",
     "text": [
      "filesprocess:  ./WOLOF_FOR_MEMORY/3_Ñett/AUDIO-2021-05-20-23-56-22.m4a  --  162\n",
      "  len --  52185   --  Ecrit ......\n"
     ]
    },
    {
     "name": "stderr",
     "output_type": "stream",
     "text": [
      "/home/ibrahimabarry01/anaconda3/lib/python3.8/site-packages/librosa/core/audio.py:162: UserWarning: PySoundFile failed. Trying audioread instead.\n",
      "  warnings.warn(\"PySoundFile failed. Trying audioread instead.\")\n"
     ]
    },
    {
     "name": "stdout",
     "output_type": "stream",
     "text": [
      "filesprocess:  ./WOLOF_FOR_MEMORY/3_Ñett/AUDIO-2021-05-20-19-50-41.m4a  --  163\n",
      "  len --  22080   --  Ecrit ......\n"
     ]
    },
    {
     "name": "stderr",
     "output_type": "stream",
     "text": [
      "/home/ibrahimabarry01/anaconda3/lib/python3.8/site-packages/librosa/core/audio.py:162: UserWarning: PySoundFile failed. Trying audioread instead.\n",
      "  warnings.warn(\"PySoundFile failed. Trying audioread instead.\")\n"
     ]
    },
    {
     "name": "stdout",
     "output_type": "stream",
     "text": [
      "filesprocess:  ./WOLOF_FOR_MEMORY/3_Ñett/AUDIO-2021-05-21-01-02-02.m4a  --  164\n",
      "  len --  45129   --  Ecrit ......\n"
     ]
    },
    {
     "name": "stderr",
     "output_type": "stream",
     "text": [
      "/home/ibrahimabarry01/anaconda3/lib/python3.8/site-packages/librosa/core/audio.py:162: UserWarning: PySoundFile failed. Trying audioread instead.\n",
      "  warnings.warn(\"PySoundFile failed. Trying audioread instead.\")\n"
     ]
    },
    {
     "name": "stdout",
     "output_type": "stream",
     "text": [
      "filesprocess:  ./WOLOF_FOR_MEMORY/3_Ñett/AUDIO-2021-05-20-21-27-47.m4a  --  165\n",
      "  len --  39485   --  Ecrit ......\n"
     ]
    },
    {
     "name": "stderr",
     "output_type": "stream",
     "text": [
      "/home/ibrahimabarry01/anaconda3/lib/python3.8/site-packages/librosa/core/audio.py:162: UserWarning: PySoundFile failed. Trying audioread instead.\n",
      "  warnings.warn(\"PySoundFile failed. Trying audioread instead.\")\n"
     ]
    },
    {
     "name": "stdout",
     "output_type": "stream",
     "text": [
      "filesprocess:  ./WOLOF_FOR_MEMORY/3_Ñett/AUDIO-2021-05-21-19-33-32_1.m4a  --  166\n",
      "  len --  31958   --  Ecrit ......\n"
     ]
    },
    {
     "name": "stderr",
     "output_type": "stream",
     "text": [
      "/home/ibrahimabarry01/anaconda3/lib/python3.8/site-packages/librosa/core/audio.py:162: UserWarning: PySoundFile failed. Trying audioread instead.\n",
      "  warnings.warn(\"PySoundFile failed. Trying audioread instead.\")\n"
     ]
    },
    {
     "name": "stdout",
     "output_type": "stream",
     "text": [
      "filesprocess:  ./WOLOF_FOR_MEMORY/3_Ñett/AUDIO-2021-05-21-21-37-28.m4a  --  167\n",
      "  len --  66297   --  Ecrit ......\n"
     ]
    },
    {
     "name": "stderr",
     "output_type": "stream",
     "text": [
      "/home/ibrahimabarry01/anaconda3/lib/python3.8/site-packages/librosa/core/audio.py:162: UserWarning: PySoundFile failed. Trying audioread instead.\n",
      "  warnings.warn(\"PySoundFile failed. Trying audioread instead.\")\n"
     ]
    },
    {
     "name": "stdout",
     "output_type": "stream",
     "text": [
      "filesprocess:  ./WOLOF_FOR_MEMORY/3_Ñett/AUDIO-2021-05-20-17-35-34.m4a  --  168\n",
      "  len --  33840   --  Ecrit ......\n"
     ]
    },
    {
     "name": "stderr",
     "output_type": "stream",
     "text": [
      "/home/ibrahimabarry01/anaconda3/lib/python3.8/site-packages/librosa/core/audio.py:162: UserWarning: PySoundFile failed. Trying audioread instead.\n",
      "  warnings.warn(\"PySoundFile failed. Trying audioread instead.\")\n"
     ]
    },
    {
     "name": "stdout",
     "output_type": "stream",
     "text": [
      "filesprocess:  ./WOLOF_FOR_MEMORY/3_Ñett/AUDIO-2021-05-16-23-30-58.m4a  --  169\n",
      "  len --  37603   --  Ecrit ......\n"
     ]
    },
    {
     "name": "stderr",
     "output_type": "stream",
     "text": [
      "/home/ibrahimabarry01/anaconda3/lib/python3.8/site-packages/librosa/core/audio.py:162: UserWarning: PySoundFile failed. Trying audioread instead.\n",
      "  warnings.warn(\"PySoundFile failed. Trying audioread instead.\")\n"
     ]
    },
    {
     "name": "stdout",
     "output_type": "stream",
     "text": [
      "filesprocess:  ./WOLOF_FOR_MEMORY/3_Ñett/AUDIO-2021-05-22-10-45-58.m4a  --  170\n",
      "  len --  31488   --  Ecrit ......\n",
      " CHIFFRE : :  7_Juróom-Ñaar\n"
     ]
    },
    {
     "name": "stderr",
     "output_type": "stream",
     "text": [
      "/home/ibrahimabarry01/anaconda3/lib/python3.8/site-packages/librosa/core/audio.py:162: UserWarning: PySoundFile failed. Trying audioread instead.\n",
      "  warnings.warn(\"PySoundFile failed. Trying audioread instead.\")\n"
     ]
    },
    {
     "name": "stdout",
     "output_type": "stream",
     "text": [
      "filesprocess:  ./WOLOF_FOR_MEMORY/7_Juróom-Ñaar/AUDIO-2021-05-22-20-51-18.m4a  --  171\n",
      "  len --  45129   --  Ecrit ......\n"
     ]
    },
    {
     "name": "stderr",
     "output_type": "stream",
     "text": [
      "/home/ibrahimabarry01/anaconda3/lib/python3.8/site-packages/librosa/core/audio.py:162: UserWarning: PySoundFile failed. Trying audioread instead.\n",
      "  warnings.warn(\"PySoundFile failed. Trying audioread instead.\")\n"
     ]
    },
    {
     "name": "stdout",
     "output_type": "stream",
     "text": [
      "filesprocess:  ./WOLOF_FOR_MEMORY/7_Juróom-Ñaar/AUDIO-2021-05-22-19-26-20.m4a  --  172\n",
      "  len --  31958   --  Ecrit ......\n"
     ]
    },
    {
     "name": "stderr",
     "output_type": "stream",
     "text": [
      "/home/ibrahimabarry01/anaconda3/lib/python3.8/site-packages/librosa/core/audio.py:162: UserWarning: PySoundFile failed. Trying audioread instead.\n",
      "  warnings.warn(\"PySoundFile failed. Trying audioread instead.\")\n"
     ]
    },
    {
     "name": "stdout",
     "output_type": "stream",
     "text": [
      "filesprocess:  ./WOLOF_FOR_MEMORY/7_Juróom-Ñaar/AUDIO-2021-05-22-18-04-04.m4a  --  173\n",
      "  len --  33369   --  Ecrit ......\n"
     ]
    },
    {
     "name": "stderr",
     "output_type": "stream",
     "text": [
      "/home/ibrahimabarry01/anaconda3/lib/python3.8/site-packages/librosa/core/audio.py:162: UserWarning: PySoundFile failed. Trying audioread instead.\n",
      "  warnings.warn(\"PySoundFile failed. Trying audioread instead.\")\n"
     ]
    },
    {
     "name": "stdout",
     "output_type": "stream",
     "text": [
      "filesprocess:  ./WOLOF_FOR_MEMORY/7_Juróom-Ñaar/AUDIO-2021-05-22-20-04-29.m4a  --  174\n",
      "  len --  55008   --  Ecrit ......\n"
     ]
    },
    {
     "name": "stderr",
     "output_type": "stream",
     "text": [
      "/home/ibrahimabarry01/anaconda3/lib/python3.8/site-packages/librosa/core/audio.py:162: UserWarning: PySoundFile failed. Trying audioread instead.\n",
      "  warnings.warn(\"PySoundFile failed. Trying audioread instead.\")\n"
     ]
    },
    {
     "name": "stdout",
     "output_type": "stream",
     "text": [
      "filesprocess:  ./WOLOF_FOR_MEMORY/7_Juróom-Ñaar/AUDIO-2021-05-22-14-04-35.m4a  --  175\n",
      "  len --  56889   --  Ecrit ......\n"
     ]
    },
    {
     "name": "stderr",
     "output_type": "stream",
     "text": [
      "/home/ibrahimabarry01/anaconda3/lib/python3.8/site-packages/librosa/core/audio.py:162: UserWarning: PySoundFile failed. Trying audioread instead.\n",
      "  warnings.warn(\"PySoundFile failed. Trying audioread instead.\")\n"
     ]
    },
    {
     "name": "stdout",
     "output_type": "stream",
     "text": [
      "filesprocess:  ./WOLOF_FOR_MEMORY/7_Juróom-Ñaar/AUDIO-2021-05-22-13-27-38.m4a  --  176\n",
      "  len --  52656   --  Ecrit ......\n"
     ]
    },
    {
     "name": "stderr",
     "output_type": "stream",
     "text": [
      "/home/ibrahimabarry01/anaconda3/lib/python3.8/site-packages/librosa/core/audio.py:162: UserWarning: PySoundFile failed. Trying audioread instead.\n",
      "  warnings.warn(\"PySoundFile failed. Trying audioread instead.\")\n"
     ]
    },
    {
     "name": "stdout",
     "output_type": "stream",
     "text": [
      "filesprocess:  ./WOLOF_FOR_MEMORY/7_Juróom-Ñaar/AUDIO-2021-05-16-20-17-01.m4a  --  177\n",
      "  len --  31488   --  Ecrit ......\n"
     ]
    },
    {
     "name": "stderr",
     "output_type": "stream",
     "text": [
      "/home/ibrahimabarry01/anaconda3/lib/python3.8/site-packages/librosa/core/audio.py:162: UserWarning: PySoundFile failed. Trying audioread instead.\n",
      "  warnings.warn(\"PySoundFile failed. Trying audioread instead.\")\n"
     ]
    },
    {
     "name": "stdout",
     "output_type": "stream",
     "text": [
      "filesprocess:  ./WOLOF_FOR_MEMORY/7_Juróom-Ñaar/AUDIO-2021-05-16-20-27-59.m4a  --  178\n"
     ]
    },
    {
     "data": {
      "image/png": "[encoded data removed]",
      "text/plain": [
       "<Figure size 720x360 with 1 Axes>"
      ]
     },
     "metadata": {
      "needs_background": "light"
     },
     "output_type": "display_data"
    },
    {
     "name": "stdout",
     "output_type": "stream",
     "text": [
      "Entrer debut : 20000\n",
      "Entrer din : 75000\n"
     ]
    },
    {
     "name": "stderr",
     "output_type": "stream",
     "text": [
      "/home/ibrahimabarry01/anaconda3/lib/python3.8/site-packages/librosa/core/audio.py:162: UserWarning: PySoundFile failed. Trying audioread instead.\n",
      "  warnings.warn(\"PySoundFile failed. Trying audioread instead.\")\n"
     ]
    },
    {
     "name": "stdout",
     "output_type": "stream",
     "text": [
      "filesprocess:  ./WOLOF_FOR_MEMORY/7_Juróom-Ñaar/AUDIO-2021-05-16-23-21-16.m4a  --  179\n"
     ]
    },
    {
     "data": {
      "image/png": "[encoded data removed]",
      "text/plain": [
       "<Figure size 720x360 with 1 Axes>"
      ]
     },
     "metadata": {
      "needs_background": "light"
     },
     "output_type": "display_data"
    },
    {
     "name": "stdout",
     "output_type": "stream",
     "text": [
      "Entrer debut : 0\n",
      "Entrer din : 70000\n"
     ]
    },
    {
     "name": "stderr",
     "output_type": "stream",
     "text": [
      "/home/ibrahimabarry01/anaconda3/lib/python3.8/site-packages/librosa/core/audio.py:162: UserWarning: PySoundFile failed. Trying audioread instead.\n",
      "  warnings.warn(\"PySoundFile failed. Trying audioread instead.\")\n"
     ]
    },
    {
     "name": "stdout",
     "output_type": "stream",
     "text": [
      "filesprocess:  ./WOLOF_FOR_MEMORY/7_Juróom-Ñaar/AUDIO-2021-05-16-23-51-41.m4a  --  180\n",
      "  len --  38073   --  Ecrit ......\n"
     ]
    },
    {
     "name": "stderr",
     "output_type": "stream",
     "text": [
      "/home/ibrahimabarry01/anaconda3/lib/python3.8/site-packages/librosa/core/audio.py:162: UserWarning: PySoundFile failed. Trying audioread instead.\n",
      "  warnings.warn(\"PySoundFile failed. Trying audioread instead.\")\n"
     ]
    },
    {
     "name": "stdout",
     "output_type": "stream",
     "text": [
      "filesprocess:  ./WOLOF_FOR_MEMORY/7_Juróom-Ñaar/AUDIO-2021-05-17-00-06-51.m4a  --  181\n",
      "  len --  28665   --  Ecrit ......\n"
     ]
    },
    {
     "name": "stderr",
     "output_type": "stream",
     "text": [
      "/home/ibrahimabarry01/anaconda3/lib/python3.8/site-packages/librosa/core/audio.py:162: UserWarning: PySoundFile failed. Trying audioread instead.\n",
      "  warnings.warn(\"PySoundFile failed. Trying audioread instead.\")\n"
     ]
    },
    {
     "name": "stdout",
     "output_type": "stream",
     "text": [
      "filesprocess:  ./WOLOF_FOR_MEMORY/7_Juróom-Ñaar/AUDIO-2021-05-11-15-22-06.m4a  --  182\n",
      "  len --  37133   --  Ecrit ......\n"
     ]
    },
    {
     "name": "stderr",
     "output_type": "stream",
     "text": [
      "/home/ibrahimabarry01/anaconda3/lib/python3.8/site-packages/librosa/core/audio.py:162: UserWarning: PySoundFile failed. Trying audioread instead.\n",
      "  warnings.warn(\"PySoundFile failed. Trying audioread instead.\")\n"
     ]
    },
    {
     "name": "stdout",
     "output_type": "stream",
     "text": [
      "filesprocess:  ./WOLOF_FOR_MEMORY/7_Juróom-Ñaar/AUDIO-2021-05-18-01-10-23.m4a  --  183\n",
      "  len --  26313   --  Ecrit ......\n"
     ]
    },
    {
     "name": "stderr",
     "output_type": "stream",
     "text": [
      "/home/ibrahimabarry01/anaconda3/lib/python3.8/site-packages/librosa/core/audio.py:162: UserWarning: PySoundFile failed. Trying audioread instead.\n",
      "  warnings.warn(\"PySoundFile failed. Trying audioread instead.\")\n"
     ]
    },
    {
     "name": "stdout",
     "output_type": "stream",
     "text": [
      "filesprocess:  ./WOLOF_FOR_MEMORY/7_Juróom-Ñaar/AUDIO-2021-05-18-14-34-37.m4a  --  184\n",
      "  len --  38544   --  Ecrit ......\n"
     ]
    },
    {
     "name": "stderr",
     "output_type": "stream",
     "text": [
      "/home/ibrahimabarry01/anaconda3/lib/python3.8/site-packages/librosa/core/audio.py:162: UserWarning: PySoundFile failed. Trying audioread instead.\n",
      "  warnings.warn(\"PySoundFile failed. Trying audioread instead.\")\n"
     ]
    },
    {
     "name": "stdout",
     "output_type": "stream",
     "text": [
      "filesprocess:  ./WOLOF_FOR_MEMORY/7_Juróom-Ñaar/AUDIO-2021-05-18-19-55-06.m4a  --  185\n",
      "  len --  56889   --  Ecrit ......\n"
     ]
    },
    {
     "name": "stderr",
     "output_type": "stream",
     "text": [
      "/home/ibrahimabarry01/anaconda3/lib/python3.8/site-packages/librosa/core/audio.py:162: UserWarning: PySoundFile failed. Trying audioread instead.\n",
      "  warnings.warn(\"PySoundFile failed. Trying audioread instead.\")\n"
     ]
    },
    {
     "name": "stdout",
     "output_type": "stream",
     "text": [
      "filesprocess:  ./WOLOF_FOR_MEMORY/7_Juróom-Ñaar/AUDIO-2021-05-18-21-52-45.m4a  --  186\n",
      "  len --  32429   --  Ecrit ......\n"
     ]
    },
    {
     "name": "stderr",
     "output_type": "stream",
     "text": [
      "/home/ibrahimabarry01/anaconda3/lib/python3.8/site-packages/librosa/core/audio.py:162: UserWarning: PySoundFile failed. Trying audioread instead.\n",
      "  warnings.warn(\"PySoundFile failed. Trying audioread instead.\")\n"
     ]
    },
    {
     "name": "stdout",
     "output_type": "stream",
     "text": [
      "filesprocess:  ./WOLOF_FOR_MEMORY/7_Juróom-Ñaar/AUDIO-2021-05-18-20-59-14.m4a  --  187\n",
      "  len --  56832   --  Ecrit ......\n"
     ]
    },
    {
     "name": "stderr",
     "output_type": "stream",
     "text": [
      "/home/ibrahimabarry01/anaconda3/lib/python3.8/site-packages/librosa/core/audio.py:162: UserWarning: PySoundFile failed. Trying audioread instead.\n",
      "  warnings.warn(\"PySoundFile failed. Trying audioread instead.\")\n"
     ]
    },
    {
     "name": "stdout",
     "output_type": "stream",
     "text": [
      "filesprocess:  ./WOLOF_FOR_MEMORY/7_Juróom-Ñaar/AUDIO-2021-05-19-21-40-06.m4a  --  188\n",
      "  len --  54537   --  Ecrit ......\n"
     ]
    },
    {
     "name": "stderr",
     "output_type": "stream",
     "text": [
      "/home/ibrahimabarry01/anaconda3/lib/python3.8/site-packages/librosa/core/audio.py:162: UserWarning: PySoundFile failed. Trying audioread instead.\n",
      "  warnings.warn(\"PySoundFile failed. Trying audioread instead.\")\n"
     ]
    },
    {
     "name": "stdout",
     "output_type": "stream",
     "text": [
      "filesprocess:  ./WOLOF_FOR_MEMORY/7_Juróom-Ñaar/AUDIO-2021-05-19-22-01-09.m4a  --  189\n",
      "  len --  59241   --  Ecrit ......\n"
     ]
    },
    {
     "name": "stderr",
     "output_type": "stream",
     "text": [
      "/home/ibrahimabarry01/anaconda3/lib/python3.8/site-packages/librosa/core/audio.py:162: UserWarning: PySoundFile failed. Trying audioread instead.\n",
      "  warnings.warn(\"PySoundFile failed. Trying audioread instead.\")\n"
     ]
    },
    {
     "name": "stdout",
     "output_type": "stream",
     "text": [
      "filesprocess:  ./WOLOF_FOR_MEMORY/7_Juróom-Ñaar/AUDIO-2021-05-20-17-49-20.m4a  --  190\n",
      "  len --  58771   --  Ecrit ......\n"
     ]
    },
    {
     "name": "stderr",
     "output_type": "stream",
     "text": [
      "/home/ibrahimabarry01/anaconda3/lib/python3.8/site-packages/librosa/core/audio.py:162: UserWarning: PySoundFile failed. Trying audioread instead.\n",
      "  warnings.warn(\"PySoundFile failed. Trying audioread instead.\")\n"
     ]
    },
    {
     "name": "stdout",
     "output_type": "stream",
     "text": [
      "filesprocess:  ./WOLOF_FOR_MEMORY/7_Juróom-Ñaar/AUDIO-2021-05-20-17-58-51.m4a  --  191\n",
      "  len --  29606   --  Ecrit ......\n"
     ]
    },
    {
     "name": "stderr",
     "output_type": "stream",
     "text": [
      "/home/ibrahimabarry01/anaconda3/lib/python3.8/site-packages/librosa/core/audio.py:162: UserWarning: PySoundFile failed. Trying audioread instead.\n",
      "  warnings.warn(\"PySoundFile failed. Trying audioread instead.\")\n"
     ]
    },
    {
     "name": "stdout",
     "output_type": "stream",
     "text": [
      "filesprocess:  ./WOLOF_FOR_MEMORY/7_Juróom-Ñaar/AUDIO-2021-05-16-23-16-40.m4a  --  192\n",
      "  len --  19257   --  Ecrit ......\n"
     ]
    },
    {
     "name": "stderr",
     "output_type": "stream",
     "text": [
      "/home/ibrahimabarry01/anaconda3/lib/python3.8/site-packages/librosa/core/audio.py:162: UserWarning: PySoundFile failed. Trying audioread instead.\n",
      "  warnings.warn(\"PySoundFile failed. Trying audioread instead.\")\n"
     ]
    },
    {
     "name": "stdout",
     "output_type": "stream",
     "text": [
      "filesprocess:  ./WOLOF_FOR_MEMORY/7_Juróom-Ñaar/AUDIO-2021-05-20-21-03-16.m4a  --  193\n",
      "  len --  65827   --  Ecrit ......\n"
     ]
    },
    {
     "name": "stderr",
     "output_type": "stream",
     "text": [
      "/home/ibrahimabarry01/anaconda3/lib/python3.8/site-packages/librosa/core/audio.py:162: UserWarning: PySoundFile failed. Trying audioread instead.\n",
      "  warnings.warn(\"PySoundFile failed. Trying audioread instead.\")\n"
     ]
    },
    {
     "name": "stdout",
     "output_type": "stream",
     "text": [
      "filesprocess:  ./WOLOF_FOR_MEMORY/7_Juróom-Ñaar/AUDIO-2021-05-21-00-25-46.m4a  --  194\n"
     ]
    },
    {
     "data": {
      "image/png": "[encoded data removed]",
      "text/plain": [
       "<Figure size 720x360 with 1 Axes>"
      ]
     },
     "metadata": {
      "needs_background": "light"
     },
     "output_type": "display_data"
    },
    {
     "name": "stdout",
     "output_type": "stream",
     "text": [
      "Entrer debut : 0\n",
      "Entrer din : 70000\n"
     ]
    },
    {
     "name": "stderr",
     "output_type": "stream",
     "text": [
      "/home/ibrahimabarry01/anaconda3/lib/python3.8/site-packages/librosa/core/audio.py:162: UserWarning: PySoundFile failed. Trying audioread instead.\n",
      "  warnings.warn(\"PySoundFile failed. Trying audioread instead.\")\n"
     ]
    },
    {
     "name": "stdout",
     "output_type": "stream",
     "text": [
      "filesprocess:  ./WOLOF_FOR_MEMORY/7_Juróom-Ñaar/AUDIO-2021-05-21-00-12-47.m4a  --  195\n",
      "  len --  27254   --  Ecrit ......\n"
     ]
    },
    {
     "name": "stderr",
     "output_type": "stream",
     "text": [
      "/home/ibrahimabarry01/anaconda3/lib/python3.8/site-packages/librosa/core/audio.py:162: UserWarning: PySoundFile failed. Trying audioread instead.\n",
      "  warnings.warn(\"PySoundFile failed. Trying audioread instead.\")\n"
     ]
    },
    {
     "name": "stdout",
     "output_type": "stream",
     "text": [
      "filesprocess:  ./WOLOF_FOR_MEMORY/7_Juróom-Ñaar/AUDIO-2021-05-21-00-47-23.m4a  --  196\n",
      "  len --  45129   --  Ecrit ......\n"
     ]
    },
    {
     "name": "stderr",
     "output_type": "stream",
     "text": [
      "/home/ibrahimabarry01/anaconda3/lib/python3.8/site-packages/librosa/core/audio.py:162: UserWarning: PySoundFile failed. Trying audioread instead.\n",
      "  warnings.warn(\"PySoundFile failed. Trying audioread instead.\")\n"
     ]
    },
    {
     "name": "stdout",
     "output_type": "stream",
     "text": [
      "filesprocess:  ./WOLOF_FOR_MEMORY/7_Juróom-Ñaar/AUDIO-2021-05-20-23-57-04.m4a  --  197\n",
      "  len --  56889   --  Ecrit ......\n"
     ]
    },
    {
     "name": "stderr",
     "output_type": "stream",
     "text": [
      "/home/ibrahimabarry01/anaconda3/lib/python3.8/site-packages/librosa/core/audio.py:162: UserWarning: PySoundFile failed. Trying audioread instead.\n",
      "  warnings.warn(\"PySoundFile failed. Trying audioread instead.\")\n"
     ]
    },
    {
     "name": "stdout",
     "output_type": "stream",
     "text": [
      "filesprocess:  ./WOLOF_FOR_MEMORY/7_Juróom-Ñaar/AUDIO-2021-05-20-19-51-51.m4a  --  198\n",
      "  len --  52656   --  Ecrit ......\n"
     ]
    },
    {
     "name": "stderr",
     "output_type": "stream",
     "text": [
      "/home/ibrahimabarry01/anaconda3/lib/python3.8/site-packages/librosa/core/audio.py:162: UserWarning: PySoundFile failed. Trying audioread instead.\n",
      "  warnings.warn(\"PySoundFile failed. Trying audioread instead.\")\n"
     ]
    },
    {
     "name": "stdout",
     "output_type": "stream",
     "text": [
      "filesprocess:  ./WOLOF_FOR_MEMORY/7_Juróom-Ñaar/AUDIO-2021-05-21-01-03-12.m4a  --  199\n",
      "  len --  49833   --  Ecrit ......\n"
     ]
    },
    {
     "name": "stderr",
     "output_type": "stream",
     "text": [
      "/home/ibrahimabarry01/anaconda3/lib/python3.8/site-packages/librosa/core/audio.py:162: UserWarning: PySoundFile failed. Trying audioread instead.\n",
      "  warnings.warn(\"PySoundFile failed. Trying audioread instead.\")\n"
     ]
    },
    {
     "name": "stdout",
     "output_type": "stream",
     "text": [
      "filesprocess:  ./WOLOF_FOR_MEMORY/7_Juróom-Ñaar/AUDIO-2021-05-20-21-28-16.m4a  --  200\n",
      "  len --  52185   --  Ecrit ......\n"
     ]
    },
    {
     "name": "stderr",
     "output_type": "stream",
     "text": [
      "/home/ibrahimabarry01/anaconda3/lib/python3.8/site-packages/librosa/core/audio.py:162: UserWarning: PySoundFile failed. Trying audioread instead.\n",
      "  warnings.warn(\"PySoundFile failed. Trying audioread instead.\")\n"
     ]
    },
    {
     "name": "stdout",
     "output_type": "stream",
     "text": [
      "filesprocess:  ./WOLOF_FOR_MEMORY/7_Juróom-Ñaar/AUDIO-2021-05-21-19-33-34.m4a  --  201\n",
      "  len --  38544   --  Ecrit ......\n"
     ]
    },
    {
     "name": "stderr",
     "output_type": "stream",
     "text": [
      "/home/ibrahimabarry01/anaconda3/lib/python3.8/site-packages/librosa/core/audio.py:162: UserWarning: PySoundFile failed. Trying audioread instead.\n",
      "  warnings.warn(\"PySoundFile failed. Trying audioread instead.\")\n"
     ]
    },
    {
     "name": "stdout",
     "output_type": "stream",
     "text": [
      "filesprocess:  ./WOLOF_FOR_MEMORY/7_Juróom-Ñaar/AUDIO-2021-05-21-21-38-36.m4a  --  202\n"
     ]
    },
    {
     "data": {
      "image/png": "[encoded data removed]",
      "text/plain": [
       "<Figure size 720x360 with 1 Axes>"
      ]
     },
     "metadata": {
      "needs_background": "light"
     },
     "output_type": "display_data"
    },
    {
     "name": "stdout",
     "output_type": "stream",
     "text": [
      "Entrer debut : 10000\n",
      "Entrer din : 70000\n"
     ]
    },
    {
     "name": "stderr",
     "output_type": "stream",
     "text": [
      "/home/ibrahimabarry01/anaconda3/lib/python3.8/site-packages/librosa/core/audio.py:162: UserWarning: PySoundFile failed. Trying audioread instead.\n",
      "  warnings.warn(\"PySoundFile failed. Trying audioread instead.\")\n"
     ]
    },
    {
     "name": "stdout",
     "output_type": "stream",
     "text": [
      "filesprocess:  ./WOLOF_FOR_MEMORY/7_Juróom-Ñaar/AUDIO-2021-05-20-17-39-35.m4a  --  203\n",
      "  len --  46070   --  Ecrit ......\n"
     ]
    },
    {
     "name": "stderr",
     "output_type": "stream",
     "text": [
      "/home/ibrahimabarry01/anaconda3/lib/python3.8/site-packages/librosa/core/audio.py:162: UserWarning: PySoundFile failed. Trying audioread instead.\n",
      "  warnings.warn(\"PySoundFile failed. Trying audioread instead.\")\n"
     ]
    },
    {
     "name": "stdout",
     "output_type": "stream",
     "text": [
      "filesprocess:  ./WOLOF_FOR_MEMORY/7_Juróom-Ñaar/AUDIO-2021-05-16-23-32-00.m4a  --  204\n",
      "  len --  35721   --  Ecrit ......\n"
     ]
    },
    {
     "name": "stderr",
     "output_type": "stream",
     "text": [
      "/home/ibrahimabarry01/anaconda3/lib/python3.8/site-packages/librosa/core/audio.py:162: UserWarning: PySoundFile failed. Trying audioread instead.\n",
      "  warnings.warn(\"PySoundFile failed. Trying audioread instead.\")\n"
     ]
    },
    {
     "name": "stdout",
     "output_type": "stream",
     "text": [
      "filesprocess:  ./WOLOF_FOR_MEMORY/7_Juróom-Ñaar/AUDIO-2021-05-22-10-47-21.m4a  --  205\n",
      "  len --  28195   --  Ecrit ......\n",
      " CHIFFRE : :  1_Benn\n"
     ]
    },
    {
     "name": "stderr",
     "output_type": "stream",
     "text": [
      "/home/ibrahimabarry01/anaconda3/lib/python3.8/site-packages/librosa/core/audio.py:162: UserWarning: PySoundFile failed. Trying audioread instead.\n",
      "  warnings.warn(\"PySoundFile failed. Trying audioread instead.\")\n"
     ]
    },
    {
     "name": "stdout",
     "output_type": "stream",
     "text": [
      "filesprocess:  ./WOLOF_FOR_MEMORY/1_Benn/AUDIO-2021-05-22-20-50-07.m4a  --  206\n",
      "  len --  66768   --  Ecrit ......\n"
     ]
    },
    {
     "name": "stderr",
     "output_type": "stream",
     "text": [
      "/home/ibrahimabarry01/anaconda3/lib/python3.8/site-packages/librosa/core/audio.py:162: UserWarning: PySoundFile failed. Trying audioread instead.\n",
      "  warnings.warn(\"PySoundFile failed. Trying audioread instead.\")\n"
     ]
    },
    {
     "name": "stdout",
     "output_type": "stream",
     "text": [
      "filesprocess:  ./WOLOF_FOR_MEMORY/1_Benn/AUDIO-2021-05-22-19-25-54.m4a  --  207\n",
      "  len --  39485   --  Ecrit ......\n"
     ]
    },
    {
     "name": "stderr",
     "output_type": "stream",
     "text": [
      "/home/ibrahimabarry01/anaconda3/lib/python3.8/site-packages/librosa/core/audio.py:162: UserWarning: PySoundFile failed. Trying audioread instead.\n",
      "  warnings.warn(\"PySoundFile failed. Trying audioread instead.\")\n"
     ]
    },
    {
     "name": "stdout",
     "output_type": "stream",
     "text": [
      "filesprocess:  ./WOLOF_FOR_MEMORY/1_Benn/AUDIO-2021-05-22-18-03-41.m4a  --  208\n",
      "  len --  28665   --  Ecrit ......\n"
     ]
    },
    {
     "name": "stderr",
     "output_type": "stream",
     "text": [
      "/home/ibrahimabarry01/anaconda3/lib/python3.8/site-packages/librosa/core/audio.py:162: UserWarning: PySoundFile failed. Trying audioread instead.\n",
      "  warnings.warn(\"PySoundFile failed. Trying audioread instead.\")\n"
     ]
    },
    {
     "name": "stdout",
     "output_type": "stream",
     "text": [
      "filesprocess:  ./WOLOF_FOR_MEMORY/1_Benn/AUDIO-2021-05-22-20-03-59.m4a  --  209\n",
      "  len --  46070   --  Ecrit ......\n"
     ]
    },
    {
     "name": "stderr",
     "output_type": "stream",
     "text": [
      "/home/ibrahimabarry01/anaconda3/lib/python3.8/site-packages/librosa/core/audio.py:162: UserWarning: PySoundFile failed. Trying audioread instead.\n",
      "  warnings.warn(\"PySoundFile failed. Trying audioread instead.\")\n"
     ]
    },
    {
     "name": "stdout",
     "output_type": "stream",
     "text": [
      "filesprocess:  ./WOLOF_FOR_MEMORY/1_Benn/AUDIO-2021-05-22-14-04-04.m4a  --  210\n",
      "  len --  49833   --  Ecrit ......\n"
     ]
    },
    {
     "name": "stderr",
     "output_type": "stream",
     "text": [
      "/home/ibrahimabarry01/anaconda3/lib/python3.8/site-packages/librosa/core/audio.py:162: UserWarning: PySoundFile failed. Trying audioread instead.\n",
      "  warnings.warn(\"PySoundFile failed. Trying audioread instead.\")\n"
     ]
    },
    {
     "name": "stdout",
     "output_type": "stream",
     "text": [
      "filesprocess:  ./WOLOF_FOR_MEMORY/1_Benn/AUDIO-2021-05-22-13-26-54.m4a  --  211\n",
      "  len --  60653   --  Ecrit ......\n"
     ]
    },
    {
     "name": "stderr",
     "output_type": "stream",
     "text": [
      "/home/ibrahimabarry01/anaconda3/lib/python3.8/site-packages/librosa/core/audio.py:162: UserWarning: PySoundFile failed. Trying audioread instead.\n",
      "  warnings.warn(\"PySoundFile failed. Trying audioread instead.\")\n"
     ]
    },
    {
     "name": "stdout",
     "output_type": "stream",
     "text": [
      "filesprocess:  ./WOLOF_FOR_MEMORY/1_Benn/AUDIO-2021-05-16-20-15-49.m4a  --  212\n",
      "  len --  30547   --  Ecrit ......\n"
     ]
    },
    {
     "name": "stderr",
     "output_type": "stream",
     "text": [
      "/home/ibrahimabarry01/anaconda3/lib/python3.8/site-packages/librosa/core/audio.py:162: UserWarning: PySoundFile failed. Trying audioread instead.\n",
      "  warnings.warn(\"PySoundFile failed. Trying audioread instead.\")\n"
     ]
    },
    {
     "name": "stdout",
     "output_type": "stream",
     "text": [
      "filesprocess:  ./WOLOF_FOR_MEMORY/1_Benn/AUDIO-2021-05-16-20-26-10.m4a  --  213\n",
      "  len --  60182   --  Ecrit ......\n"
     ]
    },
    {
     "name": "stderr",
     "output_type": "stream",
     "text": [
      "/home/ibrahimabarry01/anaconda3/lib/python3.8/site-packages/librosa/core/audio.py:162: UserWarning: PySoundFile failed. Trying audioread instead.\n",
      "  warnings.warn(\"PySoundFile failed. Trying audioread instead.\")\n"
     ]
    },
    {
     "name": "stdout",
     "output_type": "stream",
     "text": [
      "filesprocess:  ./WOLOF_FOR_MEMORY/1_Benn/AUDIO-2021-05-16-23-20-45.m4a  --  214\n",
      "  len --  64886   --  Ecrit ......\n"
     ]
    },
    {
     "name": "stderr",
     "output_type": "stream",
     "text": [
      "/home/ibrahimabarry01/anaconda3/lib/python3.8/site-packages/librosa/core/audio.py:162: UserWarning: PySoundFile failed. Trying audioread instead.\n",
      "  warnings.warn(\"PySoundFile failed. Trying audioread instead.\")\n"
     ]
    },
    {
     "name": "stdout",
     "output_type": "stream",
     "text": [
      "filesprocess:  ./WOLOF_FOR_MEMORY/1_Benn/AUDIO-2021-05-16-23-49-23.m4a  --  215\n",
      "  len --  31958   --  Ecrit ......\n"
     ]
    },
    {
     "name": "stderr",
     "output_type": "stream",
     "text": [
      "/home/ibrahimabarry01/anaconda3/lib/python3.8/site-packages/librosa/core/audio.py:162: UserWarning: PySoundFile failed. Trying audioread instead.\n",
      "  warnings.warn(\"PySoundFile failed. Trying audioread instead.\")\n"
     ]
    },
    {
     "name": "stdout",
     "output_type": "stream",
     "text": [
      "filesprocess:  ./WOLOF_FOR_MEMORY/1_Benn/AUDIO-2021-05-17-00-06-12.m4a  --  216\n",
      "  len --  56419   --  Ecrit ......\n"
     ]
    },
    {
     "name": "stderr",
     "output_type": "stream",
     "text": [
      "/home/ibrahimabarry01/anaconda3/lib/python3.8/site-packages/librosa/core/audio.py:162: UserWarning: PySoundFile failed. Trying audioread instead.\n",
      "  warnings.warn(\"PySoundFile failed. Trying audioread instead.\")\n"
     ]
    },
    {
     "name": "stdout",
     "output_type": "stream",
     "text": [
      "filesprocess:  ./WOLOF_FOR_MEMORY/1_Benn/AUDIO-2021-05-11-15-19-53.m4a  --  217\n",
      "  len --  48893   --  Ecrit ......\n"
     ]
    },
    {
     "name": "stderr",
     "output_type": "stream",
     "text": [
      "/home/ibrahimabarry01/anaconda3/lib/python3.8/site-packages/librosa/core/audio.py:162: UserWarning: PySoundFile failed. Trying audioread instead.\n",
      "  warnings.warn(\"PySoundFile failed. Trying audioread instead.\")\n"
     ]
    },
    {
     "name": "stdout",
     "output_type": "stream",
     "text": [
      "filesprocess:  ./WOLOF_FOR_MEMORY/1_Benn/AUDIO-2021-05-18-01-10-21.m4a  --  218\n",
      "  len --  36192   --  Ecrit ......\n"
     ]
    },
    {
     "name": "stderr",
     "output_type": "stream",
     "text": [
      "/home/ibrahimabarry01/anaconda3/lib/python3.8/site-packages/librosa/core/audio.py:162: UserWarning: PySoundFile failed. Trying audioread instead.\n",
      "  warnings.warn(\"PySoundFile failed. Trying audioread instead.\")\n"
     ]
    },
    {
     "name": "stdout",
     "output_type": "stream",
     "text": [
      "filesprocess:  ./WOLOF_FOR_MEMORY/1_Benn/AUDIO-2021-05-18-14-34-11.m4a  --  219\n",
      "  len --  34781   --  Ecrit ......\n"
     ]
    },
    {
     "name": "stderr",
     "output_type": "stream",
     "text": [
      "/home/ibrahimabarry01/anaconda3/lib/python3.8/site-packages/librosa/core/audio.py:162: UserWarning: PySoundFile failed. Trying audioread instead.\n",
      "  warnings.warn(\"PySoundFile failed. Trying audioread instead.\")\n"
     ]
    },
    {
     "name": "stdout",
     "output_type": "stream",
     "text": [
      "filesprocess:  ./WOLOF_FOR_MEMORY/1_Benn/AUDIO-2021-05-18-19-53-04.m4a  --  220\n",
      "  len --  68179   --  Ecrit ......\n"
     ]
    },
    {
     "name": "stderr",
     "output_type": "stream",
     "text": [
      "/home/ibrahimabarry01/anaconda3/lib/python3.8/site-packages/librosa/core/audio.py:162: UserWarning: PySoundFile failed. Trying audioread instead.\n",
      "  warnings.warn(\"PySoundFile failed. Trying audioread instead.\")\n"
     ]
    },
    {
     "name": "stdout",
     "output_type": "stream",
     "text": [
      "filesprocess:  ./WOLOF_FOR_MEMORY/1_Benn/AUDIO-2021-05-18-21-52-09.m4a  --  221\n",
      "  len --  31958   --  Ecrit ......\n"
     ]
    },
    {
     "name": "stderr",
     "output_type": "stream",
     "text": [
      "/home/ibrahimabarry01/anaconda3/lib/python3.8/site-packages/librosa/core/audio.py:162: UserWarning: PySoundFile failed. Trying audioread instead.\n",
      "  warnings.warn(\"PySoundFile failed. Trying audioread instead.\")\n"
     ]
    },
    {
     "name": "stdout",
     "output_type": "stream",
     "text": [
      "filesprocess:  ./WOLOF_FOR_MEMORY/1_Benn/AUDIO-2021-05-18-21-01-21.m4a  --  222\n",
      "  len --  59904   --  Ecrit ......\n"
     ]
    },
    {
     "name": "stderr",
     "output_type": "stream",
     "text": [
      "/home/ibrahimabarry01/anaconda3/lib/python3.8/site-packages/librosa/core/audio.py:162: UserWarning: PySoundFile failed. Trying audioread instead.\n",
      "  warnings.warn(\"PySoundFile failed. Trying audioread instead.\")\n"
     ]
    },
    {
     "name": "stdout",
     "output_type": "stream",
     "text": [
      "filesprocess:  ./WOLOF_FOR_MEMORY/1_Benn/AUDIO-2021-05-19-21-38-57.m4a  --  223\n",
      "  len --  64416   --  Ecrit ......\n"
     ]
    },
    {
     "name": "stderr",
     "output_type": "stream",
     "text": [
      "/home/ibrahimabarry01/anaconda3/lib/python3.8/site-packages/librosa/core/audio.py:162: UserWarning: PySoundFile failed. Trying audioread instead.\n",
      "  warnings.warn(\"PySoundFile failed. Trying audioread instead.\")\n"
     ]
    },
    {
     "name": "stdout",
     "output_type": "stream",
     "text": [
      "filesprocess:  ./WOLOF_FOR_MEMORY/1_Benn/AUDIO-2021-05-19-22-00-07.m4a  --  224\n",
      "  len --  29606   --  Ecrit ......\n"
     ]
    },
    {
     "name": "stderr",
     "output_type": "stream",
     "text": [
      "/home/ibrahimabarry01/anaconda3/lib/python3.8/site-packages/librosa/core/audio.py:162: UserWarning: PySoundFile failed. Trying audioread instead.\n",
      "  warnings.warn(\"PySoundFile failed. Trying audioread instead.\")\n"
     ]
    },
    {
     "name": "stdout",
     "output_type": "stream",
     "text": [
      "filesprocess:  ./WOLOF_FOR_MEMORY/1_Benn/AUDIO-2021-05-20-17-48-37.m4a  --  225\n",
      "  len --  57830   --  Ecrit ......\n"
     ]
    },
    {
     "name": "stderr",
     "output_type": "stream",
     "text": [
      "/home/ibrahimabarry01/anaconda3/lib/python3.8/site-packages/librosa/core/audio.py:162: UserWarning: PySoundFile failed. Trying audioread instead.\n",
      "  warnings.warn(\"PySoundFile failed. Trying audioread instead.\")\n"
     ]
    },
    {
     "name": "stdout",
     "output_type": "stream",
     "text": [
      "filesprocess:  ./WOLOF_FOR_MEMORY/1_Benn/AUDIO-2021-05-16-23-16-19.m4a  --  226\n",
      "  len --  14553   --  Ecrit ......\n"
     ]
    },
    {
     "name": "stderr",
     "output_type": "stream",
     "text": [
      "/home/ibrahimabarry01/anaconda3/lib/python3.8/site-packages/librosa/core/audio.py:162: UserWarning: PySoundFile failed. Trying audioread instead.\n",
      "  warnings.warn(\"PySoundFile failed. Trying audioread instead.\")\n"
     ]
    },
    {
     "name": "stdout",
     "output_type": "stream",
     "text": [
      "filesprocess:  ./WOLOF_FOR_MEMORY/1_Benn/AUDIO-2021-05-20-16-12-53.m4a  --  227\n",
      "  len --  29136   --  Ecrit ......\n"
     ]
    },
    {
     "name": "stderr",
     "output_type": "stream",
     "text": [
      "/home/ibrahimabarry01/anaconda3/lib/python3.8/site-packages/librosa/core/audio.py:162: UserWarning: PySoundFile failed. Trying audioread instead.\n",
      "  warnings.warn(\"PySoundFile failed. Trying audioread instead.\")\n"
     ]
    },
    {
     "name": "stdout",
     "output_type": "stream",
     "text": [
      "filesprocess:  ./WOLOF_FOR_MEMORY/1_Benn/AUDIO-2021-05-20-21-03-12.m4a  --  228\n",
      "  len --  50774   --  Ecrit ......\n"
     ]
    },
    {
     "name": "stderr",
     "output_type": "stream",
     "text": [
      "/home/ibrahimabarry01/anaconda3/lib/python3.8/site-packages/librosa/core/audio.py:162: UserWarning: PySoundFile failed. Trying audioread instead.\n",
      "  warnings.warn(\"PySoundFile failed. Trying audioread instead.\")\n"
     ]
    },
    {
     "name": "stdout",
     "output_type": "stream",
     "text": [
      "filesprocess:  ./WOLOF_FOR_MEMORY/1_Benn/AUDIO-2021-05-21-00-23-16.m4a  --  229\n",
      "  len --  32429   --  Ecrit ......\n"
     ]
    },
    {
     "name": "stderr",
     "output_type": "stream",
     "text": [
      "/home/ibrahimabarry01/anaconda3/lib/python3.8/site-packages/librosa/core/audio.py:162: UserWarning: PySoundFile failed. Trying audioread instead.\n",
      "  warnings.warn(\"PySoundFile failed. Trying audioread instead.\")\n"
     ]
    },
    {
     "name": "stdout",
     "output_type": "stream",
     "text": [
      "filesprocess:  ./WOLOF_FOR_MEMORY/1_Benn/AUDIO-2021-05-21-00-12-27.m4a  --  230\n",
      "  len --  35721   --  Ecrit ......\n"
     ]
    },
    {
     "name": "stderr",
     "output_type": "stream",
     "text": [
      "/home/ibrahimabarry01/anaconda3/lib/python3.8/site-packages/librosa/core/audio.py:162: UserWarning: PySoundFile failed. Trying audioread instead.\n",
      "  warnings.warn(\"PySoundFile failed. Trying audioread instead.\")\n"
     ]
    },
    {
     "name": "stdout",
     "output_type": "stream",
     "text": [
      "filesprocess:  ./WOLOF_FOR_MEMORY/1_Benn/AUDIO-2021-05-21-00-43-57.m4a  --  231\n",
      "  len --  60182   --  Ecrit ......\n"
     ]
    },
    {
     "name": "stderr",
     "output_type": "stream",
     "text": [
      "/home/ibrahimabarry01/anaconda3/lib/python3.8/site-packages/librosa/core/audio.py:162: UserWarning: PySoundFile failed. Trying audioread instead.\n",
      "  warnings.warn(\"PySoundFile failed. Trying audioread instead.\")\n"
     ]
    },
    {
     "name": "stdout",
     "output_type": "stream",
     "text": [
      "filesprocess:  ./WOLOF_FOR_MEMORY/1_Benn/AUDIO-2021-05-20-23-55-28.m4a  --  232\n",
      "  len --  54067   --  Ecrit ......\n"
     ]
    },
    {
     "name": "stderr",
     "output_type": "stream",
     "text": [
      "/home/ibrahimabarry01/anaconda3/lib/python3.8/site-packages/librosa/core/audio.py:162: UserWarning: PySoundFile failed. Trying audioread instead.\n",
      "  warnings.warn(\"PySoundFile failed. Trying audioread instead.\")\n"
     ]
    },
    {
     "name": "stdout",
     "output_type": "stream",
     "text": [
      "filesprocess:  ./WOLOF_FOR_MEMORY/1_Benn/AUDIO-2021-05-20-19-50-13.m4a  --  233\n",
      "  len --  23021   --  Ecrit ......\n"
     ]
    },
    {
     "name": "stderr",
     "output_type": "stream",
     "text": [
      "/home/ibrahimabarry01/anaconda3/lib/python3.8/site-packages/librosa/core/audio.py:162: UserWarning: PySoundFile failed. Trying audioread instead.\n",
      "  warnings.warn(\"PySoundFile failed. Trying audioread instead.\")\n"
     ]
    },
    {
     "name": "stdout",
     "output_type": "stream",
     "text": [
      "filesprocess:  ./WOLOF_FOR_MEMORY/1_Benn/AUDIO-2021-05-21-01-01-41.m4a  --  234\n",
      "  len --  41366   --  Ecrit ......\n"
     ]
    },
    {
     "name": "stderr",
     "output_type": "stream",
     "text": [
      "/home/ibrahimabarry01/anaconda3/lib/python3.8/site-packages/librosa/core/audio.py:162: UserWarning: PySoundFile failed. Trying audioread instead.\n",
      "  warnings.warn(\"PySoundFile failed. Trying audioread instead.\")\n"
     ]
    },
    {
     "name": "stdout",
     "output_type": "stream",
     "text": [
      "filesprocess:  ./WOLOF_FOR_MEMORY/1_Benn/AUDIO-2021-05-20-21-27-36.m4a  --  235\n",
      "  len --  47011   --  Ecrit ......\n"
     ]
    },
    {
     "name": "stderr",
     "output_type": "stream",
     "text": [
      "/home/ibrahimabarry01/anaconda3/lib/python3.8/site-packages/librosa/core/audio.py:162: UserWarning: PySoundFile failed. Trying audioread instead.\n",
      "  warnings.warn(\"PySoundFile failed. Trying audioread instead.\")\n"
     ]
    },
    {
     "name": "stdout",
     "output_type": "stream",
     "text": [
      "filesprocess:  ./WOLOF_FOR_MEMORY/1_Benn/AUDIO-2021-05-21-19-33-29.m4a  --  236\n",
      "  len --  60182   --  Ecrit ......\n"
     ]
    },
    {
     "name": "stderr",
     "output_type": "stream",
     "text": [
      "/home/ibrahimabarry01/anaconda3/lib/python3.8/site-packages/librosa/core/audio.py:162: UserWarning: PySoundFile failed. Trying audioread instead.\n",
      "  warnings.warn(\"PySoundFile failed. Trying audioread instead.\")\n"
     ]
    },
    {
     "name": "stdout",
     "output_type": "stream",
     "text": [
      "filesprocess:  ./WOLOF_FOR_MEMORY/1_Benn/AUDIO-2021-05-21-21-36-49.m4a  --  237\n",
      "  len --  43718   --  Ecrit ......\n"
     ]
    },
    {
     "name": "stderr",
     "output_type": "stream",
     "text": [
      "/home/ibrahimabarry01/anaconda3/lib/python3.8/site-packages/librosa/core/audio.py:162: UserWarning: PySoundFile failed. Trying audioread instead.\n",
      "  warnings.warn(\"PySoundFile failed. Trying audioread instead.\")\n"
     ]
    },
    {
     "name": "stdout",
     "output_type": "stream",
     "text": [
      "filesprocess:  ./WOLOF_FOR_MEMORY/1_Benn/AUDIO-2021-05-20-17-34-09.m4a  --  238\n",
      "  len --  28665   --  Ecrit ......\n"
     ]
    },
    {
     "name": "stderr",
     "output_type": "stream",
     "text": [
      "/home/ibrahimabarry01/anaconda3/lib/python3.8/site-packages/librosa/core/audio.py:162: UserWarning: PySoundFile failed. Trying audioread instead.\n",
      "  warnings.warn(\"PySoundFile failed. Trying audioread instead.\")\n"
     ]
    },
    {
     "name": "stdout",
     "output_type": "stream",
     "text": [
      "filesprocess:  ./WOLOF_FOR_MEMORY/1_Benn/AUDIO-2021-05-16-23-30-37.m4a  --  239\n",
      "  len --  51715   --  Ecrit ......\n"
     ]
    },
    {
     "name": "stderr",
     "output_type": "stream",
     "text": [
      "/home/ibrahimabarry01/anaconda3/lib/python3.8/site-packages/librosa/core/audio.py:162: UserWarning: PySoundFile failed. Trying audioread instead.\n",
      "  warnings.warn(\"PySoundFile failed. Trying audioread instead.\")\n"
     ]
    },
    {
     "name": "stdout",
     "output_type": "stream",
     "text": [
      "filesprocess:  ./WOLOF_FOR_MEMORY/1_Benn/AUDIO-2021-05-22-10-45-37.m4a  --  240\n",
      "  len --  33369   --  Ecrit ......\n",
      " CHIFFRE : :  9_Juróom-Ñent\n"
     ]
    },
    {
     "name": "stderr",
     "output_type": "stream",
     "text": [
      "/home/ibrahimabarry01/anaconda3/lib/python3.8/site-packages/librosa/core/audio.py:162: UserWarning: PySoundFile failed. Trying audioread instead.\n",
      "  warnings.warn(\"PySoundFile failed. Trying audioread instead.\")\n"
     ]
    },
    {
     "name": "stdout",
     "output_type": "stream",
     "text": [
      "filesprocess:  ./WOLOF_FOR_MEMORY/9_Juróom-Ñent/AUDIO-2021-05-22-20-51-46.m4a  --  241\n",
      "  len --  41837   --  Ecrit ......\n"
     ]
    },
    {
     "name": "stderr",
     "output_type": "stream",
     "text": [
      "/home/ibrahimabarry01/anaconda3/lib/python3.8/site-packages/librosa/core/audio.py:162: UserWarning: PySoundFile failed. Trying audioread instead.\n",
      "  warnings.warn(\"PySoundFile failed. Trying audioread instead.\")\n"
     ]
    },
    {
     "name": "stdout",
     "output_type": "stream",
     "text": [
      "filesprocess:  ./WOLOF_FOR_MEMORY/9_Juróom-Ñent/AUDIO-2021-05-22-19-26-27.m4a  --  242\n",
      "  len --  35251   --  Ecrit ......\n"
     ]
    },
    {
     "name": "stderr",
     "output_type": "stream",
     "text": [
      "/home/ibrahimabarry01/anaconda3/lib/python3.8/site-packages/librosa/core/audio.py:162: UserWarning: PySoundFile failed. Trying audioread instead.\n",
      "  warnings.warn(\"PySoundFile failed. Trying audioread instead.\")\n"
     ]
    },
    {
     "name": "stdout",
     "output_type": "stream",
     "text": [
      "filesprocess:  ./WOLOF_FOR_MEMORY/9_Juróom-Ñent/AUDIO-2021-05-22-18-04-11.m4a  --  243\n",
      "  len --  35251   --  Ecrit ......\n"
     ]
    },
    {
     "name": "stderr",
     "output_type": "stream",
     "text": [
      "/home/ibrahimabarry01/anaconda3/lib/python3.8/site-packages/librosa/core/audio.py:162: UserWarning: PySoundFile failed. Trying audioread instead.\n",
      "  warnings.warn(\"PySoundFile failed. Trying audioread instead.\")\n"
     ]
    },
    {
     "name": "stdout",
     "output_type": "stream",
     "text": [
      "filesprocess:  ./WOLOF_FOR_MEMORY/9_Juróom-Ñent/AUDIO-2021-05-22-20-04-34.m4a  --  244\n",
      "  len --  63945   --  Ecrit ......\n"
     ]
    },
    {
     "name": "stderr",
     "output_type": "stream",
     "text": [
      "/home/ibrahimabarry01/anaconda3/lib/python3.8/site-packages/librosa/core/audio.py:162: UserWarning: PySoundFile failed. Trying audioread instead.\n",
      "  warnings.warn(\"PySoundFile failed. Trying audioread instead.\")\n"
     ]
    },
    {
     "name": "stdout",
     "output_type": "stream",
     "text": [
      "filesprocess:  ./WOLOF_FOR_MEMORY/9_Juróom-Ñent/AUDIO-2021-05-22-14-04-43.m4a  --  245\n",
      "  len --  42307   --  Ecrit ......\n"
     ]
    },
    {
     "name": "stderr",
     "output_type": "stream",
     "text": [
      "/home/ibrahimabarry01/anaconda3/lib/python3.8/site-packages/librosa/core/audio.py:162: UserWarning: PySoundFile failed. Trying audioread instead.\n",
      "  warnings.warn(\"PySoundFile failed. Trying audioread instead.\")\n"
     ]
    },
    {
     "name": "stdout",
     "output_type": "stream",
     "text": [
      "filesprocess:  ./WOLOF_FOR_MEMORY/9_Juróom-Ñent/AUDIO-2021-05-22-13-27-54.m4a  --  246\n",
      "  len --  47952   --  Ecrit ......\n"
     ]
    },
    {
     "name": "stderr",
     "output_type": "stream",
     "text": [
      "/home/ibrahimabarry01/anaconda3/lib/python3.8/site-packages/librosa/core/audio.py:162: UserWarning: PySoundFile failed. Trying audioread instead.\n",
      "  warnings.warn(\"PySoundFile failed. Trying audioread instead.\")\n"
     ]
    },
    {
     "name": "stdout",
     "output_type": "stream",
     "text": [
      "filesprocess:  ./WOLOF_FOR_MEMORY/9_Juróom-Ñent/AUDIO-2021-05-16-20-17-09.m4a  --  247\n",
      "  len --  34781   --  Ecrit ......\n"
     ]
    },
    {
     "name": "stderr",
     "output_type": "stream",
     "text": [
      "/home/ibrahimabarry01/anaconda3/lib/python3.8/site-packages/librosa/core/audio.py:162: UserWarning: PySoundFile failed. Trying audioread instead.\n",
      "  warnings.warn(\"PySoundFile failed. Trying audioread instead.\")\n"
     ]
    },
    {
     "name": "stdout",
     "output_type": "stream",
     "text": [
      "filesprocess:  ./WOLOF_FOR_MEMORY/9_Juróom-Ñent/AUDIO-2021-05-16-20-28-27.m4a  --  248\n",
      "  len --  71472   --  Ecrit ......\n"
     ]
    },
    {
     "name": "stderr",
     "output_type": "stream",
     "text": [
      "/home/ibrahimabarry01/anaconda3/lib/python3.8/site-packages/librosa/core/audio.py:162: UserWarning: PySoundFile failed. Trying audioread instead.\n",
      "  warnings.warn(\"PySoundFile failed. Trying audioread instead.\")\n"
     ]
    },
    {
     "name": "stdout",
     "output_type": "stream",
     "text": [
      "filesprocess:  ./WOLOF_FOR_MEMORY/9_Juróom-Ñent/AUDIO-2021-05-16-23-21-26.m4a  --  249\n"
     ]
    },
    {
     "data": {
      "image/png": "[encoded data removed]",
      "text/plain": [
       "<Figure size 720x360 with 1 Axes>"
      ]
     },
     "metadata": {
      "needs_background": "light"
     },
     "output_type": "display_data"
    },
    {
     "name": "stdout",
     "output_type": "stream",
     "text": [
      "Entrer debut : 0\n",
      "Entrer din : 70000\n"
     ]
    },
    {
     "name": "stderr",
     "output_type": "stream",
     "text": [
      "/home/ibrahimabarry01/anaconda3/lib/python3.8/site-packages/librosa/core/audio.py:162: UserWarning: PySoundFile failed. Trying audioread instead.\n",
      "  warnings.warn(\"PySoundFile failed. Trying audioread instead.\")\n"
     ]
    },
    {
     "name": "stdout",
     "output_type": "stream",
     "text": [
      "filesprocess:  ./WOLOF_FOR_MEMORY/9_Juróom-Ñent/AUDIO-2021-05-16-23-52-19.m4a  --  250\n",
      "  len --  34310   --  Ecrit ......\n"
     ]
    },
    {
     "name": "stderr",
     "output_type": "stream",
     "text": [
      "/home/ibrahimabarry01/anaconda3/lib/python3.8/site-packages/librosa/core/audio.py:162: UserWarning: PySoundFile failed. Trying audioread instead.\n",
      "  warnings.warn(\"PySoundFile failed. Trying audioread instead.\")\n"
     ]
    },
    {
     "name": "stdout",
     "output_type": "stream",
     "text": [
      "filesprocess:  ./WOLOF_FOR_MEMORY/9_Juróom-Ñent/AUDIO-2021-05-17-00-06-58.m4a  --  251\n",
      "  len --  29606   --  Ecrit ......\n"
     ]
    },
    {
     "name": "stderr",
     "output_type": "stream",
     "text": [
      "/home/ibrahimabarry01/anaconda3/lib/python3.8/site-packages/librosa/core/audio.py:162: UserWarning: PySoundFile failed. Trying audioread instead.\n",
      "  warnings.warn(\"PySoundFile failed. Trying audioread instead.\")\n"
     ]
    },
    {
     "name": "stdout",
     "output_type": "stream",
     "text": [
      "filesprocess:  ./WOLOF_FOR_MEMORY/9_Juróom-Ñent/AUDIO-2021-05-11-15-22-25.m4a  --  252\n",
      "  len --  57830   --  Ecrit ......\n"
     ]
    },
    {
     "name": "stderr",
     "output_type": "stream",
     "text": [
      "/home/ibrahimabarry01/anaconda3/lib/python3.8/site-packages/librosa/core/audio.py:162: UserWarning: PySoundFile failed. Trying audioread instead.\n",
      "  warnings.warn(\"PySoundFile failed. Trying audioread instead.\")\n"
     ]
    },
    {
     "name": "stdout",
     "output_type": "stream",
     "text": [
      "filesprocess:  ./WOLOF_FOR_MEMORY/9_Juróom-Ñent/AUDIO-2021-05-18-14-34-44.m4a  --  253\n",
      "  len --  26784   --  Ecrit ......\n"
     ]
    },
    {
     "name": "stderr",
     "output_type": "stream",
     "text": [
      "/home/ibrahimabarry01/anaconda3/lib/python3.8/site-packages/librosa/core/audio.py:162: UserWarning: PySoundFile failed. Trying audioread instead.\n",
      "  warnings.warn(\"PySoundFile failed. Trying audioread instead.\")\n"
     ]
    },
    {
     "name": "stdout",
     "output_type": "stream",
     "text": [
      "filesprocess:  ./WOLOF_FOR_MEMORY/9_Juróom-Ñent/AUDIO-2021-05-18-19-55-18.m4a  --  254\n",
      "  len --  49363   --  Ecrit ......\n"
     ]
    },
    {
     "name": "stderr",
     "output_type": "stream",
     "text": [
      "/home/ibrahimabarry01/anaconda3/lib/python3.8/site-packages/librosa/core/audio.py:162: UserWarning: PySoundFile failed. Trying audioread instead.\n",
      "  warnings.warn(\"PySoundFile failed. Trying audioread instead.\")\n"
     ]
    },
    {
     "name": "stdout",
     "output_type": "stream",
     "text": [
      "filesprocess:  ./WOLOF_FOR_MEMORY/9_Juróom-Ñent/AUDIO-2021-05-18-20-59-14_2.m4a  --  255\n",
      "  len --  65536   --  Ecrit ......\n"
     ]
    },
    {
     "name": "stderr",
     "output_type": "stream",
     "text": [
      "/home/ibrahimabarry01/anaconda3/lib/python3.8/site-packages/librosa/core/audio.py:162: UserWarning: PySoundFile failed. Trying audioread instead.\n",
      "  warnings.warn(\"PySoundFile failed. Trying audioread instead.\")\n"
     ]
    },
    {
     "name": "stdout",
     "output_type": "stream",
     "text": [
      "filesprocess:  ./WOLOF_FOR_MEMORY/9_Juróom-Ñent/AUDIO-2021-05-19-21-40-30.m4a  --  256\n",
      "  len --  64886   --  Ecrit ......\n"
     ]
    },
    {
     "name": "stderr",
     "output_type": "stream",
     "text": [
      "/home/ibrahimabarry01/anaconda3/lib/python3.8/site-packages/librosa/core/audio.py:162: UserWarning: PySoundFile failed. Trying audioread instead.\n",
      "  warnings.warn(\"PySoundFile failed. Trying audioread instead.\")\n"
     ]
    },
    {
     "name": "stdout",
     "output_type": "stream",
     "text": [
      "filesprocess:  ./WOLOF_FOR_MEMORY/9_Juróom-Ñent/AUDIO-2021-05-19-22-01-30.m4a  --  257\n",
      "  len --  63005   --  Ecrit ......\n"
     ]
    },
    {
     "name": "stderr",
     "output_type": "stream",
     "text": [
      "/home/ibrahimabarry01/anaconda3/lib/python3.8/site-packages/librosa/core/audio.py:162: UserWarning: PySoundFile failed. Trying audioread instead.\n",
      "  warnings.warn(\"PySoundFile failed. Trying audioread instead.\")\n"
     ]
    },
    {
     "name": "stdout",
     "output_type": "stream",
     "text": [
      "filesprocess:  ./WOLOF_FOR_MEMORY/9_Juróom-Ñent/AUDIO-2021-05-20-17-49-31.m4a  --  258\n",
      "  len --  55478   --  Ecrit ......\n"
     ]
    },
    {
     "name": "stderr",
     "output_type": "stream",
     "text": [
      "/home/ibrahimabarry01/anaconda3/lib/python3.8/site-packages/librosa/core/audio.py:162: UserWarning: PySoundFile failed. Trying audioread instead.\n",
      "  warnings.warn(\"PySoundFile failed. Trying audioread instead.\")\n"
     ]
    },
    {
     "name": "stdout",
     "output_type": "stream",
     "text": [
      "filesprocess:  ./WOLOF_FOR_MEMORY/9_Juróom-Ñent/AUDIO-2021-05-20-17-59-30.m4a  --  259\n",
      "  len --  24902   --  Ecrit ......\n"
     ]
    },
    {
     "name": "stderr",
     "output_type": "stream",
     "text": [
      "/home/ibrahimabarry01/anaconda3/lib/python3.8/site-packages/librosa/core/audio.py:162: UserWarning: PySoundFile failed. Trying audioread instead.\n",
      "  warnings.warn(\"PySoundFile failed. Trying audioread instead.\")\n"
     ]
    },
    {
     "name": "stdout",
     "output_type": "stream",
     "text": [
      "filesprocess:  ./WOLOF_FOR_MEMORY/9_Juróom-Ñent/AUDIO-2021-05-16-23-16-47.m4a  --  260\n",
      "  len --  30547   --  Ecrit ......\n"
     ]
    },
    {
     "name": "stderr",
     "output_type": "stream",
     "text": [
      "/home/ibrahimabarry01/anaconda3/lib/python3.8/site-packages/librosa/core/audio.py:162: UserWarning: PySoundFile failed. Trying audioread instead.\n",
      "  warnings.warn(\"PySoundFile failed. Trying audioread instead.\")\n"
     ]
    },
    {
     "name": "stdout",
     "output_type": "stream",
     "text": [
      "filesprocess:  ./WOLOF_FOR_MEMORY/9_Juróom-Ñent/AUDIO-2021-05-20-21-03-21.m4a  --  261\n",
      "  len --  50774   --  Ecrit ......\n"
     ]
    },
    {
     "name": "stderr",
     "output_type": "stream",
     "text": [
      "/home/ibrahimabarry01/anaconda3/lib/python3.8/site-packages/librosa/core/audio.py:162: UserWarning: PySoundFile failed. Trying audioread instead.\n",
      "  warnings.warn(\"PySoundFile failed. Trying audioread instead.\")\n"
     ]
    },
    {
     "name": "stdout",
     "output_type": "stream",
     "text": [
      "filesprocess:  ./WOLOF_FOR_MEMORY/9_Juróom-Ñent/AUDIO-2021-05-21-00-26-10.m4a  --  262\n",
      "  len --  58771   --  Ecrit ......\n"
     ]
    },
    {
     "name": "stderr",
     "output_type": "stream",
     "text": [
      "/home/ibrahimabarry01/anaconda3/lib/python3.8/site-packages/librosa/core/audio.py:162: UserWarning: PySoundFile failed. Trying audioread instead.\n",
      "  warnings.warn(\"PySoundFile failed. Trying audioread instead.\")\n"
     ]
    },
    {
     "name": "stdout",
     "output_type": "stream",
     "text": [
      "filesprocess:  ./WOLOF_FOR_MEMORY/9_Juróom-Ñent/AUDIO-2021-05-21-00-12-54.m4a  --  263\n",
      "  len --  29606   --  Ecrit ......\n"
     ]
    },
    {
     "name": "stderr",
     "output_type": "stream",
     "text": [
      "/home/ibrahimabarry01/anaconda3/lib/python3.8/site-packages/librosa/core/audio.py:162: UserWarning: PySoundFile failed. Trying audioread instead.\n",
      "  warnings.warn(\"PySoundFile failed. Trying audioread instead.\")\n"
     ]
    },
    {
     "name": "stdout",
     "output_type": "stream",
     "text": [
      "filesprocess:  ./WOLOF_FOR_MEMORY/9_Juróom-Ñent/AUDIO-2021-05-20-23-57-49.m4a  --  264\n",
      "  len --  68179   --  Ecrit ......\n"
     ]
    },
    {
     "name": "stderr",
     "output_type": "stream",
     "text": [
      "/home/ibrahimabarry01/anaconda3/lib/python3.8/site-packages/librosa/core/audio.py:162: UserWarning: PySoundFile failed. Trying audioread instead.\n",
      "  warnings.warn(\"PySoundFile failed. Trying audioread instead.\")\n"
     ]
    },
    {
     "name": "stdout",
     "output_type": "stream",
     "text": [
      "filesprocess:  ./WOLOF_FOR_MEMORY/9_Juróom-Ñent/AUDIO-2021-05-20-19-52-25.m4a  --  265\n",
      "  len --  47952   --  Ecrit ......\n"
     ]
    },
    {
     "name": "stderr",
     "output_type": "stream",
     "text": [
      "/home/ibrahimabarry01/anaconda3/lib/python3.8/site-packages/librosa/core/audio.py:162: UserWarning: PySoundFile failed. Trying audioread instead.\n",
      "  warnings.warn(\"PySoundFile failed. Trying audioread instead.\")\n"
     ]
    },
    {
     "name": "stdout",
     "output_type": "stream",
     "text": [
      "filesprocess:  ./WOLOF_FOR_MEMORY/9_Juróom-Ñent/AUDIO-2021-05-21-01-03-24.m4a  --  266\n",
      "  len --  50304   --  Ecrit ......\n"
     ]
    },
    {
     "name": "stderr",
     "output_type": "stream",
     "text": [
      "/home/ibrahimabarry01/anaconda3/lib/python3.8/site-packages/librosa/core/audio.py:162: UserWarning: PySoundFile failed. Trying audioread instead.\n",
      "  warnings.warn(\"PySoundFile failed. Trying audioread instead.\")\n"
     ]
    },
    {
     "name": "stdout",
     "output_type": "stream",
     "text": [
      "filesprocess:  ./WOLOF_FOR_MEMORY/9_Juróom-Ñent/AUDIO-2021-05-20-21-28-27.m4a  --  267\n",
      "  len --  47481   --  Ecrit ......\n"
     ]
    },
    {
     "name": "stderr",
     "output_type": "stream",
     "text": [
      "/home/ibrahimabarry01/anaconda3/lib/python3.8/site-packages/librosa/core/audio.py:162: UserWarning: PySoundFile failed. Trying audioread instead.\n",
      "  warnings.warn(\"PySoundFile failed. Trying audioread instead.\")\n"
     ]
    },
    {
     "name": "stdout",
     "output_type": "stream",
     "text": [
      "filesprocess:  ./WOLOF_FOR_MEMORY/9_Juróom-Ñent/AUDIO-2021-05-21-19-33-32.m4a  --  268\n",
      "  len --  28665   --  Ecrit ......\n"
     ]
    },
    {
     "name": "stderr",
     "output_type": "stream",
     "text": [
      "/home/ibrahimabarry01/anaconda3/lib/python3.8/site-packages/librosa/core/audio.py:162: UserWarning: PySoundFile failed. Trying audioread instead.\n",
      "  warnings.warn(\"PySoundFile failed. Trying audioread instead.\")\n"
     ]
    },
    {
     "name": "stdout",
     "output_type": "stream",
     "text": [
      "filesprocess:  ./WOLOF_FOR_MEMORY/9_Juróom-Ñent/AUDIO-2021-05-21-21-39-05.m4a  --  269\n",
      "  len --  71472   --  Ecrit ......\n"
     ]
    },
    {
     "name": "stderr",
     "output_type": "stream",
     "text": [
      "/home/ibrahimabarry01/anaconda3/lib/python3.8/site-packages/librosa/core/audio.py:162: UserWarning: PySoundFile failed. Trying audioread instead.\n",
      "  warnings.warn(\"PySoundFile failed. Trying audioread instead.\")\n"
     ]
    },
    {
     "name": "stdout",
     "output_type": "stream",
     "text": [
      "filesprocess:  ./WOLOF_FOR_MEMORY/9_Juróom-Ñent/AUDIO-2021-05-20-17-40-05.m4a  --  270\n",
      "  len --  53126   --  Ecrit ......\n"
     ]
    },
    {
     "name": "stderr",
     "output_type": "stream",
     "text": [
      "/home/ibrahimabarry01/anaconda3/lib/python3.8/site-packages/librosa/core/audio.py:162: UserWarning: PySoundFile failed. Trying audioread instead.\n",
      "  warnings.warn(\"PySoundFile failed. Trying audioread instead.\")\n"
     ]
    },
    {
     "name": "stdout",
     "output_type": "stream",
     "text": [
      "filesprocess:  ./WOLOF_FOR_MEMORY/9_Juróom-Ñent/AUDIO-2021-05-16-23-32-20.m4a  --  271\n",
      "  len --  35721   --  Ecrit ......\n"
     ]
    },
    {
     "name": "stderr",
     "output_type": "stream",
     "text": [
      "/home/ibrahimabarry01/anaconda3/lib/python3.8/site-packages/librosa/core/audio.py:162: UserWarning: PySoundFile failed. Trying audioread instead.\n",
      "  warnings.warn(\"PySoundFile failed. Trying audioread instead.\")\n"
     ]
    },
    {
     "name": "stdout",
     "output_type": "stream",
     "text": [
      "filesprocess:  ./WOLOF_FOR_MEMORY/9_Juróom-Ñent/AUDIO-2021-05-22-10-47-29.m4a  --  272\n",
      "  len --  40425   --  Ecrit ......\n",
      " CHIFFRE : :  2_Ñaar\n"
     ]
    },
    {
     "name": "stderr",
     "output_type": "stream",
     "text": [
      "/home/ibrahimabarry01/anaconda3/lib/python3.8/site-packages/librosa/core/audio.py:162: UserWarning: PySoundFile failed. Trying audioread instead.\n",
      "  warnings.warn(\"PySoundFile failed. Trying audioread instead.\")\n"
     ]
    },
    {
     "name": "stdout",
     "output_type": "stream",
     "text": [
      "filesprocess:  ./WOLOF_FOR_MEMORY/2_Ñaar/AUDIO-2021-05-22-20-50-19.m4a  --  273\n",
      "  len --  39955   --  Ecrit ......\n"
     ]
    },
    {
     "name": "stderr",
     "output_type": "stream",
     "text": [
      "/home/ibrahimabarry01/anaconda3/lib/python3.8/site-packages/librosa/core/audio.py:162: UserWarning: PySoundFile failed. Trying audioread instead.\n",
      "  warnings.warn(\"PySoundFile failed. Trying audioread instead.\")\n"
     ]
    },
    {
     "name": "stdout",
     "output_type": "stream",
     "text": [
      "filesprocess:  ./WOLOF_FOR_MEMORY/2_Ñaar/AUDIO-2021-05-22-19-26-00.m4a  --  274\n",
      "  len --  36662   --  Ecrit ......\n"
     ]
    },
    {
     "name": "stderr",
     "output_type": "stream",
     "text": [
      "/home/ibrahimabarry01/anaconda3/lib/python3.8/site-packages/librosa/core/audio.py:162: UserWarning: PySoundFile failed. Trying audioread instead.\n",
      "  warnings.warn(\"PySoundFile failed. Trying audioread instead.\")\n"
     ]
    },
    {
     "name": "stdout",
     "output_type": "stream",
     "text": [
      "filesprocess:  ./WOLOF_FOR_MEMORY/2_Ñaar/AUDIO-2021-05-22-18-03-43.m4a  --  275\n",
      "  len --  27254   --  Ecrit ......\n"
     ]
    },
    {
     "name": "stderr",
     "output_type": "stream",
     "text": [
      "/home/ibrahimabarry01/anaconda3/lib/python3.8/site-packages/librosa/core/audio.py:162: UserWarning: PySoundFile failed. Trying audioread instead.\n",
      "  warnings.warn(\"PySoundFile failed. Trying audioread instead.\")\n"
     ]
    },
    {
     "name": "stdout",
     "output_type": "stream",
     "text": [
      "filesprocess:  ./WOLOF_FOR_MEMORY/2_Ñaar/AUDIO-2021-05-22-20-04-07.m4a  --  276\n",
      "  len --  49833   --  Ecrit ......\n"
     ]
    },
    {
     "name": "stderr",
     "output_type": "stream",
     "text": [
      "/home/ibrahimabarry01/anaconda3/lib/python3.8/site-packages/librosa/core/audio.py:162: UserWarning: PySoundFile failed. Trying audioread instead.\n",
      "  warnings.warn(\"PySoundFile failed. Trying audioread instead.\")\n"
     ]
    },
    {
     "name": "stdout",
     "output_type": "stream",
     "text": [
      "filesprocess:  ./WOLOF_FOR_MEMORY/2_Ñaar/AUDIO-2021-05-22-14-04-09.m4a  --  277\n",
      "  len --  47481   --  Ecrit ......\n"
     ]
    },
    {
     "name": "stderr",
     "output_type": "stream",
     "text": [
      "/home/ibrahimabarry01/anaconda3/lib/python3.8/site-packages/librosa/core/audio.py:162: UserWarning: PySoundFile failed. Trying audioread instead.\n",
      "  warnings.warn(\"PySoundFile failed. Trying audioread instead.\")\n"
     ]
    },
    {
     "name": "stdout",
     "output_type": "stream",
     "text": [
      "filesprocess:  ./WOLOF_FOR_MEMORY/2_Ñaar/AUDIO-2021-05-22-13-26-58.m4a  --  278\n",
      "  len --  50304   --  Ecrit ......\n"
     ]
    },
    {
     "name": "stderr",
     "output_type": "stream",
     "text": [
      "/home/ibrahimabarry01/anaconda3/lib/python3.8/site-packages/librosa/core/audio.py:162: UserWarning: PySoundFile failed. Trying audioread instead.\n",
      "  warnings.warn(\"PySoundFile failed. Trying audioread instead.\")\n"
     ]
    },
    {
     "name": "stdout",
     "output_type": "stream",
     "text": [
      "filesprocess:  ./WOLOF_FOR_MEMORY/2_Ñaar/AUDIO-2021-05-16-20-15-53.m4a  --  279\n",
      "  len --  37603   --  Ecrit ......\n"
     ]
    },
    {
     "name": "stderr",
     "output_type": "stream",
     "text": [
      "/home/ibrahimabarry01/anaconda3/lib/python3.8/site-packages/librosa/core/audio.py:162: UserWarning: PySoundFile failed. Trying audioread instead.\n",
      "  warnings.warn(\"PySoundFile failed. Trying audioread instead.\")\n"
     ]
    },
    {
     "name": "stdout",
     "output_type": "stream",
     "text": [
      "filesprocess:  ./WOLOF_FOR_MEMORY/2_Ñaar/AUDIO-2021-05-16-20-26-16.m4a  --  280\n",
      "  len --  62534   --  Ecrit ......\n"
     ]
    },
    {
     "name": "stderr",
     "output_type": "stream",
     "text": [
      "/home/ibrahimabarry01/anaconda3/lib/python3.8/site-packages/librosa/core/audio.py:162: UserWarning: PySoundFile failed. Trying audioread instead.\n",
      "  warnings.warn(\"PySoundFile failed. Trying audioread instead.\")\n"
     ]
    },
    {
     "name": "stdout",
     "output_type": "stream",
     "text": [
      "filesprocess:  ./WOLOF_FOR_MEMORY/2_Ñaar/AUDIO-2021-05-16-23-20-50.m4a  --  281\n",
      "  len --  66297   --  Ecrit ......\n"
     ]
    },
    {
     "name": "stderr",
     "output_type": "stream",
     "text": [
      "/home/ibrahimabarry01/anaconda3/lib/python3.8/site-packages/librosa/core/audio.py:162: UserWarning: PySoundFile failed. Trying audioread instead.\n",
      "  warnings.warn(\"PySoundFile failed. Trying audioread instead.\")\n"
     ]
    },
    {
     "name": "stdout",
     "output_type": "stream",
     "text": [
      "filesprocess:  ./WOLOF_FOR_MEMORY/2_Ñaar/AUDIO-2021-05-16-23-49-47.m4a  --  282\n",
      "  len --  33840   --  Ecrit ......\n"
     ]
    },
    {
     "name": "stderr",
     "output_type": "stream",
     "text": [
      "/home/ibrahimabarry01/anaconda3/lib/python3.8/site-packages/librosa/core/audio.py:162: UserWarning: PySoundFile failed. Trying audioread instead.\n",
      "  warnings.warn(\"PySoundFile failed. Trying audioread instead.\")\n"
     ]
    },
    {
     "name": "stdout",
     "output_type": "stream",
     "text": [
      "filesprocess:  ./WOLOF_FOR_MEMORY/2_Ñaar/AUDIO-2021-05-17-00-06-17.m4a  --  283\n",
      "  len --  56419   --  Ecrit ......\n"
     ]
    },
    {
     "name": "stderr",
     "output_type": "stream",
     "text": [
      "/home/ibrahimabarry01/anaconda3/lib/python3.8/site-packages/librosa/core/audio.py:162: UserWarning: PySoundFile failed. Trying audioread instead.\n",
      "  warnings.warn(\"PySoundFile failed. Trying audioread instead.\")\n"
     ]
    },
    {
     "name": "stdout",
     "output_type": "stream",
     "text": [
      "filesprocess:  ./WOLOF_FOR_MEMORY/2_Ñaar/AUDIO-2021-05-11-15-20-00.m4a  --  284\n",
      "  len --  47011   --  Ecrit ......\n"
     ]
    },
    {
     "name": "stderr",
     "output_type": "stream",
     "text": [
      "/home/ibrahimabarry01/anaconda3/lib/python3.8/site-packages/librosa/core/audio.py:162: UserWarning: PySoundFile failed. Trying audioread instead.\n",
      "  warnings.warn(\"PySoundFile failed. Trying audioread instead.\")\n"
     ]
    },
    {
     "name": "stdout",
     "output_type": "stream",
     "text": [
      "filesprocess:  ./WOLOF_FOR_MEMORY/2_Ñaar/AUDIO-2021-05-18-01-10-17.m4a  --  285\n",
      "  len --  31017   --  Ecrit ......\n"
     ]
    },
    {
     "name": "stderr",
     "output_type": "stream",
     "text": [
      "/home/ibrahimabarry01/anaconda3/lib/python3.8/site-packages/librosa/core/audio.py:162: UserWarning: PySoundFile failed. Trying audioread instead.\n",
      "  warnings.warn(\"PySoundFile failed. Trying audioread instead.\")\n"
     ]
    },
    {
     "name": "stdout",
     "output_type": "stream",
     "text": [
      "filesprocess:  ./WOLOF_FOR_MEMORY/2_Ñaar/AUDIO-2021-05-18-14-34-13.m4a  --  286\n",
      "  len --  23491   --  Ecrit ......\n"
     ]
    },
    {
     "name": "stderr",
     "output_type": "stream",
     "text": [
      "/home/ibrahimabarry01/anaconda3/lib/python3.8/site-packages/librosa/core/audio.py:162: UserWarning: PySoundFile failed. Trying audioread instead.\n",
      "  warnings.warn(\"PySoundFile failed. Trying audioread instead.\")\n"
     ]
    },
    {
     "name": "stdout",
     "output_type": "stream",
     "text": [
      "filesprocess:  ./WOLOF_FOR_MEMORY/2_Ñaar/AUDIO-2021-05-18-19-53-22.m4a  --  287\n",
      "  len --  68179   --  Ecrit ......\n"
     ]
    },
    {
     "name": "stderr",
     "output_type": "stream",
     "text": [
      "/home/ibrahimabarry01/anaconda3/lib/python3.8/site-packages/librosa/core/audio.py:162: UserWarning: PySoundFile failed. Trying audioread instead.\n",
      "  warnings.warn(\"PySoundFile failed. Trying audioread instead.\")\n"
     ]
    },
    {
     "name": "stdout",
     "output_type": "stream",
     "text": [
      "filesprocess:  ./WOLOF_FOR_MEMORY/2_Ñaar/AUDIO-2021-05-18-21-52-19.m4a  --  288\n",
      "  len --  46070   --  Ecrit ......\n"
     ]
    },
    {
     "name": "stderr",
     "output_type": "stream",
     "text": [
      "/home/ibrahimabarry01/anaconda3/lib/python3.8/site-packages/librosa/core/audio.py:162: UserWarning: PySoundFile failed. Trying audioread instead.\n",
      "  warnings.warn(\"PySoundFile failed. Trying audioread instead.\")\n"
     ]
    },
    {
     "name": "stdout",
     "output_type": "stream",
     "text": [
      "filesprocess:  ./WOLOF_FOR_MEMORY/2_Ñaar/AUDIO-2021-05-19-21-39-03.m4a  --  289\n",
      "  len --  66297   --  Ecrit ......\n"
     ]
    },
    {
     "name": "stderr",
     "output_type": "stream",
     "text": [
      "/home/ibrahimabarry01/anaconda3/lib/python3.8/site-packages/librosa/core/audio.py:162: UserWarning: PySoundFile failed. Trying audioread instead.\n",
      "  warnings.warn(\"PySoundFile failed. Trying audioread instead.\")\n"
     ]
    },
    {
     "name": "stdout",
     "output_type": "stream",
     "text": [
      "filesprocess:  ./WOLOF_FOR_MEMORY/2_Ñaar/AUDIO-2021-05-19-22-00-16.m4a  --  290\n",
      "  len --  39485   --  Ecrit ......\n"
     ]
    },
    {
     "name": "stderr",
     "output_type": "stream",
     "text": [
      "/home/ibrahimabarry01/anaconda3/lib/python3.8/site-packages/librosa/core/audio.py:162: UserWarning: PySoundFile failed. Trying audioread instead.\n",
      "  warnings.warn(\"PySoundFile failed. Trying audioread instead.\")\n"
     ]
    },
    {
     "name": "stdout",
     "output_type": "stream",
     "text": [
      "filesprocess:  ./WOLOF_FOR_MEMORY/2_Ñaar/AUDIO-2021-05-20-17-48-48.m4a  --  291\n",
      "  len --  56889   --  Ecrit ......\n"
     ]
    },
    {
     "name": "stderr",
     "output_type": "stream",
     "text": [
      "/home/ibrahimabarry01/anaconda3/lib/python3.8/site-packages/librosa/core/audio.py:162: UserWarning: PySoundFile failed. Trying audioread instead.\n",
      "  warnings.warn(\"PySoundFile failed. Trying audioread instead.\")\n"
     ]
    },
    {
     "name": "stdout",
     "output_type": "stream",
     "text": [
      "filesprocess:  ./WOLOF_FOR_MEMORY/2_Ñaar/AUDIO-2021-05-16-23-16-22.m4a  --  292\n",
      "  len --  30077   --  Ecrit ......\n"
     ]
    },
    {
     "name": "stderr",
     "output_type": "stream",
     "text": [
      "/home/ibrahimabarry01/anaconda3/lib/python3.8/site-packages/librosa/core/audio.py:162: UserWarning: PySoundFile failed. Trying audioread instead.\n",
      "  warnings.warn(\"PySoundFile failed. Trying audioread instead.\")\n"
     ]
    },
    {
     "name": "stdout",
     "output_type": "stream",
     "text": [
      "filesprocess:  ./WOLOF_FOR_MEMORY/2_Ñaar/AUDIO-2021-05-20-16-12-53_1.m4a  --  293\n",
      "  len --  31488   --  Ecrit ......\n"
     ]
    },
    {
     "name": "stderr",
     "output_type": "stream",
     "text": [
      "/home/ibrahimabarry01/anaconda3/lib/python3.8/site-packages/librosa/core/audio.py:162: UserWarning: PySoundFile failed. Trying audioread instead.\n",
      "  warnings.warn(\"PySoundFile failed. Trying audioread instead.\")\n"
     ]
    },
    {
     "name": "stdout",
     "output_type": "stream",
     "text": [
      "filesprocess:  ./WOLOF_FOR_MEMORY/2_Ñaar/AUDIO-2021-05-20-21-03-13.m4a  --  294\n",
      "  len --  45129   --  Ecrit ......\n"
     ]
    },
    {
     "name": "stderr",
     "output_type": "stream",
     "text": [
      "/home/ibrahimabarry01/anaconda3/lib/python3.8/site-packages/librosa/core/audio.py:162: UserWarning: PySoundFile failed. Trying audioread instead.\n",
      "  warnings.warn(\"PySoundFile failed. Trying audioread instead.\")\n"
     ]
    },
    {
     "name": "stdout",
     "output_type": "stream",
     "text": [
      "filesprocess:  ./WOLOF_FOR_MEMORY/2_Ñaar/AUDIO-2021-05-21-00-24-03.m4a  --  295\n",
      "  len --  37133   --  Ecrit ......\n"
     ]
    },
    {
     "name": "stderr",
     "output_type": "stream",
     "text": [
      "/home/ibrahimabarry01/anaconda3/lib/python3.8/site-packages/librosa/core/audio.py:162: UserWarning: PySoundFile failed. Trying audioread instead.\n",
      "  warnings.warn(\"PySoundFile failed. Trying audioread instead.\")\n"
     ]
    },
    {
     "name": "stdout",
     "output_type": "stream",
     "text": [
      "filesprocess:  ./WOLOF_FOR_MEMORY/2_Ñaar/AUDIO-2021-05-21-00-12-29.m4a  --  296\n",
      "  len --  31488   --  Ecrit ......\n"
     ]
    },
    {
     "name": "stderr",
     "output_type": "stream",
     "text": [
      "/home/ibrahimabarry01/anaconda3/lib/python3.8/site-packages/librosa/core/audio.py:162: UserWarning: PySoundFile failed. Trying audioread instead.\n",
      "  warnings.warn(\"PySoundFile failed. Trying audioread instead.\")\n"
     ]
    },
    {
     "name": "stdout",
     "output_type": "stream",
     "text": [
      "filesprocess:  ./WOLOF_FOR_MEMORY/2_Ñaar/AUDIO-2021-05-21-00-44-27.m4a  --  297\n",
      "  len --  55949   --  Ecrit ......\n"
     ]
    },
    {
     "name": "stderr",
     "output_type": "stream",
     "text": [
      "/home/ibrahimabarry01/anaconda3/lib/python3.8/site-packages/librosa/core/audio.py:162: UserWarning: PySoundFile failed. Trying audioread instead.\n",
      "  warnings.warn(\"PySoundFile failed. Trying audioread instead.\")\n"
     ]
    },
    {
     "name": "stdout",
     "output_type": "stream",
     "text": [
      "filesprocess:  ./WOLOF_FOR_MEMORY/2_Ñaar/AUDIO-2021-05-20-23-55-55.m4a  --  298\n",
      "  len --  67238   --  Ecrit ......\n"
     ]
    },
    {
     "name": "stderr",
     "output_type": "stream",
     "text": [
      "/home/ibrahimabarry01/anaconda3/lib/python3.8/site-packages/librosa/core/audio.py:162: UserWarning: PySoundFile failed. Trying audioread instead.\n",
      "  warnings.warn(\"PySoundFile failed. Trying audioread instead.\")\n"
     ]
    },
    {
     "name": "stdout",
     "output_type": "stream",
     "text": [
      "filesprocess:  ./WOLOF_FOR_MEMORY/2_Ñaar/AUDIO-2021-05-20-19-50-35.m4a  --  299\n",
      "  len --  23961   --  Ecrit ......\n"
     ]
    },
    {
     "name": "stderr",
     "output_type": "stream",
     "text": [
      "/home/ibrahimabarry01/anaconda3/lib/python3.8/site-packages/librosa/core/audio.py:162: UserWarning: PySoundFile failed. Trying audioread instead.\n",
      "  warnings.warn(\"PySoundFile failed. Trying audioread instead.\")\n"
     ]
    },
    {
     "name": "stdout",
     "output_type": "stream",
     "text": [
      "filesprocess:  ./WOLOF_FOR_MEMORY/2_Ñaar/AUDIO-2021-05-21-01-01-52.m4a  --  300\n",
      "  len --  50774   --  Ecrit ......\n"
     ]
    },
    {
     "name": "stderr",
     "output_type": "stream",
     "text": [
      "/home/ibrahimabarry01/anaconda3/lib/python3.8/site-packages/librosa/core/audio.py:162: UserWarning: PySoundFile failed. Trying audioread instead.\n",
      "  warnings.warn(\"PySoundFile failed. Trying audioread instead.\")\n"
     ]
    },
    {
     "name": "stdout",
     "output_type": "stream",
     "text": [
      "filesprocess:  ./WOLOF_FOR_MEMORY/2_Ñaar/AUDIO-2021-05-20-21-27-42.m4a  --  301\n",
      "  len --  43718   --  Ecrit ......\n"
     ]
    },
    {
     "name": "stderr",
     "output_type": "stream",
     "text": [
      "/home/ibrahimabarry01/anaconda3/lib/python3.8/site-packages/librosa/core/audio.py:162: UserWarning: PySoundFile failed. Trying audioread instead.\n",
      "  warnings.warn(\"PySoundFile failed. Trying audioread instead.\")\n"
     ]
    },
    {
     "name": "stdout",
     "output_type": "stream",
     "text": [
      "filesprocess:  ./WOLOF_FOR_MEMORY/2_Ñaar/AUDIO-2021-05-21-19-33-31.m4a  --  302\n",
      "  len --  47481   --  Ecrit ......\n"
     ]
    },
    {
     "name": "stderr",
     "output_type": "stream",
     "text": [
      "/home/ibrahimabarry01/anaconda3/lib/python3.8/site-packages/librosa/core/audio.py:162: UserWarning: PySoundFile failed. Trying audioread instead.\n",
      "  warnings.warn(\"PySoundFile failed. Trying audioread instead.\")\n"
     ]
    }
   ],
   "source": [
    "i = 0\n",
    "for d in data_dir:\n",
    "    print(\" CHIFFRE : : \",d)\n",
    "    fs = glob(\"./WOLOF_FOR_MEMORY/\"+d+\"/*\")\n",
    "    for f in fs:\n",
    "        i = i+1\n",
    "        y , sr = l.load(f , sr=22050)\n",
    "        print(\"filesprocess: \", f , \" -- \", i)\n",
    "        if len(y) <= 72000:\n",
    "            print(\"  len -- \" , len(y) , \"  --  Ecrit ......\")\n",
    "            write(\"./CLEAN_WOLOF_FOR_MEMORY/\"+d+\"/pas_clean_\"+str(np.random.randint(0,99999999))+\".m4a\", sr , y)\n",
    "        else: \n",
    "            plt.figure(figsize=(10,5))\n",
    "            plt.title(\" len est =  \" + str(len(y)))\n",
    "            plt.plot(y)\n",
    "            plt.show()\n",
    "            dd = int(input(\"Entrer debut : \"))\n",
    "            f = int(input(\"Entrer din : \"))\n",
    "            \n",
    "            y2 = y[dd:f]\n",
    "            write(\"./CLEAN_WOLOF_FOR_MEMORY/\"+d+\"/pas_clean_\"+str(np.random.randint(0,99999999))+\".m4a\", sr , y2)\n",
    "            \n",
    "            \n",
    "            "
   ]
  },
  {
   "cell_type": "code",
   "execution_count": null,
   "metadata": {},
   "outputs": [],
   "source": []
  },
  {
   "cell_type": "code",
   "execution_count": null,
   "metadata": {},
   "outputs": [],
   "source": []
  },
  {
   "cell_type": "code",
   "execution_count": null,
   "metadata": {},
   "outputs": [],
   "source": []
  },
  {
   "cell_type": "code",
   "execution_count": null,
   "metadata": {},
   "outputs": [],
   "source": []
  }
 ],
 "metadata": {
  "kernelspec": {
   "display_name": "Python 3",
   "language": "python",
   "name": "python3"
  },
  "language_info": {
   "codemirror_mode": {
    "name": "ipython",
    "version": 3
   },
   "file_extension": ".py",
   "mimetype": "text/x-python",
   "name": "python",
   "nbconvert_exporter": "python",
   "pygments_lexer": "ipython3",
   "version": "3.8.3"
  }
 },
 "nbformat": 4,
 "nbformat_minor": 4
}
